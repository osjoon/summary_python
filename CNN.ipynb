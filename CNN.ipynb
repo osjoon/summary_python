{
 "cells": [
  {
   "cell_type": "code",
   "execution_count": 3,
   "metadata": {},
   "outputs": [],
   "source": [
    "from keras.models import Sequential\n",
    "from keras.layers import Conv2D, MaxPooling2D, Flatten, Dense\n",
    "from keras.callbacks import ModelCheckpoint, EarlyStopping\n",
    "from keras.datasets import mnist\n",
    "from keras.utils import to_categorical\n",
    "from keras.preprocessing.image import ImageDataGenerator\n",
    "from keras.optimizers import Adam"
   ]
  },
  {
   "cell_type": "code",
   "execution_count": 4,
   "metadata": {},
   "outputs": [],
   "source": [
    "import numpy as np\n",
    "import matplotlib.pyplot as plt\n",
    "import os\n",
    "from PIL import Image"
   ]
  },
  {
   "cell_type": "code",
   "execution_count": 5,
   "metadata": {},
   "outputs": [
    {
     "name": "stdout",
     "output_type": "stream",
     "text": [
      "../TeamProject/album/\n"
     ]
    }
   ],
   "source": [
    "album = '../TeamProject/album/'\n",
    "print(album)"
   ]
  },
  {
   "cell_type": "code",
   "execution_count": 6,
   "metadata": {},
   "outputs": [],
   "source": [
    "# 데이터 디렉터리 경로\n",
    "data_dir = '../TeamProject/album/'  # 데이터 디렉터리 경로를 적절히 설정합니다.\n",
    "\n",
    "# 이미지 데이터와 라벨을 저장할 리스트 생성\n",
    "image_data = []\n",
    "labels = []\n",
    "\n",
    "# 데이터 디렉터리를 반복하며 이미지 로드 및 라벨 부착\n",
    "for class_name in os.listdir(data_dir):\n",
    "    class_dir = os.path.join(data_dir, class_name)\n",
    "\n",
    "    for filename in os.listdir(class_dir):\n",
    "        image_path = os.path.join(class_dir, filename)\n",
    "\n",
    "        # 이미지를 열어 NumPy 배열로 변환\n",
    "        image = Image.open(image_path)\n",
    "        # print(image_path)\n",
    "        image_array = np.array(image).reshape(-1)\n",
    " \n",
    "        if len(image_array) == (48*48*3):\n",
    "\n",
    "        # 이미지와 라벨을 리스트에 추가\n",
    "            image_data.append(image_array.tolist())\n",
    "\n",
    "            labels.append(int(image_path.split(\"\\\\\")[1].split('_')[1][2]))   \n",
    "\n",
    "# 이미지 데이터와 라벨을 NumPy 배열로 변환\n",
    "image_data = np.array(image_data)\n",
    "# labels = np.array(labels)\n",
    "\n",
    "# 이미지 데이터 정규화 (0~1 사이로 스케일 조정)\n",
    "image_data = image_data / 255.0\n"
   ]
  },
  {
   "cell_type": "code",
   "execution_count": 7,
   "metadata": {},
   "outputs": [
    {
     "data": {
      "text/plain": [
       "(3233, 48, 48, 3)"
      ]
     },
     "execution_count": 7,
     "metadata": {},
     "output_type": "execute_result"
    }
   ],
   "source": [
    "image_data = image_data.reshape((-1,48,48,3))\n",
    "image_data.shape"
   ]
  },
  {
   "cell_type": "code",
   "execution_count": 8,
   "metadata": {},
   "outputs": [
    {
     "data": {
      "text/plain": [
       "array([[0, 0, 0, 1],\n",
       "       [0, 0, 0, 1],\n",
       "       [0, 0, 0, 1],\n",
       "       ...,\n",
       "       [0, 0, 1, 0],\n",
       "       [0, 0, 1, 0],\n",
       "       [0, 0, 1, 0]])"
      ]
     },
     "execution_count": 8,
     "metadata": {},
     "output_type": "execute_result"
    }
   ],
   "source": [
    "import pandas as pd\n",
    "\n",
    "lables = pd.DataFrame(labels)\n",
    "labels = pd.get_dummies(labels).astype(int).to_numpy()\n",
    "labels\n",
    "# from keras.utils import to_categorical\n",
    "\n",
    "# labels = to_categorical(labels)\n",
    "# labels.shape"
   ]
  },
  {
   "cell_type": "code",
   "execution_count": 9,
   "metadata": {},
   "outputs": [],
   "source": [
    "# model = Sequential([\n",
    "#     Conv2D(32, (3, 3), activation='relu', input_shape=(48, 48, 3)),\n",
    "#     MaxPooling2D((2, 2)),\n",
    "#     Conv2D(64, (3, 3), activation='relu'),\n",
    "#     MaxPooling2D((2, 2)),\n",
    "#     Flatten(),\n",
    "#     Dense(64, activation='relu'),\n",
    "#     Dense(2, activation='softmax')  # 클래스 개수에 맞게 설정\n",
    "# ])\n"
   ]
  },
  {
   "cell_type": "code",
   "execution_count": 10,
   "metadata": {},
   "outputs": [
    {
     "name": "stdout",
     "output_type": "stream",
     "text": [
      "Epoch 1/3\n",
      "81/81 [==============================] - 3s 31ms/step - loss: 1.1074 - accuracy: 0.4029 - val_loss: 3.1527 - val_accuracy: 0.0046\n",
      "Epoch 2/3\n",
      "81/81 [==============================] - 3s 33ms/step - loss: 1.0370 - accuracy: 0.4648 - val_loss: 3.4124 - val_accuracy: 0.0062\n",
      "Epoch 3/3\n",
      "81/81 [==============================] - 3s 31ms/step - loss: 0.9911 - accuracy: 0.5139 - val_loss: 3.9825 - val_accuracy: 0.1499\n"
     ]
    },
    {
     "data": {
      "text/plain": [
       "<keras.src.callbacks.History at 0x1b7edd1fbe0>"
      ]
     },
     "execution_count": 10,
     "metadata": {},
     "output_type": "execute_result"
    }
   ],
   "source": [
    "# CNN 모델 생성\n",
    "\n",
    "model=Sequential()\n",
    "model.add(Conv2D(32, (3,3), activation='relu',input_shape=(48, 48, 3)))\n",
    "model.add(MaxPooling2D((2, 2)))\n",
    "model.add(Conv2D(64, (3, 3), activation='relu'))\n",
    "model.add(MaxPooling2D((2, 2)))\n",
    "model.add(Flatten())\n",
    "model.add(Dense(64, activation='relu'))\n",
    "model.add(Dense(4, activation='softmax'))\n",
    "\n",
    "# 모델 컴파일\n",
    "model.compile(optimizer=Adam(learning_rate=0.001), \n",
    "              loss='categorical_crossentropy', \n",
    "              metrics=['accuracy'])\n",
    "\n",
    "# 데이터 증강 (선택적)\n",
    "# datagen = ImageDataGenerator(rotation_range=20, width_shift_range=0.2, height_shift_range=0.2, shear_range=0.2, zoom_range=0.2, horizontal_flip=True)\n",
    "# datagen.fit(image_data)\n",
    "\n",
    "# 모델 학습\n",
    "model.fit(image_data,labels, batch_size=32, epochs=3,validation_split=0.2)"
   ]
  },
  {
   "cell_type": "code",
   "execution_count": 11,
   "metadata": {},
   "outputs": [],
   "source": [
    "import matplotlib.pyplot as plt\n",
    "\n",
    "# 학습 곡선 시각화 함수\n",
    "def plot_training_history(history):\n",
    "    # 학습 및 검증 손실 그래프\n",
    "    plt.figure(figsize=(10, 4))\n",
    "    plt.subplot(1, 2, 1)\n",
    "    plt.plot(history.history['loss'], label='Training Loss')\n",
    "    plt.plot(history.history['val_loss'], label='Validation Loss')\n",
    "    plt.title('Loss')\n",
    "    plt.xlabel('Epochs')\n",
    "    plt.ylabel('Loss')\n",
    "    plt.legend()\n",
    "\n",
    "    # 학습 및 검증 정확도 그래프\n",
    "    plt.subplot(1, 2, 2)\n",
    "    plt.plot(history.history['accuracy'], label='Training Accuracy')\n",
    "    plt.plot(history.history['val_accuracy'], label='Validation Accuracy')\n",
    "    plt.title('Accuracy')\n",
    "    plt.xlabel('Epochs')\n",
    "    plt.ylabel('Accuracy')\n",
    "    plt.legend()\n",
    "\n",
    "    plt.tight_layout()\n",
    "    plt.show()\n",
    "\n",
    "# 이미지 분류 결과 시각화 함수\n",
    "def plot_image_predictions(model, images, labels, class_names):\n",
    "    predictions = model.predict(images)\n",
    "    \n",
    "    plt.figure(figsize=(12, 8))\n",
    "    for i in range(len(images)):\n",
    "        plt.subplot(2, len(images) // 2, i + 1)\n",
    "        plt.imshow(images[i])\n",
    "        plt.title(f\"True: {class_names[labels[i]]}\\nPredicted: {class_names[predictions[i].argmax()]}\")\n",
    "        plt.axis('off')\n",
    "    \n",
    "    plt.tight_layout()\n",
    "    plt.show()"
   ]
  },
  {
   "cell_type": "code",
   "execution_count": 19,
   "metadata": {},
   "outputs": [
    {
     "name": "stdout",
     "output_type": "stream",
     "text": [
      "Epoch 1/10\n",
      "82/82 [==============================] - 3s 26ms/step - loss: 1.2947 - accuracy: 0.3590 - val_loss: 1.2674 - val_accuracy: 0.4003\n",
      "Epoch 2/10\n",
      "82/82 [==============================] - 2s 25ms/step - loss: 1.2054 - accuracy: 0.4369 - val_loss: 1.2503 - val_accuracy: 0.4172\n",
      "Epoch 3/10\n",
      "82/82 [==============================] - 2s 26ms/step - loss: 1.1329 - accuracy: 0.4952 - val_loss: 1.2285 - val_accuracy: 0.4617\n",
      "Epoch 4/10\n",
      "82/82 [==============================] - 2s 27ms/step - loss: 1.0304 - accuracy: 0.5512 - val_loss: 1.2511 - val_accuracy: 0.4509\n",
      "Epoch 5/10\n",
      "82/82 [==============================] - 2s 27ms/step - loss: 0.9084 - accuracy: 0.6226 - val_loss: 1.2188 - val_accuracy: 0.4847\n",
      "Epoch 6/10\n",
      "82/82 [==============================] - 2s 28ms/step - loss: 0.7790 - accuracy: 0.6878 - val_loss: 1.3545 - val_accuracy: 0.4954\n",
      "Epoch 7/10\n",
      "82/82 [==============================] - 2s 29ms/step - loss: 0.6701 - accuracy: 0.7415 - val_loss: 1.3156 - val_accuracy: 0.5414\n",
      "Epoch 8/10\n",
      "82/82 [==============================] - 2s 29ms/step - loss: 0.5431 - accuracy: 0.7948 - val_loss: 1.4031 - val_accuracy: 0.5491\n",
      "Epoch 9/10\n",
      "82/82 [==============================] - 2s 30ms/step - loss: 0.4039 - accuracy: 0.8569 - val_loss: 1.6285 - val_accuracy: 0.5337\n",
      "Epoch 10/10\n",
      "82/82 [==============================] - 3s 31ms/step - loss: 0.3140 - accuracy: 0.8922 - val_loss: 1.8356 - val_accuracy: 0.5322\n"
     ]
    },
    {
     "data": {
      "image/png": "[encoded data removed]",
      "text/plain": [
       "<Figure size 1000x400 with 2 Axes>"
      ]
     },
     "metadata": {},
     "output_type": "display_data"
    }
   ],
   "source": [
    "import os\n",
    "import numpy as np\n",
    "import pandas as pd\n",
    "from PIL import Image\n",
    "import matplotlib.pyplot as plt\n",
    "from keras.models import Sequential\n",
    "from keras.layers import Conv2D, MaxPooling2D, Flatten, Dense\n",
    "from keras.optimizers import Adam\n",
    "from keras.utils import to_categorical\n",
    "from sklearn.model_selection import train_test_split\n",
    "\n",
    "# 이미지 데이터와 라벨을 저장할 리스트 생성\n",
    "image_data = []\n",
    "labels = []\n",
    "\n",
    "# 데이터 디렉터리를 반복하며 이미지 로드 및 라벨 부착\n",
    "data_dir = '../TeamProject/album/'  # 데이터 디렉터리 경로 지정\n",
    "\n",
    "for class_name in os.listdir(data_dir):\n",
    "    class_dir = os.path.join(data_dir, class_name)\n",
    "\n",
    "    for filename in os.listdir(class_dir):\n",
    "        image_path = os.path.join(class_dir, filename)\n",
    "\n",
    "        # 이미지를 열어 NumPy 배열로 변환\n",
    "        image = Image.open(image_path)\n",
    "        image = image.resize((48, 48))  # 이미지 크기 조정\n",
    "        image_array = np.array(image)\n",
    "\n",
    "        # 이미지와 라벨을 리스트에 추가\n",
    "        if image_array.shape == (48, 48, 3):  # 이미지 크기와 채널 수 확인\n",
    "            image_data.append(image_array)\n",
    "            labels.append(class_name)   \n",
    "\n",
    "# 이미지 데이터와 라벨을 NumPy 배열로 변환\n",
    "image_data = np.array(image_data)\n",
    "labels = np.array(labels)\n",
    "\n",
    "# 나머지 데이터 처리 및 모델 학습 부분은 이전 코드와 동일하게 진행\n",
    "\n",
    "\n",
    "# 클래스 라벨을 원-핫 인코딩으로 변환\n",
    "labels = pd.get_dummies(labels).astype(int).to_numpy()\n",
    "\n",
    "# 이미지 데이터 정규화 (0~1 사이로 스케일 조정)\n",
    "image_data = image_data / 255.0\n",
    "\n",
    "# 데이터를 학습 및 검증 데이터로 분할\n",
    "X_train, X_val, y_train, y_val = train_test_split(image_data, labels, test_size=0.2, random_state=42)\n",
    "\n",
    "# CNN 모델 생성\n",
    "\n",
    "model=Sequential()\n",
    "model.add(Conv2D(32, (3,3), activation='relu',input_shape=(48, 48, 3)))\n",
    "model.add(MaxPooling2D((2, 2)))\n",
    "model.add(Conv2D(64, (3, 3), activation='relu'))\n",
    "model.add(MaxPooling2D((2, 2)))\n",
    "model.add(Flatten())\n",
    "model.add(Dense(64, activation='relu'))\n",
    "model.add(Dense(4, activation='softmax'))\n",
    "\n",
    "# 모델 컴파일\n",
    "model.compile(optimizer=Adam(learning_rate=0.001), \n",
    "              loss='categorical_crossentropy', \n",
    "              metrics=['accuracy'])\n",
    "\n",
    "# 데이터 증강 (선택적)\n",
    "# datagen = ImageDataGenerator(rotation_range=20, width_shift_range=0.2, height_shift_range=0.2, shear_range=0.2, zoom_range=0.2, horizontal_flip=True)\n",
    "# datagen.fit(X_train)\n",
    "\n",
    "# 모델 학습\n",
    "history = model.fit(X_train, y_train, batch_size=32, epochs=10, validation_data=(X_val, y_val))\n",
    "\n",
    "# 학습 과정 시각화\n",
    "def plot_training_history(history):\n",
    "    plt.figure(figsize=(10, 4))\n",
    "    plt.subplot(1, 2, 1)\n",
    "    plt.plot(history.history['loss'], label='Training Loss')\n",
    "    plt.plot(history.history['val_loss'], label='Validation Loss')\n",
    "    plt.title('Loss')\n",
    "    plt.xlabel('Epochs')\n",
    "    plt.ylabel('Loss')\n",
    "    plt.legend()\n",
    "\n",
    "    plt.subplot(1, 2, 2)\n",
    "    plt.plot(history.history['accuracy'], label='Training Accuracy')\n",
    "    plt.plot(history.history['val_accuracy'], label='Validation Accuracy')\n",
    "    plt.title('Accuracy')\n",
    "    plt.xlabel('Epochs')\n",
    "    plt.ylabel('Accuracy')\n",
    "    plt.legend()\n",
    "\n",
    "    plt.tight_layout()\n",
    "    plt.show()\n",
    "\n",
    "plot_training_history(history)\n",
    "\n",
    "# 모델 평가 또는 예측 코드를 추가해야 합니다.\n"
   ]
  },
  {
   "cell_type": "code",
   "execution_count": null,
   "metadata": {},
   "outputs": [],
   "source": [
    "# Loss 그래프 (왼쪽 그래프):\n",
    "# Training Loss (훈련 손실): 이 그래프는 각 학습 에포크(학습 주기)에 대한 훈련 데이터의 손실을 나타냅니다. \n",
    "#     손실은 모델이 예측한 결과와 실제 정답 간의 차이를 나타내며, 학습이 진행됨에 따라 이 손실이 감소해야 합니다. \n",
    "#     손실이 감소하지 않는 경우 모델이 학습하지 못하고 있는 것을 나타낼 수 있습니다.\n",
    "# Validation Loss (검증 손실): 이 그래프는 각 학습 에포크에 대한 검증 데이터의 손실을 나타냅니다. \n",
    "#     모델이 훈련 데이터에 과적합되지 않도록 하기 위해 검증 데이터를 사용하여 모델을 평가하는 것이 일반적입니다. \n",
    "#     검증 손실은 학습 손실과 유사하게 감소해야 합니다.\n",
    "\n",
    "# Accuracy 그래프 (오른쪽 그래프):\n",
    "# Training Accuracy (훈련 정확도): 이 그래프는 각 학습 에포크에 대한 훈련 데이터의 정확도를 나타냅니다. \n",
    "#     정확도는 모델이 정확한 예측을 얼마나 많이 하는지를 나타내며, 학습이 진행됨에 따라 증가해야 합니다.\n",
    "# Validation Accuracy (검증 정확도): 이 그래프는 각 학습 에포크에 대한 검증 데이터의 정확도를 나타냅니다. \n",
    "#     모델이 검증 데이터에 대해서도 정확한 예측을 하는지를 나타냅니다. 훈련 정확도와 검증 정확도 사이에 큰 차이가 나지 않는 것이 이상적입니다."
   ]
  },
  {
   "cell_type": "code",
   "execution_count": null,
   "metadata": {},
   "outputs": [],
   "source": []
  }
 ],
 "metadata": {
  "kernelspec": {
   "display_name": "MY_PYTHON2",
   "language": "python",
   "name": "python3"
  },
  "language_info": {
   "codemirror_mode": {
    "name": "ipython",
    "version": 3
   },
   "file_extension": ".py",
   "mimetype": "text/x-python",
   "name": "python",
   "nbconvert_exporter": "python",
   "pygments_lexer": "ipython3",
   "version": "3.8.17"
  },
  "orig_nbformat": 4
 },
 "nbformat": 4,
 "nbformat_minor": 2
}
