{
 "cells": [
  {
   "cell_type": "code",
   "execution_count": 17,
   "metadata": {},
   "outputs": [],
   "source": [
    "from keras.preprocessing.image import ImageDataGenerator\n",
    "from keras import Input, models, layers, optimizers, metrics\n",
    "from keras.layers import Dense, Flatten, Activation, Dropout\n",
    "from keras.applications import VGG16\n",
    "from keras.callbacks import EarlyStopping\n",
    "from keras.models import Model"
   ]
  },
  {
   "cell_type": "code",
   "execution_count": 4,
   "metadata": {},
   "outputs": [],
   "source": [
    "import numpy as np\n",
    "import matplotlib.pyplot as plt"
   ]
  },
  {
   "cell_type": "code",
   "execution_count": 5,
   "metadata": {},
   "outputs": [],
   "source": [
    "train_datagen = ImageDataGenerator()"
   ]
  },
  {
   "cell_type": "code",
   "execution_count": 11,
   "metadata": {},
   "outputs": [
    {
     "name": "stdout",
     "output_type": "stream",
     "text": [
      "Found 3296 images belonging to 4 classes.\n",
      "Found 3296 images belonging to 4 classes.\n",
      "Model: \"sequential_1\"\n",
      "_________________________________________________________________\n",
      " Layer (type)                Output Shape              Param #   \n",
      "=================================================================\n",
      " vgg16 (Functional)          (None, 1, 1, 512)         14714688  \n",
      "                                                                 \n",
      " flatten_1 (Flatten)         (None, 512)               0         \n",
      "                                                                 \n",
      " dense_2 (Dense)             (None, 32)                16416     \n",
      "                                                                 \n",
      " activation_2 (Activation)   (None, 32)                0         \n",
      "                                                                 \n",
      " dropout_1 (Dropout)         (None, 32)                0         \n",
      "                                                                 \n",
      " dense_3 (Dense)             (None, 1)                 33        \n",
      "                                                                 \n",
      " activation_3 (Activation)   (None, 1)                 0         \n",
      "                                                                 \n",
      "=================================================================\n",
      "Total params: 14731137 (56.19 MB)\n",
      "Trainable params: 16449 (64.25 KB)\n",
      "Non-trainable params: 14714688 (56.13 MB)\n",
      "_________________________________________________________________\n"
     ]
    }
   ],
   "source": [
    "train_generator = train_datagen.flow_from_directory(\n",
    "    '../TeamProject/album/', \n",
    "    target_size= (48, 48), \n",
    "    batch_size=5, \n",
    "    class_mode= 'binary')\n",
    "# 테스트셋의 정규화를 설정합니다.\n",
    "test_datagen = ImageDataGenerator (rescale=1./255)\n",
    "test_generator = test_datagen.flow_from_directory(\n",
    "    '../TeamProject/album/', \n",
    "    target_size=(48,48), \n",
    "    batch_size=5, \n",
    "    class_mode= 'binary')\n",
    "# VGG16 모델을 불러옵니다.\n",
    "transfer_model = VGG16(weights='imagenet', input_shape= (48, 48, 3), include_top=False)\n",
    "transfer_model.trainable = False\n",
    "# 우리의 모델을 설정합니다.\n",
    "finetune_model = models. Sequential ()\n",
    "finetune_model.add(transfer_model)\n",
    "finetune_model.add(Flatten ())\n",
    "finetune_model.add(Dense (32))\n",
    "finetune_model.add(Activation('relu'))\n",
    "finetune_model.add(Dropout (0.5))\n",
    "finetune_model.add(Dense(1))\n",
    "finetune_model.add(Activation('sigmoid'))\n",
    "finetune_model.summary ()"
   ]
  },
  {
   "cell_type": "code",
   "execution_count": 13,
   "metadata": {},
   "outputs": [
    {
     "name": "stdout",
     "output_type": "stream",
     "text": [
      "Epoch 1/20\n",
      "660/660 [==============================] - 25s 38ms/step - loss: -2958.0054 - accuracy: 0.3034 - val_loss: -201.6653 - val_accuracy: 0.3200\n",
      "Epoch 2/20\n",
      "660/660 [==============================] - 29s 44ms/step - loss: -3150.6208 - accuracy: 0.3034 - val_loss: -228.3116 - val_accuracy: 0.2200\n",
      "Epoch 3/20\n",
      "660/660 [==============================] - 30s 45ms/step - loss: -3489.0754 - accuracy: 0.3034 - val_loss: 95.3455 - val_accuracy: 0.1600\n",
      "Epoch 4/20\n",
      "660/660 [==============================] - 30s 46ms/step - loss: -3844.1150 - accuracy: 0.3034 - val_loss: -44.3240 - val_accuracy: 0.2800\n",
      "Epoch 5/20\n",
      "660/660 [==============================] - 30s 45ms/step - loss: -4110.3945 - accuracy: 0.3034 - val_loss: -378.5365 - val_accuracy: 0.2800\n",
      "Epoch 6/20\n",
      "660/660 [==============================] - 30s 46ms/step - loss: -4538.7642 - accuracy: 0.3034 - val_loss: -19.4742 - val_accuracy: 0.3000\n",
      "Epoch 7/20\n",
      "660/660 [==============================] - 30s 46ms/step - loss: -4913.1484 - accuracy: 0.3034 - val_loss: -428.3442 - val_accuracy: 0.3200\n",
      "Epoch 8/20\n",
      "660/660 [==============================] - 30s 45ms/step - loss: -5254.4355 - accuracy: 0.3034 - val_loss: 221.8145 - val_accuracy: 0.3400\n",
      "Epoch 9/20\n",
      "660/660 [==============================] - 41s 62ms/step - loss: -5566.1846 - accuracy: 0.3034 - val_loss: -110.8048 - val_accuracy: 0.2400\n",
      "Epoch 10/20\n",
      "660/660 [==============================] - 31s 47ms/step - loss: -6018.2666 - accuracy: 0.3034 - val_loss: -190.3043 - val_accuracy: 0.3400\n",
      "Epoch 11/20\n",
      "660/660 [==============================] - 32s 48ms/step - loss: -6397.0454 - accuracy: 0.3034 - val_loss: -363.3725 - val_accuracy: 0.3400\n",
      "Epoch 12/20\n",
      "660/660 [==============================] - 32s 48ms/step - loss: -6943.3149 - accuracy: 0.3034 - val_loss: -442.0884 - val_accuracy: 0.3200\n",
      "Epoch 13/20\n",
      "660/660 [==============================] - 33s 50ms/step - loss: -7204.4043 - accuracy: 0.3034 - val_loss: -445.8260 - val_accuracy: 0.2600\n",
      "Epoch 14/20\n",
      "660/660 [==============================] - 41s 62ms/step - loss: -7769.5093 - accuracy: 0.3034 - val_loss: -193.7659 - val_accuracy: 0.4000\n",
      "Epoch 15/20\n",
      "660/660 [==============================] - 48s 73ms/step - loss: -8212.5166 - accuracy: 0.3034 - val_loss: -410.0897 - val_accuracy: 0.2600\n",
      "Epoch 16/20\n",
      "660/660 [==============================] - 35s 53ms/step - loss: -8495.0918 - accuracy: 0.3034 - val_loss: -725.1630 - val_accuracy: 0.3000\n",
      "Epoch 17/20\n",
      "660/660 [==============================] - 34s 51ms/step - loss: -9091.5205 - accuracy: 0.3034 - val_loss: -737.8066 - val_accuracy: 0.1800\n",
      "Epoch 18/20\n",
      "660/660 [==============================] - 39s 59ms/step - loss: -9512.3232 - accuracy: 0.3034 - val_loss: -200.0715 - val_accuracy: 0.2600\n",
      "Epoch 19/20\n",
      "660/660 [==============================] - 63s 96ms/step - loss: -10032.6592 - accuracy: 0.3034 - val_loss: -799.3082 - val_accuracy: 0.2400\n",
      "Epoch 20/20\n",
      "660/660 [==============================] - 36s 55ms/step - loss: -10617.4443 - accuracy: 0.3034 - val_loss: -649.4243 - val_accuracy: 0.2800\n"
     ]
    },
    {
     "data": {
      "image/png": "[encoded data removed]",
      "text/plain": [
       "<Figure size 640x480 with 1 Axes>"
      ]
     },
     "metadata": {},
     "output_type": "display_data"
    }
   ],
   "source": [
    "# 모델의 실행 옵션을 설정합니다.\n",
    "finetune_model. compile(loss='binary_crossentropy', optimizer=optimizers.\n",
    "Adam(learning_rate=0.0002), metrics= ['accuracy'])\n",
    "# 학습의 조기 중단을 설정합니다.\n",
    "early_stopping_callback = EarlyStopping(monitor='val_loss', patience=5)\n",
    "# 모델을 실행합니다.\n",
    "history = finetune_model. fit(\n",
    "train_generator, epochs=20, validation_data=test_generator, validation_steps=10, callbacks= [early_stopping_callback])\n",
    "# 검증셋과 학습셋의 오차를 저장합니다.\n",
    "y_vloss = history.history[ 'val_loss']\n",
    "y_loss = history.history['loss']\n",
    "# 그래프로 표현해 봅니다.\n",
    "X_len = np. arange (len (y_loss))\n",
    "plt.plot(X_len, y_vloss, marker='.', c=\"red\", label= 'Testset_loss') \n",
    "plt.plot(X_len, y_loss, marker='.', color='blue', label='Trainset_loss')\n",
    "# 그래프에 그리드를 주고 레이블을 표시하겠습니다.\n",
    "plt.legend(loc='upper right')\n",
    "plt.grid()\n",
    "plt.xlabel('epoch') \n",
    "plt.ylabel('loss')\n",
    "plt.show ()"
   ]
  },
  {
   "cell_type": "code",
   "execution_count": 18,
   "metadata": {},
   "outputs": [
    {
     "data": {
      "text/plain": [
       "<matplotlib.image.AxesImage at 0x1e1376fb5e0>"
      ]
     },
     "execution_count": 18,
     "metadata": {},
     "output_type": "execute_result"
    },
    {
     "data": {
      "image/png": "[encoded data removed]",
      "text/plain": [
       "<Figure size 640x480 with 1 Axes>"
      ]
     },
     "metadata": {},
     "output_type": "display_data"
    }
   ],
   "source": [
    "# 모델의 가중치 가져오기\n",
    "weights = transfer_model.get_weights()\n",
    "\n",
    "# 가중치 시각화 예제 (가중치 배열에 따라 다름)\n",
    "plt.imshow(weights[0][:, :, 0, 0], cmap='viridis')"
   ]
  },
  {
   "cell_type": "code",
   "execution_count": 31,
   "metadata": {},
   "outputs": [
    {
     "ename": "PermissionError",
     "evalue": "[Errno 13] Permission denied: '../TeamProject/album/'",
     "output_type": "error",
     "traceback": [
      "\u001b[1;31m---------------------------------------------------------------------------\u001b[0m",
      "\u001b[1;31mPermissionError\u001b[0m                           Traceback (most recent call last)",
      "\u001b[1;32mc:\\BIG_DATA_\\10. deep_learning\\TeamProject\\transfer_learning.ipynb Cell 7\u001b[0m line \u001b[0;36m1\n\u001b[0;32m      <a href='vscode-notebook-cell:/c%3A/BIG_DATA_/10.%20deep_learning/TeamProject/transfer_learning.ipynb#X15sZmlsZQ%3D%3D?line=4'>5</a>\u001b[0m image_path \u001b[39m=\u001b[39m \u001b[39m'\u001b[39m\u001b[39m../TeamProject/album/\u001b[39m\u001b[39m'\u001b[39m\n\u001b[0;32m      <a href='vscode-notebook-cell:/c%3A/BIG_DATA_/10.%20deep_learning/TeamProject/transfer_learning.ipynb#X15sZmlsZQ%3D%3D?line=5'>6</a>\u001b[0m \u001b[39m# image_path = '../TeamProject/album/2000/'\u001b[39;00m\n\u001b[0;32m      <a href='vscode-notebook-cell:/c%3A/BIG_DATA_/10.%20deep_learning/TeamProject/transfer_learning.ipynb#X15sZmlsZQ%3D%3D?line=6'>7</a>\u001b[0m \u001b[39m# image_path = '../TeamProject/album/2010/'\u001b[39;00m\n\u001b[0;32m      <a href='vscode-notebook-cell:/c%3A/BIG_DATA_/10.%20deep_learning/TeamProject/transfer_learning.ipynb#X15sZmlsZQ%3D%3D?line=7'>8</a>\u001b[0m \u001b[39m# image_path = '../TeamProject/album/2020/'\u001b[39;00m\n\u001b[0;32m      <a href='vscode-notebook-cell:/c%3A/BIG_DATA_/10.%20deep_learning/TeamProject/transfer_learning.ipynb#X15sZmlsZQ%3D%3D?line=8'>9</a>\u001b[0m \n\u001b[0;32m     <a href='vscode-notebook-cell:/c%3A/BIG_DATA_/10.%20deep_learning/TeamProject/transfer_learning.ipynb#X15sZmlsZQ%3D%3D?line=9'>10</a>\u001b[0m \u001b[39m# 이미지를 불러와서 전처리\u001b[39;00m\n\u001b[1;32m---> <a href='vscode-notebook-cell:/c%3A/BIG_DATA_/10.%20deep_learning/TeamProject/transfer_learning.ipynb#X15sZmlsZQ%3D%3D?line=10'>11</a>\u001b[0m img \u001b[39m=\u001b[39m image\u001b[39m.\u001b[39;49mload_img(image_path, target_size\u001b[39m=\u001b[39;49m(\u001b[39m48\u001b[39;49m, \u001b[39m48\u001b[39;49m))\n\u001b[0;32m     <a href='vscode-notebook-cell:/c%3A/BIG_DATA_/10.%20deep_learning/TeamProject/transfer_learning.ipynb#X15sZmlsZQ%3D%3D?line=11'>12</a>\u001b[0m input_image \u001b[39m=\u001b[39m image\u001b[39m.\u001b[39mimg_to_array(img)\n\u001b[0;32m     <a href='vscode-notebook-cell:/c%3A/BIG_DATA_/10.%20deep_learning/TeamProject/transfer_learning.ipynb#X15sZmlsZQ%3D%3D?line=12'>13</a>\u001b[0m input_image \u001b[39m=\u001b[39m np\u001b[39m.\u001b[39mexpand_dims(input_image, axis\u001b[39m=\u001b[39m\u001b[39m0\u001b[39m)\n",
      "File \u001b[1;32mc:\\Users\\KDP12\\anaconda3\\envs\\MY_PYTHON2\\lib\\site-packages\\keras\\src\\utils\\image_utils.py:422\u001b[0m, in \u001b[0;36mload_img\u001b[1;34m(path, grayscale, color_mode, target_size, interpolation, keep_aspect_ratio)\u001b[0m\n\u001b[0;32m    420\u001b[0m     \u001b[39mif\u001b[39;00m \u001b[39misinstance\u001b[39m(path, pathlib\u001b[39m.\u001b[39mPath):\n\u001b[0;32m    421\u001b[0m         path \u001b[39m=\u001b[39m \u001b[39mstr\u001b[39m(path\u001b[39m.\u001b[39mresolve())\n\u001b[1;32m--> 422\u001b[0m     \u001b[39mwith\u001b[39;00m \u001b[39mopen\u001b[39;49m(path, \u001b[39m\"\u001b[39;49m\u001b[39mrb\u001b[39;49m\u001b[39m\"\u001b[39;49m) \u001b[39mas\u001b[39;00m f:\n\u001b[0;32m    423\u001b[0m         img \u001b[39m=\u001b[39m pil_image\u001b[39m.\u001b[39mopen(io\u001b[39m.\u001b[39mBytesIO(f\u001b[39m.\u001b[39mread()))\n\u001b[0;32m    424\u001b[0m \u001b[39melse\u001b[39;00m:\n",
      "\u001b[1;31mPermissionError\u001b[0m: [Errno 13] Permission denied: '../TeamProject/album/'"
     ]
    }
   ],
   "source": [
    "from keras.preprocessing import image\n",
    "import numpy as np\n",
    "\n",
    "# 이미지 파일 경로 설정\n",
    "image_path = '../TeamProject/album/'\n",
    "# image_path = '../TeamProject/album/2000/'\n",
    "# image_path = '../TeamProject/album/2010/'\n",
    "# image_path = '../TeamProject/album/2020/'\n",
    "\n",
    "# 이미지를 불러와서 전처리\n",
    "img = image.load_img(image_path, target_size=(48, 48))\n",
    "input_image = image.img_to_array(img)\n",
    "input_image = np.expand_dims(input_image, axis=0)\n",
    "# input_image = preprocess_input(input_image)  # 전처리 방법에 따라 적절하게 사용"
   ]
  },
  {
   "cell_type": "code",
   "execution_count": 20,
   "metadata": {},
   "outputs": [
    {
     "ename": "NameError",
     "evalue": "name 'input_image' is not defined",
     "output_type": "error",
     "traceback": [
      "\u001b[1;31m---------------------------------------------------------------------------\u001b[0m",
      "\u001b[1;31mNameError\u001b[0m                                 Traceback (most recent call last)",
      "\u001b[1;32mc:\\BIG_DATA_\\10. deep_learning\\TeamProject\\transfer_learning.ipynb Cell 7\u001b[0m line \u001b[0;36m7\n\u001b[0;32m      <a href='vscode-notebook-cell:/c%3A/BIG_DATA_/10.%20deep_learning/TeamProject/transfer_learning.ipynb#X11sZmlsZQ%3D%3D?line=3'>4</a>\u001b[0m activation_model \u001b[39m=\u001b[39m Model(inputs\u001b[39m=\u001b[39mtransfer_model\u001b[39m.\u001b[39minput, outputs\u001b[39m=\u001b[39mtransfer_model\u001b[39m.\u001b[39mlayers[\u001b[39m1\u001b[39m]\u001b[39m.\u001b[39moutput)\n\u001b[0;32m      <a href='vscode-notebook-cell:/c%3A/BIG_DATA_/10.%20deep_learning/TeamProject/transfer_learning.ipynb#X11sZmlsZQ%3D%3D?line=5'>6</a>\u001b[0m \u001b[39m# 이미지를 모델에 주입하고 활성화 출력 추출\u001b[39;00m\n\u001b[1;32m----> <a href='vscode-notebook-cell:/c%3A/BIG_DATA_/10.%20deep_learning/TeamProject/transfer_learning.ipynb#X11sZmlsZQ%3D%3D?line=6'>7</a>\u001b[0m activation \u001b[39m=\u001b[39m activation_model\u001b[39m.\u001b[39mpredict(input_image)\n\u001b[0;32m      <a href='vscode-notebook-cell:/c%3A/BIG_DATA_/10.%20deep_learning/TeamProject/transfer_learning.ipynb#X11sZmlsZQ%3D%3D?line=8'>9</a>\u001b[0m \u001b[39m# 활성화 출력 시각화\u001b[39;00m\n\u001b[0;32m     <a href='vscode-notebook-cell:/c%3A/BIG_DATA_/10.%20deep_learning/TeamProject/transfer_learning.ipynb#X11sZmlsZQ%3D%3D?line=9'>10</a>\u001b[0m plt\u001b[39m.\u001b[39mimshow(activation[\u001b[39m0\u001b[39m, :, :, \u001b[39m0\u001b[39m], cmap\u001b[39m=\u001b[39m\u001b[39m'\u001b[39m\u001b[39mviridis\u001b[39m\u001b[39m'\u001b[39m)\n",
      "\u001b[1;31mNameError\u001b[0m: name 'input_image' is not defined"
     ]
    }
   ],
   "source": [
    "from keras.models import Model\n",
    "\n",
    "# 모델 정의\n",
    "activation_model = Model(inputs=transfer_model.input, outputs=transfer_model.layers[1].output)\n",
    "\n",
    "# 이미지를 모델에 주입하고 활성화 출력 추출\n",
    "activation = activation_model.predict(input_image)\n",
    "\n",
    "# 활성화 출력 시각화\n",
    "plt.imshow(activation[0, :, :, 0], cmap='viridis')"
   ]
  },
  {
   "cell_type": "code",
   "execution_count": 21,
   "metadata": {},
   "outputs": [
    {
     "ename": "SyntaxError",
     "evalue": "invalid syntax (150917956.py, line 12)",
     "output_type": "error",
     "traceback": [
      "\u001b[1;36m  Cell \u001b[1;32mIn[21], line 12\u001b[1;36m\u001b[0m\n\u001b[1;33m    plt.imshow(feature_maps[0, :, :, i], cmap='viridis')from tensorflow.keras.models import Model\u001b[0m\n\u001b[1;37m                                                        ^\u001b[0m\n\u001b[1;31mSyntaxError\u001b[0m\u001b[1;31m:\u001b[0m invalid syntax\n"
     ]
    }
   ],
   "source": [
    "from tensorflow.keras.models import Model\n",
    "\n",
    "# 모델의 특정 레이어에서 특징 맵 추출\n",
    "layer_name = 'block1_conv1'  # 원하는 레이어의 이름을 지정\n",
    "feature_map_model = Model(inputs=transfer_model.input, outputs=transfer_model.get_layer(layer_name).output)\n",
    "feature_maps = feature_map_model.predict(input_image)\n",
    "\n",
    "# 특징 맵 시각화\n",
    "plt.figure(figsize=(10, 10))\n",
    "for i in range(feature_maps.shape[3]):\n",
    "    plt.subplot(4, 8, i + 1)\n",
    "    plt.imshow(feature_maps[0, :, :, i], cmap='viridis')"
   ]
  },
  {
   "cell_type": "code",
   "execution_count": 22,
   "metadata": {},
   "outputs": [
    {
     "ename": "NameError",
     "evalue": "name 'input_image' is not defined",
     "output_type": "error",
     "traceback": [
      "\u001b[1;31m---------------------------------------------------------------------------\u001b[0m",
      "\u001b[1;31mNameError\u001b[0m                                 Traceback (most recent call last)",
      "\u001b[1;32mc:\\BIG_DATA_\\10. deep_learning\\TeamProject\\transfer_learning.ipynb Cell 9\u001b[0m line \u001b[0;36m6\n\u001b[0;32m      <a href='vscode-notebook-cell:/c%3A/BIG_DATA_/10.%20deep_learning/TeamProject/transfer_learning.ipynb#X14sZmlsZQ%3D%3D?line=3'>4</a>\u001b[0m layer_name \u001b[39m=\u001b[39m \u001b[39m'\u001b[39m\u001b[39mblock1_conv1\u001b[39m\u001b[39m'\u001b[39m  \u001b[39m# 원하는 레이어의 이름을 지정\u001b[39;00m\n\u001b[0;32m      <a href='vscode-notebook-cell:/c%3A/BIG_DATA_/10.%20deep_learning/TeamProject/transfer_learning.ipynb#X14sZmlsZQ%3D%3D?line=4'>5</a>\u001b[0m feature_map_model \u001b[39m=\u001b[39m Model(inputs\u001b[39m=\u001b[39mtransfer_model\u001b[39m.\u001b[39minput, outputs\u001b[39m=\u001b[39mtransfer_model\u001b[39m.\u001b[39mget_layer(layer_name)\u001b[39m.\u001b[39moutput)\n\u001b[1;32m----> <a href='vscode-notebook-cell:/c%3A/BIG_DATA_/10.%20deep_learning/TeamProject/transfer_learning.ipynb#X14sZmlsZQ%3D%3D?line=5'>6</a>\u001b[0m feature_maps \u001b[39m=\u001b[39m feature_map_model\u001b[39m.\u001b[39mpredict(input_image)\n\u001b[0;32m      <a href='vscode-notebook-cell:/c%3A/BIG_DATA_/10.%20deep_learning/TeamProject/transfer_learning.ipynb#X14sZmlsZQ%3D%3D?line=7'>8</a>\u001b[0m \u001b[39m# 특징 맵 시각화\u001b[39;00m\n\u001b[0;32m      <a href='vscode-notebook-cell:/c%3A/BIG_DATA_/10.%20deep_learning/TeamProject/transfer_learning.ipynb#X14sZmlsZQ%3D%3D?line=8'>9</a>\u001b[0m plt\u001b[39m.\u001b[39mfigure(figsize\u001b[39m=\u001b[39m(\u001b[39m10\u001b[39m, \u001b[39m10\u001b[39m))\n",
      "\u001b[1;31mNameError\u001b[0m: name 'input_image' is not defined"
     ]
    }
   ],
   "source": [
    "from keras.models import Model\n",
    "\n",
    "# 모델의 특정 레이어에서 특징 맵 추출\n",
    "layer_name = 'block1_conv1'  # 원하는 레이어의 이름을 지정\n",
    "feature_map_model = Model(inputs=transfer_model.input, outputs=transfer_model.get_layer(layer_name).output)\n",
    "feature_maps = feature_map_model.predict(input_image)\n",
    "\n",
    "# 특징 맵 시각화\n",
    "plt.figure(figsize=(10, 10))\n",
    "for i in range(feature_maps.shape[3]):\n",
    "    plt.subplot(4, 8, i + 1)\n",
    "    plt.imshow(feature_maps[0, :, :, i], cmap='viridis')\n",
    "\n"
   ]
  },
  {
   "cell_type": "code",
   "execution_count": null,
   "metadata": {},
   "outputs": [],
   "source": [
    "from keras.applications.vgg16 import VGG16\n",
    "from keras.applications.vgg16 import preprocess_input, decode_predictions\n",
    "from keras.preprocessing import image\n",
    "from keras.models import Model\n",
    "import numpy as np\n",
    "import cv2\n",
    "\n",
    "# 모델 로드 및 설정\n",
    "model = VGG16(weights='imagenet')\n",
    "grad_model = Model(inputs=model.input, outputs=model.get_layer('block5_conv3').output)\n",
    "\n",
    "# 이미지 불러오기 및 전처리\n",
    "img_path = 'path_to_image.jpg'\n",
    "img = image.load_img(img_path, target_size=(224, 224))\n",
    "x = image.img_to_array(img)\n",
    "x = np.expand_dims(x, axis=0)\n",
    "x = preprocess_input(x)\n",
    "\n",
    "# Grad-CAM 계산\n",
    "with tf.GradientTape() as tape:\n",
    "    last_conv_layer_output = grad_model(x)\n",
    "    tape.watch(last_conv_layer_output)\n",
    "    preds = model(x)\n",
    "    top_pred_index = tf.argmax(preds[0])\n",
    "    top_class_channel = preds[:, top_pred_index]\n",
    "\n",
    "grads = tape.gradient(top_class_channel, last_conv_layer_output)\n",
    "pooled_grads = tf.reduce_mean(grads, axis=(0, 1, 2))\n",
    "last_conv_layer_output = last_conv_layer_output[0]\n",
    "\n",
    "heatmap = last_conv_layer_output @ pooled_grads[..., tf.newaxis]\n",
    "heatmap = tf.squeeze(heatmap)\n",
    "heatmap = tf.maximum(heatmap, 0) / tf.math.reduce_max(heatmap)\n",
    "\n",
    "# Grad-CAM 시각화\n",
    "heatmap = heatmap.numpy()\n",
    "img = cv2.imread(img_path)\n",
    "heatmap = cv2.resize(heatmap, (img.shape[1], img.shape[0]))\n",
    "heatmap = np.uint8(255 * heatmap)\n",
    "heatmap = cv2.applyColorMap(heatmap, cv2.COLORMAP_JET)\n",
    "superimposed_img = cv2.addWeighted(img, 0.6, heatmap, 0.4, 0)"
   ]
  }
 ],
 "metadata": {
  "kernelspec": {
   "display_name": "MY_PYTHON2",
   "language": "python",
   "name": "python3"
  },
  "language_info": {
   "codemirror_mode": {
    "name": "ipython",
    "version": 3
   },
   "file_extension": ".py",
   "mimetype": "text/x-python",
   "name": "python",
   "nbconvert_exporter": "python",
   "pygments_lexer": "ipython3",
   "version": "3.8.17"
  },
  "orig_nbformat": 4
 },
 "nbformat": 4,
 "nbformat_minor": 2
}
