{
 "cells": [
  {
   "cell_type": "code",
   "execution_count": 110,
   "metadata": {},
   "outputs": [],
   "source": [
    "import cv2\n",
    "import pandas as pd\n",
    "import numpy as np\n",
    "import matplotlib.pyplot as plt\n",
    "import seaborn as sns"
   ]
  },
  {
   "cell_type": "code",
   "execution_count": 111,
   "metadata": {},
   "outputs": [],
   "source": [
    "image = cv2.imread('../TF_waste/preprocessing/can_100.jpg')\n",
    "\n",
    "gray_image = cv2.cvtColor(image, cv2.COLOR_BGR2GRAY)\n",
    "\n",
    "# new_width = gray_image.shape[1] // 3  # 현재 이미지의 가로 크기를 2배로 늘림\n",
    "# new_height = gray_image.shape[0] // 3  # 현재 이미지의 세로 크기를 2배로 늘림\n",
    "# gray_image = cv2.resize(gray_image, (new_width, new_height))"
   ]
  },
  {
   "cell_type": "code",
   "execution_count": 112,
   "metadata": {},
   "outputs": [],
   "source": [
    "# 이미지를 가우시안 블러로 블러 처리\n",
    "blurred_image = cv2.GaussianBlur(gray_image, (5, 5), 0)\n",
    "\n",
    "# 이미지를 회전 (예: 45도 회전, 회전 중심은 이미지 중심)\n",
    "rows, cols = blurred_image.shape\n",
    "rotation_matrix = cv2.getRotationMatrix2D((cols / 2, rows / 2), 45, 1)\n",
    "rotated_image = cv2.warpAffine(blurred_image, rotation_matrix, (cols, rows))\n"
   ]
  },
  {
   "cell_type": "code",
   "execution_count": 113,
   "metadata": {},
   "outputs": [],
   "source": [
    "# blurred_image = cv2.GaussianBlur(image, (15, 15), 0)\n"
   ]
  },
  {
   "cell_type": "code",
   "execution_count": 114,
   "metadata": {},
   "outputs": [],
   "source": [
    "BRimg = rotated_image"
   ]
  },
  {
   "cell_type": "code",
   "execution_count": 115,
   "metadata": {},
   "outputs": [],
   "source": [
    "# 그레이스케일 이미지를 화면에 표시\n",
    "# cv2.imshow('Gray Image', gray_image)\n",
    "\n",
    "# 블러 처리된 이미지를 화면에 표시\n",
    "# cv2.imshow('Blurred Image', blurred_image)\n",
    "\n",
    "# 회전된 이미지를 화면에 표시\n",
    "# cv2.imshow('Rotated Image', rotated_image)\n",
    "\n",
    "# 블러와 회전 된 이미지를 화면에 표시\n",
    "cv2.imshow('Blurred_Rotated Image', BRimg)\n",
    "\n",
    "# 키보드 입력을 기다림\n",
    "cv2.waitKey(0)\n",
    "\n",
    "# 모든 창을 닫음\n",
    "cv2.destroyAllWindows()"
   ]
  },
  {
   "cell_type": "code",
   "execution_count": 116,
   "metadata": {},
   "outputs": [],
   "source": [
    "# new_width = BRimg.shape[1] // 2  # 현재 이미지의 가로 크기를 2배로 늘림\n",
    "# new_height = BRimg.shape[0] // 2  # 현재 이미지의 세로 크기를 2배로 늘림\n",
    "# resized_image = cv2.resize(BRimg, (new_width, new_height))\n",
    "\n",
    "# 크기를 조절한 이미지를 저장\n",
    "cv2.imwrite('resized_can.jpg', BRimg)\n",
    "\n",
    "# 이미지를 화면에 표시 (크기 조절된 이미지)\n",
    "cv2.imshow('Resized Image', BRimg)\n",
    "\n",
    "# 키보드 입력을 기다림\n",
    "cv2.waitKey(0)\n",
    "\n",
    "# 모든 창을 닫음\n",
    "cv2.destroyAllWindows()"
   ]
  },
  {
   "cell_type": "code",
   "execution_count": 118,
   "metadata": {},
   "outputs": [],
   "source": [
    "preprocess = cv2.imread('resized_can.jpg')\n",
    "\n",
    "# 이미지 샤프닝을 위한 커널 정의\n",
    "sharpening_kernel = np.array([[0, -1, 0],\n",
    "                              [-1, 5, -1],\n",
    "                              [0, -1, 0]])\n",
    "\n",
    "# 이미지 필터링을 통한 샤프닝\n",
    "sharpened_image = cv2.filter2D(preprocess, -1, sharpening_kernel)\n",
    "\n",
    "# 크기를 조절한 이미지를 저장\n",
    "cv2.imwrite('pre_plastic.jpg', sharpened_image)\n",
    "\n",
    "# 샤프닝된 이미지를 화면에 표시\n",
    "cv2.imshow('Sharpened Image', sharpened_image)\n",
    "\n",
    "# 키보드 입력을 기다림\n",
    "cv2.waitKey(0)\n",
    "\n",
    "# 모든 창을 닫음\n",
    "cv2.destroyAllWindows()"
   ]
  },
  {
   "cell_type": "code",
   "execution_count": null,
   "metadata": {},
   "outputs": [],
   "source": []
  },
  {
   "cell_type": "code",
   "execution_count": null,
   "metadata": {},
   "outputs": [],
   "source": []
  }
 ],
 "metadata": {
  "kernelspec": {
   "display_name": "MY_PYTHON2",
   "language": "python",
   "name": "python3"
  },
  "language_info": {
   "codemirror_mode": {
    "name": "ipython",
    "version": 3
   },
   "file_extension": ".py",
   "mimetype": "text/x-python",
   "name": "python",
   "nbconvert_exporter": "python",
   "pygments_lexer": "ipython3",
   "version": "3.8.17"
  },
  "orig_nbformat": 4
 },
 "nbformat": 4,
 "nbformat_minor": 2
}
