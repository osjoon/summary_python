{
 "cells": [
  {
   "cell_type": "code",
   "execution_count": 1,
   "metadata": {},
   "outputs": [],
   "source": [
    "from urllib.request import urlopen\n",
    "from bs4 import BeautifulSoup\n",
    "from selenium import webdriver\n",
    "import pandas as pd\n",
    "import matplotlib.pyplot as plt\n",
    "import seaborn as sns\n",
    "import re\n",
    "from matplotlib import font_manager\n",
    "\n",
    "fe = font_manager.FontEntry(\n",
    "    fname=r'D:\\my_jupyter\\EXAM_WEB_CRAWLING\\project\\KBO Dia Gothic_TTF\\KBO Dia Gothic_bold.ttf', # ttf 파일이 저장되어 있는 경로\n",
    "    name='KBO Dia Gothic_bold')                        # 이 폰트의 원하는 이름 설정\n",
    "font_manager.fontManager.ttflist.insert(0, fe)              # Matplotlib에 폰트 추가\n",
    "plt.rcParams.update({'font.size': 12, 'font.family': 'KBO Dia Gothic_bold'}) # 폰트 설정\n",
    "\n",
    "argument1=[]#경력\n",
    "argument2=[]\n",
    "argument3=[]\n",
    "argument4=[]\n",
    "argument5=[]\n",
    "argument6=[]\n",
    "argument7=[]\n",
    "argument8=[]\n",
    "argument9=[]\n",
    "argument10=[]\n",
    "argument11=[]\n",
    "argument12=[]\n",
    "argument13=[]\n",
    "argument14=[]\n",
    "argument15=[]\n",
    "argument16=[]\n",
    "argument17=[]\n",
    "argument18=[]\n",
    "argument19=[]\n",
    "argument20=[]\n",
    "argument21=[]\n",
    "argument22=[]\n",
    "argument23=[]\n",
    "argument24=[]\n",
    "argument25=[]\n",
    "argument26=[]"
   ]
  },
  {
   "cell_type": "code",
   "execution_count": 2,
   "metadata": {},
   "outputs": [],
   "source": [
    "# 크롤링 코드\n",
    "for i in range(1,11):\n",
    "\n",
    "    html = urlopen(f\"https://www.work.go.kr/empInfo/empInfoSrch/list/dtlEmpSrchList.do?careerTo=&keywordJobCd=&occupation=132000%2C025%2C024%2C023&templateInfo=&shsyWorkSecd=&rot2WorkYn=&payGbn=&resultCnt=10&keywordJobCont=&cert=&cloDateStdt=&moreCon=&minPay=&codeDepth2Info=11000&isChkLocCall=&sortFieldInfo=DATE&major=&resrDutyExcYn=&eodwYn=&sortField=DATE&staArea=&sortOrderBy=DESC&keyword=&termSearchGbn=all&carrEssYns=&benefitSrchAndOr=O&disableEmpHopeGbn=&webIsOut=&actServExcYn=&maxPay=&keywordStaAreaNm=&emailApplyYn=&listCookieInfo=DTL&pageCode=&codeDepth1Info=11000&keywordEtcYn=&publDutyExcYn=&keywordJobCdSeqNo=&exJobsCd=&templateDepthNmInfo=&computerPreferential=&regDateStdt=&employGbn=&empTpGbcd=1&region=&infaYn=&resultCntInfo=10&siteClcd=WORK&cloDateEndt=&sortOrderByInfo=DESC&currntPageNo=1&indArea=&careerTypes=N&searchOn=Y&tlmgYn=&subEmpHopeYn=&academicGbn=&templateDepthNoInfo=&foriegn=&mealOfferClcd=&station=&moerButtonYn=Y&holidayGbn=&srcKeyword=&enterPriseGbn=all&academicGbnoEdu=noEdu&cloTermSearchGbn=all&keywordWantedTitle=&stationNm=&benefitGbn=&keywordFlag=&notSrcKeyword=&essCertChk=&isEmptyHeader=&depth2SelCode=&_csrf=7bd1e995-f2e8-4b8e-8400-046e4729bbf0&keywordBusiNm=&preferentialGbn=&rot3WorkYn=&pfMatterPreferential=&regDateEndt=&staAreaLineInfo1=11000&staAreaLineInfo2=1&pageIndex={i}&termContractMmcnt=&careerFrom=&laborHrShortYn=#viewSPL\")\n",
    "    soup = BeautifulSoup(html,features=\"lxml\")\n",
    "    \n",
    "    a_list = soup.select(\"div.cp-info-in > a\")\n",
    "\n",
    "    for i in a_list:\n",
    "\n",
    "        sites = \"https://www.work.go.kr\" + i[\"href\"]\n",
    "      \n",
    "        html2 = urlopen(sites)\n",
    "        soup2 = BeautifulSoup(html2,features=\"lxml\")\n",
    "        \n",
    "        list1 = soup2.select(\"#contents > section > div > div.careers-area > div.careers-new > div.border > div.left\")\n",
    "        for i in list1:\n",
    "            argument1.append(i.select_one(\"div:nth-child(3) > div  div > ul > li span\").text.strip().replace(\"\\n\",\"\").replace(\"\\t\",\"\").replace(\" \",\"\"))\n",
    "            argument2.append(i.select_one(\"div:nth-child(2) > div:nth-child(1) > div > ul > li:nth-child(2) > span\").text.strip().replace(\"\\n\",\"\").replace(\"\\t\",\"\").replace(\" \",\"\"))\n",
    "            argument3.append(i.select_one(\"div:nth-child(2) > div:nth-child(2) > div > ul > li:nth-child(1) > span\").text.strip().replace(\"\\n\",\"\").replace(\"\\t\",\"\").replace(\" \",\"\"))\n",
    "            argument4.append(i.select_one(\"div:nth-child(2) > div:nth-child(2) > div > ul > li:nth-child(2) > span\").text.strip().replace(\"\\n\",\"\").replace(\"\\t\",\"\").replace(\" \",\"\"))\n",
    "            argument5.append(i.select_one(\"div:nth-child(3) > div:nth-child(1) > div > ul > li:nth-child(1) > span\").text.strip().replace(\"\\n\",\"\").replace(\"\\t\",\"\").replace(\" \",\"\"))\n",
    "            argument6.append(i.select_one(\"div:nth-child(3) > div:nth-child(1) > div > ul > li:nth-child(2) > span\").text.strip().replace(\"\\n\",\"\").replace(\"\\t\",\"\").replace(\" \",\"\"))\n",
    "            argument7.append(i.select_one(\"div:nth-child(3) > div:nth-child(2) > div > ul > li\").text.strip().replace(\"\\n\",\"\").replace(\"\\t\",\"\").replace(\" \",\"\"))\n",
    "        list2= soup2.select(\"#contents > section > div > div.careers-area > div.careers-new > div.border > div.right\")\n",
    "        for i in list2:\n",
    "            argument8.append(i.select_one(\"div.info > ul > li:nth-child(1) > div\").text.strip().replace(\"\\n\",\"\").replace(\"\\t\",\"\").replace(\" \",\"\"))\n",
    "            argument9.append(i.select_one(\"div.info > ul > li:nth-child(2) > div\").text.strip().replace(\"\\n\",\"\").replace(\"\\t\",\"\").replace(\" \",\"\"))\n",
    "            argument10.append(i.select_one(\"div.info > ul > li:nth-child(3) > div\").text.strip().replace(\"\\n\",\"\").replace(\"\\t\",\"\").replace(\" \",\"\"))\n",
    "            argument11.append(i.select_one(\"div.info > ul > li:nth-child(4) > div\").text.strip().replace(\"\\n\",\"\").replace(\"\\t\",\"\").replace(\" \",\"\"))\n",
    "            argument12.append(i.select_one(\"div.info > ul > li:nth-child(5) > div\").text.strip().replace(\"\\n\",\"\").replace(\"\\t\",\"\").replace(\" \",\"\"))\n",
    "            argument13.append(i.select_one(\"div.info > ul > li:nth-child(6) > div\").text.strip().replace(\"\\n\",\"\").replace(\"\\t\",\"\").replace(\" \",\"\"))\n",
    "            argument14.append(i.select_one(\"div.info > ul > li:nth-child(7) > div\").text.strip().replace(\"\\n\",\"\").replace(\"\\t\",\"\").replace(\" \",\"\"))\n",
    "        argument15.append(soup2.select_one(\"#contents > section > div > div.careers-area > div:nth-child(4) > table > tbody > tr > td\").text.strip().replace(\"\\n\",\"\").replace(\"\\t\",\"\").replace(\" \",\"\"))\n",
    "        argument16.append(soup2.select_one(\"div.careers-area > div:nth-child(6) > table tr > td:nth-child(1)\").text.strip().replace(\"\\n\",\"\").replace(\"\\t\",\"\").replace(\" \",\"\"))\n",
    "        argument17.append(soup2.select_one(\"#contents > section > div > div.careers-area > div:nth-child(6) > table > tbody > tr > td:nth-child(3)\").text.strip().replace(\"\\n\",\"\").replace(\"\\t\",\"\").replace(\" \",\"\"))\n",
    "        argument18.append(soup2.select_one(\"#contents > section > div > div.careers-area > div:nth-child(14) > table > tbody > tr > td:nth-child(1)\").text.strip().replace(\"\\n\",\"\").replace(\"\\t\",\"\").replace(\" \",\"\"))\n",
    "        argument19.append(soup2.select_one(\"#contents > section > div > div.careers-area > div:nth-child(14) > table > tbody > tr > td:nth-child(2)\").text.strip().replace(\"\\n\",\"\").replace(\"\\t\",\"\").replace(\" \",\"\"))\n",
    "        argument20.append(soup2.select_one(\"#contents > section > div > div.careers-area > div:nth-child(14) > table > tbody > tr > td:nth-child(3)\").text.strip().replace(\"\\n\",\"\").replace(\"\\t\",\"\").replace(\" \",\"\"))\n",
    "        argument21.append(soup2.select_one(\"#contents > section > div > div.careers-area > div:nth-child(14) > table > tbody > tr > td:nth-child(4)\").text.strip().replace(\"\\n\",\"\").replace(\"\\t\",\"\").replace(\" \",\"\"))\n",
    "        argument22.append(soup2.select_one(\"#contents > section > div > div.careers-area > div:nth-child(14) > table > tbody > tr > td:nth-child(5)\").text.strip().replace(\"\\n\",\"\").replace(\"\\t\",\"\").replace(\" \",\"\"))\n",
    "        argument23.append(soup2.select_one(\"#contents > section > div > div.careers-area > div.careers-table.cnts.v1.mt20 > table > tbody > tr:nth-child(2) td:nth-child(1)\").text.strip().replace(\"\\n\",\"\").replace(\"\\t\",\"\").replace(\" \",\"\"))\n",
    "        argument24.append(soup2.select_one(\"#contents > section > div > div.careers-area > div.careers-table.cnts.v1.mt20 > table > tbody > tr:nth-child(2) td:nth-child(2)\").text.strip().replace(\"\\n\",\"\").replace(\"\\t\",\"\").replace(\" \",\"\"))\n",
    "        argument25.append(soup2.select_one(\"#contents > section > div > div.careers-area > div.careers-table.cnts.v1.mt20 > table > tbody > tr:nth-child(4) td:nth-child(1)\").text.strip().replace(\"\\n\",\"\").replace(\"\\t\",\"\").replace(\" \",\"\"))\n",
    "        argument26.append(soup2.select_one(\"#contents > section > div > div.careers-area > div.careers-table.cnts.v1.mt20 > table > tbody > tr:nth-child(4) td:nth-child(2)\").text.strip().replace(\"\\n\",\"\").replace(\"\\t\",\"\").replace(\" \",\"\"))\n",
    "        soup.select\n",
    "\n",
    "\n",
    "total_list = [argument1,argument2,argument3,argument4,argument5,argument6,argument7,argument8,argument9,argument10,argument11,argument12,argument13,argument14,argument15,argument16,argument17,argument18,argument19,argument20,argument21,argument22,argument23,argument24,argument25,argument26]\n",
    "\n",
    "df = pd.DataFrame(total_list,index=['경력','학력','지역','임금','고용형태',\n",
    "        '근무형태','복리후생','기업명','업종','기업규모',\n",
    "        '설립년도','연매출액','홈페이지','근로자수','직무내용',\n",
    "        '모집직종','관련직종','전공','자격면허','외국어능력',\n",
    "        '병역대체 복무자채용','고용허가제','우대조건','컴퓨터 활용능력','기타우대사항',\n",
    "        '작업환경'])\n",
    "\n",
    "df=df.T"
   ]
  },
  {
   "cell_type": "code",
   "execution_count": 3,
   "metadata": {},
   "outputs": [
    {
     "data": {
      "text/plain": [
       "신입    96\n",
       "Name: 경력, dtype: int64"
      ]
     },
     "execution_count": 3,
     "metadata": {},
     "output_type": "execute_result"
    }
   ],
   "source": [
    "# 경력 수정 필요X, 모두 신입 확인\n",
    "df[\"경력\"].value_counts()"
   ]
  },
  {
   "cell_type": "code",
   "execution_count": 4,
   "metadata": {},
   "outputs": [
    {
     "data": {
      "text/plain": [
       "학력무관               32\n",
       "대졸(2~3년)~대졸(4년)    27\n",
       "대졸(4년)             11\n",
       "고졸~대졸(4년)           5\n",
       "대졸(4년)~석사           5\n",
       "대졸(2~3년)~석사         4\n",
       "대졸(2~3년)            4\n",
       "대졸(4년)~박사           3\n",
       "고졸~석사               2\n",
       "대졸(2~3년)~박사         2\n",
       "고졸~박사               1\n",
       "Name: 학력, dtype: int64"
      ]
     },
     "execution_count": 4,
     "metadata": {},
     "output_type": "execute_result"
    }
   ],
   "source": [
    "# 학력의 경우는 요구하는 최저 기준을 기준으로 다시 짜보면 좋지 않을까?\n",
    "df[\"학력\"].value_counts()"
   ]
  },
  {
   "cell_type": "code",
   "execution_count": 5,
   "metadata": {},
   "outputs": [],
   "source": [
    "# 학력무관이면 그냥 출력, 다른 경우는 학력 최저기준을 기준으로 출력\n",
    "\n",
    "def edu_slice(str1):\n",
    "    if str1!=\"학력무관\":\n",
    "        return str1[:2]+\"이상\"\n",
    "    else:\n",
    "        return str1\n",
    "# 학력 재분류\n",
    "df[\"학력\"]=df[\"학력\"].apply(edu_slice)"
   ]
  },
  {
   "cell_type": "code",
   "execution_count": 6,
   "metadata": {},
   "outputs": [
    {
     "data": {
      "text/plain": [
       "대졸이상    56\n",
       "학력무관    32\n",
       "고졸이상     8\n",
       "Name: 학력, dtype: int64"
      ]
     },
     "execution_count": 6,
     "metadata": {},
     "output_type": "execute_result"
    }
   ],
   "source": [
    "df[\"학력\"].value_counts()"
   ]
  },
  {
   "cell_type": "code",
   "execution_count": 7,
   "metadata": {},
   "outputs": [
    {
     "data": {
      "text/plain": [
       "0           경기도고양시일산동구호수로358-39,동문타워1차907호(백석동)\n",
       "1        대구광역시서구와룡로307,822호,(중리동,디센터1976지식산업센터)\n",
       "2                      대전광역시서구만년로79,가원빌딩7층(만년동)\n",
       "3           경기도성남시중원구양현로405번길4-11,9층(여수동,유아이빌딩)\n",
       "4               경상남도창원시성산구완암로50,SK테크노파크넥스동1119호\n",
       "                        ...                    \n",
       "91              전라남도순천시중앙로235,국제문화컨벤션관305호(매곡동)\n",
       "92                     전라남도나주시그린로379,210동(빛가람동)\n",
       "93                 서울특별시중구을지로264,11층스파크플러스1117호\n",
       "94                   서울특별시송파구법원로128,SKV1C동1210호\n",
       "95    경기도안양시동안구벌말로123,A동1105호(관양동,평촌스마트베이)(관양동)\n",
       "Name: 지역, Length: 96, dtype: object"
      ]
     },
     "execution_count": 7,
     "metadata": {},
     "output_type": "execute_result"
    }
   ],
   "source": [
    "# 지역은 너무 세부적으로 있으니 도별로 구분\n",
    "df[\"지역\"]"
   ]
  },
  {
   "cell_type": "code",
   "execution_count": 8,
   "metadata": {},
   "outputs": [],
   "source": [
    "df[\"지역\"]=df[\"지역\"].str.replace(\"도\",\"도 \").str.replace(\"시\",\"시 \").str.split(\" \").str[0]"
   ]
  },
  {
   "cell_type": "code",
   "execution_count": 9,
   "metadata": {},
   "outputs": [
    {
     "data": {
      "text/plain": [
       "서울특별시      33\n",
       "경기도        27\n",
       "경상남도        6\n",
       "전라남도        6\n",
       "경상북도        5\n",
       "대전광역시       4\n",
       "대구광역시       3\n",
       "광주광역시       3\n",
       "전라북도        2\n",
       "충청북도        2\n",
       "부산광역시       2\n",
       "인천광역시       1\n",
       "충청남도        1\n",
       "세종특별자치시     1\n",
       "Name: 지역, dtype: int64"
      ]
     },
     "execution_count": 9,
     "metadata": {},
     "output_type": "execute_result"
    }
   ],
   "source": [
    "df[\"지역\"].value_counts()"
   ]
  },
  {
   "cell_type": "code",
   "execution_count": 10,
   "metadata": {},
   "outputs": [
    {
     "data": {
      "text/plain": [
       "0           [2800]\n",
       "1     [2800, 3000]\n",
       "2     [2500, 3000]\n",
       "3           [2500]\n",
       "4           [3000]\n",
       "          ...     \n",
       "91           [220]\n",
       "92    [2700, 3000]\n",
       "93          [3000]\n",
       "94    [2760, 3480]\n",
       "95    [2550, 2800]\n",
       "Name: 임금, Length: 96, dtype: object"
      ]
     },
     "execution_count": 10,
     "metadata": {},
     "output_type": "execute_result"
    }
   ],
   "source": [
    "df[\"임금\"].str.replace(\"연봉\",\"\").str.replace(\"월급\",\"\").str.replace(\"만원\",\"\").str.replace(\"이상\",\"\").str.replace(\",\",\"\").str.split(\"~\")"
   ]
  },
  {
   "cell_type": "code",
   "execution_count": 11,
   "metadata": {},
   "outputs": [],
   "source": [
    "# 임금 부분을 숫자로 변경 및 평균으로 변경하는 함수\n",
    "def wage_avg(list1):\n",
    "    \n",
    "    if int(list1[0])>1000:\n",
    "        if len(list1)==1:\n",
    "            return int(list1[0])\n",
    "        else:\n",
    "            wage =int((int(list1[0])+int(list1[1]))/2)\n",
    "            return wage\n",
    "    elif int(list1[0])<1000:\n",
    "        if len(list1)==1:\n",
    "            return int(list1[0])*12\n",
    "        else:\n",
    "            wage =int((int(list1[0])+int(list1[1]))/2)*12\n",
    "            return wage"
   ]
  },
  {
   "cell_type": "code",
   "execution_count": 12,
   "metadata": {},
   "outputs": [],
   "source": [
    "# 수치형 데이터로 변경\n",
    "df[\"임금\"]=df[\"임금\"].str.replace(\"연봉\",\"\").str.replace(\"월급\",\"\").str.replace(\"만원\",\"\").str.replace(\"이상\",\"\").str.replace(\",\",\"\").str.split(\"~\").apply(wage_avg)"
   ]
  },
  {
   "cell_type": "code",
   "execution_count": 13,
   "metadata": {},
   "outputs": [
    {
     "data": {
      "text/plain": [
       "1812     1\n",
       "2412     2\n",
       "2413     1\n",
       "2416     1\n",
       "2500     2\n",
       "2544     1\n",
       "2600     1\n",
       "2640     2\n",
       "2646     1\n",
       "2675     1\n",
       "2700     3\n",
       "2725     2\n",
       "2750     4\n",
       "2760     2\n",
       "2800     6\n",
       "2820     1\n",
       "2850     5\n",
       "2880     1\n",
       "2900     7\n",
       "2940     1\n",
       "2975     1\n",
       "3000    21\n",
       "3048     1\n",
       "3085     1\n",
       "3100     1\n",
       "3120     1\n",
       "3180     3\n",
       "3200     3\n",
       "3250     1\n",
       "3325     2\n",
       "3360     1\n",
       "3400     2\n",
       "3500     2\n",
       "3600     3\n",
       "3720     1\n",
       "4000     1\n",
       "4150     1\n",
       "4250     1\n",
       "4300     2\n",
       "4400     1\n",
       "4800     1\n",
       "Name: 임금, dtype: int64"
      ]
     },
     "execution_count": 13,
     "metadata": {},
     "output_type": "execute_result"
    }
   ],
   "source": [
    "df[\"임금\"].value_counts().sort_index()"
   ]
  },
  {
   "cell_type": "code",
   "execution_count": 14,
   "metadata": {},
   "outputs": [
    {
     "data": {
      "text/plain": [
       "기간의정함이없는근로계약             83\n",
       "기간의정함이있는근로계약             12\n",
       "기간의정함이없는근로계약(시간(선택)제)     1\n",
       "Name: 고용형태, dtype: int64"
      ]
     },
     "execution_count": 14,
     "metadata": {},
     "output_type": "execute_result"
    }
   ],
   "source": [
    "# 고용형태는 기간 유무로만 구분 필요\n",
    "df[\"고용형태\"].value_counts()"
   ]
  },
  {
   "cell_type": "code",
   "execution_count": 15,
   "metadata": {},
   "outputs": [
    {
     "name": "stderr",
     "output_type": "stream",
     "text": [
      "C:\\Users\\KDP12\\AppData\\Local\\Temp\\ipykernel_11900\\3589070156.py:1: FutureWarning: The default value of regex will change from True to False in a future version.\n",
      "  df[\"고용형태\"]=df[\"고용형태\"].str.replace(\"\\(시간\\(선택\\)제\\)\",\"\")\n"
     ]
    }
   ],
   "source": [
    "df[\"고용형태\"]=df[\"고용형태\"].str.replace(\"\\(시간\\(선택\\)제\\)\",\"\")"
   ]
  },
  {
   "cell_type": "code",
   "execution_count": 16,
   "metadata": {},
   "outputs": [
    {
     "data": {
      "text/plain": [
       "기간의정함이없는근로계약    84\n",
       "기간의정함이있는근로계약    12\n",
       "Name: 고용형태, dtype: int64"
      ]
     },
     "execution_count": 16,
     "metadata": {},
     "output_type": "execute_result"
    }
   ],
   "source": [
    "df[\"고용형태\"].value_counts()"
   ]
  },
  {
   "cell_type": "code",
   "execution_count": 17,
   "metadata": {},
   "outputs": [
    {
     "data": {
      "text/plain": [
       "주5일근무    96\n",
       "Name: 근무형태, dtype: int64"
      ]
     },
     "execution_count": 17,
     "metadata": {},
     "output_type": "execute_result"
    }
   ],
   "source": [
    "# 근무형태는 변경필요 X\n",
    "df[\"근무형태\"].value_counts()"
   ]
  },
  {
   "cell_type": "code",
   "execution_count": 18,
   "metadata": {},
   "outputs": [
    {
     "data": {
      "text/plain": [
       "0                  \n",
       "1       식사제공(중식비지급)\n",
       "2                  \n",
       "3     교육비제공식사제공(1식)\n",
       "4          식사제공(1식)\n",
       "          ...      \n",
       "91                 \n",
       "92                 \n",
       "93         식사제공(3식)\n",
       "94                 \n",
       "95         식사제공(1식)\n",
       "Name: 복리후생, Length: 96, dtype: object"
      ]
     },
     "execution_count": 18,
     "metadata": {},
     "output_type": "execute_result"
    }
   ],
   "source": [
    "# 형태소 분석해야 하나..? 생각\n",
    "df['복리후생']"
   ]
  },
  {
   "cell_type": "code",
   "execution_count": 19,
   "metadata": {},
   "outputs": [
    {
     "name": "stderr",
     "output_type": "stream",
     "text": [
      "C:\\Users\\KDP12\\AppData\\Local\\Temp\\ipykernel_11900\\2541823816.py:3: FutureWarning: The default value of regex will change from True to False in a future version.\n",
      "  df[\"기업명\"]=df[\"기업명\"].str.replace(\"주식회사\",\"\").str.replace(\"\\(주\\)\",\"\")\n"
     ]
    }
   ],
   "source": [
    "# 기업명에 있던 \"(주)\" 및 \"주식회사\" 제거\n",
    "\n",
    "df[\"기업명\"]=df[\"기업명\"].str.replace(\"주식회사\",\"\").str.replace(\"\\(주\\)\",\"\")"
   ]
  },
  {
   "cell_type": "code",
   "execution_count": 20,
   "metadata": {},
   "outputs": [
    {
     "data": {
      "text/plain": [
       "컴퓨터프로그래밍서비스업             14\n",
       "컴퓨터시스템통합자문및구축서비스업        12\n",
       "응용소프트웨어개발및공급업            11\n",
       "소프트웨어개발및공급업               7\n",
       "시스템소프트웨어개발및공급업            6\n",
       "그외기타분류안된전문,과학및기술서비스업      4\n",
       "전자상거래소매업                  4\n",
       "시스템ㆍ응용소프트웨어개발및공급업         4\n",
       "배전반및전기자동제어반제조업            3\n",
       "컴퓨터및주변장치,소프트웨어도매업         2\n",
       "기타무선통신장비제조업               2\n",
       "기타전문서비스업                  2\n",
       "그외기타의료용기기제조업              2\n",
       "건축설계및관련서비스업               1\n",
       "주형및금형제조업                  1\n",
       "기타게임소프트웨어개발및공급업           1\n",
       "기타엔지니어링서비스업               1\n",
       "방사선장치제조업                  1\n",
       "일반용전기조명장치제조업              1\n",
       "광고대행업                     1\n",
       "철도여객운송업                   1\n",
       "반도체제조용기계제조업               1\n",
       "산업용로봇제조업                  1\n",
       "금속단조,압형및분말야금제품제조업         1\n",
       "컴퓨터제조업                    1\n",
       "전기장비제조업                   1\n",
       "그외기타교육기관                  1\n",
       "그외기타협회및단체                 1\n",
       "정보서비스업                    1\n",
       "그외기타전자부품제조업               1\n",
       "다이오드,트랜지스터및유사반도체소자제조업     1\n",
       "그외기타생활용품도매업               1\n",
       "육류기타가공및저장처리업(가금류제외)       1\n",
       "기타수산동물가공및저장처리업            1\n",
       "그외기타전기장비제조업               1\n",
       "기타정보기술및컴퓨터운영관련서비스업        1\n",
       "Name: 업종, dtype: int64"
      ]
     },
     "execution_count": 20,
     "metadata": {},
     "output_type": "execute_result"
    }
   ],
   "source": [
    "# 이거는 좀 고민해야할거 같음.\n",
    "df[\"업종\"].value_counts()"
   ]
  },
  {
   "cell_type": "code",
   "execution_count": 21,
   "metadata": {},
   "outputs": [
    {
     "data": {
      "text/plain": [
       "중소기업    82\n",
       "        12\n",
       "기타       2\n",
       "Name: 기업규모, dtype: int64"
      ]
     },
     "execution_count": 21,
     "metadata": {},
     "output_type": "execute_result"
    }
   ],
   "source": [
    "#대부분 중소기업이긴 한데, 이건 빈 공백 어떻게 할지생각\n",
    "df[\"기업규모\"].value_counts()"
   ]
  },
  {
   "cell_type": "code",
   "execution_count": 22,
   "metadata": {},
   "outputs": [],
   "source": [
    "# 설립년도 없는 곳 그냥 0으로 처리함\n",
    "# 0으로 처리해야 나중에 불린 인덱스 조건 줘서 하기 좋을거 같아서\n",
    "# ~년도 없앰\n",
    "# int 형으로 바꿈\n",
    "df[\"설립년도\"]=df[\"설립년도\"].str[:4].replace(\"\",0).apply(lambda x :int(x))"
   ]
  },
  {
   "cell_type": "code",
   "execution_count": 23,
   "metadata": {},
   "outputs": [
    {
     "data": {
      "text/plain": [
       "0       21\n",
       "2007     8\n",
       "2020     6\n",
       "2011     5\n",
       "2015     5\n",
       "2021     4\n",
       "2017     4\n",
       "2014     4\n",
       "2019     4\n",
       "2018     4\n",
       "2016     3\n",
       "2004     3\n",
       "1984     3\n",
       "2002     3\n",
       "2010     3\n",
       "2012     2\n",
       "2003     2\n",
       "1996     2\n",
       "2006     1\n",
       "2009     1\n",
       "1976     1\n",
       "2013     1\n",
       "1987     1\n",
       "2000     1\n",
       "2022     1\n",
       "1998     1\n",
       "1999     1\n",
       "2005     1\n",
       "Name: 설립년도, dtype: int64"
      ]
     },
     "execution_count": 23,
     "metadata": {},
     "output_type": "execute_result"
    }
   ],
   "source": [
    "df[\"설립년도\"].value_counts()"
   ]
  },
  {
   "cell_type": "code",
   "execution_count": 24,
   "metadata": {},
   "outputs": [
    {
     "data": {
      "text/plain": [
       "          27\n",
       "3000       5\n",
       "2000       4\n",
       "1000       4\n",
       "21         3\n",
       "700        2\n",
       "500        2\n",
       "6000       2\n",
       "624        2\n",
       "4000       2\n",
       "400        2\n",
       "28552      1\n",
       "2500       1\n",
       "1104       1\n",
       "8000       1\n",
       "8586       1\n",
       "435        1\n",
       "67         1\n",
       "3132       1\n",
       "3708       1\n",
       "730        1\n",
       "1720       1\n",
       "25670      1\n",
       "2300       1\n",
       "900        1\n",
       "2045       1\n",
       "600        1\n",
       "50000      1\n",
       "931        1\n",
       "2200       1\n",
       "3927       1\n",
       "791        1\n",
       "4400       1\n",
       "2236       1\n",
       "36000      1\n",
       "1700       1\n",
       "6170       1\n",
       "1990       1\n",
       "4277       1\n",
       "100000     1\n",
       "2130       1\n",
       "98         1\n",
       "749        1\n",
       "8670       1\n",
       "7100       1\n",
       "710        1\n",
       "367        1\n",
       "18170      1\n",
       "300000     1\n",
       "2100       1\n",
       "4317       1\n",
       "1071       1\n",
       "Name: 연매출액, dtype: int64"
      ]
     },
     "execution_count": 24,
     "metadata": {},
     "output_type": "execute_result"
    }
   ],
   "source": [
    "df[\"연매출액\"].str.replace(\",\",\"\").str.replace(\"백만원\",\"\").value_counts()"
   ]
  },
  {
   "cell_type": "code",
   "execution_count": 25,
   "metadata": {},
   "outputs": [],
   "source": [
    "for i in range(df.shape[0]):\n",
    "    if df.loc[i,\"연매출액\"] ==\"\":\n",
    "        df.loc[i,\"연매출액\"] = 0\n",
    "    else:\n",
    "        df.loc[i,\"연매출액\"]= int(df.loc[i,\"연매출액\"].replace(\",\",\"\").replace(\"백만원\",\"\"))"
   ]
  },
  {
   "cell_type": "code",
   "execution_count": 26,
   "metadata": {},
   "outputs": [
    {
     "data": {
      "text/plain": [
       "0         0\n",
       "1      3000\n",
       "2         0\n",
       "3      3000\n",
       "4       700\n",
       "      ...  \n",
       "91        0\n",
       "92    50000\n",
       "93        0\n",
       "94      931\n",
       "95     1071\n",
       "Name: 연매출액, Length: 96, dtype: object"
      ]
     },
     "execution_count": 26,
     "metadata": {},
     "output_type": "execute_result"
    }
   ],
   "source": [
    "df[\"연매출액\"]"
   ]
  },
  {
   "cell_type": "code",
   "execution_count": 27,
   "metadata": {},
   "outputs": [
    {
     "data": {
      "text/plain": [
       "0                               -\n",
       "1                 www.wizis.co.kr\n",
       "2                               -\n",
       "3                  safesoft.co.kr\n",
       "4                www.gneetech.com\n",
       "                 ...             \n",
       "91                     sd-tech.kr\n",
       "92    http://www.teraenergy.co.kr\n",
       "93           www.aceproject.co.kr\n",
       "94           www.jksolution.co.kr\n",
       "95             www.jcastnet.co.kr\n",
       "Name: 홈페이지, Length: 96, dtype: object"
      ]
     },
     "execution_count": 27,
     "metadata": {},
     "output_type": "execute_result"
    }
   ],
   "source": [
    "#쓰지 못하는 데이터 변겅\n",
    "df[\"홈페이지\"]"
   ]
  },
  {
   "cell_type": "code",
   "execution_count": 28,
   "metadata": {},
   "outputs": [],
   "source": [
    "# 근로자수 수치형으로 변경\n",
    "df[\"근로자수\"]=df[\"근로자수\"].str.replace(\"명\",\"\").apply(lambda x: int(x))"
   ]
  },
  {
   "cell_type": "code",
   "execution_count": 29,
   "metadata": {},
   "outputs": [
    {
     "data": {
      "text/plain": [
       "12"
      ]
     },
     "execution_count": 29,
     "metadata": {},
     "output_type": "execute_result"
    }
   ],
   "source": [
    "# 이게 진짜 단어로 쪼개야 할듯 -> 형태소로\n",
    "df[\"직무내용\"].str.contains(\"SQL\").sum()"
   ]
  },
  {
   "cell_type": "code",
   "execution_count": 30,
   "metadata": {},
   "outputs": [
    {
     "data": {
      "text/plain": [
       "0                                       웹 개발\\r - 프론트 개발\n",
       "1     C# 활용, Java, Visual Basic  프로그램 개발 \\r1. 진취적이고,...\n",
       "2     업무 : JSP 웹 개발 및 유지관리 업무\\r         공공기관 개발 및 유지...\n",
       "3     * 임상, 비임상 및 바이오 관련 개발 소프트웨어의 검증 ( S/W Validati...\n",
       "4     응용소프트웨어, 머신비전 검사기 개발/제작으로 프로그래밍을 주업무로함.\\rC++를 ...\n",
       "                            ...                        \n",
       "91    AI 및 빅데이터 \\r소프트웨어 및 하드웨어 개발\\r데이터 분석 및 패턴과 인사이트...\n",
       "92    <직무내용>\\r응용SW개발자\\r-스마트시티, 스마트팩토리 분야 빅테이터 솔루션 데이...\n",
       "93    <직무내용>\\r- 야구 매니지먼트 게임 기획\\r- 게임 내 각 종 콘텐츠, 시스템 ...\n",
       "94    # 고객 관련된 솔루션 설치 지원 및 설치한 제품 유지 관리 지원.\\r 1. 백업 ...\n",
       "95    Windows 기반 C#, Python, SQL 등으로 스마트공장 및 AI솔루션 SW개발\n",
       "Name: 직무내용, Length: 96, dtype: object"
      ]
     },
     "execution_count": 30,
     "metadata": {},
     "output_type": "execute_result"
    }
   ],
   "source": [
    "df[\"직무내용\"]"
   ]
  },
  {
   "cell_type": "code",
   "execution_count": 31,
   "metadata": {},
   "outputs": [
    {
     "data": {
      "text/plain": [
       "IT기술지원전문가                         16\n",
       "응용소프트웨어개발자                        14\n",
       "웹개발자(웹엔지니어·웹프로그래머)                11\n",
       "시스템소프트웨어개발자                        7\n",
       "IT테스터및ITQA전문가                      5\n",
       "웹개발자                               5\n",
       "웹운영자(홈페이지관리자)                      4\n",
       "C언어및그외프로그래밍언어전문가                   4\n",
       "펌웨어및임베디드소프트웨어프로그래머                 3\n",
       "정보시스템운영자                           3\n",
       "데이터설계및프로그래머                        3\n",
       "로봇공학기술자및연구원                        2\n",
       "시스템소프트웨어개발자(프로그래머)                 2\n",
       "웹기획자                               2\n",
       "전기계측제어기술자(전기패널,계장,공정자동화전기등)        2\n",
       "네트워크관리자(클라우딩컴퓨터운영관리자)              2\n",
       "범용응용소프트웨어프로그래머(ERP,정보처리,재무관리등)     2\n",
       "관제사(항공,선박,철도등)                     1\n",
       "웹디자이너                              1\n",
       "JAVA프로그래밍언어전문가                     1\n",
       "데이터분석가(빅데이터분석가)                    1\n",
       "고객상담원(A/S·고장·제품사용)                 1\n",
       "전자제어계측기술자및연구원                      1\n",
       "컴퓨터시스템설계및분석가                       1\n",
       "데이터전문가                             1\n",
       "기타정보통신기기설치·수리원                     1\n",
       "Name: 모집직종, dtype: int64"
      ]
     },
     "execution_count": 31,
     "metadata": {},
     "output_type": "execute_result"
    }
   ],
   "source": [
    "#세부사항을 쪼갤지 말지 물어보기\n",
    "\n",
    "df[\"모집직종\"].value_counts()"
   ]
  },
  {
   "cell_type": "code",
   "execution_count": 32,
   "metadata": {},
   "outputs": [
    {
     "data": {
      "text/plain": [
       "                                                 42\n",
       "시스템소프트웨어개발자(프로그래머)                                4\n",
       "IT기술지원전문가                                         4\n",
       "응용소프트웨어개발자                                        4\n",
       "C언어및그외프로그래밍언어전문가                                  3\n",
       "정보시스템운영자                                          3\n",
       "웹개발자(웹엔지니어·웹프로그래머)                                3\n",
       "시스템소프트웨어개발자(프로그래머),응용소프트웨어개발자                     2\n",
       "IT테스터및ITQA전문가                                     2\n",
       "데이터전문가,데이터베이스운영·관리자                               2\n",
       "웹개발자                                              2\n",
       "IT기술지원전문가,네트워크관리자(클라우딩컴퓨터운영관리자)                   1\n",
       "시스템소프트웨어개발자,UX/UI디자이너                             1\n",
       "전자부품개발기술자및연구원,가스·에너지공학기술자및연구원                     1\n",
       "마케팅·광고·홍보·상품기획사무원,마케팅전문가                          1\n",
       "JAVA프로그래밍언어전문가,시스템소프트웨어개발자                        1\n",
       "컴퓨터시스템설계및분석가,전자공학기술자및연구원                          1\n",
       "시스템소프트웨어개발자,컴퓨터하드웨어기술자및연구원                        1\n",
       "정보보안전문가                                           1\n",
       "C언어및그외프로그래밍언어전문가,모바일애플리케이션프로그래머(앱·어플개발)           1\n",
       "전자제어계측기술자및연구원,시스템소프트웨어개발자(프로그래머)                  1\n",
       "기계·금속제도사(캐드원)                                     1\n",
       "JAVA프로그래밍언어전문가,범용응용소프트웨어프로그래머(ERP,정보처리,재무관리등)     1\n",
       "펌웨어및임베디드소프트웨어프로그래머,C언어및그외프로그래밍언어전문가               1\n",
       "IT기술영업원(전산장비,소프트웨어)                               1\n",
       "JAVA프로그래밍언어전문가,웹개발자                               1\n",
       "정보보안전문가,시스템소프트웨어개발자(프로그래머)                        1\n",
       "데이터분석가(빅데이터분석가),응용소프트웨어개발자                        1\n",
       "응용소프트웨어개발자,시스템소프트웨어개발자(프로그래머)                     1\n",
       "펌웨어및임베디드소프트웨어프로그래머,시스템소프트웨어개발자(프로그래머)             1\n",
       "쇼핑몰택배준비원                                          1\n",
       "응용소프트웨어개발자,C언어및그외프로그래밍언어전문가                       1\n",
       "전기·전자장비제도사(캐드원)                                   1\n",
       "모바일애플리케이션프로그래머(앱·어플개발)                            1\n",
       "JAVA프로그래밍언어전문가,응용소프트웨어개발자                         1\n",
       "응용소프트웨어개발자,시스템소프트웨어개발자                            1\n",
       "Name: 관련직종, dtype: int64"
      ]
     },
     "execution_count": 32,
     "metadata": {},
     "output_type": "execute_result"
    }
   ],
   "source": [
    "# 빈데이터가 많음\n",
    "df[\"관련직종\"].value_counts()"
   ]
  },
  {
   "cell_type": "code",
   "execution_count": 33,
   "metadata": {},
   "outputs": [
    {
     "data": {
      "text/plain": [
       "                                                     39\n",
       "전산학·컴퓨터공학(학과:컴퓨터공학계열)                                 3\n",
       "전산학·컴퓨터공학(학과:전산학전공)정보·통신공학(학과:전자ㆍ정보통신공학부)             2\n",
       "전산학·컴퓨터공학(학과:컴퓨터공학과)응용소프트웨어공학(학과:컴퓨터소프트웨어공학전공)        2\n",
       "전산학·컴퓨터공학(학과:컴퓨터공학과)정보·통신공학(학과:전기전자정보통신공학)            1\n",
       "전자공학전산학·컴퓨터공학(학과:컴퓨터공학계열)                             1\n",
       "전산학·컴퓨터공학(학과:IT정보공학부(컴퓨터시스템공학,소프트웨어공학))               1\n",
       "응용소프트웨어공학(학과:컴퓨터소프트웨어ㆍ정보통신전공)정보·통신공학(학과:정보통신계열)       1\n",
       "응용소프트웨어공학(학과:소프트웨어공학과)                                1\n",
       "전산학·컴퓨터공학(학과:컴퓨터공학과군)                                 1\n",
       "응용소프트웨어공학(학과:소프트웨어개발전공)응용소프트웨어공학(학과:컴퓨터소프트웨어공학전공)     1\n",
       "전기공학(학과:전기공학과)전기공학(학과:전기ㆍ컴퓨터공학부)                      1\n",
       "전산학·컴퓨터공학(학과:컴퓨터공학과)                                  1\n",
       "건축·설비공학(학과:건축컴퓨터공학과군)                                 1\n",
       "전산학·컴퓨터공학(학과:컴퓨터공학과)응용소프트웨어공학(학과:소프트웨어전공)             1\n",
       "전산학·컴퓨터공학(학과:전산학과)전산학·컴퓨터공학(학과:전산전자공학부)               1\n",
       "디자인일반(학과:디자인(공통))                                     1\n",
       "응용소프트웨어공학(학과:컴퓨터공학부(컴퓨터공학))정보·통신공학(학과:정보처리전공)         1\n",
       "정보·통신공학(학과:데이터베이스응용공학전공)정보·통신공학(학과:IT정보공학과)           1\n",
       "응용소프트웨어공학(학과:소프트웨어전공)                                 1\n",
       "전자공학(학과:전기전자제어공학부)응용소프트웨어공학(학과:전자소프트웨어학전공)            1\n",
       "정보·통신공학(학과:정보통신계열)                                    1\n",
       "전산학·컴퓨터공학(학과:컴퓨터계열)정보·통신공학(학과:정보통신계열)                 1\n",
       "전산학·컴퓨터공학(학과:컴퓨터공학계열)응용소프트웨어공학(학과:소프트웨어공학과)           1\n",
       "전자공학(학과:컴퓨터·정보통신공학전공)                                 1\n",
       "전자공학(학과:공과대학전자공학과)에너지공학(학과:에너지공학부신재생에너지전공)            1\n",
       "전산학·컴퓨터공학(학과:컴퓨터공학과)전자공학(학과:전자공학컴퓨터학계열)               1\n",
       "전산학·컴퓨터공학(학과:공과대학컴퓨터공학과)                              1\n",
       "응용소프트웨어공학(학과:응용소프트웨어공학)전산학·컴퓨터공학(학과:전산학·컴퓨터공학)        1\n",
       "정보·통신공학(학과:네트워크전공)정보·통신공학(학과:컴퓨터정보학과)                 1\n",
       "전산학·컴퓨터공학(학과:컴퓨터계열)                                   1\n",
       "전산학·컴퓨터공학응용소프트웨어공학(학과:소프트웨어공학부)                       1\n",
       "전산학·컴퓨터공학(학과:컴퓨터·IT공학부(전산공학전공))                       1\n",
       "전산학·컴퓨터공학(학과:컴퓨터공학부)                                  1\n",
       "전산학·컴퓨터공학정보·통신공학                                      1\n",
       "정보·통신공학(학과:IT계열)                                      1\n",
       "전자공학(학과:반도체전자공학전공)                                    1\n",
       "응용소프트웨어공학(학과:소프트웨어개발전공)정보·통신공학(학과:모바일어플리케이션개발학과)      1\n",
       "응용소프트웨어공학(학과:컴퓨터공학부(컴퓨터공학))응용공학(학과:시스템공학과)            1\n",
       "전기공학(학과:전기·제어공학부)                                     1\n",
       "응용소프트웨어공학(학과:소프트웨어개발전공)                               1\n",
       "전산학·컴퓨터공학(학과:전산공학전공)                                  1\n",
       "전자공학(학과:컴퓨터·전자공학부)                                    1\n",
       "전산학·컴퓨터공학(학과:컴퓨터공학과)수학(학과:전산수학과)                      1\n",
       "전산학·컴퓨터공학(학과:컴퓨터공학과)전산학·컴퓨터공학(학과:인공지능전공)              1\n",
       "정보·통신공학(학과:네트워크전공)정보·통신공학(학과:정보통신공학계열)                1\n",
       "정보·통신공학(학과:IT정보공학과)응용소프트웨어공학(학과:IT융합응용공학과)            1\n",
       "수산학(학과:수산가공학전공)통계학(학과:물류통계정보학과)                       1\n",
       "기계공학(학과:CAD/CAM전공)전산학·컴퓨터공학(학과:컴퓨터&인터넷공학전공)           1\n",
       "정보·통신공학(학과:전자ㆍ전자통신ㆍ컴퓨터공학부)정보·통신공학(학과:컴퓨터통신공학과)        1\n",
       "전산학·컴퓨터공학(학과:컴퓨터공학과)전자공학(학과:전기전자공학과)                  1\n",
       "전산학·컴퓨터공학(학과:전산학과)정보·통신공학(학과:컴퓨터및정보통신공학부)             1\n",
       "응용소프트웨어공학(학과:소프트웨어공학부)전자공학(학과:전자·컴퓨터·전기·제어공학부)        1\n",
       "전산학·컴퓨터공학(학과:컴퓨터전공)전자공학(학과:전기전자공학계열)                  1\n",
       "Name: 전공, dtype: int64"
      ]
     },
     "execution_count": 33,
     "metadata": {},
     "output_type": "execute_result"
    }
   ],
   "source": [
    "# 안쓰는 데이터\n",
    "df[\"전공\"].value_counts()"
   ]
  },
  {
   "cell_type": "code",
   "execution_count": 34,
   "metadata": {},
   "outputs": [
    {
     "data": {
      "text/plain": [
       "0                            정보처리기사(우대)\n",
       "1                                  관계없음\n",
       "2                            정보처리기사(우대)\n",
       "3                                  관계없음\n",
       "4               정보처리기사(우대),정보처리산업기사(우대)\n",
       "                    ...                \n",
       "91                   기타:IT관련전공자및IT관련자격증\n",
       "92    정보처리기사(우대),시각디자인기사(우대)기타:해당산업기사포함\n",
       "93                                 관계없음\n",
       "94                                 관계없음\n",
       "95                           정보처리기사(우대)\n",
       "Name: 자격면허, Length: 96, dtype: object"
      ]
     },
     "execution_count": 34,
     "metadata": {},
     "output_type": "execute_result"
    }
   ],
   "source": [
    "# df[\"자격면허\"].str.contains(\"데이터\").sum()\n",
    "df[\"자격면허\"]"
   ]
  },
  {
   "cell_type": "code",
   "execution_count": 35,
   "metadata": {},
   "outputs": [
    {
     "data": {
      "text/plain": [
       "         90\n",
       "영어(중)     3\n",
       "영어(하)     2\n",
       "영어(상)     1\n",
       "Name: 외국어능력, dtype: int64"
      ]
     },
     "execution_count": 35,
     "metadata": {},
     "output_type": "execute_result"
    }
   ],
   "source": [
    "# 데이터 자체를 못씀\n",
    "\n",
    "df[\"외국어능력\"].value_counts()"
   ]
  },
  {
   "cell_type": "code",
   "execution_count": 36,
   "metadata": {},
   "outputs": [
    {
     "data": {
      "text/plain": [
       "비희망                  95\n",
       "희망(보충역대상자/산업기능요원)     1\n",
       "Name: 병역대체 복무자채용, dtype: int64"
      ]
     },
     "execution_count": 36,
     "metadata": {},
     "output_type": "execute_result"
    }
   ],
   "source": [
    "# 의미없는 데이터\n",
    "df[\"병역대체 복무자채용\"].value_counts()"
   ]
  },
  {
   "cell_type": "code",
   "execution_count": 37,
   "metadata": {},
   "outputs": [
    {
     "data": {
      "text/plain": [
       "                             95\n",
       "내국인구인노력기간이후고용허가제대상외국인채용예정     1\n",
       "Name: 고용허가제, dtype: int64"
      ]
     },
     "execution_count": 37,
     "metadata": {},
     "output_type": "execute_result"
    }
   ],
   "source": [
    "# 의미없는 데이터\n",
    "df[\"고용허가제\"].value_counts()"
   ]
  },
  {
   "cell_type": "code",
   "execution_count": 38,
   "metadata": {},
   "outputs": [
    {
     "data": {
      "text/plain": [
       "                                                                  61\n",
       "운전면허증                                                             18\n",
       "차량소지자,운전면허증                                                        6\n",
       "차량소지자                                                              3\n",
       "고용촉진장려금대상자                                                         3\n",
       "고용촉진장려금대상자,운전면허증                                                   2\n",
       "보훈취업지원대상자                                                          1\n",
       "(준)고령자(50세이상),북한이탈주민,장기복무제대군인,고용촉진장려금대상자,보훈취업지원대상자,차량소지자,운전면허증     1\n",
       "고용촉진장려금대상자,차량소지자,운전면허증                                             1\n",
       "Name: 우대조건, dtype: int64"
      ]
     },
     "execution_count": 38,
     "metadata": {},
     "output_type": "execute_result"
    }
   ],
   "source": [
    "df[\"우대조건\"].value_counts()"
   ]
  },
  {
   "cell_type": "code",
   "execution_count": 39,
   "metadata": {},
   "outputs": [
    {
     "data": {
      "text/plain": [
       "                                                                                                             61\n",
       "문서작성 (워드프로세스 활용),표계산 (스프레드시트 활용)  ,프레젠테이션 프로그램 활용                                                            16\n",
       "문서작성 (워드프로세스 활용)                                                                                              8\n",
       "문서작성 (워드프로세스 활용),표계산 (스프레드시트 활용)  ,프레젠테이션 프로그램 활용,회계프로그램                                                      4\n",
       "문서작성 (워드프로세스 활용),프레젠테이션 프로그램 활용                                                                               2\n",
       "기타(-컴퓨터/시스템 공학을 전공하신 분\\r-정보처리기사 자격증을 취득하신 분)                                                                  1\n",
       "문서작성 (워드프로세스 활용),회계프로그램                                                                                       1\n",
       "프레젠테이션 프로그램 활용                                                                                                1\n",
       "문서작성 (워드프로세스 활용),표계산 (스프레드시트 활용)  ,회계프로그램,기타 (문서관리 관련 자격소지자 우대)                                               1\n",
       "문서작성 (워드프로세스 활용),표계산 (스프레드시트 활용)  ,프레젠테이션 프로그램 활용,기타 (Python, C/C++ , Pytorch, Tensorflow, Keras 등 프레임워크)     1\n",
       "Name: 컴퓨터 활용능력, dtype: int64"
      ]
     },
     "execution_count": 39,
     "metadata": {},
     "output_type": "execute_result"
    }
   ],
   "source": [
    "df[\"컴퓨터 활용능력\"].value_counts()"
   ]
  },
  {
   "cell_type": "code",
   "execution_count": 40,
   "metadata": {},
   "outputs": [
    {
     "data": {
      "text/plain": [
       "96"
      ]
     },
     "execution_count": 40,
     "metadata": {},
     "output_type": "execute_result"
    }
   ],
   "source": [
    "df[\"기타우대사항\"].str.contains(\"\").sum()"
   ]
  },
  {
   "cell_type": "code",
   "execution_count": 41,
   "metadata": {},
   "outputs": [
    {
     "data": {
      "text/plain": [
       "                                                                                              93\n",
       "작업장소:실내서거나걷기:서거나걷는일거의없음듣고말하기:듣고말하기중요                                                           1\n",
       "작업장소:실내ㆍ외                                                                                      1\n",
       "작업장소:실내드는힘:5Kg이내의물건을다룸서거나걷기:서거나걷는일거의없음듣고말하기:듣고말하는작업거의없음시력:일상적인활동이가능한정도손작업:정밀한작업양손사용:양손으로작업     1\n",
       "Name: 작업환경, dtype: int64"
      ]
     },
     "execution_count": 41,
     "metadata": {},
     "output_type": "execute_result"
    }
   ],
   "source": [
    "# 의미 없는 데이타\n",
    "df[\"작업환경\"].value_counts()"
   ]
  },
  {
   "cell_type": "code",
   "execution_count": 42,
   "metadata": {},
   "outputs": [
    {
     "name": "stderr",
     "output_type": "stream",
     "text": [
      "findfont: Font family ['KBO Dia Gothic_bold'] not found. Falling back to DejaVu Sans.\n",
      "c:\\Users\\KDP12\\anaconda3\\envs\\MY_PYTHON\\lib\\site-packages\\IPython\\core\\pylabtools.py:152: UserWarning: Glyph 50672 (\\N{HANGUL SYLLABLE YEON}) missing from current font.\n",
      "  fig.canvas.print_figure(bytes_io, **kw)\n",
      "c:\\Users\\KDP12\\anaconda3\\envs\\MY_PYTHON\\lib\\site-packages\\IPython\\core\\pylabtools.py:152: UserWarning: Glyph 48393 (\\N{HANGUL SYLLABLE BONG}) missing from current font.\n",
      "  fig.canvas.print_figure(bytes_io, **kw)\n",
      "c:\\Users\\KDP12\\anaconda3\\envs\\MY_PYTHON\\lib\\site-packages\\IPython\\core\\pylabtools.py:152: UserWarning: Glyph 47564 (\\N{HANGUL SYLLABLE MAN}) missing from current font.\n",
      "  fig.canvas.print_figure(bytes_io, **kw)\n",
      "c:\\Users\\KDP12\\anaconda3\\envs\\MY_PYTHON\\lib\\site-packages\\IPython\\core\\pylabtools.py:152: UserWarning: Glyph 50896 (\\N{HANGUL SYLLABLE WEON}) missing from current font.\n",
      "  fig.canvas.print_figure(bytes_io, **kw)\n",
      "c:\\Users\\KDP12\\anaconda3\\envs\\MY_PYTHON\\lib\\site-packages\\IPython\\core\\pylabtools.py:152: UserWarning: Glyph 45380 (\\N{HANGUL SYLLABLE NYEON}) missing from current font.\n",
      "  fig.canvas.print_figure(bytes_io, **kw)\n",
      "findfont: Font family 'KBO Dia Gothic_bold' not found.\n",
      "findfont: Font family 'KBO Dia Gothic_bold' not found.\n",
      "c:\\Users\\KDP12\\anaconda3\\envs\\MY_PYTHON\\lib\\site-packages\\IPython\\core\\pylabtools.py:152: UserWarning: Glyph 54617 (\\N{HANGUL SYLLABLE HAG}) missing from current font.\n",
      "  fig.canvas.print_figure(bytes_io, **kw)\n",
      "c:\\Users\\KDP12\\anaconda3\\envs\\MY_PYTHON\\lib\\site-packages\\IPython\\core\\pylabtools.py:152: UserWarning: Glyph 47141 (\\N{HANGUL SYLLABLE RYEOG}) missing from current font.\n",
      "  fig.canvas.print_figure(bytes_io, **kw)\n",
      "c:\\Users\\KDP12\\anaconda3\\envs\\MY_PYTHON\\lib\\site-packages\\IPython\\core\\pylabtools.py:152: UserWarning: Glyph 48324 (\\N{HANGUL SYLLABLE BYEOL}) missing from current font.\n",
      "  fig.canvas.print_figure(bytes_io, **kw)\n",
      "c:\\Users\\KDP12\\anaconda3\\envs\\MY_PYTHON\\lib\\site-packages\\IPython\\core\\pylabtools.py:152: UserWarning: Glyph 47924 (\\N{HANGUL SYLLABLE MU}) missing from current font.\n",
      "  fig.canvas.print_figure(bytes_io, **kw)\n",
      "c:\\Users\\KDP12\\anaconda3\\envs\\MY_PYTHON\\lib\\site-packages\\IPython\\core\\pylabtools.py:152: UserWarning: Glyph 44288 (\\N{HANGUL SYLLABLE GWAN}) missing from current font.\n",
      "  fig.canvas.print_figure(bytes_io, **kw)\n",
      "c:\\Users\\KDP12\\anaconda3\\envs\\MY_PYTHON\\lib\\site-packages\\IPython\\core\\pylabtools.py:152: UserWarning: Glyph 45824 (\\N{HANGUL SYLLABLE DAE}) missing from current font.\n",
      "  fig.canvas.print_figure(bytes_io, **kw)\n",
      "c:\\Users\\KDP12\\anaconda3\\envs\\MY_PYTHON\\lib\\site-packages\\IPython\\core\\pylabtools.py:152: UserWarning: Glyph 51320 (\\N{HANGUL SYLLABLE JOL}) missing from current font.\n",
      "  fig.canvas.print_figure(bytes_io, **kw)\n",
      "c:\\Users\\KDP12\\anaconda3\\envs\\MY_PYTHON\\lib\\site-packages\\IPython\\core\\pylabtools.py:152: UserWarning: Glyph 51060 (\\N{HANGUL SYLLABLE I}) missing from current font.\n",
      "  fig.canvas.print_figure(bytes_io, **kw)\n",
      "c:\\Users\\KDP12\\anaconda3\\envs\\MY_PYTHON\\lib\\site-packages\\IPython\\core\\pylabtools.py:152: UserWarning: Glyph 49345 (\\N{HANGUL SYLLABLE SANG}) missing from current font.\n",
      "  fig.canvas.print_figure(bytes_io, **kw)\n",
      "c:\\Users\\KDP12\\anaconda3\\envs\\MY_PYTHON\\lib\\site-packages\\IPython\\core\\pylabtools.py:152: UserWarning: Glyph 44256 (\\N{HANGUL SYLLABLE GO}) missing from current font.\n",
      "  fig.canvas.print_figure(bytes_io, **kw)\n",
      "findfont: Font family 'KBO Dia Gothic_bold' not found.\n",
      "findfont: Font family 'KBO Dia Gothic_bold' not found.\n",
      "findfont: Font family 'KBO Dia Gothic_bold' not found.\n"
     ]
    },
    {
     "data": {
      "image/png": "[encoded data removed]",
      "text/plain": [
       "<Figure size 1000x700 with 1 Axes>"
      ]
     },
     "metadata": {},
     "output_type": "display_data"
    }
   ],
   "source": [
    "fig= plt.figure(figsize=(10,7))\n",
    "ax1 = fig.add_subplot(1,1,1)\n",
    "\n",
    "sns.barplot(x=df[\"학력\"],y=df[\"임금\"],data=df,ax=ax1)\n",
    "ax1.set_title(\"학력별 연봉\",size=20)\n",
    "ax1.set_xlabel(\"학력\",size=12)\n",
    "ax1.set_ylabel(\"연봉(만원/년)\",size=12)\n",
    "plt.show()\n"
   ]
  },
  {
   "cell_type": "code",
   "execution_count": 43,
   "metadata": {},
   "outputs": [
    {
     "name": "stderr",
     "output_type": "stream",
     "text": [
      "c:\\Users\\KDP12\\anaconda3\\envs\\MY_PYTHON\\lib\\site-packages\\IPython\\core\\pylabtools.py:152: UserWarning: Glyph 50672 (\\N{HANGUL SYLLABLE YEON}) missing from current font.\n",
      "  fig.canvas.print_figure(bytes_io, **kw)\n",
      "c:\\Users\\KDP12\\anaconda3\\envs\\MY_PYTHON\\lib\\site-packages\\IPython\\core\\pylabtools.py:152: UserWarning: Glyph 48393 (\\N{HANGUL SYLLABLE BONG}) missing from current font.\n",
      "  fig.canvas.print_figure(bytes_io, **kw)\n",
      "c:\\Users\\KDP12\\anaconda3\\envs\\MY_PYTHON\\lib\\site-packages\\IPython\\core\\pylabtools.py:152: UserWarning: Glyph 47564 (\\N{HANGUL SYLLABLE MAN}) missing from current font.\n",
      "  fig.canvas.print_figure(bytes_io, **kw)\n",
      "c:\\Users\\KDP12\\anaconda3\\envs\\MY_PYTHON\\lib\\site-packages\\IPython\\core\\pylabtools.py:152: UserWarning: Glyph 50896 (\\N{HANGUL SYLLABLE WEON}) missing from current font.\n",
      "  fig.canvas.print_figure(bytes_io, **kw)\n",
      "c:\\Users\\KDP12\\anaconda3\\envs\\MY_PYTHON\\lib\\site-packages\\IPython\\core\\pylabtools.py:152: UserWarning: Glyph 45380 (\\N{HANGUL SYLLABLE NYEON}) missing from current font.\n",
      "  fig.canvas.print_figure(bytes_io, **kw)\n",
      "findfont: Font family 'KBO Dia Gothic_bold' not found.\n",
      "findfont: Font family 'KBO Dia Gothic_bold' not found.\n",
      "c:\\Users\\KDP12\\anaconda3\\envs\\MY_PYTHON\\lib\\site-packages\\IPython\\core\\pylabtools.py:152: UserWarning: Glyph 51648 (\\N{HANGUL SYLLABLE JI}) missing from current font.\n",
      "  fig.canvas.print_figure(bytes_io, **kw)\n",
      "c:\\Users\\KDP12\\anaconda3\\envs\\MY_PYTHON\\lib\\site-packages\\IPython\\core\\pylabtools.py:152: UserWarning: Glyph 50669 (\\N{HANGUL SYLLABLE YEOG}) missing from current font.\n",
      "  fig.canvas.print_figure(bytes_io, **kw)\n",
      "c:\\Users\\KDP12\\anaconda3\\envs\\MY_PYTHON\\lib\\site-packages\\IPython\\core\\pylabtools.py:152: UserWarning: Glyph 48324 (\\N{HANGUL SYLLABLE BYEOL}) missing from current font.\n",
      "  fig.canvas.print_figure(bytes_io, **kw)\n",
      "c:\\Users\\KDP12\\anaconda3\\envs\\MY_PYTHON\\lib\\site-packages\\IPython\\core\\pylabtools.py:152: UserWarning: Glyph 44221 (\\N{HANGUL SYLLABLE GYEONG}) missing from current font.\n",
      "  fig.canvas.print_figure(bytes_io, **kw)\n",
      "c:\\Users\\KDP12\\anaconda3\\envs\\MY_PYTHON\\lib\\site-packages\\IPython\\core\\pylabtools.py:152: UserWarning: Glyph 44592 (\\N{HANGUL SYLLABLE GI}) missing from current font.\n",
      "  fig.canvas.print_figure(bytes_io, **kw)\n",
      "c:\\Users\\KDP12\\anaconda3\\envs\\MY_PYTHON\\lib\\site-packages\\IPython\\core\\pylabtools.py:152: UserWarning: Glyph 46020 (\\N{HANGUL SYLLABLE DO}) missing from current font.\n",
      "  fig.canvas.print_figure(bytes_io, **kw)\n",
      "c:\\Users\\KDP12\\anaconda3\\envs\\MY_PYTHON\\lib\\site-packages\\IPython\\core\\pylabtools.py:152: UserWarning: Glyph 45824 (\\N{HANGUL SYLLABLE DAE}) missing from current font.\n",
      "  fig.canvas.print_figure(bytes_io, **kw)\n",
      "c:\\Users\\KDP12\\anaconda3\\envs\\MY_PYTHON\\lib\\site-packages\\IPython\\core\\pylabtools.py:152: UserWarning: Glyph 44396 (\\N{HANGUL SYLLABLE GU}) missing from current font.\n",
      "  fig.canvas.print_figure(bytes_io, **kw)\n",
      "c:\\Users\\KDP12\\anaconda3\\envs\\MY_PYTHON\\lib\\site-packages\\IPython\\core\\pylabtools.py:152: UserWarning: Glyph 44305 (\\N{HANGUL SYLLABLE GWANG}) missing from current font.\n",
      "  fig.canvas.print_figure(bytes_io, **kw)\n",
      "c:\\Users\\KDP12\\anaconda3\\envs\\MY_PYTHON\\lib\\site-packages\\IPython\\core\\pylabtools.py:152: UserWarning: Glyph 49884 (\\N{HANGUL SYLLABLE SI}) missing from current font.\n",
      "  fig.canvas.print_figure(bytes_io, **kw)\n",
      "c:\\Users\\KDP12\\anaconda3\\envs\\MY_PYTHON\\lib\\site-packages\\IPython\\core\\pylabtools.py:152: UserWarning: Glyph 51204 (\\N{HANGUL SYLLABLE JEON}) missing from current font.\n",
      "  fig.canvas.print_figure(bytes_io, **kw)\n",
      "c:\\Users\\KDP12\\anaconda3\\envs\\MY_PYTHON\\lib\\site-packages\\IPython\\core\\pylabtools.py:152: UserWarning: Glyph 49345 (\\N{HANGUL SYLLABLE SANG}) missing from current font.\n",
      "  fig.canvas.print_figure(bytes_io, **kw)\n",
      "c:\\Users\\KDP12\\anaconda3\\envs\\MY_PYTHON\\lib\\site-packages\\IPython\\core\\pylabtools.py:152: UserWarning: Glyph 45224 (\\N{HANGUL SYLLABLE NAM}) missing from current font.\n",
      "  fig.canvas.print_figure(bytes_io, **kw)\n",
      "c:\\Users\\KDP12\\anaconda3\\envs\\MY_PYTHON\\lib\\site-packages\\IPython\\core\\pylabtools.py:152: UserWarning: Glyph 46972 (\\N{HANGUL SYLLABLE RA}) missing from current font.\n",
      "  fig.canvas.print_figure(bytes_io, **kw)\n",
      "c:\\Users\\KDP12\\anaconda3\\envs\\MY_PYTHON\\lib\\site-packages\\IPython\\core\\pylabtools.py:152: UserWarning: Glyph 48513 (\\N{HANGUL SYLLABLE BUG}) missing from current font.\n",
      "  fig.canvas.print_figure(bytes_io, **kw)\n",
      "c:\\Users\\KDP12\\anaconda3\\envs\\MY_PYTHON\\lib\\site-packages\\IPython\\core\\pylabtools.py:152: UserWarning: Glyph 49436 (\\N{HANGUL SYLLABLE SEO}) missing from current font.\n",
      "  fig.canvas.print_figure(bytes_io, **kw)\n",
      "c:\\Users\\KDP12\\anaconda3\\envs\\MY_PYTHON\\lib\\site-packages\\IPython\\core\\pylabtools.py:152: UserWarning: Glyph 50872 (\\N{HANGUL SYLLABLE UL}) missing from current font.\n",
      "  fig.canvas.print_figure(bytes_io, **kw)\n",
      "c:\\Users\\KDP12\\anaconda3\\envs\\MY_PYTHON\\lib\\site-packages\\IPython\\core\\pylabtools.py:152: UserWarning: Glyph 53945 (\\N{HANGUL SYLLABLE TEUG}) missing from current font.\n",
      "  fig.canvas.print_figure(bytes_io, **kw)\n",
      "c:\\Users\\KDP12\\anaconda3\\envs\\MY_PYTHON\\lib\\site-packages\\IPython\\core\\pylabtools.py:152: UserWarning: Glyph 52649 (\\N{HANGUL SYLLABLE CUNG}) missing from current font.\n",
      "  fig.canvas.print_figure(bytes_io, **kw)\n",
      "c:\\Users\\KDP12\\anaconda3\\envs\\MY_PYTHON\\lib\\site-packages\\IPython\\core\\pylabtools.py:152: UserWarning: Glyph 52397 (\\N{HANGUL SYLLABLE CEONG}) missing from current font.\n",
      "  fig.canvas.print_figure(bytes_io, **kw)\n",
      "c:\\Users\\KDP12\\anaconda3\\envs\\MY_PYTHON\\lib\\site-packages\\IPython\\core\\pylabtools.py:152: UserWarning: Glyph 51452 (\\N{HANGUL SYLLABLE JU}) missing from current font.\n",
      "  fig.canvas.print_figure(bytes_io, **kw)\n",
      "c:\\Users\\KDP12\\anaconda3\\envs\\MY_PYTHON\\lib\\site-packages\\IPython\\core\\pylabtools.py:152: UserWarning: Glyph 51064 (\\N{HANGUL SYLLABLE IN}) missing from current font.\n",
      "  fig.canvas.print_figure(bytes_io, **kw)\n",
      "c:\\Users\\KDP12\\anaconda3\\envs\\MY_PYTHON\\lib\\site-packages\\IPython\\core\\pylabtools.py:152: UserWarning: Glyph 52380 (\\N{HANGUL SYLLABLE CEON}) missing from current font.\n",
      "  fig.canvas.print_figure(bytes_io, **kw)\n",
      "c:\\Users\\KDP12\\anaconda3\\envs\\MY_PYTHON\\lib\\site-packages\\IPython\\core\\pylabtools.py:152: UserWarning: Glyph 48512 (\\N{HANGUL SYLLABLE BU}) missing from current font.\n",
      "  fig.canvas.print_figure(bytes_io, **kw)\n",
      "c:\\Users\\KDP12\\anaconda3\\envs\\MY_PYTHON\\lib\\site-packages\\IPython\\core\\pylabtools.py:152: UserWarning: Glyph 49328 (\\N{HANGUL SYLLABLE SAN}) missing from current font.\n",
      "  fig.canvas.print_figure(bytes_io, **kw)\n",
      "c:\\Users\\KDP12\\anaconda3\\envs\\MY_PYTHON\\lib\\site-packages\\IPython\\core\\pylabtools.py:152: UserWarning: Glyph 49464 (\\N{HANGUL SYLLABLE SE}) missing from current font.\n",
      "  fig.canvas.print_figure(bytes_io, **kw)\n",
      "c:\\Users\\KDP12\\anaconda3\\envs\\MY_PYTHON\\lib\\site-packages\\IPython\\core\\pylabtools.py:152: UserWarning: Glyph 51333 (\\N{HANGUL SYLLABLE JONG}) missing from current font.\n",
      "  fig.canvas.print_figure(bytes_io, **kw)\n",
      "c:\\Users\\KDP12\\anaconda3\\envs\\MY_PYTHON\\lib\\site-packages\\IPython\\core\\pylabtools.py:152: UserWarning: Glyph 51088 (\\N{HANGUL SYLLABLE JA}) missing from current font.\n",
      "  fig.canvas.print_figure(bytes_io, **kw)\n",
      "c:\\Users\\KDP12\\anaconda3\\envs\\MY_PYTHON\\lib\\site-packages\\IPython\\core\\pylabtools.py:152: UserWarning: Glyph 52824 (\\N{HANGUL SYLLABLE CI}) missing from current font.\n",
      "  fig.canvas.print_figure(bytes_io, **kw)\n",
      "findfont: Font family 'KBO Dia Gothic_bold' not found.\n",
      "findfont: Font family 'KBO Dia Gothic_bold' not found.\n",
      "findfont: Font family 'KBO Dia Gothic_bold' not found.\n"
     ]
    },
    {
     "data": {
      "image/png": "[encoded data removed]",
      "text/plain": [
       "<Figure size 1000x700 with 1 Axes>"
      ]
     },
     "metadata": {},
     "output_type": "display_data"
    }
   ],
   "source": [
    "fig= plt.figure(figsize=(10,7))\n",
    "ax1 = fig.add_subplot(1,1,1)\n",
    "\n",
    "sns.barplot(x=df[\"지역\"],y=df[\"임금\"],data=df,ax=ax1)\n",
    "ax1.set_title(\"지역별 연봉\",size=20)\n",
    "ax1.set_xlabel(\"지역\",size=12)\n",
    "ax1.set_ylabel(\"연봉(만원/년)\",size=12)\n",
    "plt.xticks(rotation=45)\n",
    "\n",
    "plt.show()"
   ]
  },
  {
   "cell_type": "code",
   "execution_count": 44,
   "metadata": {},
   "outputs": [
    {
     "name": "stderr",
     "output_type": "stream",
     "text": [
      "c:\\Users\\KDP12\\anaconda3\\envs\\MY_PYTHON\\lib\\site-packages\\IPython\\core\\pylabtools.py:152: UserWarning: Glyph 50672 (\\N{HANGUL SYLLABLE YEON}) missing from current font.\n",
      "  fig.canvas.print_figure(bytes_io, **kw)\n",
      "c:\\Users\\KDP12\\anaconda3\\envs\\MY_PYTHON\\lib\\site-packages\\IPython\\core\\pylabtools.py:152: UserWarning: Glyph 47588 (\\N{HANGUL SYLLABLE MAE}) missing from current font.\n",
      "  fig.canvas.print_figure(bytes_io, **kw)\n",
      "c:\\Users\\KDP12\\anaconda3\\envs\\MY_PYTHON\\lib\\site-packages\\IPython\\core\\pylabtools.py:152: UserWarning: Glyph 52636 (\\N{HANGUL SYLLABLE CUL}) missing from current font.\n",
      "  fig.canvas.print_figure(bytes_io, **kw)\n",
      "c:\\Users\\KDP12\\anaconda3\\envs\\MY_PYTHON\\lib\\site-packages\\IPython\\core\\pylabtools.py:152: UserWarning: Glyph 50529 (\\N{HANGUL SYLLABLE AEG}) missing from current font.\n",
      "  fig.canvas.print_figure(bytes_io, **kw)\n",
      "c:\\Users\\KDP12\\anaconda3\\envs\\MY_PYTHON\\lib\\site-packages\\IPython\\core\\pylabtools.py:152: UserWarning: Glyph 48177 (\\N{HANGUL SYLLABLE BAEG}) missing from current font.\n",
      "  fig.canvas.print_figure(bytes_io, **kw)\n",
      "c:\\Users\\KDP12\\anaconda3\\envs\\MY_PYTHON\\lib\\site-packages\\IPython\\core\\pylabtools.py:152: UserWarning: Glyph 47564 (\\N{HANGUL SYLLABLE MAN}) missing from current font.\n",
      "  fig.canvas.print_figure(bytes_io, **kw)\n",
      "c:\\Users\\KDP12\\anaconda3\\envs\\MY_PYTHON\\lib\\site-packages\\IPython\\core\\pylabtools.py:152: UserWarning: Glyph 50896 (\\N{HANGUL SYLLABLE WEON}) missing from current font.\n",
      "  fig.canvas.print_figure(bytes_io, **kw)\n",
      "c:\\Users\\KDP12\\anaconda3\\envs\\MY_PYTHON\\lib\\site-packages\\IPython\\core\\pylabtools.py:152: UserWarning: Glyph 45380 (\\N{HANGUL SYLLABLE NYEON}) missing from current font.\n",
      "  fig.canvas.print_figure(bytes_io, **kw)\n",
      "findfont: Font family 'KBO Dia Gothic_bold' not found.\n",
      "findfont: Font family 'KBO Dia Gothic_bold' not found.\n",
      "c:\\Users\\KDP12\\anaconda3\\envs\\MY_PYTHON\\lib\\site-packages\\IPython\\core\\pylabtools.py:152: UserWarning: Glyph 44592 (\\N{HANGUL SYLLABLE GI}) missing from current font.\n",
      "  fig.canvas.print_figure(bytes_io, **kw)\n",
      "c:\\Users\\KDP12\\anaconda3\\envs\\MY_PYTHON\\lib\\site-packages\\IPython\\core\\pylabtools.py:152: UserWarning: Glyph 50629 (\\N{HANGUL SYLLABLE EOB}) missing from current font.\n",
      "  fig.canvas.print_figure(bytes_io, **kw)\n",
      "c:\\Users\\KDP12\\anaconda3\\envs\\MY_PYTHON\\lib\\site-packages\\IPython\\core\\pylabtools.py:152: UserWarning: Glyph 48324 (\\N{HANGUL SYLLABLE BYEOL}) missing from current font.\n",
      "  fig.canvas.print_figure(bytes_io, **kw)\n",
      "c:\\Users\\KDP12\\anaconda3\\envs\\MY_PYTHON\\lib\\site-packages\\IPython\\core\\pylabtools.py:152: UserWarning: Glyph 51228 (\\N{HANGUL SYLLABLE JE}) missing from current font.\n",
      "  fig.canvas.print_figure(bytes_io, **kw)\n",
      "c:\\Users\\KDP12\\anaconda3\\envs\\MY_PYTHON\\lib\\site-packages\\IPython\\core\\pylabtools.py:152: UserWarning: Glyph 51060 (\\N{HANGUL SYLLABLE I}) missing from current font.\n",
      "  fig.canvas.print_figure(bytes_io, **kw)\n",
      "c:\\Users\\KDP12\\anaconda3\\envs\\MY_PYTHON\\lib\\site-packages\\IPython\\core\\pylabtools.py:152: UserWarning: Glyph 50656 (\\N{HANGUL SYLLABLE EM}) missing from current font.\n",
      "  fig.canvas.print_figure(bytes_io, **kw)\n",
      "c:\\Users\\KDP12\\anaconda3\\envs\\MY_PYTHON\\lib\\site-packages\\IPython\\core\\pylabtools.py:152: UserWarning: Glyph 49548 (\\N{HANGUL SYLLABLE SO}) missing from current font.\n",
      "  fig.canvas.print_figure(bytes_io, **kw)\n",
      "c:\\Users\\KDP12\\anaconda3\\envs\\MY_PYTHON\\lib\\site-packages\\IPython\\core\\pylabtools.py:152: UserWarning: Glyph 54532 (\\N{HANGUL SYLLABLE PEU}) missing from current font.\n",
      "  fig.canvas.print_figure(bytes_io, **kw)\n",
      "c:\\Users\\KDP12\\anaconda3\\envs\\MY_PYTHON\\lib\\site-packages\\IPython\\core\\pylabtools.py:152: UserWarning: Glyph 53944 (\\N{HANGUL SYLLABLE TEU}) missing from current font.\n",
      "  fig.canvas.print_figure(bytes_io, **kw)\n",
      "c:\\Users\\KDP12\\anaconda3\\envs\\MY_PYTHON\\lib\\site-packages\\IPython\\core\\pylabtools.py:152: UserWarning: Glyph 50500 (\\N{HANGUL SYLLABLE A}) missing from current font.\n",
      "  fig.canvas.print_figure(bytes_io, **kw)\n",
      "c:\\Users\\KDP12\\anaconda3\\envs\\MY_PYTHON\\lib\\site-packages\\IPython\\core\\pylabtools.py:152: UserWarning: Glyph 50644 (\\N{HANGUL SYLLABLE EN}) missing from current font.\n",
      "  fig.canvas.print_figure(bytes_io, **kw)\n",
      "c:\\Users\\KDP12\\anaconda3\\envs\\MY_PYTHON\\lib\\site-packages\\IPython\\core\\pylabtools.py:152: UserWarning: Glyph 50472 (\\N{HANGUL SYLLABLE SSI}) missing from current font.\n",
      "  fig.canvas.print_figure(bytes_io, **kw)\n",
      "c:\\Users\\KDP12\\anaconda3\\envs\\MY_PYTHON\\lib\\site-packages\\IPython\\core\\pylabtools.py:152: UserWarning: Glyph 50948 (\\N{HANGUL SYLLABLE WI}) missing from current font.\n",
      "  fig.canvas.print_figure(bytes_io, **kw)\n",
      "c:\\Users\\KDP12\\anaconda3\\envs\\MY_PYTHON\\lib\\site-packages\\IPython\\core\\pylabtools.py:152: UserWarning: Glyph 51200 (\\N{HANGUL SYLLABLE JEO}) missing from current font.\n",
      "  fig.canvas.print_figure(bytes_io, **kw)\n",
      "c:\\Users\\KDP12\\anaconda3\\envs\\MY_PYTHON\\lib\\site-packages\\IPython\\core\\pylabtools.py:152: UserWarning: Glyph 46300 (\\N{HANGUL SYLLABLE DEU}) missing from current font.\n",
      "  fig.canvas.print_figure(bytes_io, **kw)\n",
      "c:\\Users\\KDP12\\anaconda3\\envs\\MY_PYTHON\\lib\\site-packages\\IPython\\core\\pylabtools.py:152: UserWarning: Glyph 51221 (\\N{HANGUL SYLLABLE JEONG}) missing from current font.\n",
      "  fig.canvas.print_figure(bytes_io, **kw)\n",
      "c:\\Users\\KDP12\\anaconda3\\envs\\MY_PYTHON\\lib\\site-packages\\IPython\\core\\pylabtools.py:152: UserWarning: Glyph 48372 (\\N{HANGUL SYLLABLE BO}) missing from current font.\n",
      "  fig.canvas.print_figure(bytes_io, **kw)\n",
      "c:\\Users\\KDP12\\anaconda3\\envs\\MY_PYTHON\\lib\\site-packages\\IPython\\core\\pylabtools.py:152: UserWarning: Glyph 49884 (\\N{HANGUL SYLLABLE SI}) missing from current font.\n",
      "  fig.canvas.print_figure(bytes_io, **kw)\n",
      "c:\\Users\\KDP12\\anaconda3\\envs\\MY_PYTHON\\lib\\site-packages\\IPython\\core\\pylabtools.py:152: UserWarning: Glyph 49828 (\\N{HANGUL SYLLABLE SEU}) missing from current font.\n",
      "  fig.canvas.print_figure(bytes_io, **kw)\n",
      "c:\\Users\\KDP12\\anaconda3\\envs\\MY_PYTHON\\lib\\site-packages\\IPython\\core\\pylabtools.py:152: UserWarning: Glyph 53596 (\\N{HANGUL SYLLABLE TEM}) missing from current font.\n",
      "  fig.canvas.print_figure(bytes_io, **kw)\n",
      "c:\\Users\\KDP12\\anaconda3\\envs\\MY_PYTHON\\lib\\site-packages\\IPython\\core\\pylabtools.py:152: UserWarning: Glyph 49464 (\\N{HANGUL SYLLABLE SE}) missing from current font.\n",
      "  fig.canvas.print_figure(bytes_io, **kw)\n",
      "c:\\Users\\KDP12\\anaconda3\\envs\\MY_PYTHON\\lib\\site-packages\\IPython\\core\\pylabtools.py:152: UserWarning: Glyph 51648 (\\N{HANGUL SYLLABLE JI}) missing from current font.\n",
      "  fig.canvas.print_figure(bytes_io, **kw)\n",
      "c:\\Users\\KDP12\\anaconda3\\envs\\MY_PYTHON\\lib\\site-packages\\IPython\\core\\pylabtools.py:152: UserWarning: Glyph 45768 (\\N{HANGUL SYLLABLE NI}) missing from current font.\n",
      "  fig.canvas.print_figure(bytes_io, **kw)\n",
      "c:\\Users\\KDP12\\anaconda3\\envs\\MY_PYTHON\\lib\\site-packages\\IPython\\core\\pylabtools.py:152: UserWarning: Glyph 53580 (\\N{HANGUL SYLLABLE TE}) missing from current font.\n",
      "  fig.canvas.print_figure(bytes_io, **kw)\n",
      "c:\\Users\\KDP12\\anaconda3\\envs\\MY_PYTHON\\lib\\site-packages\\IPython\\core\\pylabtools.py:152: UserWarning: Glyph 53356 (\\N{HANGUL SYLLABLE KEU}) missing from current font.\n",
      "  fig.canvas.print_figure(bytes_io, **kw)\n",
      "c:\\Users\\KDP12\\anaconda3\\envs\\MY_PYTHON\\lib\\site-packages\\IPython\\core\\pylabtools.py:152: UserWarning: Glyph 51204 (\\N{HANGUL SYLLABLE JEON}) missing from current font.\n",
      "  fig.canvas.print_figure(bytes_io, **kw)\n",
      "c:\\Users\\KDP12\\anaconda3\\envs\\MY_PYTHON\\lib\\site-packages\\IPython\\core\\pylabtools.py:152: UserWarning: Glyph 48513 (\\N{HANGUL SYLLABLE BUG}) missing from current font.\n",
      "  fig.canvas.print_figure(bytes_io, **kw)\n",
      "c:\\Users\\KDP12\\anaconda3\\envs\\MY_PYTHON\\lib\\site-packages\\IPython\\core\\pylabtools.py:152: UserWarning: Glyph 44284 (\\N{HANGUL SYLLABLE GWA}) missing from current font.\n",
      "  fig.canvas.print_figure(bytes_io, **kw)\n",
      "c:\\Users\\KDP12\\anaconda3\\envs\\MY_PYTHON\\lib\\site-packages\\IPython\\core\\pylabtools.py:152: UserWarning: Glyph 54617 (\\N{HANGUL SYLLABLE HAG}) missing from current font.\n",
      "  fig.canvas.print_figure(bytes_io, **kw)\n",
      "c:\\Users\\KDP12\\anaconda3\\envs\\MY_PYTHON\\lib\\site-packages\\IPython\\core\\pylabtools.py:152: UserWarning: Glyph 45824 (\\N{HANGUL SYLLABLE DAE}) missing from current font.\n",
      "  fig.canvas.print_figure(bytes_io, **kw)\n",
      "c:\\Users\\KDP12\\anaconda3\\envs\\MY_PYTHON\\lib\\site-packages\\IPython\\core\\pylabtools.py:152: UserWarning: Glyph 49328 (\\N{HANGUL SYLLABLE SAN}) missing from current font.\n",
      "  fig.canvas.print_figure(bytes_io, **kw)\n",
      "c:\\Users\\KDP12\\anaconda3\\envs\\MY_PYTHON\\lib\\site-packages\\IPython\\core\\pylabtools.py:152: UserWarning: Glyph 54801 (\\N{HANGUL SYLLABLE HYEOB}) missing from current font.\n",
      "  fig.canvas.print_figure(bytes_io, **kw)\n",
      "c:\\Users\\KDP12\\anaconda3\\envs\\MY_PYTHON\\lib\\site-packages\\IPython\\core\\pylabtools.py:152: UserWarning: Glyph 47141 (\\N{HANGUL SYLLABLE RYEOG}) missing from current font.\n",
      "  fig.canvas.print_figure(bytes_io, **kw)\n",
      "c:\\Users\\KDP12\\anaconda3\\envs\\MY_PYTHON\\lib\\site-packages\\IPython\\core\\pylabtools.py:152: UserWarning: Glyph 45800 (\\N{HANGUL SYLLABLE DAN}) missing from current font.\n",
      "  fig.canvas.print_figure(bytes_io, **kw)\n",
      "c:\\Users\\KDP12\\anaconda3\\envs\\MY_PYTHON\\lib\\site-packages\\IPython\\core\\pylabtools.py:152: UserWarning: Glyph 48512 (\\N{HANGUL SYLLABLE BU}) missing from current font.\n",
      "  fig.canvas.print_figure(bytes_io, **kw)\n",
      "c:\\Users\\KDP12\\anaconda3\\envs\\MY_PYTHON\\lib\\site-packages\\IPython\\core\\pylabtools.py:152: UserWarning: Glyph 54408 (\\N{HANGUL SYLLABLE PUM}) missing from current font.\n",
      "  fig.canvas.print_figure(bytes_io, **kw)\n",
      "c:\\Users\\KDP12\\anaconda3\\envs\\MY_PYTHON\\lib\\site-packages\\IPython\\core\\pylabtools.py:152: UserWarning: Glyph 46356 (\\N{HANGUL SYLLABLE DI}) missing from current font.\n",
      "  fig.canvas.print_figure(bytes_io, **kw)\n",
      "c:\\Users\\KDP12\\anaconda3\\envs\\MY_PYTHON\\lib\\site-packages\\IPython\\core\\pylabtools.py:152: UserWarning: Glyph 48708 (\\N{HANGUL SYLLABLE BI}) missing from current font.\n",
      "  fig.canvas.print_figure(bytes_io, **kw)\n",
      "c:\\Users\\KDP12\\anaconda3\\envs\\MY_PYTHON\\lib\\site-packages\\IPython\\core\\pylabtools.py:152: UserWarning: Glyph 48148 (\\N{HANGUL SYLLABLE BA}) missing from current font.\n",
      "  fig.canvas.print_figure(bytes_io, **kw)\n",
      "c:\\Users\\KDP12\\anaconda3\\envs\\MY_PYTHON\\lib\\site-packages\\IPython\\core\\pylabtools.py:152: UserWarning: Glyph 51088 (\\N{HANGUL SYLLABLE JA}) missing from current font.\n",
      "  fig.canvas.print_figure(bytes_io, **kw)\n",
      "c:\\Users\\KDP12\\anaconda3\\envs\\MY_PYTHON\\lib\\site-packages\\IPython\\core\\pylabtools.py:152: UserWarning: Glyph 50872 (\\N{HANGUL SYLLABLE UL}) missing from current font.\n",
      "  fig.canvas.print_figure(bytes_io, **kw)\n",
      "c:\\Users\\KDP12\\anaconda3\\envs\\MY_PYTHON\\lib\\site-packages\\IPython\\core\\pylabtools.py:152: UserWarning: Glyph 49696 (\\N{HANGUL SYLLABLE SUL}) missing from current font.\n",
      "  fig.canvas.print_figure(bytes_io, **kw)\n",
      "c:\\Users\\KDP12\\anaconda3\\envs\\MY_PYTHON\\lib\\site-packages\\IPython\\core\\pylabtools.py:152: UserWarning: Glyph 51008 (\\N{HANGUL SYLLABLE EUN}) missing from current font.\n",
      "  fig.canvas.print_figure(bytes_io, **kw)\n",
      "c:\\Users\\KDP12\\anaconda3\\envs\\MY_PYTHON\\lib\\site-packages\\IPython\\core\\pylabtools.py:152: UserWarning: Glyph 50864 (\\N{HANGUL SYLLABLE U}) missing from current font.\n",
      "  fig.canvas.print_figure(bytes_io, **kw)\n",
      "c:\\Users\\KDP12\\anaconda3\\envs\\MY_PYTHON\\lib\\site-packages\\IPython\\core\\pylabtools.py:152: UserWarning: Glyph 47700 (\\N{HANGUL SYLLABLE ME}) missing from current font.\n",
      "  fig.canvas.print_figure(bytes_io, **kw)\n",
      "c:\\Users\\KDP12\\anaconda3\\envs\\MY_PYTHON\\lib\\site-packages\\IPython\\core\\pylabtools.py:152: UserWarning: Glyph 44032 (\\N{HANGUL SYLLABLE GA}) missing from current font.\n",
      "  fig.canvas.print_figure(bytes_io, **kw)\n",
      "c:\\Users\\KDP12\\anaconda3\\envs\\MY_PYTHON\\lib\\site-packages\\IPython\\core\\pylabtools.py:152: UserWarning: Glyph 53804 (\\N{HANGUL SYLLABLE TU}) missing from current font.\n",
      "  fig.canvas.print_figure(bytes_io, **kw)\n",
      "c:\\Users\\KDP12\\anaconda3\\envs\\MY_PYTHON\\lib\\site-packages\\IPython\\core\\pylabtools.py:152: UserWarning: Glyph 50952 (\\N{HANGUL SYLLABLE WIN}) missing from current font.\n",
      "  fig.canvas.print_figure(bytes_io, **kw)\n",
      "c:\\Users\\KDP12\\anaconda3\\envs\\MY_PYTHON\\lib\\site-packages\\IPython\\core\\pylabtools.py:152: UserWarning: Glyph 54540 (\\N{HANGUL SYLLABLE PEUL}) missing from current font.\n",
      "  fig.canvas.print_figure(bytes_io, **kw)\n",
      "c:\\Users\\KDP12\\anaconda3\\envs\\MY_PYTHON\\lib\\site-packages\\IPython\\core\\pylabtools.py:152: UserWarning: Glyph 47084 (\\N{HANGUL SYLLABLE REO}) missing from current font.\n",
      "  fig.canvas.print_figure(bytes_io, **kw)\n",
      "c:\\Users\\KDP12\\anaconda3\\envs\\MY_PYTHON\\lib\\site-packages\\IPython\\core\\pylabtools.py:152: UserWarning: Glyph 47553 (\\N{HANGUL SYLLABLE RING}) missing from current font.\n",
      "  fig.canvas.print_figure(bytes_io, **kw)\n",
      "c:\\Users\\KDP12\\anaconda3\\envs\\MY_PYTHON\\lib\\site-packages\\IPython\\core\\pylabtools.py:152: UserWarning: Glyph 52896 (\\N{HANGUL SYLLABLE KAEM}) missing from current font.\n",
      "  fig.canvas.print_figure(bytes_io, **kw)\n",
      "c:\\Users\\KDP12\\anaconda3\\envs\\MY_PYTHON\\lib\\site-packages\\IPython\\core\\pylabtools.py:152: UserWarning: Glyph 54140 (\\N{HANGUL SYLLABLE PEO}) missing from current font.\n",
      "  fig.canvas.print_figure(bytes_io, **kw)\n",
      "c:\\Users\\KDP12\\anaconda3\\envs\\MY_PYTHON\\lib\\site-packages\\IPython\\core\\pylabtools.py:152: UserWarning: Glyph 53812 (\\N{HANGUL SYLLABLE TUL}) missing from current font.\n",
      "  fig.canvas.print_figure(bytes_io, **kw)\n",
      "c:\\Users\\KDP12\\anaconda3\\envs\\MY_PYTHON\\lib\\site-packages\\IPython\\core\\pylabtools.py:152: UserWarning: Glyph 50508 (\\N{HANGUL SYLLABLE AL}) missing from current font.\n",
      "  fig.canvas.print_figure(bytes_io, **kw)\n",
      "c:\\Users\\KDP12\\anaconda3\\envs\\MY_PYTHON\\lib\\site-packages\\IPython\\core\\pylabtools.py:152: UserWarning: Glyph 50724 (\\N{HANGUL SYLLABLE O}) missing from current font.\n",
      "  fig.canvas.print_figure(bytes_io, **kw)\n",
      "c:\\Users\\KDP12\\anaconda3\\envs\\MY_PYTHON\\lib\\site-packages\\IPython\\core\\pylabtools.py:152: UserWarning: Glyph 54000 (\\N{HANGUL SYLLABLE TI}) missing from current font.\n",
      "  fig.canvas.print_figure(bytes_io, **kw)\n",
      "c:\\Users\\KDP12\\anaconda3\\envs\\MY_PYTHON\\lib\\site-packages\\IPython\\core\\pylabtools.py:152: UserWarning: Glyph 46160 (\\N{HANGUL SYLLABLE DU}) missing from current font.\n",
      "  fig.canvas.print_figure(bytes_io, **kw)\n",
      "c:\\Users\\KDP12\\anaconda3\\envs\\MY_PYTHON\\lib\\site-packages\\IPython\\core\\pylabtools.py:152: UserWarning: Glyph 54788 (\\N{HANGUL SYLLABLE HYEON}) missing from current font.\n",
      "  fig.canvas.print_figure(bytes_io, **kw)\n",
      "c:\\Users\\KDP12\\anaconda3\\envs\\MY_PYTHON\\lib\\site-packages\\IPython\\core\\pylabtools.py:152: UserWarning: Glyph 46041 (\\N{HANGUL SYLLABLE DONG}) missing from current font.\n",
      "  fig.canvas.print_figure(bytes_io, **kw)\n",
      "c:\\Users\\KDP12\\anaconda3\\envs\\MY_PYTHON\\lib\\site-packages\\IPython\\core\\pylabtools.py:152: UserWarning: Glyph 50689 (\\N{HANGUL SYLLABLE YEONG}) missing from current font.\n",
      "  fig.canvas.print_figure(bytes_io, **kw)\n",
      "c:\\Users\\KDP12\\anaconda3\\envs\\MY_PYTHON\\lib\\site-packages\\IPython\\core\\pylabtools.py:152: UserWarning: Glyph 48120 (\\N{HANGUL SYLLABLE MI}) missing from current font.\n",
      "  fig.canvas.print_figure(bytes_io, **kw)\n",
      "c:\\Users\\KDP12\\anaconda3\\envs\\MY_PYTHON\\lib\\site-packages\\IPython\\core\\pylabtools.py:152: UserWarning: Glyph 49457 (\\N{HANGUL SYLLABLE SEONG}) missing from current font.\n",
      "  fig.canvas.print_figure(bytes_io, **kw)\n",
      "c:\\Users\\KDP12\\anaconda3\\envs\\MY_PYTHON\\lib\\site-packages\\IPython\\core\\pylabtools.py:152: UserWarning: Glyph 50612 (\\N{HANGUL SYLLABLE EO}) missing from current font.\n",
      "  fig.canvas.print_figure(bytes_io, **kw)\n",
      "c:\\Users\\KDP12\\anaconda3\\envs\\MY_PYTHON\\lib\\site-packages\\IPython\\core\\pylabtools.py:152: UserWarning: Glyph 47672 (\\N{HANGUL SYLLABLE MEO}) missing from current font.\n",
      "  fig.canvas.print_figure(bytes_io, **kw)\n",
      "c:\\Users\\KDP12\\anaconda3\\envs\\MY_PYTHON\\lib\\site-packages\\IPython\\core\\pylabtools.py:152: UserWarning: Glyph 50640 (\\N{HANGUL SYLLABLE E}) missing from current font.\n",
      "  fig.canvas.print_figure(bytes_io, **kw)\n",
      "c:\\Users\\KDP12\\anaconda3\\envs\\MY_PYTHON\\lib\\site-packages\\IPython\\core\\pylabtools.py:152: UserWarning: Glyph 52992 (\\N{HANGUL SYLLABLE KE}) missing from current font.\n",
      "  fig.canvas.print_figure(bytes_io, **kw)\n",
      "c:\\Users\\KDP12\\anaconda3\\envs\\MY_PYTHON\\lib\\site-packages\\IPython\\core\\pylabtools.py:152: UserWarning: Glyph 44536 (\\N{HANGUL SYLLABLE GEU}) missing from current font.\n",
      "  fig.canvas.print_figure(bytes_io, **kw)\n",
      "c:\\Users\\KDP12\\anaconda3\\envs\\MY_PYTHON\\lib\\site-packages\\IPython\\core\\pylabtools.py:152: UserWarning: Glyph 46976 (\\N{HANGUL SYLLABLE RAN}) missing from current font.\n",
      "  fig.canvas.print_figure(bytes_io, **kw)\n",
      "c:\\Users\\KDP12\\anaconda3\\envs\\MY_PYTHON\\lib\\site-packages\\IPython\\core\\pylabtools.py:152: UserWarning: Glyph 50616 (\\N{HANGUL SYLLABLE EON}) missing from current font.\n",
      "  fig.canvas.print_figure(bytes_io, **kw)\n",
      "c:\\Users\\KDP12\\anaconda3\\envs\\MY_PYTHON\\lib\\site-packages\\IPython\\core\\pylabtools.py:152: UserWarning: Glyph 47200 (\\N{HANGUL SYLLABLE RON}) missing from current font.\n",
      "  fig.canvas.print_figure(bytes_io, **kw)\n",
      "c:\\Users\\KDP12\\anaconda3\\envs\\MY_PYTHON\\lib\\site-packages\\IPython\\core\\pylabtools.py:152: UserWarning: Glyph 51473 (\\N{HANGUL SYLLABLE JUNG}) missing from current font.\n",
      "  fig.canvas.print_figure(bytes_io, **kw)\n",
      "c:\\Users\\KDP12\\anaconda3\\envs\\MY_PYTHON\\lib\\site-packages\\IPython\\core\\pylabtools.py:152: UserWarning: Glyph 51116 (\\N{HANGUL SYLLABLE JAE}) missing from current font.\n",
      "  fig.canvas.print_figure(bytes_io, **kw)\n",
      "c:\\Users\\KDP12\\anaconda3\\envs\\MY_PYTHON\\lib\\site-packages\\IPython\\core\\pylabtools.py:152: UserWarning: Glyph 54924 (\\N{HANGUL SYLLABLE HOE}) missing from current font.\n",
      "  fig.canvas.print_figure(bytes_io, **kw)\n",
      "c:\\Users\\KDP12\\anaconda3\\envs\\MY_PYTHON\\lib\\site-packages\\IPython\\core\\pylabtools.py:152: UserWarning: Glyph 53440 (\\N{HANGUL SYLLABLE TA}) missing from current font.\n",
      "  fig.canvas.print_figure(bytes_io, **kw)\n",
      "c:\\Users\\KDP12\\anaconda3\\envs\\MY_PYTHON\\lib\\site-packages\\IPython\\core\\pylabtools.py:152: UserWarning: Glyph 47532 (\\N{HANGUL SYLLABLE RI}) missing from current font.\n",
      "  fig.canvas.print_figure(bytes_io, **kw)\n",
      "c:\\Users\\KDP12\\anaconda3\\envs\\MY_PYTHON\\lib\\site-packages\\IPython\\core\\pylabtools.py:152: UserWarning: Glyph 45320 (\\N{HANGUL SYLLABLE NEO}) missing from current font.\n",
      "  fig.canvas.print_figure(bytes_io, **kw)\n",
      "c:\\Users\\KDP12\\anaconda3\\envs\\MY_PYTHON\\lib\\site-packages\\IPython\\core\\pylabtools.py:152: UserWarning: Glyph 49556 (\\N{HANGUL SYLLABLE SOL}) missing from current font.\n",
      "  fig.canvas.print_figure(bytes_io, **kw)\n",
      "c:\\Users\\KDP12\\anaconda3\\envs\\MY_PYTHON\\lib\\site-packages\\IPython\\core\\pylabtools.py:152: UserWarning: Glyph 53581 (\\N{HANGUL SYLLABLE TEG}) missing from current font.\n",
      "  fig.canvas.print_figure(bytes_io, **kw)\n",
      "c:\\Users\\KDP12\\anaconda3\\envs\\MY_PYTHON\\lib\\site-packages\\IPython\\core\\pylabtools.py:152: UserWarning: Glyph 49472 (\\N{HANGUL SYLLABLE SEL}) missing from current font.\n",
      "  fig.canvas.print_figure(bytes_io, **kw)\n",
      "c:\\Users\\KDP12\\anaconda3\\envs\\MY_PYTHON\\lib\\site-packages\\IPython\\core\\pylabtools.py:152: UserWarning: Glyph 49496 (\\N{HANGUL SYLLABLE SYEON}) missing from current font.\n",
      "  fig.canvas.print_figure(bytes_io, **kw)\n",
      "c:\\Users\\KDP12\\anaconda3\\envs\\MY_PYTHON\\lib\\site-packages\\IPython\\core\\pylabtools.py:152: UserWarning: Glyph 53468 (\\N{HANGUL SYLLABLE TAE}) missing from current font.\n",
      "  fig.canvas.print_figure(bytes_io, **kw)\n",
      "c:\\Users\\KDP12\\anaconda3\\envs\\MY_PYTHON\\lib\\site-packages\\IPython\\core\\pylabtools.py:152: UserWarning: Glyph 44053 (\\N{HANGUL SYLLABLE GANG}) missing from current font.\n",
      "  fig.canvas.print_figure(bytes_io, **kw)\n",
      "c:\\Users\\KDP12\\anaconda3\\envs\\MY_PYTHON\\lib\\site-packages\\IPython\\core\\pylabtools.py:152: UserWarning: Glyph 49704 (\\N{HANGUL SYLLABLE SUM}) missing from current font.\n",
      "  fig.canvas.print_figure(bytes_io, **kw)\n",
      "c:\\Users\\KDP12\\anaconda3\\envs\\MY_PYTHON\\lib\\site-packages\\IPython\\core\\pylabtools.py:152: UserWarning: Glyph 51312 (\\N{HANGUL SYLLABLE JO}) missing from current font.\n",
      "  fig.canvas.print_figure(bytes_io, **kw)\n",
      "c:\\Users\\KDP12\\anaconda3\\envs\\MY_PYTHON\\lib\\site-packages\\IPython\\core\\pylabtools.py:152: UserWarning: Glyph 54633 (\\N{HANGUL SYLLABLE HAB}) missing from current font.\n",
      "  fig.canvas.print_figure(bytes_io, **kw)\n",
      "c:\\Users\\KDP12\\anaconda3\\envs\\MY_PYTHON\\lib\\site-packages\\IPython\\core\\pylabtools.py:152: UserWarning: Glyph 48277 (\\N{HANGUL SYLLABLE BEOB}) missing from current font.\n",
      "  fig.canvas.print_figure(bytes_io, **kw)\n",
      "c:\\Users\\KDP12\\anaconda3\\envs\\MY_PYTHON\\lib\\site-packages\\IPython\\core\\pylabtools.py:152: UserWarning: Glyph 51064 (\\N{HANGUL SYLLABLE IN}) missing from current font.\n",
      "  fig.canvas.print_figure(bytes_io, **kw)\n",
      "c:\\Users\\KDP12\\anaconda3\\envs\\MY_PYTHON\\lib\\site-packages\\IPython\\core\\pylabtools.py:152: UserWarning: Glyph 45796 (\\N{HANGUL SYLLABLE DA}) missing from current font.\n",
      "  fig.canvas.print_figure(bytes_io, **kw)\n",
      "c:\\Users\\KDP12\\anaconda3\\envs\\MY_PYTHON\\lib\\site-packages\\IPython\\core\\pylabtools.py:152: UserWarning: Glyph 47579 (\\N{HANGUL SYLLABLE MAS}) missing from current font.\n",
      "  fig.canvas.print_figure(bytes_io, **kw)\n",
      "c:\\Users\\KDP12\\anaconda3\\envs\\MY_PYTHON\\lib\\site-packages\\IPython\\core\\pylabtools.py:152: UserWarning: Glyph 44544 (\\N{HANGUL SYLLABLE GEUL}) missing from current font.\n",
      "  fig.canvas.print_figure(bytes_io, **kw)\n",
      "c:\\Users\\KDP12\\anaconda3\\envs\\MY_PYTHON\\lib\\site-packages\\IPython\\core\\pylabtools.py:152: UserWarning: Glyph 54588 (\\N{HANGUL SYLLABLE PI}) missing from current font.\n",
      "  fig.canvas.print_figure(bytes_io, **kw)\n",
      "c:\\Users\\KDP12\\anaconda3\\envs\\MY_PYTHON\\lib\\site-packages\\IPython\\core\\pylabtools.py:152: UserWarning: Glyph 54616 (\\N{HANGUL SYLLABLE HA}) missing from current font.\n",
      "  fig.canvas.print_figure(bytes_io, **kw)\n",
      "c:\\Users\\KDP12\\anaconda3\\envs\\MY_PYTHON\\lib\\site-packages\\IPython\\core\\pylabtools.py:152: UserWarning: Glyph 45367 (\\N{HANGUL SYLLABLE NES}) missing from current font.\n",
      "  fig.canvas.print_figure(bytes_io, **kw)\n",
      "c:\\Users\\KDP12\\anaconda3\\envs\\MY_PYTHON\\lib\\site-packages\\IPython\\core\\pylabtools.py:152: UserWarning: Glyph 52860 (\\N{HANGUL SYLLABLE KAL}) missing from current font.\n",
      "  fig.canvas.print_figure(bytes_io, **kw)\n",
      "c:\\Users\\KDP12\\anaconda3\\envs\\MY_PYTHON\\lib\\site-packages\\IPython\\core\\pylabtools.py:152: UserWarning: Glyph 50728 (\\N{HANGUL SYLLABLE ON}) missing from current font.\n",
      "  fig.canvas.print_figure(bytes_io, **kw)\n",
      "c:\\Users\\KDP12\\anaconda3\\envs\\MY_PYTHON\\lib\\site-packages\\IPython\\core\\pylabtools.py:152: UserWarning: Glyph 50976 (\\N{HANGUL SYLLABLE YU}) missing from current font.\n",
      "  fig.canvas.print_figure(bytes_io, **kw)\n",
      "c:\\Users\\KDP12\\anaconda3\\envs\\MY_PYTHON\\lib\\site-packages\\IPython\\core\\pylabtools.py:152: UserWarning: Glyph 49340 (\\N{HANGUL SYLLABLE SAM}) missing from current font.\n",
      "  fig.canvas.print_figure(bytes_io, **kw)\n",
      "c:\\Users\\KDP12\\anaconda3\\envs\\MY_PYTHON\\lib\\site-packages\\IPython\\core\\pylabtools.py:152: UserWarning: Glyph 49569 (\\N{HANGUL SYLLABLE SONG}) missing from current font.\n",
      "  fig.canvas.print_figure(bytes_io, **kw)\n",
      "c:\\Users\\KDP12\\anaconda3\\envs\\MY_PYTHON\\lib\\site-packages\\IPython\\core\\pylabtools.py:152: UserWarning: Glyph 49436 (\\N{HANGUL SYLLABLE SEO}) missing from current font.\n",
      "  fig.canvas.print_figure(bytes_io, **kw)\n",
      "c:\\Users\\KDP12\\anaconda3\\envs\\MY_PYTHON\\lib\\site-packages\\IPython\\core\\pylabtools.py:152: UserWarning: Glyph 45432 (\\N{HANGUL SYLLABLE NO}) missing from current font.\n",
      "  fig.canvas.print_figure(bytes_io, **kw)\n",
      "c:\\Users\\KDP12\\anaconda3\\envs\\MY_PYTHON\\lib\\site-packages\\IPython\\core\\pylabtools.py:152: UserWarning: Glyph 53916 (\\N{HANGUL SYLLABLE TYU}) missing from current font.\n",
      "  fig.canvas.print_figure(bytes_io, **kw)\n",
      "c:\\Users\\KDP12\\anaconda3\\envs\\MY_PYTHON\\lib\\site-packages\\IPython\\core\\pylabtools.py:152: UserWarning: Glyph 48652 (\\N{HANGUL SYLLABLE BEU}) missing from current font.\n",
      "  fig.canvas.print_figure(bytes_io, **kw)\n",
      "c:\\Users\\KDP12\\anaconda3\\envs\\MY_PYTHON\\lib\\site-packages\\IPython\\core\\pylabtools.py:152: UserWarning: Glyph 45208 (\\N{HANGUL SYLLABLE NA}) missing from current font.\n",
      "  fig.canvas.print_figure(bytes_io, **kw)\n",
      "c:\\Users\\KDP12\\anaconda3\\envs\\MY_PYTHON\\lib\\site-packages\\IPython\\core\\pylabtools.py:152: UserWarning: Glyph 46972 (\\N{HANGUL SYLLABLE RA}) missing from current font.\n",
      "  fig.canvas.print_figure(bytes_io, **kw)\n",
      "c:\\Users\\KDP12\\anaconda3\\envs\\MY_PYTHON\\lib\\site-packages\\IPython\\core\\pylabtools.py:152: UserWarning: Glyph 53076 (\\N{HANGUL SYLLABLE KO}) missing from current font.\n",
      "  fig.canvas.print_figure(bytes_io, **kw)\n",
      "c:\\Users\\KDP12\\anaconda3\\envs\\MY_PYTHON\\lib\\site-packages\\IPython\\core\\pylabtools.py:152: UserWarning: Glyph 47196 (\\N{HANGUL SYLLABLE RO}) missing from current font.\n",
      "  fig.canvas.print_figure(bytes_io, **kw)\n",
      "c:\\Users\\KDP12\\anaconda3\\envs\\MY_PYTHON\\lib\\site-packages\\IPython\\core\\pylabtools.py:152: UserWarning: Glyph 54001 (\\N{HANGUL SYLLABLE TIG}) missing from current font.\n",
      "  fig.canvas.print_figure(bytes_io, **kw)\n",
      "c:\\Users\\KDP12\\anaconda3\\envs\\MY_PYTHON\\lib\\site-packages\\IPython\\core\\pylabtools.py:152: UserWarning: Glyph 51068 (\\N{HANGUL SYLLABLE IL}) missing from current font.\n",
      "  fig.canvas.print_figure(bytes_io, **kw)\n",
      "c:\\Users\\KDP12\\anaconda3\\envs\\MY_PYTHON\\lib\\site-packages\\IPython\\core\\pylabtools.py:152: UserWarning: Glyph 49352 (\\N{HANGUL SYLLABLE SAE}) missing from current font.\n",
      "  fig.canvas.print_figure(bytes_io, **kw)\n",
      "c:\\Users\\KDP12\\anaconda3\\envs\\MY_PYTHON\\lib\\site-packages\\IPython\\core\\pylabtools.py:152: UserWarning: Glyph 50743 (\\N{HANGUL SYLLABLE OS}) missing from current font.\n",
      "  fig.canvas.print_figure(bytes_io, **kw)\n",
      "c:\\Users\\KDP12\\anaconda3\\envs\\MY_PYTHON\\lib\\site-packages\\IPython\\core\\pylabtools.py:152: UserWarning: Glyph 49324 (\\N{HANGUL SYLLABLE SA}) missing from current font.\n",
      "  fig.canvas.print_figure(bytes_io, **kw)\n",
      "c:\\Users\\KDP12\\anaconda3\\envs\\MY_PYTHON\\lib\\site-packages\\IPython\\core\\pylabtools.py:152: UserWarning: Glyph 54620 (\\N{HANGUL SYLLABLE HAN}) missing from current font.\n",
      "  fig.canvas.print_figure(bytes_io, **kw)\n",
      "c:\\Users\\KDP12\\anaconda3\\envs\\MY_PYTHON\\lib\\site-packages\\IPython\\core\\pylabtools.py:152: UserWarning: Glyph 44397 (\\N{HANGUL SYLLABLE GUG}) missing from current font.\n",
      "  fig.canvas.print_figure(bytes_io, **kw)\n",
      "c:\\Users\\KDP12\\anaconda3\\envs\\MY_PYTHON\\lib\\site-packages\\IPython\\core\\pylabtools.py:152: UserWarning: Glyph 51592 (\\N{HANGUL SYLLABLE JEU}) missing from current font.\n",
      "  fig.canvas.print_figure(bytes_io, **kw)\n",
      "c:\\Users\\KDP12\\anaconda3\\envs\\MY_PYTHON\\lib\\site-packages\\IPython\\core\\pylabtools.py:152: UserWarning: Glyph 51652 (\\N{HANGUL SYLLABLE JIN}) missing from current font.\n",
      "  fig.canvas.print_figure(bytes_io, **kw)\n",
      "c:\\Users\\KDP12\\anaconda3\\envs\\MY_PYTHON\\lib\\site-packages\\IPython\\core\\pylabtools.py:152: UserWarning: Glyph 55141 (\\N{HANGUL SYLLABLE HEUNG}) missing from current font.\n",
      "  fig.canvas.print_figure(bytes_io, **kw)\n",
      "c:\\Users\\KDP12\\anaconda3\\envs\\MY_PYTHON\\lib\\site-packages\\IPython\\core\\pylabtools.py:152: UserWarning: Glyph 48169 (\\N{HANGUL SYLLABLE BANG}) missing from current font.\n",
      "  fig.canvas.print_figure(bytes_io, **kw)\n",
      "c:\\Users\\KDP12\\anaconda3\\envs\\MY_PYTHON\\lib\\site-packages\\IPython\\core\\pylabtools.py:152: UserWarning: Glyph 51032 (\\N{HANGUL SYLLABLE YI}) missing from current font.\n",
      "  fig.canvas.print_figure(bytes_io, **kw)\n",
      "c:\\Users\\KDP12\\anaconda3\\envs\\MY_PYTHON\\lib\\site-packages\\IPython\\core\\pylabtools.py:152: UserWarning: Glyph 47308 (\\N{HANGUL SYLLABLE RYO}) missing from current font.\n",
      "  fig.canvas.print_figure(bytes_io, **kw)\n",
      "c:\\Users\\KDP12\\anaconda3\\envs\\MY_PYTHON\\lib\\site-packages\\IPython\\core\\pylabtools.py:152: UserWarning: Glyph 50648 (\\N{HANGUL SYLLABLE EL}) missing from current font.\n",
      "  fig.canvas.print_figure(bytes_io, **kw)\n",
      "c:\\Users\\KDP12\\anaconda3\\envs\\MY_PYTHON\\lib\\site-packages\\IPython\\core\\pylabtools.py:152: UserWarning: Glyph 54644 (\\N{HANGUL SYLLABLE HAE}) missing from current font.\n",
      "  fig.canvas.print_figure(bytes_io, **kw)\n",
      "c:\\Users\\KDP12\\anaconda3\\envs\\MY_PYTHON\\lib\\site-packages\\IPython\\core\\pylabtools.py:152: UserWarning: Glyph 45572 (\\N{HANGUL SYLLABLE NU}) missing from current font.\n",
      "  fig.canvas.print_figure(bytes_io, **kw)\n",
      "c:\\Users\\KDP12\\anaconda3\\envs\\MY_PYTHON\\lib\\site-packages\\IPython\\core\\pylabtools.py:152: UserWarning: Glyph 51076 (\\N{HANGUL SYLLABLE IM}) missing from current font.\n",
      "  fig.canvas.print_figure(bytes_io, **kw)\n",
      "c:\\Users\\KDP12\\anaconda3\\envs\\MY_PYTHON\\lib\\site-packages\\IPython\\core\\pylabtools.py:152: UserWarning: Glyph 47589 (\\N{HANGUL SYLLABLE MAEG}) missing from current font.\n",
      "  fig.canvas.print_figure(bytes_io, **kw)\n",
      "c:\\Users\\KDP12\\anaconda3\\envs\\MY_PYTHON\\lib\\site-packages\\IPython\\core\\pylabtools.py:152: UserWarning: Glyph 45440 (\\N{HANGUL SYLLABLE NOL}) missing from current font.\n",
      "  fig.canvas.print_figure(bytes_io, **kw)\n",
      "c:\\Users\\KDP12\\anaconda3\\envs\\MY_PYTHON\\lib\\site-packages\\IPython\\core\\pylabtools.py:152: UserWarning: Glyph 55092 (\\N{HANGUL SYLLABLE HYU}) missing from current font.\n",
      "  fig.canvas.print_figure(bytes_io, **kw)\n",
      "c:\\Users\\KDP12\\anaconda3\\envs\\MY_PYTHON\\lib\\site-packages\\IPython\\core\\pylabtools.py:152: UserWarning: Glyph 47932 (\\N{HANGUL SYLLABLE MUL}) missing from current font.\n",
      "  fig.canvas.print_figure(bytes_io, **kw)\n",
      "c:\\Users\\KDP12\\anaconda3\\envs\\MY_PYTHON\\lib\\site-packages\\IPython\\core\\pylabtools.py:152: UserWarning: Glyph 49380 (\\N{HANGUL SYLLABLE SYA}) missing from current font.\n",
      "  fig.canvas.print_figure(bytes_io, **kw)\n",
      "c:\\Users\\KDP12\\anaconda3\\envs\\MY_PYTHON\\lib\\site-packages\\IPython\\core\\pylabtools.py:152: UserWarning: Glyph 47704 (\\N{HANGUL SYLLABLE MEN}) missing from current font.\n",
      "  fig.canvas.print_figure(bytes_io, **kw)\n",
      "c:\\Users\\KDP12\\anaconda3\\envs\\MY_PYTHON\\lib\\site-packages\\IPython\\core\\pylabtools.py:152: UserWarning: Glyph 53664 (\\N{HANGUL SYLLABLE TO}) missing from current font.\n",
      "  fig.canvas.print_figure(bytes_io, **kw)\n",
      "c:\\Users\\KDP12\\anaconda3\\envs\\MY_PYTHON\\lib\\site-packages\\IPython\\core\\pylabtools.py:152: UserWarning: Glyph 54400 (\\N{HANGUL SYLLABLE PUL}) missing from current font.\n",
      "  fig.canvas.print_figure(bytes_io, **kw)\n",
      "c:\\Users\\KDP12\\anaconda3\\envs\\MY_PYTHON\\lib\\site-packages\\IPython\\core\\pylabtools.py:152: UserWarning: Glyph 47336 (\\N{HANGUL SYLLABLE RU}) missing from current font.\n",
      "  fig.canvas.print_figure(bytes_io, **kw)\n",
      "c:\\Users\\KDP12\\anaconda3\\envs\\MY_PYTHON\\lib\\site-packages\\IPython\\core\\pylabtools.py:152: UserWarning: Glyph 45944 (\\N{HANGUL SYLLABLE DEL}) missing from current font.\n",
      "  fig.canvas.print_figure(bytes_io, **kw)\n",
      "c:\\Users\\KDP12\\anaconda3\\envs\\MY_PYTHON\\lib\\site-packages\\IPython\\core\\pylabtools.py:152: UserWarning: Glyph 51079 (\\N{HANGUL SYLLABLE IS}) missing from current font.\n",
      "  fig.canvas.print_figure(bytes_io, **kw)\n",
      "c:\\Users\\KDP12\\anaconda3\\envs\\MY_PYTHON\\lib\\site-packages\\IPython\\core\\pylabtools.py:152: UserWarning: Glyph 54812 (\\N{HANGUL SYLLABLE HYE}) missing from current font.\n",
      "  fig.canvas.print_figure(bytes_io, **kw)\n",
      "c:\\Users\\KDP12\\anaconda3\\envs\\MY_PYTHON\\lib\\site-packages\\IPython\\core\\pylabtools.py:152: UserWarning: Glyph 48128 (\\N{HANGUL SYLLABLE MIL}) missing from current font.\n",
      "  fig.canvas.print_figure(bytes_io, **kw)\n",
      "c:\\Users\\KDP12\\anaconda3\\envs\\MY_PYTHON\\lib\\site-packages\\IPython\\core\\pylabtools.py:152: UserWarning: Glyph 49888 (\\N{HANGUL SYLLABLE SIN}) missing from current font.\n",
      "  fig.canvas.print_figure(bytes_io, **kw)\n",
      "c:\\Users\\KDP12\\anaconda3\\envs\\MY_PYTHON\\lib\\site-packages\\IPython\\core\\pylabtools.py:152: UserWarning: Glyph 49373 (\\N{HANGUL SYLLABLE SAENG}) missing from current font.\n",
      "  fig.canvas.print_figure(bytes_io, **kw)\n",
      "c:\\Users\\KDP12\\anaconda3\\envs\\MY_PYTHON\\lib\\site-packages\\IPython\\core\\pylabtools.py:152: UserWarning: Glyph 44277 (\\N{HANGUL SYLLABLE GONG}) missing from current font.\n",
      "  fig.canvas.print_figure(bytes_io, **kw)\n",
      "c:\\Users\\KDP12\\anaconda3\\envs\\MY_PYTHON\\lib\\site-packages\\IPython\\core\\pylabtools.py:152: UserWarning: Glyph 54252 (\\N{HANGUL SYLLABLE PO}) missing from current font.\n",
      "  fig.canvas.print_figure(bytes_io, **kw)\n",
      "c:\\Users\\KDP12\\anaconda3\\envs\\MY_PYTHON\\lib\\site-packages\\IPython\\core\\pylabtools.py:152: UserWarning: Glyph 47112 (\\N{HANGUL SYLLABLE RE}) missing from current font.\n",
      "  fig.canvas.print_figure(bytes_io, **kw)\n",
      "c:\\Users\\KDP12\\anaconda3\\envs\\MY_PYTHON\\lib\\site-packages\\IPython\\core\\pylabtools.py:152: UserWarning: Glyph 50732 (\\N{HANGUL SYLLABLE OL}) missing from current font.\n",
      "  fig.canvas.print_figure(bytes_io, **kw)\n",
      "c:\\Users\\KDP12\\anaconda3\\envs\\MY_PYTHON\\lib\\site-packages\\IPython\\core\\pylabtools.py:152: UserWarning: Glyph 44148 (\\N{HANGUL SYLLABLE GEON}) missing from current font.\n",
      "  fig.canvas.print_figure(bytes_io, **kw)\n",
      "c:\\Users\\KDP12\\anaconda3\\envs\\MY_PYTHON\\lib\\site-packages\\IPython\\core\\pylabtools.py:152: UserWarning: Glyph 45936 (\\N{HANGUL SYLLABLE DE}) missing from current font.\n",
      "  fig.canvas.print_figure(bytes_io, **kw)\n",
      "c:\\Users\\KDP12\\anaconda3\\envs\\MY_PYTHON\\lib\\site-packages\\IPython\\core\\pylabtools.py:152: UserWarning: Glyph 47560 (\\N{HANGUL SYLLABLE MA}) missing from current font.\n",
      "  fig.canvas.print_figure(bytes_io, **kw)\n",
      "c:\\Users\\KDP12\\anaconda3\\envs\\MY_PYTHON\\lib\\site-packages\\IPython\\core\\pylabtools.py:152: UserWarning: Glyph 49440 (\\N{HANGUL SYLLABLE SEON}) missing from current font.\n",
      "  fig.canvas.print_figure(bytes_io, **kw)\n",
      "c:\\Users\\KDP12\\anaconda3\\envs\\MY_PYTHON\\lib\\site-packages\\IPython\\core\\pylabtools.py:152: UserWarning: Glyph 48152 (\\N{HANGUL SYLLABLE BAN}) missing from current font.\n",
      "  fig.canvas.print_figure(bytes_io, **kw)\n",
      "c:\\Users\\KDP12\\anaconda3\\envs\\MY_PYTHON\\lib\\site-packages\\IPython\\core\\pylabtools.py:152: UserWarning: Glyph 46020 (\\N{HANGUL SYLLABLE DO}) missing from current font.\n",
      "  fig.canvas.print_figure(bytes_io, **kw)\n",
      "c:\\Users\\KDP12\\anaconda3\\envs\\MY_PYTHON\\lib\\site-packages\\IPython\\core\\pylabtools.py:152: UserWarning: Glyph 52404 (\\N{HANGUL SYLLABLE CE}) missing from current font.\n",
      "  fig.canvas.print_figure(bytes_io, **kw)\n",
      "c:\\Users\\KDP12\\anaconda3\\envs\\MY_PYTHON\\lib\\site-packages\\IPython\\core\\pylabtools.py:152: UserWarning: Glyph 53328 (\\N{HANGUL SYLLABLE KYU}) missing from current font.\n",
      "  fig.canvas.print_figure(bytes_io, **kw)\n",
      "c:\\Users\\KDP12\\anaconda3\\envs\\MY_PYTHON\\lib\\site-packages\\IPython\\core\\pylabtools.py:152: UserWarning: Glyph 53552 (\\N{HANGUL SYLLABLE TEO}) missing from current font.\n",
      "  fig.canvas.print_figure(bytes_io, **kw)\n",
      "c:\\Users\\KDP12\\anaconda3\\envs\\MY_PYTHON\\lib\\site-packages\\IPython\\core\\pylabtools.py:152: UserWarning: Glyph 50532 (\\N{HANGUL SYLLABLE AEN}) missing from current font.\n",
      "  fig.canvas.print_figure(bytes_io, **kw)\n",
      "c:\\Users\\KDP12\\anaconda3\\envs\\MY_PYTHON\\lib\\site-packages\\IPython\\core\\pylabtools.py:152: UserWarning: Glyph 47017 (\\N{HANGUL SYLLABLE RAEB}) missing from current font.\n",
      "  fig.canvas.print_figure(bytes_io, **kw)\n",
      "c:\\Users\\KDP12\\anaconda3\\envs\\MY_PYTHON\\lib\\site-packages\\IPython\\core\\pylabtools.py:152: UserWarning: Glyph 47784 (\\N{HANGUL SYLLABLE MO}) missing from current font.\n",
      "  fig.canvas.print_figure(bytes_io, **kw)\n",
      "c:\\Users\\KDP12\\anaconda3\\envs\\MY_PYTHON\\lib\\site-packages\\IPython\\core\\pylabtools.py:152: UserWarning: Glyph 50880 (\\N{HANGUL SYLLABLE UM}) missing from current font.\n",
      "  fig.canvas.print_figure(bytes_io, **kw)\n",
      "c:\\Users\\KDP12\\anaconda3\\envs\\MY_PYTHON\\lib\\site-packages\\IPython\\core\\pylabtools.py:152: UserWarning: Glyph 52852 (\\N{HANGUL SYLLABLE KA}) missing from current font.\n",
      "  fig.canvas.print_figure(bytes_io, **kw)\n",
      "c:\\Users\\KDP12\\anaconda3\\envs\\MY_PYTHON\\lib\\site-packages\\IPython\\core\\pylabtools.py:152: UserWarning: Glyph 51229 (\\N{HANGUL SYLLABLE JEG}) missing from current font.\n",
      "  fig.canvas.print_figure(bytes_io, **kw)\n",
      "c:\\Users\\KDP12\\anaconda3\\envs\\MY_PYTHON\\lib\\site-packages\\IPython\\core\\pylabtools.py:152: UserWarning: Glyph 52880 (\\N{HANGUL SYLLABLE KAE}) missing from current font.\n",
      "  fig.canvas.print_figure(bytes_io, **kw)\n",
      "c:\\Users\\KDP12\\anaconda3\\envs\\MY_PYTHON\\lib\\site-packages\\IPython\\core\\pylabtools.py:152: UserWarning: Glyph 47749 (\\N{HANGUL SYLLABLE MYEONG}) missing from current font.\n",
      "  fig.canvas.print_figure(bytes_io, **kw)\n",
      "findfont: Font family 'KBO Dia Gothic_bold' not found.\n",
      "findfont: Font family 'KBO Dia Gothic_bold' not found.\n",
      "findfont: Font family 'KBO Dia Gothic_bold' not found.\n"
     ]
    },
    {
     "data": {
      "image/png": "[encoded data removed]",
      "text/plain": [
       "<Figure size 2000x700 with 1 Axes>"
      ]
     },
     "metadata": {},
     "output_type": "display_data"
    }
   ],
   "source": [
    "fig= plt.figure(figsize=(20,7))\n",
    "ax1 = fig.add_subplot(1,1,1)\n",
    "\n",
    "sns.barplot(x=df[\"기업명\"],y=df[\"연매출액\"],data=df,ax=ax1)\n",
    "ax1.set_title(\"기업별 연매출액\",size=20)\n",
    "ax1.set_xlabel(\"기업명\",size=12)\n",
    "ax1.set_ylabel(\"연매출액(백만원/년)\",size=12)\n",
    "plt.xticks(rotation=90)\n",
    "plt.show()"
   ]
  },
  {
   "cell_type": "code",
   "execution_count": 45,
   "metadata": {},
   "outputs": [
    {
     "name": "stderr",
     "output_type": "stream",
     "text": [
      "c:\\Users\\KDP12\\anaconda3\\envs\\MY_PYTHON\\lib\\site-packages\\IPython\\core\\pylabtools.py:152: UserWarning: Glyph 50672 (\\N{HANGUL SYLLABLE YEON}) missing from current font.\n",
      "  fig.canvas.print_figure(bytes_io, **kw)\n",
      "c:\\Users\\KDP12\\anaconda3\\envs\\MY_PYTHON\\lib\\site-packages\\IPython\\core\\pylabtools.py:152: UserWarning: Glyph 48393 (\\N{HANGUL SYLLABLE BONG}) missing from current font.\n",
      "  fig.canvas.print_figure(bytes_io, **kw)\n",
      "c:\\Users\\KDP12\\anaconda3\\envs\\MY_PYTHON\\lib\\site-packages\\IPython\\core\\pylabtools.py:152: UserWarning: Glyph 47564 (\\N{HANGUL SYLLABLE MAN}) missing from current font.\n",
      "  fig.canvas.print_figure(bytes_io, **kw)\n",
      "c:\\Users\\KDP12\\anaconda3\\envs\\MY_PYTHON\\lib\\site-packages\\IPython\\core\\pylabtools.py:152: UserWarning: Glyph 50896 (\\N{HANGUL SYLLABLE WEON}) missing from current font.\n",
      "  fig.canvas.print_figure(bytes_io, **kw)\n",
      "c:\\Users\\KDP12\\anaconda3\\envs\\MY_PYTHON\\lib\\site-packages\\IPython\\core\\pylabtools.py:152: UserWarning: Glyph 45380 (\\N{HANGUL SYLLABLE NYEON}) missing from current font.\n",
      "  fig.canvas.print_figure(bytes_io, **kw)\n",
      "findfont: Font family 'KBO Dia Gothic_bold' not found.\n",
      "findfont: Font family 'KBO Dia Gothic_bold' not found.\n",
      "c:\\Users\\KDP12\\anaconda3\\envs\\MY_PYTHON\\lib\\site-packages\\IPython\\core\\pylabtools.py:152: UserWarning: Glyph 47588 (\\N{HANGUL SYLLABLE MAE}) missing from current font.\n",
      "  fig.canvas.print_figure(bytes_io, **kw)\n",
      "c:\\Users\\KDP12\\anaconda3\\envs\\MY_PYTHON\\lib\\site-packages\\IPython\\core\\pylabtools.py:152: UserWarning: Glyph 52636 (\\N{HANGUL SYLLABLE CUL}) missing from current font.\n",
      "  fig.canvas.print_figure(bytes_io, **kw)\n",
      "c:\\Users\\KDP12\\anaconda3\\envs\\MY_PYTHON\\lib\\site-packages\\IPython\\core\\pylabtools.py:152: UserWarning: Glyph 50529 (\\N{HANGUL SYLLABLE AEG}) missing from current font.\n",
      "  fig.canvas.print_figure(bytes_io, **kw)\n",
      "c:\\Users\\KDP12\\anaconda3\\envs\\MY_PYTHON\\lib\\site-packages\\IPython\\core\\pylabtools.py:152: UserWarning: Glyph 50640 (\\N{HANGUL SYLLABLE E}) missing from current font.\n",
      "  fig.canvas.print_figure(bytes_io, **kw)\n",
      "c:\\Users\\KDP12\\anaconda3\\envs\\MY_PYTHON\\lib\\site-packages\\IPython\\core\\pylabtools.py:152: UserWarning: Glyph 46384 (\\N{HANGUL SYLLABLE DDA}) missing from current font.\n",
      "  fig.canvas.print_figure(bytes_io, **kw)\n",
      "c:\\Users\\KDP12\\anaconda3\\envs\\MY_PYTHON\\lib\\site-packages\\IPython\\core\\pylabtools.py:152: UserWarning: Glyph 47480 (\\N{HANGUL SYLLABLE REUN}) missing from current font.\n",
      "  fig.canvas.print_figure(bytes_io, **kw)\n",
      "findfont: Font family 'KBO Dia Gothic_bold' not found.\n",
      "findfont: Font family 'KBO Dia Gothic_bold' not found.\n",
      "findfont: Font family 'KBO Dia Gothic_bold' not found.\n"
     ]
    },
    {
     "data": {
      "image/png": "[encoded data removed]",
      "text/plain": [
       "<Figure size 2000x700 with 1 Axes>"
      ]
     },
     "metadata": {},
     "output_type": "display_data"
    }
   ],
   "source": [
    "fig= plt.figure(figsize=(20,7))\n",
    "ax1 = fig.add_subplot(1,1,1)\n",
    "\n",
    "sns.barplot(x=df[\"연매출액\"],y=df[\"임금\"],data=df,ax=ax1)\n",
    "ax1.set_title(\"연매출액에 따른 연봉\",size=20)\n",
    "ax1.set_xlabel(\"연매출액\",size=12)\n",
    "ax1.set_ylabel(\"연봉(만원/년)\",size=12)\n",
    "plt.xticks(rotation=90)\n",
    "plt.show()"
   ]
  },
  {
   "cell_type": "code",
   "execution_count": 46,
   "metadata": {},
   "outputs": [
    {
     "name": "stderr",
     "output_type": "stream",
     "text": [
      "c:\\Users\\KDP12\\anaconda3\\envs\\MY_PYTHON\\lib\\site-packages\\IPython\\core\\pylabtools.py:152: UserWarning: Glyph 50672 (\\N{HANGUL SYLLABLE YEON}) missing from current font.\n",
      "  fig.canvas.print_figure(bytes_io, **kw)\n",
      "c:\\Users\\KDP12\\anaconda3\\envs\\MY_PYTHON\\lib\\site-packages\\IPython\\core\\pylabtools.py:152: UserWarning: Glyph 48393 (\\N{HANGUL SYLLABLE BONG}) missing from current font.\n",
      "  fig.canvas.print_figure(bytes_io, **kw)\n",
      "c:\\Users\\KDP12\\anaconda3\\envs\\MY_PYTHON\\lib\\site-packages\\IPython\\core\\pylabtools.py:152: UserWarning: Glyph 47564 (\\N{HANGUL SYLLABLE MAN}) missing from current font.\n",
      "  fig.canvas.print_figure(bytes_io, **kw)\n",
      "c:\\Users\\KDP12\\anaconda3\\envs\\MY_PYTHON\\lib\\site-packages\\IPython\\core\\pylabtools.py:152: UserWarning: Glyph 50896 (\\N{HANGUL SYLLABLE WEON}) missing from current font.\n",
      "  fig.canvas.print_figure(bytes_io, **kw)\n",
      "c:\\Users\\KDP12\\anaconda3\\envs\\MY_PYTHON\\lib\\site-packages\\IPython\\core\\pylabtools.py:152: UserWarning: Glyph 45380 (\\N{HANGUL SYLLABLE NYEON}) missing from current font.\n",
      "  fig.canvas.print_figure(bytes_io, **kw)\n",
      "findfont: Font family 'KBO Dia Gothic_bold' not found.\n",
      "findfont: Font family 'KBO Dia Gothic_bold' not found.\n",
      "c:\\Users\\KDP12\\anaconda3\\envs\\MY_PYTHON\\lib\\site-packages\\IPython\\core\\pylabtools.py:152: UserWarning: Glyph 47588 (\\N{HANGUL SYLLABLE MAE}) missing from current font.\n",
      "  fig.canvas.print_figure(bytes_io, **kw)\n",
      "c:\\Users\\KDP12\\anaconda3\\envs\\MY_PYTHON\\lib\\site-packages\\IPython\\core\\pylabtools.py:152: UserWarning: Glyph 52636 (\\N{HANGUL SYLLABLE CUL}) missing from current font.\n",
      "  fig.canvas.print_figure(bytes_io, **kw)\n",
      "c:\\Users\\KDP12\\anaconda3\\envs\\MY_PYTHON\\lib\\site-packages\\IPython\\core\\pylabtools.py:152: UserWarning: Glyph 50529 (\\N{HANGUL SYLLABLE AEG}) missing from current font.\n",
      "  fig.canvas.print_figure(bytes_io, **kw)\n",
      "c:\\Users\\KDP12\\anaconda3\\envs\\MY_PYTHON\\lib\\site-packages\\IPython\\core\\pylabtools.py:152: UserWarning: Glyph 50640 (\\N{HANGUL SYLLABLE E}) missing from current font.\n",
      "  fig.canvas.print_figure(bytes_io, **kw)\n",
      "c:\\Users\\KDP12\\anaconda3\\envs\\MY_PYTHON\\lib\\site-packages\\IPython\\core\\pylabtools.py:152: UserWarning: Glyph 46384 (\\N{HANGUL SYLLABLE DDA}) missing from current font.\n",
      "  fig.canvas.print_figure(bytes_io, **kw)\n",
      "c:\\Users\\KDP12\\anaconda3\\envs\\MY_PYTHON\\lib\\site-packages\\IPython\\core\\pylabtools.py:152: UserWarning: Glyph 47480 (\\N{HANGUL SYLLABLE REUN}) missing from current font.\n",
      "  fig.canvas.print_figure(bytes_io, **kw)\n",
      "c:\\Users\\KDP12\\anaconda3\\envs\\MY_PYTHON\\lib\\site-packages\\IPython\\core\\pylabtools.py:152: UserWarning: Glyph 44592 (\\N{HANGUL SYLLABLE GI}) missing from current font.\n",
      "  fig.canvas.print_figure(bytes_io, **kw)\n",
      "c:\\Users\\KDP12\\anaconda3\\envs\\MY_PYTHON\\lib\\site-packages\\IPython\\core\\pylabtools.py:152: UserWarning: Glyph 44036 (\\N{HANGUL SYLLABLE GAN}) missing from current font.\n",
      "  fig.canvas.print_figure(bytes_io, **kw)\n",
      "c:\\Users\\KDP12\\anaconda3\\envs\\MY_PYTHON\\lib\\site-packages\\IPython\\core\\pylabtools.py:152: UserWarning: Glyph 51032 (\\N{HANGUL SYLLABLE YI}) missing from current font.\n",
      "  fig.canvas.print_figure(bytes_io, **kw)\n",
      "c:\\Users\\KDP12\\anaconda3\\envs\\MY_PYTHON\\lib\\site-packages\\IPython\\core\\pylabtools.py:152: UserWarning: Glyph 51221 (\\N{HANGUL SYLLABLE JEONG}) missing from current font.\n",
      "  fig.canvas.print_figure(bytes_io, **kw)\n",
      "c:\\Users\\KDP12\\anaconda3\\envs\\MY_PYTHON\\lib\\site-packages\\IPython\\core\\pylabtools.py:152: UserWarning: Glyph 54632 (\\N{HANGUL SYLLABLE HAM}) missing from current font.\n",
      "  fig.canvas.print_figure(bytes_io, **kw)\n",
      "c:\\Users\\KDP12\\anaconda3\\envs\\MY_PYTHON\\lib\\site-packages\\IPython\\core\\pylabtools.py:152: UserWarning: Glyph 51060 (\\N{HANGUL SYLLABLE I}) missing from current font.\n",
      "  fig.canvas.print_figure(bytes_io, **kw)\n",
      "c:\\Users\\KDP12\\anaconda3\\envs\\MY_PYTHON\\lib\\site-packages\\IPython\\core\\pylabtools.py:152: UserWarning: Glyph 50630 (\\N{HANGUL SYLLABLE EOBS}) missing from current font.\n",
      "  fig.canvas.print_figure(bytes_io, **kw)\n",
      "c:\\Users\\KDP12\\anaconda3\\envs\\MY_PYTHON\\lib\\site-packages\\IPython\\core\\pylabtools.py:152: UserWarning: Glyph 45716 (\\N{HANGUL SYLLABLE NEUN}) missing from current font.\n",
      "  fig.canvas.print_figure(bytes_io, **kw)\n",
      "c:\\Users\\KDP12\\anaconda3\\envs\\MY_PYTHON\\lib\\site-packages\\IPython\\core\\pylabtools.py:152: UserWarning: Glyph 44540 (\\N{HANGUL SYLLABLE GEUN}) missing from current font.\n",
      "  fig.canvas.print_figure(bytes_io, **kw)\n",
      "c:\\Users\\KDP12\\anaconda3\\envs\\MY_PYTHON\\lib\\site-packages\\IPython\\core\\pylabtools.py:152: UserWarning: Glyph 47196 (\\N{HANGUL SYLLABLE RO}) missing from current font.\n",
      "  fig.canvas.print_figure(bytes_io, **kw)\n",
      "c:\\Users\\KDP12\\anaconda3\\envs\\MY_PYTHON\\lib\\site-packages\\IPython\\core\\pylabtools.py:152: UserWarning: Glyph 44228 (\\N{HANGUL SYLLABLE GYE}) missing from current font.\n",
      "  fig.canvas.print_figure(bytes_io, **kw)\n",
      "c:\\Users\\KDP12\\anaconda3\\envs\\MY_PYTHON\\lib\\site-packages\\IPython\\core\\pylabtools.py:152: UserWarning: Glyph 50557 (\\N{HANGUL SYLLABLE YAG}) missing from current font.\n",
      "  fig.canvas.print_figure(bytes_io, **kw)\n",
      "c:\\Users\\KDP12\\anaconda3\\envs\\MY_PYTHON\\lib\\site-packages\\IPython\\core\\pylabtools.py:152: UserWarning: Glyph 51080 (\\N{HANGUL SYLLABLE ISS}) missing from current font.\n",
      "  fig.canvas.print_figure(bytes_io, **kw)\n",
      "findfont: Font family 'KBO Dia Gothic_bold' not found.\n",
      "findfont: Font family 'KBO Dia Gothic_bold' not found.\n",
      "findfont: Font family 'KBO Dia Gothic_bold' not found.\n"
     ]
    },
    {
     "data": {
      "image/png": "[encoded data removed]",
      "text/plain": [
       "<Figure size 1000x700 with 1 Axes>"
      ]
     },
     "metadata": {},
     "output_type": "display_data"
    }
   ],
   "source": [
    "fig= plt.figure(figsize=(10,7))\n",
    "ax1 = fig.add_subplot(1,1,1)\n",
    "\n",
    "sns.barplot(x=df[\"고용형태\"],y=df[\"임금\"],data=df,ax=ax1)\n",
    "ax1.set_title(\"연매출액에 따른 연봉\",size=20)\n",
    "ax1.set_xlabel(\"연매출액\",size=12)\n",
    "ax1.set_ylabel(\"연봉(만원/년)\",size=12)\n",
    "plt.xticks(rotation=90)\n",
    "plt.show()"
   ]
  },
  {
   "cell_type": "code",
   "execution_count": 47,
   "metadata": {},
   "outputs": [],
   "source": [
    "# df[\"직무내용\"].str.replace(\"\\xa0\",\"\").str.replace(\"\\r\",\"\").to_list()"
   ]
  },
  {
   "cell_type": "code",
   "execution_count": 48,
   "metadata": {},
   "outputs": [
    {
     "name": "stderr",
     "output_type": "stream",
     "text": [
      "c:\\Users\\KDP12\\anaconda3\\envs\\MY_PYTHON\\lib\\site-packages\\IPython\\core\\pylabtools.py:152: UserWarning: Glyph 50672 (\\N{HANGUL SYLLABLE YEON}) missing from current font.\n",
      "  fig.canvas.print_figure(bytes_io, **kw)\n",
      "c:\\Users\\KDP12\\anaconda3\\envs\\MY_PYTHON\\lib\\site-packages\\IPython\\core\\pylabtools.py:152: UserWarning: Glyph 48393 (\\N{HANGUL SYLLABLE BONG}) missing from current font.\n",
      "  fig.canvas.print_figure(bytes_io, **kw)\n",
      "c:\\Users\\KDP12\\anaconda3\\envs\\MY_PYTHON\\lib\\site-packages\\IPython\\core\\pylabtools.py:152: UserWarning: Glyph 47564 (\\N{HANGUL SYLLABLE MAN}) missing from current font.\n",
      "  fig.canvas.print_figure(bytes_io, **kw)\n",
      "c:\\Users\\KDP12\\anaconda3\\envs\\MY_PYTHON\\lib\\site-packages\\IPython\\core\\pylabtools.py:152: UserWarning: Glyph 50896 (\\N{HANGUL SYLLABLE WEON}) missing from current font.\n",
      "  fig.canvas.print_figure(bytes_io, **kw)\n",
      "c:\\Users\\KDP12\\anaconda3\\envs\\MY_PYTHON\\lib\\site-packages\\IPython\\core\\pylabtools.py:152: UserWarning: Glyph 45380 (\\N{HANGUL SYLLABLE NYEON}) missing from current font.\n",
      "  fig.canvas.print_figure(bytes_io, **kw)\n",
      "findfont: Font family 'KBO Dia Gothic_bold' not found.\n",
      "findfont: Font family 'KBO Dia Gothic_bold' not found.\n",
      "c:\\Users\\KDP12\\anaconda3\\envs\\MY_PYTHON\\lib\\site-packages\\IPython\\core\\pylabtools.py:152: UserWarning: Glyph 51648 (\\N{HANGUL SYLLABLE JI}) missing from current font.\n",
      "  fig.canvas.print_figure(bytes_io, **kw)\n",
      "c:\\Users\\KDP12\\anaconda3\\envs\\MY_PYTHON\\lib\\site-packages\\IPython\\core\\pylabtools.py:152: UserWarning: Glyph 50669 (\\N{HANGUL SYLLABLE YEOG}) missing from current font.\n",
      "  fig.canvas.print_figure(bytes_io, **kw)\n",
      "c:\\Users\\KDP12\\anaconda3\\envs\\MY_PYTHON\\lib\\site-packages\\IPython\\core\\pylabtools.py:152: UserWarning: Glyph 48324 (\\N{HANGUL SYLLABLE BYEOL}) missing from current font.\n",
      "  fig.canvas.print_figure(bytes_io, **kw)\n",
      "c:\\Users\\KDP12\\anaconda3\\envs\\MY_PYTHON\\lib\\site-packages\\IPython\\core\\pylabtools.py:152: UserWarning: Glyph 44221 (\\N{HANGUL SYLLABLE GYEONG}) missing from current font.\n",
      "  fig.canvas.print_figure(bytes_io, **kw)\n",
      "c:\\Users\\KDP12\\anaconda3\\envs\\MY_PYTHON\\lib\\site-packages\\IPython\\core\\pylabtools.py:152: UserWarning: Glyph 44592 (\\N{HANGUL SYLLABLE GI}) missing from current font.\n",
      "  fig.canvas.print_figure(bytes_io, **kw)\n",
      "c:\\Users\\KDP12\\anaconda3\\envs\\MY_PYTHON\\lib\\site-packages\\IPython\\core\\pylabtools.py:152: UserWarning: Glyph 46020 (\\N{HANGUL SYLLABLE DO}) missing from current font.\n",
      "  fig.canvas.print_figure(bytes_io, **kw)\n",
      "c:\\Users\\KDP12\\anaconda3\\envs\\MY_PYTHON\\lib\\site-packages\\IPython\\core\\pylabtools.py:152: UserWarning: Glyph 45824 (\\N{HANGUL SYLLABLE DAE}) missing from current font.\n",
      "  fig.canvas.print_figure(bytes_io, **kw)\n",
      "c:\\Users\\KDP12\\anaconda3\\envs\\MY_PYTHON\\lib\\site-packages\\IPython\\core\\pylabtools.py:152: UserWarning: Glyph 44396 (\\N{HANGUL SYLLABLE GU}) missing from current font.\n",
      "  fig.canvas.print_figure(bytes_io, **kw)\n",
      "c:\\Users\\KDP12\\anaconda3\\envs\\MY_PYTHON\\lib\\site-packages\\IPython\\core\\pylabtools.py:152: UserWarning: Glyph 44305 (\\N{HANGUL SYLLABLE GWANG}) missing from current font.\n",
      "  fig.canvas.print_figure(bytes_io, **kw)\n",
      "c:\\Users\\KDP12\\anaconda3\\envs\\MY_PYTHON\\lib\\site-packages\\IPython\\core\\pylabtools.py:152: UserWarning: Glyph 49884 (\\N{HANGUL SYLLABLE SI}) missing from current font.\n",
      "  fig.canvas.print_figure(bytes_io, **kw)\n",
      "c:\\Users\\KDP12\\anaconda3\\envs\\MY_PYTHON\\lib\\site-packages\\IPython\\core\\pylabtools.py:152: UserWarning: Glyph 51204 (\\N{HANGUL SYLLABLE JEON}) missing from current font.\n",
      "  fig.canvas.print_figure(bytes_io, **kw)\n",
      "c:\\Users\\KDP12\\anaconda3\\envs\\MY_PYTHON\\lib\\site-packages\\IPython\\core\\pylabtools.py:152: UserWarning: Glyph 49345 (\\N{HANGUL SYLLABLE SANG}) missing from current font.\n",
      "  fig.canvas.print_figure(bytes_io, **kw)\n",
      "c:\\Users\\KDP12\\anaconda3\\envs\\MY_PYTHON\\lib\\site-packages\\IPython\\core\\pylabtools.py:152: UserWarning: Glyph 45224 (\\N{HANGUL SYLLABLE NAM}) missing from current font.\n",
      "  fig.canvas.print_figure(bytes_io, **kw)\n",
      "c:\\Users\\KDP12\\anaconda3\\envs\\MY_PYTHON\\lib\\site-packages\\IPython\\core\\pylabtools.py:152: UserWarning: Glyph 46972 (\\N{HANGUL SYLLABLE RA}) missing from current font.\n",
      "  fig.canvas.print_figure(bytes_io, **kw)\n",
      "c:\\Users\\KDP12\\anaconda3\\envs\\MY_PYTHON\\lib\\site-packages\\IPython\\core\\pylabtools.py:152: UserWarning: Glyph 48513 (\\N{HANGUL SYLLABLE BUG}) missing from current font.\n",
      "  fig.canvas.print_figure(bytes_io, **kw)\n",
      "c:\\Users\\KDP12\\anaconda3\\envs\\MY_PYTHON\\lib\\site-packages\\IPython\\core\\pylabtools.py:152: UserWarning: Glyph 49436 (\\N{HANGUL SYLLABLE SEO}) missing from current font.\n",
      "  fig.canvas.print_figure(bytes_io, **kw)\n",
      "c:\\Users\\KDP12\\anaconda3\\envs\\MY_PYTHON\\lib\\site-packages\\IPython\\core\\pylabtools.py:152: UserWarning: Glyph 50872 (\\N{HANGUL SYLLABLE UL}) missing from current font.\n",
      "  fig.canvas.print_figure(bytes_io, **kw)\n",
      "c:\\Users\\KDP12\\anaconda3\\envs\\MY_PYTHON\\lib\\site-packages\\IPython\\core\\pylabtools.py:152: UserWarning: Glyph 53945 (\\N{HANGUL SYLLABLE TEUG}) missing from current font.\n",
      "  fig.canvas.print_figure(bytes_io, **kw)\n",
      "c:\\Users\\KDP12\\anaconda3\\envs\\MY_PYTHON\\lib\\site-packages\\IPython\\core\\pylabtools.py:152: UserWarning: Glyph 52649 (\\N{HANGUL SYLLABLE CUNG}) missing from current font.\n",
      "  fig.canvas.print_figure(bytes_io, **kw)\n",
      "c:\\Users\\KDP12\\anaconda3\\envs\\MY_PYTHON\\lib\\site-packages\\IPython\\core\\pylabtools.py:152: UserWarning: Glyph 52397 (\\N{HANGUL SYLLABLE CEONG}) missing from current font.\n",
      "  fig.canvas.print_figure(bytes_io, **kw)\n",
      "c:\\Users\\KDP12\\anaconda3\\envs\\MY_PYTHON\\lib\\site-packages\\IPython\\core\\pylabtools.py:152: UserWarning: Glyph 51452 (\\N{HANGUL SYLLABLE JU}) missing from current font.\n",
      "  fig.canvas.print_figure(bytes_io, **kw)\n",
      "c:\\Users\\KDP12\\anaconda3\\envs\\MY_PYTHON\\lib\\site-packages\\IPython\\core\\pylabtools.py:152: UserWarning: Glyph 51064 (\\N{HANGUL SYLLABLE IN}) missing from current font.\n",
      "  fig.canvas.print_figure(bytes_io, **kw)\n",
      "c:\\Users\\KDP12\\anaconda3\\envs\\MY_PYTHON\\lib\\site-packages\\IPython\\core\\pylabtools.py:152: UserWarning: Glyph 52380 (\\N{HANGUL SYLLABLE CEON}) missing from current font.\n",
      "  fig.canvas.print_figure(bytes_io, **kw)\n",
      "c:\\Users\\KDP12\\anaconda3\\envs\\MY_PYTHON\\lib\\site-packages\\IPython\\core\\pylabtools.py:152: UserWarning: Glyph 48512 (\\N{HANGUL SYLLABLE BU}) missing from current font.\n",
      "  fig.canvas.print_figure(bytes_io, **kw)\n",
      "c:\\Users\\KDP12\\anaconda3\\envs\\MY_PYTHON\\lib\\site-packages\\IPython\\core\\pylabtools.py:152: UserWarning: Glyph 49328 (\\N{HANGUL SYLLABLE SAN}) missing from current font.\n",
      "  fig.canvas.print_figure(bytes_io, **kw)\n",
      "c:\\Users\\KDP12\\anaconda3\\envs\\MY_PYTHON\\lib\\site-packages\\IPython\\core\\pylabtools.py:152: UserWarning: Glyph 49464 (\\N{HANGUL SYLLABLE SE}) missing from current font.\n",
      "  fig.canvas.print_figure(bytes_io, **kw)\n",
      "c:\\Users\\KDP12\\anaconda3\\envs\\MY_PYTHON\\lib\\site-packages\\IPython\\core\\pylabtools.py:152: UserWarning: Glyph 51333 (\\N{HANGUL SYLLABLE JONG}) missing from current font.\n",
      "  fig.canvas.print_figure(bytes_io, **kw)\n",
      "c:\\Users\\KDP12\\anaconda3\\envs\\MY_PYTHON\\lib\\site-packages\\IPython\\core\\pylabtools.py:152: UserWarning: Glyph 51088 (\\N{HANGUL SYLLABLE JA}) missing from current font.\n",
      "  fig.canvas.print_figure(bytes_io, **kw)\n",
      "c:\\Users\\KDP12\\anaconda3\\envs\\MY_PYTHON\\lib\\site-packages\\IPython\\core\\pylabtools.py:152: UserWarning: Glyph 52824 (\\N{HANGUL SYLLABLE CI}) missing from current font.\n",
      "  fig.canvas.print_figure(bytes_io, **kw)\n",
      "c:\\Users\\KDP12\\anaconda3\\envs\\MY_PYTHON\\lib\\site-packages\\IPython\\core\\pylabtools.py:152: UserWarning: Glyph 54617 (\\N{HANGUL SYLLABLE HAG}) missing from current font.\n",
      "  fig.canvas.print_figure(bytes_io, **kw)\n",
      "c:\\Users\\KDP12\\anaconda3\\envs\\MY_PYTHON\\lib\\site-packages\\IPython\\core\\pylabtools.py:152: UserWarning: Glyph 47141 (\\N{HANGUL SYLLABLE RYEOG}) missing from current font.\n",
      "  fig.canvas.print_figure(bytes_io, **kw)\n",
      "c:\\Users\\KDP12\\anaconda3\\envs\\MY_PYTHON\\lib\\site-packages\\IPython\\core\\pylabtools.py:152: UserWarning: Glyph 47924 (\\N{HANGUL SYLLABLE MU}) missing from current font.\n",
      "  fig.canvas.print_figure(bytes_io, **kw)\n",
      "c:\\Users\\KDP12\\anaconda3\\envs\\MY_PYTHON\\lib\\site-packages\\IPython\\core\\pylabtools.py:152: UserWarning: Glyph 44288 (\\N{HANGUL SYLLABLE GWAN}) missing from current font.\n",
      "  fig.canvas.print_figure(bytes_io, **kw)\n",
      "c:\\Users\\KDP12\\anaconda3\\envs\\MY_PYTHON\\lib\\site-packages\\IPython\\core\\pylabtools.py:152: UserWarning: Glyph 51320 (\\N{HANGUL SYLLABLE JOL}) missing from current font.\n",
      "  fig.canvas.print_figure(bytes_io, **kw)\n",
      "c:\\Users\\KDP12\\anaconda3\\envs\\MY_PYTHON\\lib\\site-packages\\IPython\\core\\pylabtools.py:152: UserWarning: Glyph 51060 (\\N{HANGUL SYLLABLE I}) missing from current font.\n",
      "  fig.canvas.print_figure(bytes_io, **kw)\n",
      "c:\\Users\\KDP12\\anaconda3\\envs\\MY_PYTHON\\lib\\site-packages\\IPython\\core\\pylabtools.py:152: UserWarning: Glyph 44256 (\\N{HANGUL SYLLABLE GO}) missing from current font.\n",
      "  fig.canvas.print_figure(bytes_io, **kw)\n",
      "findfont: Font family 'KBO Dia Gothic_bold' not found.\n",
      "findfont: Font family 'KBO Dia Gothic_bold' not found.\n",
      "findfont: Font family 'KBO Dia Gothic_bold' not found.\n"
     ]
    },
    {
     "data": {
      "image/png": "[encoded data removed]",
      "text/plain": [
       "<Figure size 1000x700 with 1 Axes>"
      ]
     },
     "metadata": {},
     "output_type": "display_data"
    }
   ],
   "source": [
    "fig= plt.figure(figsize=(10,7))\n",
    "ax1 = fig.add_subplot(1,1,1)\n",
    "\n",
    "sns.barplot(x=\"지역\",y=\"임금\",hue=\"학력\",data=df,ax=ax1)\n",
    "ax1.set_title(\"지역별 연봉\",size=20)\n",
    "ax1.set_xlabel(\"지역\",size=12)\n",
    "ax1.set_ylabel(\"연봉(만원/년)\",size=12)\n",
    "plt.xticks(rotation=45)\n",
    "\n",
    "plt.show()"
   ]
  },
  {
   "cell_type": "code",
   "execution_count": 49,
   "metadata": {},
   "outputs": [
    {
     "name": "stderr",
     "output_type": "stream",
     "text": [
      "c:\\Users\\KDP12\\anaconda3\\envs\\MY_PYTHON\\lib\\site-packages\\seaborn\\utils.py:80: UserWarning: Glyph 51452 (\\N{HANGUL SYLLABLE JU}) missing from current font.\n",
      "  fig.canvas.draw()\n",
      "c:\\Users\\KDP12\\anaconda3\\envs\\MY_PYTHON\\lib\\site-packages\\seaborn\\utils.py:80: UserWarning: Glyph 51068 (\\N{HANGUL SYLLABLE IL}) missing from current font.\n",
      "  fig.canvas.draw()\n",
      "c:\\Users\\KDP12\\anaconda3\\envs\\MY_PYTHON\\lib\\site-packages\\seaborn\\utils.py:80: UserWarning: Glyph 44540 (\\N{HANGUL SYLLABLE GEUN}) missing from current font.\n",
      "  fig.canvas.draw()\n",
      "c:\\Users\\KDP12\\anaconda3\\envs\\MY_PYTHON\\lib\\site-packages\\seaborn\\utils.py:80: UserWarning: Glyph 47924 (\\N{HANGUL SYLLABLE MU}) missing from current font.\n",
      "  fig.canvas.draw()\n",
      "c:\\Users\\KDP12\\anaconda3\\envs\\MY_PYTHON\\lib\\site-packages\\seaborn\\utils.py:80: UserWarning: Glyph 44221 (\\N{HANGUL SYLLABLE GYEONG}) missing from current font.\n",
      "  fig.canvas.draw()\n",
      "c:\\Users\\KDP12\\anaconda3\\envs\\MY_PYTHON\\lib\\site-packages\\seaborn\\utils.py:80: UserWarning: Glyph 44592 (\\N{HANGUL SYLLABLE GI}) missing from current font.\n",
      "  fig.canvas.draw()\n",
      "c:\\Users\\KDP12\\anaconda3\\envs\\MY_PYTHON\\lib\\site-packages\\seaborn\\utils.py:80: UserWarning: Glyph 46020 (\\N{HANGUL SYLLABLE DO}) missing from current font.\n",
      "  fig.canvas.draw()\n",
      "c:\\Users\\KDP12\\anaconda3\\envs\\MY_PYTHON\\lib\\site-packages\\seaborn\\utils.py:80: UserWarning: Glyph 49345 (\\N{HANGUL SYLLABLE SANG}) missing from current font.\n",
      "  fig.canvas.draw()\n",
      "c:\\Users\\KDP12\\anaconda3\\envs\\MY_PYTHON\\lib\\site-packages\\seaborn\\utils.py:80: UserWarning: Glyph 45224 (\\N{HANGUL SYLLABLE NAM}) missing from current font.\n",
      "  fig.canvas.draw()\n",
      "c:\\Users\\KDP12\\anaconda3\\envs\\MY_PYTHON\\lib\\site-packages\\seaborn\\utils.py:80: UserWarning: Glyph 48513 (\\N{HANGUL SYLLABLE BUG}) missing from current font.\n",
      "  fig.canvas.draw()\n",
      "c:\\Users\\KDP12\\anaconda3\\envs\\MY_PYTHON\\lib\\site-packages\\seaborn\\utils.py:80: UserWarning: Glyph 44305 (\\N{HANGUL SYLLABLE GWANG}) missing from current font.\n",
      "  fig.canvas.draw()\n",
      "c:\\Users\\KDP12\\anaconda3\\envs\\MY_PYTHON\\lib\\site-packages\\seaborn\\utils.py:80: UserWarning: Glyph 50669 (\\N{HANGUL SYLLABLE YEOG}) missing from current font.\n",
      "  fig.canvas.draw()\n",
      "c:\\Users\\KDP12\\anaconda3\\envs\\MY_PYTHON\\lib\\site-packages\\seaborn\\utils.py:80: UserWarning: Glyph 49884 (\\N{HANGUL SYLLABLE SI}) missing from current font.\n",
      "  fig.canvas.draw()\n",
      "c:\\Users\\KDP12\\anaconda3\\envs\\MY_PYTHON\\lib\\site-packages\\seaborn\\utils.py:80: UserWarning: Glyph 45824 (\\N{HANGUL SYLLABLE DAE}) missing from current font.\n",
      "  fig.canvas.draw()\n",
      "c:\\Users\\KDP12\\anaconda3\\envs\\MY_PYTHON\\lib\\site-packages\\seaborn\\utils.py:80: UserWarning: Glyph 44396 (\\N{HANGUL SYLLABLE GU}) missing from current font.\n",
      "  fig.canvas.draw()\n",
      "c:\\Users\\KDP12\\anaconda3\\envs\\MY_PYTHON\\lib\\site-packages\\seaborn\\utils.py:80: UserWarning: Glyph 51204 (\\N{HANGUL SYLLABLE JEON}) missing from current font.\n",
      "  fig.canvas.draw()\n",
      "c:\\Users\\KDP12\\anaconda3\\envs\\MY_PYTHON\\lib\\site-packages\\seaborn\\utils.py:80: UserWarning: Glyph 48512 (\\N{HANGUL SYLLABLE BU}) missing from current font.\n",
      "  fig.canvas.draw()\n",
      "c:\\Users\\KDP12\\anaconda3\\envs\\MY_PYTHON\\lib\\site-packages\\seaborn\\utils.py:80: UserWarning: Glyph 49328 (\\N{HANGUL SYLLABLE SAN}) missing from current font.\n",
      "  fig.canvas.draw()\n",
      "c:\\Users\\KDP12\\anaconda3\\envs\\MY_PYTHON\\lib\\site-packages\\seaborn\\utils.py:80: UserWarning: Glyph 49436 (\\N{HANGUL SYLLABLE SEO}) missing from current font.\n",
      "  fig.canvas.draw()\n",
      "c:\\Users\\KDP12\\anaconda3\\envs\\MY_PYTHON\\lib\\site-packages\\seaborn\\utils.py:80: UserWarning: Glyph 50872 (\\N{HANGUL SYLLABLE UL}) missing from current font.\n",
      "  fig.canvas.draw()\n",
      "c:\\Users\\KDP12\\anaconda3\\envs\\MY_PYTHON\\lib\\site-packages\\seaborn\\utils.py:80: UserWarning: Glyph 53945 (\\N{HANGUL SYLLABLE TEUG}) missing from current font.\n",
      "  fig.canvas.draw()\n",
      "c:\\Users\\KDP12\\anaconda3\\envs\\MY_PYTHON\\lib\\site-packages\\seaborn\\utils.py:80: UserWarning: Glyph 48324 (\\N{HANGUL SYLLABLE BYEOL}) missing from current font.\n",
      "  fig.canvas.draw()\n",
      "c:\\Users\\KDP12\\anaconda3\\envs\\MY_PYTHON\\lib\\site-packages\\seaborn\\utils.py:80: UserWarning: Glyph 49464 (\\N{HANGUL SYLLABLE SE}) missing from current font.\n",
      "  fig.canvas.draw()\n",
      "c:\\Users\\KDP12\\anaconda3\\envs\\MY_PYTHON\\lib\\site-packages\\seaborn\\utils.py:80: UserWarning: Glyph 51333 (\\N{HANGUL SYLLABLE JONG}) missing from current font.\n",
      "  fig.canvas.draw()\n",
      "c:\\Users\\KDP12\\anaconda3\\envs\\MY_PYTHON\\lib\\site-packages\\seaborn\\utils.py:80: UserWarning: Glyph 51088 (\\N{HANGUL SYLLABLE JA}) missing from current font.\n",
      "  fig.canvas.draw()\n",
      "c:\\Users\\KDP12\\anaconda3\\envs\\MY_PYTHON\\lib\\site-packages\\seaborn\\utils.py:80: UserWarning: Glyph 52824 (\\N{HANGUL SYLLABLE CI}) missing from current font.\n",
      "  fig.canvas.draw()\n",
      "c:\\Users\\KDP12\\anaconda3\\envs\\MY_PYTHON\\lib\\site-packages\\seaborn\\utils.py:80: UserWarning: Glyph 51064 (\\N{HANGUL SYLLABLE IN}) missing from current font.\n",
      "  fig.canvas.draw()\n",
      "c:\\Users\\KDP12\\anaconda3\\envs\\MY_PYTHON\\lib\\site-packages\\seaborn\\utils.py:80: UserWarning: Glyph 52380 (\\N{HANGUL SYLLABLE CEON}) missing from current font.\n",
      "  fig.canvas.draw()\n",
      "c:\\Users\\KDP12\\anaconda3\\envs\\MY_PYTHON\\lib\\site-packages\\seaborn\\utils.py:80: UserWarning: Glyph 46972 (\\N{HANGUL SYLLABLE RA}) missing from current font.\n",
      "  fig.canvas.draw()\n",
      "c:\\Users\\KDP12\\anaconda3\\envs\\MY_PYTHON\\lib\\site-packages\\seaborn\\utils.py:80: UserWarning: Glyph 52649 (\\N{HANGUL SYLLABLE CUNG}) missing from current font.\n",
      "  fig.canvas.draw()\n",
      "c:\\Users\\KDP12\\anaconda3\\envs\\MY_PYTHON\\lib\\site-packages\\seaborn\\utils.py:80: UserWarning: Glyph 52397 (\\N{HANGUL SYLLABLE CEONG}) missing from current font.\n",
      "  fig.canvas.draw()\n",
      "c:\\Users\\KDP12\\anaconda3\\envs\\MY_PYTHON\\lib\\site-packages\\IPython\\core\\pylabtools.py:152: UserWarning: Glyph 44540 (\\N{HANGUL SYLLABLE GEUN}) missing from current font.\n",
      "  fig.canvas.print_figure(bytes_io, **kw)\n",
      "c:\\Users\\KDP12\\anaconda3\\envs\\MY_PYTHON\\lib\\site-packages\\IPython\\core\\pylabtools.py:152: UserWarning: Glyph 47924 (\\N{HANGUL SYLLABLE MU}) missing from current font.\n",
      "  fig.canvas.print_figure(bytes_io, **kw)\n",
      "c:\\Users\\KDP12\\anaconda3\\envs\\MY_PYTHON\\lib\\site-packages\\IPython\\core\\pylabtools.py:152: UserWarning: Glyph 54805 (\\N{HANGUL SYLLABLE HYEONG}) missing from current font.\n",
      "  fig.canvas.print_figure(bytes_io, **kw)\n",
      "c:\\Users\\KDP12\\anaconda3\\envs\\MY_PYTHON\\lib\\site-packages\\IPython\\core\\pylabtools.py:152: UserWarning: Glyph 53468 (\\N{HANGUL SYLLABLE TAE}) missing from current font.\n",
      "  fig.canvas.print_figure(bytes_io, **kw)\n",
      "findfont: Font family 'KBO Dia Gothic_bold' not found.\n",
      "findfont: Font family 'KBO Dia Gothic_bold' not found.\n",
      "c:\\Users\\KDP12\\anaconda3\\envs\\MY_PYTHON\\lib\\site-packages\\IPython\\core\\pylabtools.py:152: UserWarning: Glyph 51648 (\\N{HANGUL SYLLABLE JI}) missing from current font.\n",
      "  fig.canvas.print_figure(bytes_io, **kw)\n",
      "c:\\Users\\KDP12\\anaconda3\\envs\\MY_PYTHON\\lib\\site-packages\\IPython\\core\\pylabtools.py:152: UserWarning: Glyph 50669 (\\N{HANGUL SYLLABLE YEOG}) missing from current font.\n",
      "  fig.canvas.print_figure(bytes_io, **kw)\n",
      "c:\\Users\\KDP12\\anaconda3\\envs\\MY_PYTHON\\lib\\site-packages\\IPython\\core\\pylabtools.py:152: UserWarning: Glyph 48324 (\\N{HANGUL SYLLABLE BYEOL}) missing from current font.\n",
      "  fig.canvas.print_figure(bytes_io, **kw)\n",
      "c:\\Users\\KDP12\\anaconda3\\envs\\MY_PYTHON\\lib\\site-packages\\IPython\\core\\pylabtools.py:152: UserWarning: Glyph 44221 (\\N{HANGUL SYLLABLE GYEONG}) missing from current font.\n",
      "  fig.canvas.print_figure(bytes_io, **kw)\n",
      "c:\\Users\\KDP12\\anaconda3\\envs\\MY_PYTHON\\lib\\site-packages\\IPython\\core\\pylabtools.py:152: UserWarning: Glyph 44592 (\\N{HANGUL SYLLABLE GI}) missing from current font.\n",
      "  fig.canvas.print_figure(bytes_io, **kw)\n",
      "c:\\Users\\KDP12\\anaconda3\\envs\\MY_PYTHON\\lib\\site-packages\\IPython\\core\\pylabtools.py:152: UserWarning: Glyph 46020 (\\N{HANGUL SYLLABLE DO}) missing from current font.\n",
      "  fig.canvas.print_figure(bytes_io, **kw)\n",
      "c:\\Users\\KDP12\\anaconda3\\envs\\MY_PYTHON\\lib\\site-packages\\IPython\\core\\pylabtools.py:152: UserWarning: Glyph 49345 (\\N{HANGUL SYLLABLE SANG}) missing from current font.\n",
      "  fig.canvas.print_figure(bytes_io, **kw)\n",
      "c:\\Users\\KDP12\\anaconda3\\envs\\MY_PYTHON\\lib\\site-packages\\IPython\\core\\pylabtools.py:152: UserWarning: Glyph 45224 (\\N{HANGUL SYLLABLE NAM}) missing from current font.\n",
      "  fig.canvas.print_figure(bytes_io, **kw)\n",
      "c:\\Users\\KDP12\\anaconda3\\envs\\MY_PYTHON\\lib\\site-packages\\IPython\\core\\pylabtools.py:152: UserWarning: Glyph 48513 (\\N{HANGUL SYLLABLE BUG}) missing from current font.\n",
      "  fig.canvas.print_figure(bytes_io, **kw)\n",
      "c:\\Users\\KDP12\\anaconda3\\envs\\MY_PYTHON\\lib\\site-packages\\IPython\\core\\pylabtools.py:152: UserWarning: Glyph 44305 (\\N{HANGUL SYLLABLE GWANG}) missing from current font.\n",
      "  fig.canvas.print_figure(bytes_io, **kw)\n",
      "c:\\Users\\KDP12\\anaconda3\\envs\\MY_PYTHON\\lib\\site-packages\\IPython\\core\\pylabtools.py:152: UserWarning: Glyph 51452 (\\N{HANGUL SYLLABLE JU}) missing from current font.\n",
      "  fig.canvas.print_figure(bytes_io, **kw)\n",
      "c:\\Users\\KDP12\\anaconda3\\envs\\MY_PYTHON\\lib\\site-packages\\IPython\\core\\pylabtools.py:152: UserWarning: Glyph 49884 (\\N{HANGUL SYLLABLE SI}) missing from current font.\n",
      "  fig.canvas.print_figure(bytes_io, **kw)\n",
      "c:\\Users\\KDP12\\anaconda3\\envs\\MY_PYTHON\\lib\\site-packages\\IPython\\core\\pylabtools.py:152: UserWarning: Glyph 45824 (\\N{HANGUL SYLLABLE DAE}) missing from current font.\n",
      "  fig.canvas.print_figure(bytes_io, **kw)\n",
      "c:\\Users\\KDP12\\anaconda3\\envs\\MY_PYTHON\\lib\\site-packages\\IPython\\core\\pylabtools.py:152: UserWarning: Glyph 44396 (\\N{HANGUL SYLLABLE GU}) missing from current font.\n",
      "  fig.canvas.print_figure(bytes_io, **kw)\n",
      "c:\\Users\\KDP12\\anaconda3\\envs\\MY_PYTHON\\lib\\site-packages\\IPython\\core\\pylabtools.py:152: UserWarning: Glyph 51204 (\\N{HANGUL SYLLABLE JEON}) missing from current font.\n",
      "  fig.canvas.print_figure(bytes_io, **kw)\n",
      "c:\\Users\\KDP12\\anaconda3\\envs\\MY_PYTHON\\lib\\site-packages\\IPython\\core\\pylabtools.py:152: UserWarning: Glyph 48512 (\\N{HANGUL SYLLABLE BU}) missing from current font.\n",
      "  fig.canvas.print_figure(bytes_io, **kw)\n",
      "c:\\Users\\KDP12\\anaconda3\\envs\\MY_PYTHON\\lib\\site-packages\\IPython\\core\\pylabtools.py:152: UserWarning: Glyph 49328 (\\N{HANGUL SYLLABLE SAN}) missing from current font.\n",
      "  fig.canvas.print_figure(bytes_io, **kw)\n",
      "c:\\Users\\KDP12\\anaconda3\\envs\\MY_PYTHON\\lib\\site-packages\\IPython\\core\\pylabtools.py:152: UserWarning: Glyph 49436 (\\N{HANGUL SYLLABLE SEO}) missing from current font.\n",
      "  fig.canvas.print_figure(bytes_io, **kw)\n",
      "c:\\Users\\KDP12\\anaconda3\\envs\\MY_PYTHON\\lib\\site-packages\\IPython\\core\\pylabtools.py:152: UserWarning: Glyph 50872 (\\N{HANGUL SYLLABLE UL}) missing from current font.\n",
      "  fig.canvas.print_figure(bytes_io, **kw)\n",
      "c:\\Users\\KDP12\\anaconda3\\envs\\MY_PYTHON\\lib\\site-packages\\IPython\\core\\pylabtools.py:152: UserWarning: Glyph 53945 (\\N{HANGUL SYLLABLE TEUG}) missing from current font.\n",
      "  fig.canvas.print_figure(bytes_io, **kw)\n",
      "c:\\Users\\KDP12\\anaconda3\\envs\\MY_PYTHON\\lib\\site-packages\\IPython\\core\\pylabtools.py:152: UserWarning: Glyph 49464 (\\N{HANGUL SYLLABLE SE}) missing from current font.\n",
      "  fig.canvas.print_figure(bytes_io, **kw)\n",
      "c:\\Users\\KDP12\\anaconda3\\envs\\MY_PYTHON\\lib\\site-packages\\IPython\\core\\pylabtools.py:152: UserWarning: Glyph 51333 (\\N{HANGUL SYLLABLE JONG}) missing from current font.\n",
      "  fig.canvas.print_figure(bytes_io, **kw)\n",
      "c:\\Users\\KDP12\\anaconda3\\envs\\MY_PYTHON\\lib\\site-packages\\IPython\\core\\pylabtools.py:152: UserWarning: Glyph 51088 (\\N{HANGUL SYLLABLE JA}) missing from current font.\n",
      "  fig.canvas.print_figure(bytes_io, **kw)\n",
      "c:\\Users\\KDP12\\anaconda3\\envs\\MY_PYTHON\\lib\\site-packages\\IPython\\core\\pylabtools.py:152: UserWarning: Glyph 52824 (\\N{HANGUL SYLLABLE CI}) missing from current font.\n",
      "  fig.canvas.print_figure(bytes_io, **kw)\n",
      "c:\\Users\\KDP12\\anaconda3\\envs\\MY_PYTHON\\lib\\site-packages\\IPython\\core\\pylabtools.py:152: UserWarning: Glyph 51064 (\\N{HANGUL SYLLABLE IN}) missing from current font.\n",
      "  fig.canvas.print_figure(bytes_io, **kw)\n",
      "c:\\Users\\KDP12\\anaconda3\\envs\\MY_PYTHON\\lib\\site-packages\\IPython\\core\\pylabtools.py:152: UserWarning: Glyph 52380 (\\N{HANGUL SYLLABLE CEON}) missing from current font.\n",
      "  fig.canvas.print_figure(bytes_io, **kw)\n",
      "c:\\Users\\KDP12\\anaconda3\\envs\\MY_PYTHON\\lib\\site-packages\\IPython\\core\\pylabtools.py:152: UserWarning: Glyph 46972 (\\N{HANGUL SYLLABLE RA}) missing from current font.\n",
      "  fig.canvas.print_figure(bytes_io, **kw)\n",
      "c:\\Users\\KDP12\\anaconda3\\envs\\MY_PYTHON\\lib\\site-packages\\IPython\\core\\pylabtools.py:152: UserWarning: Glyph 52649 (\\N{HANGUL SYLLABLE CUNG}) missing from current font.\n",
      "  fig.canvas.print_figure(bytes_io, **kw)\n",
      "c:\\Users\\KDP12\\anaconda3\\envs\\MY_PYTHON\\lib\\site-packages\\IPython\\core\\pylabtools.py:152: UserWarning: Glyph 52397 (\\N{HANGUL SYLLABLE CEONG}) missing from current font.\n",
      "  fig.canvas.print_figure(bytes_io, **kw)\n",
      "findfont: Font family 'KBO Dia Gothic_bold' not found.\n",
      "findfont: Font family 'KBO Dia Gothic_bold' not found.\n",
      "c:\\Users\\KDP12\\anaconda3\\envs\\MY_PYTHON\\lib\\site-packages\\IPython\\core\\pylabtools.py:152: UserWarning: Glyph 51068 (\\N{HANGUL SYLLABLE IL}) missing from current font.\n",
      "  fig.canvas.print_figure(bytes_io, **kw)\n",
      "findfont: Font family 'KBO Dia Gothic_bold' not found.\n"
     ]
    },
    {
     "data": {
      "image/png": "[encoded data removed]",
      "text/plain": [
       "<Figure size 1000x1000 with 2 Axes>"
      ]
     },
     "metadata": {},
     "output_type": "display_data"
    }
   ],
   "source": [
    "fig= plt.figure(figsize=(10,10))\n",
    "ax1= fig.add_subplot(1,1,1)\n",
    "\n",
    "table1= df.pivot_table(index=[\"지역\"],columns=[\"근무형태\"],aggfunc=\"size\")\n",
    "sns.heatmap(table1,annot=True,cmap=\"YlOrBr\",ax=ax1)\n",
    "# ax1.set_xticklabels([\"월요일\",\"화요일\",\"수요일\",\"목요일\",\"금요일\",\"토요일\",\"일요일\"])\n",
    "ax1.set_xlabel(xlabel=\"지역\",size=12)\n",
    "ax1.set_ylabel(ylabel=\"근무형태\",size=12)\n",
    "ax1.set_title(\"지역별 근무형태\",size=20)\n",
    "\n",
    "plt.show()\n"
   ]
  },
  {
   "cell_type": "code",
   "execution_count": 50,
   "metadata": {},
   "outputs": [],
   "source": [
    "list_work=\" \".join(df[\"직무내용\"].str.replace(\"\\xa0\",\"\").str.replace(\"\\r\",\"\").to_list())"
   ]
  },
  {
   "cell_type": "code",
   "execution_count": 51,
   "metadata": {},
   "outputs": [
    {
     "data": {
      "text/plain": [
       "'웹개발-프론트개발 C#활용,Java,VisualBasic프로그램개발1.진취적이고,적극적이며,긍정적,유화적마인드를가자신분이개발에흥미를가진분은지원을해주세요.2.업체협의를위한방문이필요하므로운전가능하신분지원해주세요.*개발흥미없거나,분석하고싶지않거나사고하기싫으신분은죄송하지만지원은보류해주세요. 업무:JSP웹개발및유지관리업무공공기관개발및유지관리업무필요기술:JAVA,JSP,Springframework,표준프레임워크,javascript,SQL,HTML우대사항:정보처리기사및관련분야자격증,관련학과전공자우대면접비제공고용형태:정규직(수습3개월,감액없음)성별,나이무관 *임상,비임상및바이오관련개발소프트웨어의검증(S/WValidation)*NCScodeLM1903020309_14v1에해당되는업무로개발된소프트웨어의운용검증및신뢰성검증분야 응용소프트웨어,머신비전검사기개발/제작으로프로그래밍을주업무로함.C++를이용해서제어처리공정을구현,관리,테스트하는업무. 1.지원자격-전산관련전문학사이상졸업자-컴퓨터활용능력우수자-경력직우대-관련업무경력자-관련자격증소지자-프로그래밍(자바,웹,앱등)기술보유자-DBMS사용가능자-보훈대상자우대2.계약조건-고용형태:계약직(기간제계약직)-1년단위로재계약-보수및근무조건은당사업단규정에의거결정3.접수기간및방법:2023.08.12(토)∼08.18(금),16:00방문및우편,e-mail(rhrhkd@jbsc.ac.kr)(마감일까지도착분에한함)기타자세한사항은전북과학대학교홈페이지대학공고를참조하세요. 업종:기업소프트웨어개발업무:조선,건설,플랜트,자동차,국방등분야엔지니어링소프트웨어개발직종:C#,Unity,VR,AR ★반드시전산학과전공자만지원바랍니다.★각대학교산학협력단연구관리시스템및병원e-IRB시스템개발및유지보수,DB관리,운영서버관리업무.정보처리산업기사등관련자격증미소지자는JAVA관련교육과정수료하신분을우대합니다.(졸업예정자도가능) -시스템개발-Web프로그래밍가능자-JSP,JAVA기반웹프로그래밍 -시스템유지보수(기존웹사이트운영및고도화)-Web프로그래밍가능자-JSP,JAVA기반웹프로그래밍 자사연계솔루션기반프로젝트수행진천공공기관유지보수본사(서울)에서2개월간의기술교육후,진천으로파견되어선임자와약2개월인수인계예정2~3년진천유지보수단독수행지방근무자혜택1)연봉외별도출장수당지급2)개인전용숙소제공및관리비전액지원 [주)아이윈플러스엔지니어(연구보조원)정규직신입/경력직채용공고]-직무내용:1)일반기초분석및제품측정업무/불량시료보관및DB관리2)신뢰성평가및데이터관리/신규PKG제작지원(일부장비)-연봉:3,100만원(신입기준)-근무시간:주5일09:00~18:00-우대사항:공학계열전기.전자관련전공자/반도체생산경험자우대/컴퓨터활용능력우수/CAD/CAM능숙자/인근거주자/차량소지자 채용직무:개발-경력조건:신입무관채용일정:서류평가및면접전형단계:서류전형>면접진행>최종심사>최종합격지원대상:웹또는앱개발가능자우대사항:관련전공(자격증보유)자,AI(인공지능)관심자,프로그램개발전과정경험자,창업경력(경험)자급여:2400만원내외협의후결정포트폴리오필수제출바랍니다. 자사몰홈페이지및오픈마켓폐쇠몰소셜미디어사이트관리4대보험가입 서비스사업부소속으로자사시스템엔지니어신입을채용합니다.**수습3개월적용후(급여100%지급),정규직전환이가능합니다.-학력:고등학교졸업이상-경력:신입(경력3년이하지원가능)담당업무ㆍIPCC/IPT인프라구축프로젝트수행엔지니어ㆍ자사솔루션설치및유지보수지원(Linux,WindowsServer,DBMS)ㆍ자사솔루션툴을이용한ARS시나리오변경개발기술지원우대조건ㆍ컴퓨터/시스템공학관련전공자ㆍ정보처리관련자격증ㆍ컴퓨터활용능력우수,인근거주자,해당직무근무경험 [모집부문]-----------------------------------------------------1.담당업무:유지보수개발관련업무(지능형교통)2.자격요건-WebProgrammingSkill-유지보수개발관련업무[우대사항]------------------------------------------------------홈페이지개발경험자우대-컴퓨터공학/소프트웨어전공자우대-정보처리기사및관련자격증우대-운전가능자우대[근무조건]------------------------------------------------------주5일근무(평일09:00~18:00)-근무형태:정규직-급여:정규직(연봉2,400만원이상)-근무지역:경상북도구미시신평동구금오공대교통정보센터[제출서류]------------------------------------------------------이력서(이력서에연락처기재)[접수방법]------------------------------------------------------이메일(yhs@dhits.co.kr)제출서류지원-문의처:053-817-3312,010-7175-5732가족적인분위기에서즐겁게일하실수있을겁니다.빠른지원부탁드립니다. -전자회로설계-F/W설계 업무내용:플랜트계장및전기.전자.자동제어설계모집부문:자동제어설계고용형태:정규직모집인원:2명학력:대졸(2,3년)이상/비전공자는경력우선연령:무관성별:무관우대조건:관련자격증소지자연봉:협의후결정복리후생:4대보험,중식.석식지원,숙소지원,경조휴가근무지역:평택(삼성전자평택캠퍼스앞) -온라인광고플랫폼개발-Python기반프론트엔드/백엔드서비스개발-PHP기반웹서비스개발 1.기술:java,JSP,websquare2.업무:부품대리점시스템운영및개발 신입사원구합니다프로그래밍을조금다루고,아두이노코딩가능하신분을구합니다프로그램개발에관심이많고,좋아해서아이디어를내보기도하고,서로윈윈하여같이발전할수있는적극적인사람이었으면좋겠습니다개발자와같이일하게되어많이배울수있는기회가되실꺼예요~프로젝트가잘성립이된다면상여금도많이지급할예정입니다.[전자부품소프트웨어개발>전자부품소프트웨어현장시험]시험환경구성하기,현장운용시험하기,시험결과보고서작성하기[전자부품소프트웨어개발>전자부품소프트웨어관리]소프트웨어사용설명서제작하기,소프트웨어기능개선하기,소프트웨어형상관리하기[전자부품소프트웨어개발>전자부품소프트웨어개발계획수립]기능정의하기,개발방법결정하기,수행계획서작성하기[전자부품소프트웨어개발>전자부품소프트웨어제작]소프트웨어구조설계하기,모듈별상세설계하기,소프트웨어코딩하기[전자부품소프트웨어개발>전자부품소프트웨어시험]소프트웨어단위시험하기,소프트웨어통합시험하기,소프트웨어오류수정하기 ∙전산업무시스템전반적인이해(업무시스템,이메일,홈페이지,클라우드등)를바탕으로한문의및조치사항전담∙전산시스템/정보보안관련현황관리·환경조사등을토대로한운영전략수립지원및행정업무∙사내모든IT시스템및솔루션기술지원 직무내용-전기차충전기UI개발및통신연동프로토콜구현-Websocket통신및TCP통신-OCPP통신구현자격요건학력:전문대졸이상경력무관,신입가능Windows(C#,C언어)개발가능자의사소통을중요시하고,문제해결에능동적인자세를갖춘자우대사항Android/Linux가능자경력3년이상관련학과전공자 안녕하세요당사는강소기업,조달공공혁신지정제품,기술특허보유,공공클라우드보안인증,GS인증마크,벤처기업등차별화된기술력을보유하고있는회사로다음과같이인재채용을진행하고있습니다.전산전공,또는프로그래밍전문가과정을이수하고활달하고,창의적인성격의소유자를대상으로신입사원을선발하고있습니다.회사에대한소개는당사홈페이지www.solbitech.com를방문하시면자세하게설명되어있습니다귀하의능력을마음껏발휘할수있는솔비텍입사지원을진심으로환영합니다감사합니다 주요업무-인공지능알고리즘개발및연구-인공지능서비스솔루션개발-Vision/TimeSeries데이터처리및분석자격요건-전반적인AI기술에대한이해가있으신분-Vision/TimeSeries딥러닝모델에대한이해및학습경험-딥러닝프레임워크(Pytorch,Tensorflow등)사용-데이터를분석하거나모델링을통해결과를도출해낸경험이있으신분*서류전형합격자에한하여면접일정별도안내드립니다. 반도체MES운영>SM(SystemManagement)-자동화시스템운영및유지보수(서버구축x)-서버:Unix,Linux,WindowNT-DB:오라클,MS-SQL,GPDB*오라클DB유경험자우대/전공불문직업훈련등을통한컴퓨터활용능력우수자지원가능-연봉외삼성전자인센티브별도지급-삼성전자통근버스,식사,기숙사제공(관리비는본인부담)*미국텍사스EnsselAmerica로파견기회있음 반도체MES운영>SM(SystemManagement)-자동화시스템운영및유지보수(서버구축x)-서버:Unix,Linux,WindowNT-DB:오라클,MS-SQL,GPDB*오라클DB유경험자우대/전공불문직업훈련등을통한컴퓨터활용능력우수자지원가능-연봉외삼성전자인센티브별도지급-삼성전자통근버스,식사,기숙사제공(관리비는본인부담) [모집부문]기술지원직사원(신입)[담당업무]-당사취급장비제품기술지원업무1.네트워크장비및기타통신장비기술지원2.네트워크타임서버장비기술지원[자격요건및우대사항]1.전공무관-정보통신관련교육수강자또는졸업자우대2.운전가능자(필수)*당사웹사이트:www.zenithtek.co.kr*워크넷지원시,희망연봉및자기소개서내용필수입력 직무-ASP,Javascript,JAVA,정보처리기사자격자격요건및우대사항-웹엔지니어경험자전형절차서류전형>면접진행>최종합격근무환경및복지-수습기간:3개월-수습기간중급여지급:100%지급-근무요일:월~금-근무시간:09시~18시-급여일자:25일-상여금/성과급/보너스:연말성과금있음-기타수당/기타처우①선택적복지(기혼자2백만원/미혼자1백만원)/건강,병원,치과등②핸드폰사용료지원③식대및업무상교통비지원-연차수당지급여부:전체사용-퇴직금지급여부:퇴직연금-식사제공:중식제공,업무상필요시조식,석식제공-기숙사제공:미제공-통근차량운행또는교통비지급:업무상교통비지급기타사항-2003년설립되었으며,2020년AI기업으로피보팅된기업으로전체인력중개발자70%이상이며,현재공공기관,금융기관,대기업중심으로개발을해주고있음.-개발자17명중특급인력(15년이상)이5명으로도움받을수있음기업정보기업명:지미션기업형태:중소기업업종:솔루션·SI·CRM·ERP설립일:2020.01.02사원수:33명매출액:39억4천만원홈페이지:http://www.gmission.com주소:서울성동구뚝섬로1길25(성수동1가,서울숲한라에코밸리)607호인사담당자정보연락처:02-2038-8451휴대폰:010-3063-8451e메일:dkyang@gmission.com이메일dkyang@gmission.com지원하시면서류검토후개별연락드림 mes(생산관리시스템)개발자신입사원모집합니다.c#이랑DB는오라클사용합니다.열정있고오래같이일할수있는인재구합니다.*설비인터페이스경험있으신분우대 -사내솔루션(ARGOSAPM)운영및기술지원-PC및모바일단말관리-서버및네트워크인프라관리 ■온라인쇼핑몰운영사무원-택배송장출력/사무보조-주문/결제관리-배송/교환/반품관리-재고/판매정보관리 저희는축산물을판매하는회사로서축산물관련쇼핑몰을준비중인업체입니다.쇼핑몰운영을성실히해주실분모집합니다.주요업무로는쇼핑몰운영및경리업무입니다.근무시간은09시부터17시까지입니다.한주는월요일부터토요일까지근무이며그다음주는화요일부터금요일까지입니다. 글피에서함께성장해나가실개발자를모십니다.○업무분야-전자회로설계-펌웨어코딩-PCB설계-IoT디바이스개발-산업용컨트롤러개발-계측및제어기기개발○전공:전자/전기/제어계측/메카트로닉스 1.담당업무ㆍ프로젝트별테스트필요사항선정및테스트계획수립ㆍ테스트설계및테스트케이스/체크리스트작성ㆍ품질확인을위한다양한테스트수행ㆍ테스트진행중발견된결함관리ㆍ전달력있는테스트결과작성및보고2.자격요건신입(사원급)컴퓨터/시스템공학과전공자우대 의료기기케이스를제작하는업체입니다.[의료기기연구개발>의료기기기구설계제작]기구설계정보수집하기,디자인컨셉설정하기,기구설계하기,시제품제작하기[의료기기연구개발>의료기기생산기술지원]생산공정설계하기,제품표준화하기,생산공정기술지원하기,생산품질관리지원하기남,여불문,초보자가능. 차량내통신기기(하이패스단말기,블랙박스등)자율주행관련S/W개발-블랙박스,V2X단말S/W개발-V2X.차량용단말기개발 -직무내용:자동차용안전벨트전장개발(소프트웨어프로그래밍언어개발)-자격요견:임베디드,자바,C,C#,C++,파이썬등SW프로그래밍언어활용,컴퓨터공학과,전기전자공학과우대-신입및경력1년이상우대(경력에따라임금협의가능) 웹프로그램개발,DB(MySQL,Maria,ORACLE),HTML5 콜센터시스템(우리회사솔루션,서버,DBMS,WAS등)설치및구축,유지보수 콜센터솔루션개발,OS(Windows/Linux),DB(MySQL,MS-SQL,ORACLE) 당사제품기술지원모집-네트워크통신장비,설정,컴퓨팅,프로젝트PM,통신설정작업,유지보수관리 -법률데이터구축자-프로그램개발자 서빙로봇설치,개발,평가,생산및서비스[로봇기구개발>로봇통합및기능시험]로봇통합하기,기능시험하기[로봇기구개발>로봇성능및신뢰성시험]성능시험하기,신뢰성시험하기,필드테스트하기[로봇기구개발>로봇운용]로봇운용하기,로봇시스템운용하기[로봇기구개발>로봇유지보수]로봇유지보수하기,로봇시스템유지보수하기[로봇기구개발>로봇생산관리]로봇생산계획수립및조립,생산전반관리 담당업무-매일새옷제휴점교육및운영관리-앱서비스이슈및개선방안파악-앱이용고객서비스지원-PMS이용업체교육및원격서비스지원(신입도가능,배워서할수있는업무)자격요건-적극적이고커뮤니케이션이원활하신분-중재및설득에능숙하신분-전략적사고를통한문제해결이가능하신분-긍정적인마인드소유자우대사항-해당직무근무경험이있으신분-MSOffice활용이가능하신분-컴퓨터,스마트기기활용이능숙하신분근무조건-고용형태:정규직-급여:면접후결정-근무시간-월~금:09~18시(점심12~13시)-토,일,공휴일휴무-근무지역:(07261)서울영등포구양산로91리드원센터-인근전철:서울5호선영등포구청역에서300m이내복리후생-매월매일새옷세탁포인트50,000포인트지원-해외리프레쉬휴가경비지원(1년이상근무한임직원대상)-최고급사양장비지원-생일휴가1일-도서지원제도-경조사비지급-명절선물-끊이지않는간식 2023년도클라우드창업성장지원(K-ICT클라우드혁신센터운영) 프로그램개발-병원정보시스템프로그램개발,유지관리 웹프로그래머웹개발자JAVAjavajspspring[정보기술>정보기술개발>응용SW엔지니어링]서버프로그램구현개발환경구축하기,공통모듈구현하기,배치프로그램구현하기,서버프로그램구현하기응용SW기초기술활용기본개발환경구축하기,네트워크기초활용하기,데이터베이스기초활용하기,운영체제기초활용하기프로그래밍언어활용기본문법활용하기,라이브러리활용하기,언어특성활용하기 [담당업무]ㆍ서버및네트워크시스템구축ㆍ가상화및서버운영관리,유지보수제출서류-이력서(사진부착必),자기소개서必[자격요건]경력사항:신입,경력(연차무관)학력사항:대학(2,3년)졸업이상직무기술:Linux,Linux서버운영,네트워크엔지니어,IT시스템엔지니어,시스템엔지니어,스토리지엔지니어,서버관리,서버구축,클라우드/가상화,시스템구축,네트워크구축·운영·관리,기타서버운영·관리[복리후생]·연차,중식/간식제공,리조트이용,명절선물,교통비지원등[전형절차]ㆍ서류전형>1차면접>최종합격 IBMServer유지보수기술자기술팀/HW및SW서버유지보수업무 홈페이지,블로그,SNS광고업데이트,포토샵,어도비일러스트작업온라인마케팅업무겸업및영업지원 MicrochipPIC계열임베디드프로그램개발자CortexM계열임베디드프로그램개발자로봇제어부프로그램개발드론펌웨어개발 채용조건:기본CRUD작성가능자페이징처리및파일업로드에대한지식이있는자로직에대한설계가가능하고이해력이빠른자개인프로젝트포트폴리오가있거나팀프로젝트에서주도적인역할을한자(기여율40%이상)면접시재출한포트폴리오pt준비바랍니다.업무내용:JAVASPRING/SPRINGBOOT이용한(전자정부프래임워크)웹백앤드개발,설계,ERD작성,리눅스서버설치등기획-퍼블리싱-프론트앤드-백앤드공정에서백앤드를담당합니다.로직설계및이해및코딩속도등이중요합니다.업무능숙도에따른정규직전환시연봉인상가능수습기간중최소업무요구조건에부합하셔야정규직전환이가능합니다.기본적인문해/독해력이없는분은적응이어렵습니다. [(주)샤인소프트IT개발직원모집]▶직무내용:스마트팩토리플랫폼개발,스마트팩토리프로젝트수행및개발-(솔루션개발)생산관리(MES),물류자동화(MCS),공장모니터링(FMB),레시피관리(RMS),프로젝트관리(PMS)등스마트팩토리분야솔루션개발-(공장자동화프로젝트수행및운영)스마트팩토리분야개발/구축프로젝트수행및구축된시스템운영업무진행-(기술연구및개발)지속적으로발전하는IT트랜드에따라새롭게대두되는기술을연구하고솔루션에적용하는업무수행▶필수자격:공학계열,JAVA/vue.js개발가능자▶우대자격:전산전공자,제조업프로젝트경험자▶자격요건:2023년징검다리일자리사업참여요건에적합한자-만18세이상구직중인경기도민으로기준중위소득100%이하또는취업취약계층(세부내용공고문참조)▶근로조건-임금:월급제,연차유급휴가미사용수당*23년경기도생활임금제(시급11,485원)에근거하여지급-근무기간:2023.8.~3개월*3개월유기계약직근로,계약종료후자체평가를통해정규직전환가능-근로조건:1일8시간,주5일근무원칙,4대보험의무가입-지원혜택:전담직업상담사취업지원등▶제출서류:입사지원서,개인정보수집및이용동의서,일모아시스템개인정보동의서등경기도일자리재단홈페이지공지사항참고https://gjf.or.kr/web/gjf/bbs/notice/5735▶지원방법:-이메일접수(stepping@gjf.or.kr)※자격요건,직무내용등공고문내확인.공고문확인필수※제출서류중일부미제출또는확인불가능시서류전형에불리하게작용할수있습니다.※이메일(잡아바)이외의다른경로를통한지원은접수되지않습니다.(워크넷지원불가)※관련문의:031-270-6643 업무용소프트웨어개발,공급및유지관리자치단체업무용소프트웨어및ERP시스템개발,공급및유지관리업무입니다. -회사내윈도우응용프로그램개발및유지보수함께성장해나갈개발자를구인합니다. 데이터바우처/스마트공방/스마트공장솔루션MES및응용웹프로그램솔루션개발웹환경에대한이해도가있으신분PHP/JavaScript/jQuery/json/HTML5/CSS3에대한이해와사용이가능하신분SQL사용이가능하신분다양한제조업체경험을원하시는분[우대사항]새로운개발환경(언어,기술등)습득/도입에거부감이없으신분업무진행간커뮤니케이션이원할하고협업이가능하신분관련자격증보유자우대(정보처리기사/산업기사외)운전가능자우대 -사내업무에필요한IT서비스운영및지원-시스템및네트워크모니터링-내부PaaS플랫폼기술지원-직원PC관리[필요기술]리눅스,윈도우 1.업무내용.프론트엔드개발2.필요기술.Vue.js개발가능자.Java,Spring,Linux가능자.퍼블리싱(HTML,CSS,JavaScript등)가능자우대.수습3개월조건있음.수습기간중100%급여지급 1.자동제어시스템개발/PLC,HMI프로그래밍/전기공사/계장(판넬제작)인원모집그외별도로청주LG화학유지보수업무(PLC상,중상)지원가능2.연구개발-국책과제수행3.제어판넬설계및제작***공주본사및대전(대화동)지사모두근무가능***열심히노력하여배우실분환영합니다.충분히가르치고교육해드립니다.이분야가쉽지않아노력이필요합니다.하지만노력후실력이오르면그만큼어디서든대우받습니다.그렇다고직원들부당하게일시키지않습니다.거의대부분정시퇴근하며,가끔출장있습니다.장기출장은거의없는데올해연말제주도출장있을수도있으니감안하시기바랍니다.직종을다시한번쉽게설명하면,기계를자동으로동작하게하는프로그램입니다.또한네트워크를통해제어하며데이터를저장및상위(빅데이터,MES)에전송하는일도합니다.관심있으신분들은마음편하게지원하시기바랍니다. [부산경제진흥원]채용대행입니다업종:자동차부품제조업모집직종:스마트팩토리관리자1명근무지:강서구가리새2로43지원자격:스마트팩토리운영자,네트워크(클라우딩컴퓨터운영관리가능자)_급여조건:월급250만원~(경력에따른임금협의)근무조건:주5일(08:00~17:00)-중,석식제공.과장급이상유류비지원,본인교육비보조,자녀학자금지원및생활안전자금대출지원방법:이력서와자기소개서워크넷입사지원가능지원문의;051-669-0641 1.업무:서버운영및관리,전산DB데이터관리,네트워크장비관리,VOIP장비관리,보안시스템운영,계열사정보보안관리,MS-SQLDB관리,C#개발2.필수사항:관련학과전공자,운전가능자3.우대사항:장기근속자,동일직무근무자(~5년미만) 웹솔루션기반웹프로그래머모집백엔드개발자 UX기획및컨설팅작업FIGMA를활용한UX기획문서작업(파워포인트및엑셀) ★상세모집공고:http://yeri0701.dothome.co.kr/img/개발직채용공고2.jpg포인드(주)는4차산업혁명의선두기업을목표로인공지능,딥러닝(Deep-Learning)기반의통합플랫폼을개발하는솔루션기업입니다.고품질의빅데이터를기반으로안면인식과행동인식,다중객체검출,상황분석알고리즘등스마트시티와스마트팩토리의전반을아우르는핵심기술들을연구개발하고있습니다.당사는2017년설립이후차세대기술의도입과어려운난제를해결하기위한노력으로매년가파르게성장하고있으며,회사뿐만아니라함께하는모든사원들이끝없이도전하고한층더성장하여각분야의전문가로거듭나기위한근무환경을만들어가기위해노력하고있습니다.당사와함께빠르게변화하는인공지능시장의수요에발맞춰,플랫폼기반의다양한서비스와새로운솔루션을만들어갈유능한인재분들을찾고있습니다.○모집부문및상세내용-SW개발(신입)[담당업무]·실시간대규모영상분석시스템설계및개발·대용량,범용데이터처리를위한아키텍쳐설계및개발·통합플랫폼연동소프트웨어개발·ObjectDetection,SemanticSegmentation활용개발·지능형관제솔루션개발·차량이상주행및교통흐름분석솔루션개발[자격요건]·신입·전자공학/컴퓨터공학전공자·딥러닝이해및활용경험·Python,C/C++기반알고리즘개발가능·Pytorch,Tensorflow,Keras등프레임워크활용가능[우대사항]·석·박사학위수여자·Cuda프로세싱유경험자·딥러닝,인공지능관련프로젝트경험자·AI/빅데이터분석경험자·정보처리기사이상자격증취득자★복리후생·업무에필요한고사양PC제공·본인이원하는키보드/마우스기본제공·마음껏먹을수있는간식과커피제공·생일,기념일축하선물제공·편안한자율복장·자유로운연차사용(기본연차+하계휴가5일)·해외출장시휴가연계사용가능·업무성과에따른성과급별도지급·산업기능요원(보충역)가능·자유로운분위기○근무조건ㆍ근무형태:정규직ㆍ근무일시:주5일,09:00~18:00(점심시간:12:00~13:00) [모집분야및담당업무]근무부서:SE팀솔루션기술지원인재담당업무:녹취솔루션구축및유지보수 기계도면설계[기계설계>기계설계>기계요소설계]2D&3D도면관리CAD도면작성(수정작업등)기계설계[기계설계>기계설계>기계요소설계]도면분석도면분석하기,요소부품투상하기 회사(생산제조업체)및대학에서이루어지는업무를Javascript,Jquery를사용하여웹프로그램개발을수행합니다(프런트엔드개발) [담당업무]1.웹프로그램개발프론트/백엔드사용기술-java-jsp-vuejs업무내용웹프로그램개발및유지보수 -모집부문및상세내용ㆍ모집부분:DELL서버/스토리지기술지원엔지니어모집[신입]ㆍ모집인원:기술지원부2명ㆍ업무내용:DELLEMC서버/스토리지설치및유지보수지원엔지니어-공통자격요건ㆍ학력:전문대졸이상-지원자격ㆍ경력:신입(면접후결정)-우대사항ㆍ컴퓨터/정보처리/시스템공학,공학계열ㆍ정보처리기사/기능사,사무자동화산업기사소유자우대ㆍ영어가능자,운전가능자,차량소지자,해외출장가능자,해당직무근무경험-근무조건ㆍ근무형태:정규직(수습기간)-3개월ㆍ근무일시:주5일(월~금)09:30~18:30ㆍ근무지역:(08501)서울금천구가산디지털2로184,816호-서울1호선가산디지털단지에서800m이내ㆍ복리후생:4대보험,퇴직연금가입,연말인센티브,명절선물,업무용노트북지급,차량유류비지급,야간교통비지급,기숙사보증금지원,자격증취득비지원등 신입직원을채용합니다.일은저희가알려드립니다.공부하고자하는열정과컴퓨터에대한열정이높으면지원가능합니다.의지가중요합니다.1.신입데이타베이스유지보수,관리,장애처리(oracle,mysql등)채용인원:1~2명내외2.신입WAS(webapplicationserver)유지보수관리,장애처리(weblogic,apache,tomcat외)채용인원:1~2명내외 -C#.NET개발(MSSQL,Oracle)-웹개발(JAVA/MVC,Spring,JSON,HTML5,AJAX) 1)스마트시티플랫폼설치및지원,유지보수2)SW테스팅및Wep/App개발전반품질관리 로봇및자동화장치프로그램ROS및PLC프로그램가능자[로봇소프트웨어개발>로봇시스템통합소프트웨어개발]다수로봇제어소프트웨어개발하기,서버연동소프트웨어개발하기,통합모니터링소프트웨어개발하기[로봇소프트웨어개발>경로계획소프트웨어개발]소프트웨어경로계획하기,소프트웨어궤적계획하기,충돌회피경로계획하기 *주요업무-프라이빗클라우드인프라기획및수행ㆍNutanix,VMware,AWS외-유무선네트워크/보안인프라기획및수행ㆍHPEARUBA,SecuiBLUEMAX,PiolinkPAS외*자격요건ㆍ학력:고졸이상ㆍ경력:신입~3년(사원~주임급)ㆍ군필또는면제*우대사항-유관업무경험자ㆍNutanix,VMware등가상화인프라구축/운영ㆍHPEAruba,Samsung,Cisco등유무선네트워크인프라구축/운영ㆍL4,방화벽구축/운영-유관자격증소지자ㆍNCA,NCP,CCNA,CCNP,ACMA,ACMP등*전형절차ㆍ서류전형>1차면접>임원면접>최종합격ㆍ면접일정은추후통보됩니다.*기타사항ㆍ경력직은직급/연봉협의후확정(이력서에희망연봉및직급명시요망)ㆍ직원개인노트북지급/필요시별도모니터포함ㆍ정규직채용직원전원업무용법인카드지급ㆍ장기근속(5년,10년)휴가및휴가비지급ㆍ중식제공및추가근무에따른식사제공ㆍ자유로운연차사용ㆍ직원간친목활동지원(동호회운영,비정기회식비등)ㆍ유연한출퇴근(근무지외업무시직출/직퇴,대체휴무,회식참석강요없음)*유의사항ㆍ허위사실이발견될경우채용이취소될수있습니다. 소프트웨어개발에관심이있는책임감있는분을원합니다.•C#언어이해도가높으신분•DB에대한이해도가높으신분(MSSQL,ORACLE)•성실하신분[산업용전자기기소프트웨어개발>응용소프트웨어개발]UI/UX구현하기,네트워크구현하기,모듈구현하기,소프트웨어통합하기,테스트자동화프로그램개발하기 ■모집분야-무선침입방지시스템(WIPS)/무선인증시스템(AUS)기술지원(팀원급)■담당업무-제품납품및설치-제품유지보수-제품기술지원-채널사기술지원및인력관리-고객사기술지원및응대 공장자동화및소프트웨어개발업체(주)이니스텍입니다.●모집부문및상세내용*업무내용ㆍ공장자동화관련장비PLC및DCS프로그램개발및시운전ㆍAUTOCAD도면설계*지원자격ㆍ신입사원모집(1명)*우대사항ㆍPLC및DCS자동화,전기/전자공학관련자격보유자*근무조건ㆍ근무형태:정규직ㆍ근무일시:주5일(월~금)오전9시~오후6시,현장상황따라변동ㆍ근무지역:경북포항시남구대이로111번길19-5*전형절차ㆍ서류전형ㆍ임원면접ㆍ최종합격*서류접수기간및방법ㆍ접수기간:2023년06월28일-채용시까지ㆍ이력서양식:자유양식ㆍ제출서류:이메일로이력서,자기소개서상시제출자유형식많은지원부탁드립니다. 순천만국제정원박람회내에서스카이큐브를운영하는회사입니다.(주)우진피알티기술본부채용공통자격요건ㆍ학력:무관담당업무ㆍ기술본부:PRT설비운영,차량운행제어,무인운행시스템,자동화설비우대사항ㆍIT실무경험자,OA및리눅스활용자,자동화시스템,철도학과,전자공학,기계공학,컴퓨터관련학과이공계열지원자격ㆍ경력:무관(신입도지원가능)임금ㆍ회사내규에따름 자바개발자SQL데이터베이스웹개발 모집직종:SW개발(java,전자정부,파이썬)직무내용:SI사업수행,자체솔루션개발,스마트공장시스템관리학력:학력무관경력:신입[우대조건]문서작성우수자,스프레드시트즉시출근가능자관련자격증보유자(정보처리기사,정보처리산업기사)**8월달유성구탑립동으로이전예정입니다. 학력(우대사항):관련학과졸업(4년재대학이상)또는예정자,관련업무경력자최소2년경험(우대사항):AI/Python/C++/openCV소유(우대사항):운전명허증,자동차소유(외근가능자)수습기간(최대):6개월>정규직 안녕하세요.주식회사아이에스엘입니다.(주)아이에스엘은유/무선네트워크,IP보안카메라를구축,컨설팅유지보수를전문으로하고있는기업입니다.성실히기술역량을발전시키면서일할수있는엔지니어를모집합니다.많은지원부탁드립니다. 모두의마음을움직이는온라인광고기획법인(주)모움에서열정적이고잠재력있는인재를모집합니다.▲근무조건근무요일:월~금근무시간:협의08시~19시중탄력근무가능급여:연봉3000만이상(협의)▲담당업무온라인광고에필요한랜딩페이지및배너제작홈페이지및쇼핑몰에필요한전반적인웹디자인SNS컨텐츠제작(카드뉴스,인스타튠등)전시홍보물디자인▲우대사항인근거주자관련자격증소지자웹퍼블리싱가능자프런트엔드개발자※위사항은필수요건이아닌우대사항입니다▲기타사항대리/과장직급★★포트폴리오필수제출★★(이메일pkt10@daum.net)▲(주)모움이원하는인재상(주)모움은모든직원들과같이즐거운회사생활을하실인재를원합니다.특별히모나지않은성격의소유자!업무를시켜서하는것이아닌자기주도적인마인드소유자!▲(주)모움의노력일과삶의균형인워라벨을위해노력하겠습니다.야근과추가근무없는업무환경을약속하겠습니다.회사의성장에발맞춰추가적인직원복지증진을약속합니다.아이디어가있다면프로젝트를주도적으로진행할수있도록모든자원을지원하겠습니다. 스마트물류자동화시스템구축[응용SW엔지니어링>인터페이스설계]인터페이스요구사항확인하기,인터페이스대상식별하기,인터페이스상세설계하기[응용SW엔지니어링>데이터입출력구현]논리데이터저장소확인하기,물리데이터저장소설계하기,데이터조작프로시저작성하기,데이터조작프로시저최적화하기[응용SW엔지니어링>인터페이스구현]인터페이스설계서확인하기,인터페이스기능구현하기,인터페이스구현검증하기 *담당업무-회로제어개발-데이터사이언스인공지능관련업무*우대사항-학사,공학계열-국책과제우대-전기산업기사,전기기사우대*제5회광주전남합동일자리박람회-현장면접실시1.행사일시2023년6월29일(목)-13:00~17:002.장소김대중컨벤션센터전시장*첨부:광주전남합동일자리박람회포스터 소프트웨어개발자(SW)-윈도우즈프로그램개발-C++가능자-선임연구원보조하여개발업무가능하신분-문서가능자-신입/경력자우대 서버,스토리지세팅및유지보수,기술지원정보처리기사,정보처리산업기사자격증우대(필수아님)경력이없어도배우면서일할수있는분환영(업무스킬향상을위한교육비,도서비지원) 강화학습기반딥러닝알고리즘개발스킬:Python,Tensorflow AWS백엔드개발자담당업무:인공지능학습용데이터셋가공플랫폼개발스킬:AWS,JAVA,MariaDB,NongoDB,MSSQL,Hadoop,Git 1.담당업무ㆍ현장설치및대응기술지원(시스템구축및모니터링)ㆍ프로그램테스트/반도체Site현장관리/거래선ASㆍQA테스터2.자격요건ㆍ학력:무관ㆍ나이/성별:무관ㆍ경력:무관ㆍ기타필수사항-컴퓨터/시스템공학,공학계열-운전가능자-해외여행결격사유없는자 AI및빅데이터소프트웨어및하드웨어개발데이터분석및패턴과인사이트추출<제5회광주전남합동일자리박람회현장면접안내>*면접장소:김대중컨벤션센터전시장*면접일정:6월29일13시~17시 <직무내용>응용SW개발자-스마트시티,스마트팩토리분야빅테이터솔루션데이터수집및분석기능개발-C/C++,C#,Java,Pyhon,Node.js(Express,Koa,Nest)등-Git&Github정책관리,Docker,GithudActions를이용한CI/CD를위한자동화배포UX/UI디자이너-반응형웹사이트및모바일및모바일어플리케이션UI디자인-빅데이터데이터시각화솔루션디자인-UIFramework을활용한데이터시각화-HTML5/CSS3을활용한ActiocnScriipt-AdobeXD,Photoshop등을이용한디자인시안제안*정보처리기사자격증우대*제5회광주전남합동일자리박람회-현장면접실시1.행사일시2023년6월29일(목)-13:00~17:002.장소김대중컨벤션센터전시장*첨부:광주전남합동일자리박람회포스터 <직무내용>-야구매니지먼트게임기획-게임내각종콘텐츠,시스템설계및기획,밸런싱-인게임플레이개선및고도화<이런역량을가지신분을찾아요>-최신변화에민감하고트렌디함을즐기시는분-새로운지식의습득에거부감이없고빠른성장에대한의지가있으신분-원활한커뮤니케이션능력과적극성을지니신분-야구시즌이끝났을때슬픔을느끼시는분<이런역량을가지신분을우대해요>-게임기획에대한경력이있으신분(1~2년)-KBO,MLB에관심이많으신분 #고객관련된솔루션설치지원및설치한제품유지관리지원.1.백업솔루션:베리타스(VeritasNetBackup)2.백업테이프저장장치:스펙트라로직3.서버이중화솔루션:베리타스(VeritasInfoscale)4.아카이브솔루션:스펙트라로직(Storcycle)*열심히하고자하는의지만있으시면교육및업무에잘적응할수있도록지원해드립니다.***저희는개발자를뽑지않습니다.지원하지마세요. Windows기반C#,Python,SQL등으로스마트공장및AI솔루션SW개발'"
      ]
     },
     "execution_count": 51,
     "metadata": {},
     "output_type": "execute_result"
    }
   ],
   "source": [
    "list_work"
   ]
  },
  {
   "cell_type": "code",
   "execution_count": 52,
   "metadata": {},
   "outputs": [
    {
     "ename": "IndentationError",
     "evalue": "unexpected indent (609232981.py, line 4)",
     "output_type": "error",
     "traceback": [
      "\u001b[1;36m  Cell \u001b[1;32mIn[52], line 4\u001b[1;36m\u001b[0m\n\u001b[1;33m    img = np.array(img)\u001b[0m\n\u001b[1;37m    ^\u001b[0m\n\u001b[1;31mIndentationError\u001b[0m\u001b[1;31m:\u001b[0m unexpected indent\n"
     ]
    }
   ],
   "source": [
    "icon = PIL.Image.open('D:\\my_jupyter\\EXAM_WEB_CRAWLING\\project\\bulb.png')\n",
    "img = PIL.Image.new('RGB', icon.size, (255,255,255))\n",
    "img.paste(icon, icon)\n",
    "        img = np.array(img)\n",
    "\n",
    "        wc = WordCloud(font_path=path, background_color=\"white\", max_font_size=200, mask=img, colormap='inferno')\n",
    "        img_wordcloud = wc.generate_from_frequencies(dict(big_text))\n",
    "\n",
    "\n",
    "\n",
    "from\twordcloud import\tWordCloud\n",
    "from\tkonlpy.tag import\tOkt\n",
    "from\tcollections\timport\tCounter\n",
    "import\tplatform\n",
    "okt =\tOkt()\t#\tOpen\tKorean\tText\t객체 생성\n",
    "#\tokt함수를 통해 읽어들인 내용의 형태소를 분석한다.\n",
    "sentences_tag =\t[]\n",
    "sentences_tag =\tokt.pos(list_work)\n",
    "\n",
    "noun_adj_list =\t[]\n",
    "#\ttag가 명사이거나 형용사인 단어들만 noun_adj_list에 넣어준다.\n",
    "for\tword,\ttag\tin\tsentences_tag:\n",
    "    if\ttag\tin\t['Noun'\t,\t'Adjective']:\n",
    "        noun_adj_list.append(word)\n",
    "print(noun_adj_list)\n",
    "#\t가장 많이 나온 단어부터 40개를 저장한다.\n",
    "counts\t=\tCounter(noun_adj_list)\n",
    "tags\t=\tcounts.most_common(40)\n",
    "print(tags)\n",
    "\n",
    "if\tplatform.system()\t==\t'Windows':\n",
    "    path\t=\tr'D:\\my_jupyter\\EXAM_WEB_CRAWLING\\project\\KBO Dia Gothic_TTF\\KBO Dia Gothic_bold.ttf'\n",
    "wc =\tWordCloud(font_path=path,\tbackground_color=\"white\",\tmax_font_size=60)\n",
    "cloud\t=\twc.generate_from_frequencies(dict(tags))\n",
    "\n",
    "plt.figure(figsize=(20,\t10))\n",
    "plt.axis('off')\n",
    "plt.imshow(cloud)\n",
    "plt.show()"
   ]
  },
  {
   "cell_type": "code",
   "execution_count": null,
   "metadata": {},
   "outputs": [],
   "source": []
  }
 ],
 "metadata": {
  "kernelspec": {
   "display_name": "MY_PYTHON",
   "language": "python",
   "name": "python3"
  },
  "language_info": {
   "codemirror_mode": {
    "name": "ipython",
    "version": 3
   },
   "file_extension": ".py",
   "mimetype": "text/x-python",
   "name": "python",
   "nbconvert_exporter": "python",
   "pygments_lexer": "ipython3",
   "version": "3.9.17"
  },
  "orig_nbformat": 4
 },
 "nbformat": 4,
 "nbformat_minor": 2
}
