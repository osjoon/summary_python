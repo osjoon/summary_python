{
 "cells": [
  {
   "cell_type": "code",
   "execution_count": 1,
   "metadata": {},
   "outputs": [],
   "source": [
    "import mariadb as mdb"
   ]
  },
  {
   "cell_type": "code",
   "execution_count": null,
   "metadata": {},
   "outputs": [],
   "source": [
    "conn_params = {\"host\": '172.20.20.171',\n",
    "               \"user\": \"user1\",\n",
    "               \"password\": \"user1\",\n",
    "               \"port\": 3306,\n",
    "               'db' : 'db_test'}\n",
    "\n",
    "\n",
    "try: \n",
    "    # mariaDB 연결\n",
    "    connDB = mdb.connect(**conn_params)\n",
    "\n",
    "    # DB에 접근할 수 있는 Curser객체 가져오기\n",
    "    cursor = connDB.cursor()\n",
    "\n",
    "    # DB에서 모든 데이터 조회하는 SQL실행\n",
    "    cursor.execute(\"select * from order_d;\")\n",
    "\n",
    "try: \n",
    "    # mariaDB 연결\n",
    "    connDB = mdb.connect(**conn_params)\n",
    "\n",
    "    # DB에 접근할 수 있는 Curser객체 가져오기\n",
    "    cursor = connDB.cursor()\n",
    "\n",
    "    # DB에서 모든 데이터 조회하는 SQL실행\n",
    "    cursor.execute(\"select * from order_d;\")\n",
    "\n",
    "    # 조회 결과 가져오기\n",
    "    queryDatas = cursor.fetchall()\n",
    "\n",
    "\n",
    "    aa = input(\"학생 이름, 학년, 전공 : \").split(',')\n",
    "    cursor.execute(\"insert into tbl_student(stdName, stdGrade, stdMajor) values(?,?,?);\",\n",
    "                   [aa[0], int(aa[1]), aa[2]])\n",
    "\n",
    "    cursor.execute(\"select * from tbl_student;\")\n",
    "\n",
    "    # 조회 결과 가져오기\n",
    "    queryDatas = cursor.fetchall()\n",
    "\n",
    "    # mariaDB 종료\n",
    "    connDB.close()\n",
    "except mdb.Error as e:\n",
    "    print(f'ERROR : {e}')"
   ]
  },
  {
   "cell_type": "code",
   "execution_count": 1,
   "metadata": {},
   "outputs": [],
   "source": [
    "from urllib.request import urlopen\n",
    "from bs4 import BeautifulSoup\n",
    "# from selenium import webdriver\n",
    "import pandas as pd\n",
    "import matplotlib.pyplot as plt\n",
    "import seaborn as sns\n",
    "import re\n",
    "from matplotlib import font_manager"
   ]
  },
  {
   "cell_type": "code",
   "execution_count": 23,
   "metadata": {},
   "outputs": [],
   "source": [
    "from tqdm import tqdm"
   ]
  },
  {
   "cell_type": "code",
   "execution_count": 25,
   "metadata": {},
   "outputs": [],
   "source": [
    "import time\n",
    "import random"
   ]
  },
  {
   "cell_type": "code",
   "execution_count": null,
   "metadata": {},
   "outputs": [],
   "source": [
    "for i in tqdm(range(1,4957)):\n",
    "    html = f\"https://www.10000recipe.com/recipe/list.html?order=reco&page={i}\"\n",
    "    web = urlopen(html)\n",
    "    soup = BeautifulSoup(web)\n",
    "    time.sleep( random.uniform(1,3) ) \n",
    "\n",
    "    img = soup.select(\"img\", xpath=\"/html/body/dl/dd/ul/ul/li[1]/div[1]/a/img\")\n",
    "\n",
    "    jpg_images = [i['src'] for i in img if i['src'].endswith('.jpg')]\n",
    "\n"
   ]
  },
  {
   "cell_type": "code",
   "execution_count": null,
   "metadata": {},
   "outputs": [],
   "source": [
    "html = \"https://www.10000recipe.com/recipe/list.html?order=reco&page=1\"\n",
    "web = urlopen(html)\n",
    "soup = BeautifulSoup(web)\n",
    "img = soup.select(\"img\", xpath=\"/html/body/dl/dd/ul/ul/li[1]/div[1]/a/img\")\n",
    "img"
   ]
  },
  {
   "cell_type": "code",
   "execution_count": 20,
   "metadata": {},
   "outputs": [],
   "source": [
    "jpg_images = [i['src'] for i in img if i['src'].endswith('.jpg')]"
   ]
  },
  {
   "cell_type": "code",
   "execution_count": 5,
   "metadata": {},
   "outputs": [
    {
     "data": {
      "text/plain": [
       "'https://recipe1.ezmember.co.kr/cache/recipe/2022/07/31/d804978cda6e3c8b4e3a94a1c19696041_m.jpg'"
      ]
     },
     "execution_count": 5,
     "metadata": {},
     "output_type": "execute_result"
    }
   ],
   "source": [
    "jpg_images[0]"
   ]
  },
  {
   "cell_type": "code",
   "execution_count": 1,
   "metadata": {},
   "outputs": [
    {
     "name": "stderr",
     "output_type": "stream",
     "text": [
      "  1%|          | 7/1000 [08:43<20:30:03, 74.32s/it]"
     ]
    }
   ],
   "source": [
    "import mariadb \n",
    "import pandas as pd\n",
    "from bs4 import BeautifulSoup\n",
    "import requests\n",
    "import time\n",
    "from tqdm import tqdm\n",
    "import random\n",
    "\n",
    "conn_params = {'host':'172.20.58.250','port':3306,'user':'project_user','password':'project_user','database':\"project\",'autocommit':True}\n",
    "conn = mariadb.connect(**conn_params)\n",
    "cur = conn.cursor()\n",
    "count=0\n",
    "\n",
    "for i in tqdm(range(1,1001)):\n",
    "    site=requests.get(f\"https://www.10000recipe.com/recipe/list.html?order=reco&page={i}\")\n",
    "    html=BeautifulSoup(site.text,\"html.parser\")\n",
    "    recipe_lists=html.select_one(\"#contents_area_full > ul > ul\")\n",
    "    base = \"https://www.10000recipe.com\"\n",
    "\n",
    "    time.sleep(0.5+random.random()) \n",
    "\n",
    "    for i in recipe_lists.select(\"a.common_sp_link\"):\n",
    "        try :\n",
    "            total_addr1 = base + i[\"href\"]\n",
    "            total_addr2 = requests.get(total_addr1)\n",
    "            time.sleep(0.5+random.random())\n",
    "            total_addr3=BeautifulSoup(total_addr2.text,\"html.parser\")\n",
    "            ingredient_list=total_addr3.select(\"#divConfirmedMaterialArea ul li\")\n",
    "\n",
    "            cook_name = total_addr3.select_one(\"#relationGoods > div.best_tit b\")\n",
    "            \n",
    "            images=total_addr3.select_one(\"#main_thumbs\")\n",
    "            images = images[\"src\"]\n",
    "\n",
    "            cur.execute(f\"INSERT INTO tb_picture VALUES ('{cook_name.text}','{images}');\")\n",
    "            count +=1\n",
    "\n",
    "        except:\n",
    "            pass\n",
    "        \n",
    "        #print(jpg_images)\n",
    "        #print(cook_name.text)\n",
    "cur.close()\n",
    "conn.close()"
   ]
  },
  {
   "cell_type": "code",
   "execution_count": null,
   "metadata": {},
   "outputs": [],
   "source": [
    "\n",
    "for i in tqdm(range(1,1001)):\n",
    "    site=requests.get(f\"https://www.10000recipe.com/recipe/list.html?order=reco&page={i}\")\n",
    "    img = html.select(\"img\", xpath=\"/html/body/dl/dd/ul/ul/li[1]/div[1]/a/img\")\n",
    "    jpg_images = [i['src'] for i in img if i['src'].endswith('.jpg')]\n",
    "len(jpg_images)\n",
    "\n"
   ]
  },
  {
   "cell_type": "code",
   "execution_count": null,
   "metadata": {},
   "outputs": [],
   "source": [
    "for i in tqdm(range(1,1000)):\n",
    "    html = f\"https://www.10000recipe.com/recipe/list.html?order=reco&page={i}\"\n",
    "    web = urlopen(html)\n",
    "    soup = BeautifulSoup(web)\n",
    "    time.sleep( random.uniform(1,3) ) \n",
    "\n",
    "    img = soup.select(\"img\", xpath=\"/html/body/dl/dd/ul/ul/li[1]/div[1]/a/img\")\n",
    "\n",
    "    jpg_images = [i['src'] for i in img if i['src'].endswith('.jpg')]\n",
    "\n",
    "    try :\n",
    "        base = \"https://www.10000recipe.com\"\n",
    "\n",
    "    # 세부주소\n",
    "        total_addr1 = base + i[\"href\"]\n",
    "        total_addr2 = requests.get(total_addr1)\n",
    "        time.sleep(0.5+random.random())\n",
    "        total_addr3=BeautifulSoup(total_addr2.text,\"html.parser\")\n",
    "        ingredient_list=total_addr3.select(\"#divConfirmedMaterialArea ul li\")\n",
    "\n",
    "        cook_name = total_addr3.select_one(\"#relationGoods > div.best_tit b\")\n",
    "\n",
    "\n",
    "        cur.execute(f\"INSERT INTO tb_picture VALUES ('{cook_name.text}','{jpg_images}');\")\n",
    "    except:\n",
    "        pass\n",
    "    cur.close()\n",
    "    conn.close()"
   ]
  }
 ],
 "metadata": {
  "kernelspec": {
   "display_name": "MY_PYTHON2",
   "language": "python",
   "name": "python3"
  },
  "language_info": {
   "codemirror_mode": {
    "name": "ipython",
    "version": 3
   },
   "file_extension": ".py",
   "mimetype": "text/x-python",
   "name": "python",
   "nbconvert_exporter": "python",
   "pygments_lexer": "ipython3",
   "version": "3.8.17"
  }
 },
 "nbformat": 4,
 "nbformat_minor": 2
}
