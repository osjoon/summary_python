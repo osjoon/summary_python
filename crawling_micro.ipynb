{
 "cells": [
  {
   "cell_type": "markdown",
   "metadata": {},
   "source": [
    "### 크롤링 및 전처리"
   ]
  },
  {
   "cell_type": "code",
   "execution_count": 3,
   "metadata": {},
   "outputs": [],
   "source": [
    "from selenium.webdriver import Chrome\n",
    "from selenium.webdriver.common.by import By\n",
    "from urllib.request import urlopen\n",
    "from bs4 import BeautifulSoup\n",
    "import random, time\n",
    "from tqdm import tqdm\n",
    "import pandas as pd"
   ]
  },
  {
   "cell_type": "code",
   "execution_count": 4,
   "metadata": {},
   "outputs": [
    {
     "name": "stdout",
     "output_type": "stream",
     "text": [
      "1\n",
      "2\n",
      "3\n",
      "4\n",
      "5\n",
      "6\n",
      "7\n",
      "8\n",
      "9\n",
      "10\n",
      "11\n",
      "                      species number  \\\n",
      "0           Acetobacter aceti      -   \n",
      "1    Acetobacter pasteurianus      -   \n",
      "2         Acetobacter xylinum      -   \n",
      "3    Arthrobacter globiformis      -   \n",
      "4       Aspergillus luchensis      -   \n",
      "..                        ...    ...   \n",
      "103         Weissella cibaria      -   \n",
      "104         Weissella confusa      -   \n",
      "105       Weissella koreensis      -   \n",
      "106  Zygosaccharomyces rouxii      -   \n",
      "107         Zymomonas mobilis      -   \n",
      "\n",
      "                                           anothername  \\\n",
      "0                       Acetobacter aceti subsp. aceti   \n",
      "1    Acetobacter pasteurianus subsp. ascendens, Ace...   \n",
      "2    Acetobacter aceti subsp. xylinum, Acetobacter ...   \n",
      "3    Achromobacter globiformis, Bacterium globiform...   \n",
      "4            Aspergillus kawachii, Aspergillus awamori   \n",
      "..                                                 ...   \n",
      "103                                                  -   \n",
      "104  Lactobacillus confusus, Lactobacillus coprophi...   \n",
      "105                                                  -   \n",
      "106                           Kluyveromyces osmophilus   \n",
      "107  Achromobacter anaerobium, Pseudomonas lindneri...   \n",
      "\n",
      "                   scientific herbal possible  \\\n",
      "0           Acetobacter aceti      -        -   \n",
      "1    Acetobacte rpasteurianus      -        -   \n",
      "2         Acetobacter xylinum      -        -   \n",
      "3    Arthrobacter globiformis      -        -   \n",
      "4       Aspergillus luchensis      -        -   \n",
      "..                        ...    ...      ...   \n",
      "103         Weissella cibaria      -        -   \n",
      "104        Weissella confusa       -        -   \n",
      "105       Weissella koreensis      -        -   \n",
      "106  Zygosaccharomyces rouxii      -        -   \n",
      "107         Zymomonas mobilis      -        -   \n",
      "\n",
      "                               limit part  \n",
      "0                 식초(초산발효 포함) 제조에 한함    -  \n",
      "1                 식초(초산발효 포함) 제조에 한함    -  \n",
      "2                     바이오셀룰로즈 제조에 한함    -  \n",
      "3                          치즈 제조에 한함    -  \n",
      "4                                  -    -  \n",
      "..                               ...  ...  \n",
      "103                                -    -  \n",
      "104                                -    -  \n",
      "105                                -    -  \n",
      "106                   장류 제조 (간장, 된장)    -  \n",
      "107  주류(알코올발효 포함) 및 레반(Levan) 제조에 한함    -  \n",
      "\n",
      "[108 rows x 8 columns]\n"
     ]
    }
   ],
   "source": [
    "col = ['species', 'number', 'anothername', 'scientific', 'herbal', 'possible', 'limit', 'part']\n",
    "df = pd.DataFrame(columns=col)\n",
    "for n in range(1,12):\n",
    "    print(n)\n",
    "    # URL\n",
    "    html = f'https://www.foodsafetykorea.go.kr/portal/safefoodlife/foodMeterial/foodMeterialDB.do?menu_no=3090&menu_grp=MENU_NEW07&search_type=&animal=%EB%AF%B8%EC%83%9D%EB%AC%BC&srch_name=&edible=&page={n}'\n",
    "    # 텍스트로 바꿔준다\n",
    "    web = urlopen(html)\n",
    "    soup = BeautifulSoup(web)\n",
    "    # td와 tl만 찾음 (원재료명 코드)\n",
    "    species = soup.find_all('td', class_='tl')\n",
    "    # 텍스트만 (종이름만 추출)\n",
    "    text = [td.get_text() for td in species]\n",
    "    # 그 뒤의 td에 남은 추가 설명을 리스트화\n",
    "    find_list = soup.find_all(\"td\")\n",
    "    find = [f.get_text() for f in find_list]\n",
    "    # OX를 추가하면서 수가 안맞아짐 추후에 추가하거나 할 것 (ex: '제한'의 -는 X로 바꾸고, '제한'에 X가 있으면 '가능'은 O으로 바꾸고 )\n",
    "    find = [item for item in find if 'O' not in item and 'X' not in item]\n",
    "    # 8개 단위로 자르기\n",
    "    microbes = [find[i:i+8] for i in range(0, len(find), 8)]\n",
    "\n",
    "    # 결과 출력\n",
    "    for microbe in microbes:\n",
    "        # print(microbe)\n",
    "        new_row = pd.Series(microbe, index=col)\n",
    "        df = pd.concat([df, new_row.to_frame().T], ignore_index=True)\n",
    "\n",
    "\n",
    "    # 필요한 부분만 선택하기\n",
    "    # selected_microbes = [microbe for microbe in microbes if microbe[0] != '-']\n",
    "print(df)\n",
    "\n",
    "\n",
    "        \n",
    "\n",
    "\n"
   ]
  },
  {
   "cell_type": "code",
   "execution_count": 5,
   "metadata": {},
   "outputs": [],
   "source": [
    "df['limit'] = df['limit'].replace('-', 'X')\n",
    "\n",
    "df.loc[df['limit'] == 'X', 'possible'] = df['possible'].replace('-', 'O')\n"
   ]
  },
  {
   "cell_type": "code",
   "execution_count": 6,
   "metadata": {},
   "outputs": [],
   "source": [
    "del df['number']\n",
    "del df['herbal']\n",
    "del df['part']\n"
   ]
  },
  {
   "cell_type": "code",
   "execution_count": 7,
   "metadata": {},
   "outputs": [
    {
     "data": {
      "text/html": [
       "<div>\n",
       "<style scoped>\n",
       "    .dataframe tbody tr th:only-of-type {\n",
       "        vertical-align: middle;\n",
       "    }\n",
       "\n",
       "    .dataframe tbody tr th {\n",
       "        vertical-align: top;\n",
       "    }\n",
       "\n",
       "    .dataframe thead th {\n",
       "        text-align: right;\n",
       "    }\n",
       "</style>\n",
       "<table border=\"1\" class=\"dataframe\">\n",
       "  <thead>\n",
       "    <tr style=\"text-align: right;\">\n",
       "      <th></th>\n",
       "      <th>species</th>\n",
       "      <th>anothername</th>\n",
       "      <th>scientific</th>\n",
       "      <th>possible</th>\n",
       "      <th>limit</th>\n",
       "    </tr>\n",
       "  </thead>\n",
       "  <tbody>\n",
       "    <tr>\n",
       "      <th>0</th>\n",
       "      <td>Acetobacter aceti</td>\n",
       "      <td>Acetobacter aceti subsp. aceti</td>\n",
       "      <td>Acetobacter aceti</td>\n",
       "      <td>-</td>\n",
       "      <td>식초(초산발효 포함) 제조에 한함</td>\n",
       "    </tr>\n",
       "    <tr>\n",
       "      <th>1</th>\n",
       "      <td>Acetobacter pasteurianus</td>\n",
       "      <td>Acetobacter pasteurianus subsp. ascendens, Ace...</td>\n",
       "      <td>Acetobacte rpasteurianus</td>\n",
       "      <td>-</td>\n",
       "      <td>식초(초산발효 포함) 제조에 한함</td>\n",
       "    </tr>\n",
       "    <tr>\n",
       "      <th>2</th>\n",
       "      <td>Acetobacter xylinum</td>\n",
       "      <td>Acetobacter aceti subsp. xylinum, Acetobacter ...</td>\n",
       "      <td>Acetobacter xylinum</td>\n",
       "      <td>-</td>\n",
       "      <td>바이오셀룰로즈 제조에 한함</td>\n",
       "    </tr>\n",
       "    <tr>\n",
       "      <th>3</th>\n",
       "      <td>Arthrobacter globiformis</td>\n",
       "      <td>Achromobacter globiformis, Bacterium globiform...</td>\n",
       "      <td>Arthrobacter globiformis</td>\n",
       "      <td>-</td>\n",
       "      <td>치즈 제조에 한함</td>\n",
       "    </tr>\n",
       "    <tr>\n",
       "      <th>4</th>\n",
       "      <td>Aspergillus luchensis</td>\n",
       "      <td>Aspergillus kawachii, Aspergillus awamori</td>\n",
       "      <td>Aspergillus luchensis</td>\n",
       "      <td>O</td>\n",
       "      <td>X</td>\n",
       "    </tr>\n",
       "    <tr>\n",
       "      <th>...</th>\n",
       "      <td>...</td>\n",
       "      <td>...</td>\n",
       "      <td>...</td>\n",
       "      <td>...</td>\n",
       "      <td>...</td>\n",
       "    </tr>\n",
       "    <tr>\n",
       "      <th>103</th>\n",
       "      <td>Weissella cibaria</td>\n",
       "      <td>-</td>\n",
       "      <td>Weissella cibaria</td>\n",
       "      <td>O</td>\n",
       "      <td>X</td>\n",
       "    </tr>\n",
       "    <tr>\n",
       "      <th>104</th>\n",
       "      <td>Weissella confusa</td>\n",
       "      <td>Lactobacillus confusus, Lactobacillus coprophi...</td>\n",
       "      <td>Weissella confusa</td>\n",
       "      <td>O</td>\n",
       "      <td>X</td>\n",
       "    </tr>\n",
       "    <tr>\n",
       "      <th>105</th>\n",
       "      <td>Weissella koreensis</td>\n",
       "      <td>-</td>\n",
       "      <td>Weissella koreensis</td>\n",
       "      <td>O</td>\n",
       "      <td>X</td>\n",
       "    </tr>\n",
       "    <tr>\n",
       "      <th>106</th>\n",
       "      <td>Zygosaccharomyces rouxii</td>\n",
       "      <td>Kluyveromyces osmophilus</td>\n",
       "      <td>Zygosaccharomyces rouxii</td>\n",
       "      <td>-</td>\n",
       "      <td>장류 제조 (간장, 된장)</td>\n",
       "    </tr>\n",
       "    <tr>\n",
       "      <th>107</th>\n",
       "      <td>Zymomonas mobilis</td>\n",
       "      <td>Achromobacter anaerobium, Pseudomonas lindneri...</td>\n",
       "      <td>Zymomonas mobilis</td>\n",
       "      <td>-</td>\n",
       "      <td>주류(알코올발효 포함) 및 레반(Levan) 제조에 한함</td>\n",
       "    </tr>\n",
       "  </tbody>\n",
       "</table>\n",
       "<p>108 rows × 5 columns</p>\n",
       "</div>"
      ],
      "text/plain": [
       "                      species  \\\n",
       "0           Acetobacter aceti   \n",
       "1    Acetobacter pasteurianus   \n",
       "2         Acetobacter xylinum   \n",
       "3    Arthrobacter globiformis   \n",
       "4       Aspergillus luchensis   \n",
       "..                        ...   \n",
       "103         Weissella cibaria   \n",
       "104         Weissella confusa   \n",
       "105       Weissella koreensis   \n",
       "106  Zygosaccharomyces rouxii   \n",
       "107         Zymomonas mobilis   \n",
       "\n",
       "                                           anothername  \\\n",
       "0                       Acetobacter aceti subsp. aceti   \n",
       "1    Acetobacter pasteurianus subsp. ascendens, Ace...   \n",
       "2    Acetobacter aceti subsp. xylinum, Acetobacter ...   \n",
       "3    Achromobacter globiformis, Bacterium globiform...   \n",
       "4            Aspergillus kawachii, Aspergillus awamori   \n",
       "..                                                 ...   \n",
       "103                                                  -   \n",
       "104  Lactobacillus confusus, Lactobacillus coprophi...   \n",
       "105                                                  -   \n",
       "106                           Kluyveromyces osmophilus   \n",
       "107  Achromobacter anaerobium, Pseudomonas lindneri...   \n",
       "\n",
       "                   scientific possible                            limit  \n",
       "0           Acetobacter aceti        -               식초(초산발효 포함) 제조에 한함  \n",
       "1    Acetobacte rpasteurianus        -               식초(초산발효 포함) 제조에 한함  \n",
       "2         Acetobacter xylinum        -                   바이오셀룰로즈 제조에 한함  \n",
       "3    Arthrobacter globiformis        -                        치즈 제조에 한함  \n",
       "4       Aspergillus luchensis        O                                X  \n",
       "..                        ...      ...                              ...  \n",
       "103         Weissella cibaria        O                                X  \n",
       "104        Weissella confusa         O                                X  \n",
       "105       Weissella koreensis        O                                X  \n",
       "106  Zygosaccharomyces rouxii        -                   장류 제조 (간장, 된장)  \n",
       "107         Zymomonas mobilis        -  주류(알코올발효 포함) 및 레반(Levan) 제조에 한함  \n",
       "\n",
       "[108 rows x 5 columns]"
      ]
     },
     "execution_count": 7,
     "metadata": {},
     "output_type": "execute_result"
    }
   ],
   "source": [
    "df"
   ]
  },
  {
   "cell_type": "code",
   "execution_count": 19,
   "metadata": {},
   "outputs": [
    {
     "data": {
      "text/plain": [
       "array(['-', 'O', 'Lactiplantibacillus plantarum CNCM MA40/5B-p는 제외',\n",
       "       'Pediococcus acidilactici CNCM MA28/6B는 제외',\n",
       "       'Stereptococcus salivarius AD601는 제외'], dtype=object)"
      ]
     },
     "execution_count": 19,
     "metadata": {},
     "output_type": "execute_result"
    }
   ],
   "source": [
    "df['possible'].unique()"
   ]
  },
  {
   "cell_type": "markdown",
   "metadata": {},
   "source": [
    "### MariaDB에 저장"
   ]
  },
  {
   "cell_type": "code",
   "execution_count": 22,
   "metadata": {},
   "outputs": [],
   "source": [
    "import mariadb\n",
    "\n",
    "# 데이터베이스 연결 설정\n",
    "conn = mariadb.connect(\n",
    "    host='127.0.0.1',  # 데이터베이스 호스트\n",
    "    user='root',  # 사용자 이름\n",
    "    password='root',  # 비밀번호\n",
    "    database='micro_organism'  # 데이터베이스 이름\n",
    ")\n",
    "\n",
    "# 커서 생성\n",
    "cursor = conn.cursor()\n",
    "\n",
    "query = \"ALTER TABLE microbes MODIFY COLUMN possible VARCHAR(100);\" \n",
    "\n",
    "# 데이터프레임(df)에서 데이터를 반복해서 데이터베이스에 삽입\n",
    "for index, row in df.iterrows():\n",
    "    species = row['species']\n",
    "    another_name = row['anothername']\n",
    "    scientific_name = row['scientific']\n",
    "    possible = row['possible']\n",
    "    limit_ = row['limit']\n",
    "    \n",
    "    # 데이터베이스에 데이터 삽입\n",
    "    query = \"INSERT INTO microbes (species, another_name, scientific_name, possible, limit_) VALUES (%s, %s, %s, %s, %s)\"\n",
    "    data = (species, another_name, scientific_name, possible, limit_)\n",
    "    cursor.execute(query, data)\n",
    "\n",
    "# 커밋 (변경사항 저장)\n",
    "conn.commit()\n",
    "\n",
    "# 연결 종료\n",
    "conn.close()\n",
    "\n",
    "# data = (f\"{df['speices']}, {df['anothername']}, {df['scientificname']}, {df['possible']}, {df['limit']}\")\n",
    "\n"
   ]
  },
  {
   "cell_type": "markdown",
   "metadata": {},
   "source": [
    "### EXCEL 파일로 저장"
   ]
  },
  {
   "cell_type": "code",
   "execution_count": 8,
   "metadata": {},
   "outputs": [],
   "source": [
    "df.to_excel(\"microbes_food.xlsx\", index=False)\n"
   ]
  },
  {
   "cell_type": "markdown",
   "metadata": {},
   "source": [
    "### 진행과정"
   ]
  },
  {
   "cell_type": "code",
   "execution_count": null,
   "metadata": {},
   "outputs": [],
   "source": [
    "species = soup.find_all('td', class_='tl')"
   ]
  },
  {
   "cell_type": "code",
   "execution_count": null,
   "metadata": {},
   "outputs": [],
   "source": [
    "text = [td.get_text() for td in species]\n",
    "print(text)\n"
   ]
  },
  {
   "cell_type": "code",
   "execution_count": null,
   "metadata": {},
   "outputs": [],
   "source": [
    "# find_list = soup.find_all(\"td\", class_=\"tl\")\n",
    "find_list = soup.find_all(\"td\")\n",
    "find_list"
   ]
  },
  {
   "cell_type": "code",
   "execution_count": null,
   "metadata": {},
   "outputs": [],
   "source": [
    "# 원재료명 / 품목번호 / 영명 / 학명 / 생약명 / \"식용가능\" / 사용제한 / 사용부위 / 사용조건 / 비고    13을 주기로 인덱스 2,3,4,5\n",
    "find = [f.get_text() for f in find_list]\n",
    "print(find)\n",
    "\n",
    "# col = ['species', '']"
   ]
  },
  {
   "cell_type": "code",
   "execution_count": null,
   "metadata": {},
   "outputs": [],
   "source": [
    "find = [item for item in find if 'O' not in item and 'X' not in item]\n",
    "find"
   ]
  },
  {
   "cell_type": "code",
   "execution_count": null,
   "metadata": {},
   "outputs": [
    {
     "name": "stdout",
     "output_type": "stream",
     "text": [
      "['Bacillus natto', '-', 'Bacillus subtilis', 'Bacillus natto', '-', '-', '-', '-']\n",
      "['Bacillus polyfermenticus', '-', '-', 'Bacillus polyfermenticus', '-', '-', '-', '-']\n",
      "['Bacillus subtilis', '-', 'Bacillus globigii, Bacillus natto', 'Bacillus subtilis', '-', '-', '-', '-']\n",
      "['Bifidobacterium adolescentis', '-', '-', 'Bifidobacterium adolescentis', '-', '-', '-', '-']\n",
      "['Bifidobacterium animalis', '-', '-', 'Bifidobacterium animalis subsp. animalis', '-', '-', '-', '-']\n",
      "['Bifidobacterium bifidum', '-', 'Actinomyces parabifidus', 'Bifidobacterium bifidum', '-', '-', '-', '-']\n",
      "['Bifidobacterium breve', '-', 'Bifidobacterium parvulorum', 'Bifidobacterium breve', '-', '-', '-', '-']\n",
      "['Bifidobacterium infantis', '-', '-', 'Bifidobacterium longum subsp. infantis', '-', '-', '-', '-']\n",
      "['Bifidobacterium lactis', '-', '-', 'Bifidobacterium animalis subsp. lactis', '-', '-', '-', '-']\n",
      "['Bifidobacterium longum', '-', '-', 'Bifidobacterium longum subsp. longum', '-', '-', '-', '-']\n"
     ]
    }
   ],
   "source": [
    "# 8개 단위로 자르기\n",
    "microbes = [find[i:i+8] for i in range(0, len(find), 8)]\n",
    "\n",
    "# 필요한 부분만 선택하기\n",
    "# selected_microbes = [microbe for microbe in microbes if microbe[0] != '-']\n",
    "\n",
    "# 결과 출력\n",
    "for microbe in microbes:\n",
    "    print(microbe)"
   ]
  },
  {
   "cell_type": "code",
   "execution_count": null,
   "metadata": {},
   "outputs": [],
   "source": []
  }
 ],
 "metadata": {
  "kernelspec": {
   "display_name": "MY_PYTHON2",
   "language": "python",
   "name": "python3"
  },
  "language_info": {
   "codemirror_mode": {
    "name": "ipython",
    "version": 3
   },
   "file_extension": ".py",
   "mimetype": "text/x-python",
   "name": "python",
   "nbconvert_exporter": "python",
   "pygments_lexer": "ipython3",
   "version": "3.8.17"
  }
 },
 "nbformat": 4,
 "nbformat_minor": 2
}
