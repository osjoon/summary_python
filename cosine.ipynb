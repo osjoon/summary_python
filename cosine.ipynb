{
 "cells": [
  {
   "cell_type": "code",
   "execution_count": 2,
   "metadata": {},
   "outputs": [],
   "source": [
    "import pandas as pd\n",
    "\n",
    "df = pd.read_csv('movie.csv', encoding='ms949') # 크롤링 내용을 데이터 프레임 형태로 csv로 저장한 것을 불러옴"
   ]
  },
  {
   "cell_type": "code",
   "execution_count": 1,
   "metadata": {},
   "outputs": [
    {
     "name": "stderr",
     "output_type": "stream",
     "text": [
      "100%|██████████| 10/10 [00:00<?, ?it/s]\n"
     ]
    }
   ],
   "source": [
    "from konlpy.tag import Kkma\n",
    "from tqdm import tqdm\n",
    "\n",
    "kkma = Kkma()\n",
    "box = []\n",
    "count =0\n",
    "total_movie=[]\n",
    "\n",
    "\n",
    "# 명사만 분리하여 저장함\n",
    "for x in tqdm(range(0,10)):\n",
    "    try:\n",
    "        i = df.iloc[x]\n",
    "        print(i)\n",
    "        _name = i['제목']\n",
    "        _author = i['감독'].split()\n",
    "        _users = i['배우'].split()\n",
    "        _description = i['줄거리']\n",
    "\n",
    "        nouns_description_result = kkma.nouns(_description)\n",
    "\n",
    "        total_list = []\n",
    "        total_list.extend(_author)\n",
    "        total_list.extend(_users)\n",
    "        total_list.extend(nouns_description_result)\n",
    "\n",
    "        \n",
    "        total_movie.append([_name,total_list])\n",
    "    except:\n",
    "        pass\n"
   ]
  },
  {
   "cell_type": "markdown",
   "metadata": {},
   "source": [
    "### 토큰화"
   ]
  },
  {
   "cell_type": "code",
   "execution_count": null,
   "metadata": {},
   "outputs": [],
   "source": [
    "from konlpy.tag import Okt\n",
    "\n",
    "okt=Okt()\n",
    "\n",
    "# 토큰화\n",
    "total=[]\n",
    "for i in tqdm(df['recipe']):\n",
    "    t=okt.nouns(i)\n",
    "    total.append(\" \".join(t))"
   ]
  },
  {
   "cell_type": "code",
   "execution_count": null,
   "metadata": {},
   "outputs": [],
   "source": []
  },
  {
   "cell_type": "code",
   "execution_count": 5,
   "metadata": {},
   "outputs": [
    {
     "name": "stdout",
     "output_type": "stream",
     "text": [
      "movie_kkma.csv 파일에 데이터를 저장했습니다.\n"
     ]
    }
   ],
   "source": [
    "import csv\n",
    "# CSV 파일 경로\n",
    "csv_file_path = \"movie_kkma.csv\"\n",
    "\n",
    "# CSV 파일 열기 및 데이터 쓰기\n",
    "with open(csv_file_path, mode='w', newline='') as file:\n",
    "    writer = csv.writer(file)\n",
    "    for row in total_movie:\n",
    "        writer.writerow(row)\n",
    "\n",
    "print(f\"{csv_file_path} 파일에 데이터를 저장했습니다.\")"
   ]
  },
  {
   "cell_type": "code",
   "execution_count": 79,
   "metadata": {},
   "outputs": [],
   "source": [
    "from sklearn.feature_extraction.text import CountVectorizer\n",
    "import numpy as np\n",
    "\n",
    "# 코사인 유사도 : 두 벡터 사이의 각도의 코사인 값 : ( -1 ~ 1 )\n",
    "def make_cosine(a,b):\n",
    "    return np.dot(a,b) / np.linalg.norm(a) * np.linalg.norm(b)"
   ]
  },
  {
   "cell_type": "code",
   "execution_count": 75,
   "metadata": {},
   "outputs": [],
   "source": [
    "total_movie\n",
    "i=0\n",
    "movies_name_list=[]\n",
    "words_list=[]\n",
    "\n",
    "for x in total_movie:\n",
    "    i+=1\n",
    "    title = x[0]\n",
    "    message =x[1]\n",
    "    words_list.append(\" \".join(message))\n",
    "    movies_name_list.append(title)\n",
    "\n",
    "from sklearn.feature_extraction.text import CountVectorizer\n",
    "cv = CountVectorizer()\n",
    "words_list\n",
    "\n",
    "mdf = cv.fit_transform(words_list)\n",
    "movie_df = pd.DataFrame(mdf.toarray(), columns=cv.get_feature_names_out())\n",
    "\n"
   ]
  },
  {
   "cell_type": "code",
   "execution_count": 89,
   "metadata": {},
   "outputs": [],
   "source": [
    "str_ = ['강력형사 마석도가 나와서 해결하는 범죄 영화']\n",
    "\n",
    "result = cv.transform(str_)\n",
    "\n",
    "search_words = result.toarray()"
   ]
  },
  {
   "cell_type": "code",
   "execution_count": null,
   "metadata": {},
   "outputs": [],
   "source": [
    "str_ = ['광주로 택시기사랑 기자랑 가서 촬영하는']\n",
    "str_ = ['핫도그 치킨 떨어지는']\n",
    "str_ = ['마동석 형사로 나오는']\n",
    "str_ = ['인공지능이랑 사랑에 빠져서 상처를 회복하는']\n",
    "str_ = ['장난감들이 살아 움직이면서 모험하는']\n",
    "str_ = ['한국 할머니가 미국에 가서 손자 만나는']\n"
   ]
  },
  {
   "cell_type": "code",
   "execution_count": 202,
   "metadata": {},
   "outputs": [
    {
     "name": "stdout",
     "output_type": "stream",
     "text": [
      "['한국', '할머니', '미국', '손자']\n"
     ]
    },
    {
     "data": {
      "text/plain": [
       "(array([0.01041339, 0.01041339, 0.01041339, 0.01041339, 0.00694226,\n",
       "        0.00694226, 0.00694226, 0.00694226, 0.00694226, 0.00694226]),\n",
       " array([1556, 1729,  384, ..., 3387, 3388, 2597], dtype=int64),\n",
       " array(['미나리', '국가대표', '그리고 방행자', '국가대표(완결판)', '페티쉬', '인 디 에어',\n",
       "        '폴라로이드 작동법', '에코 플래닛 3D : 지구 구출 특급 대작전(2D 전용)', '국화꽃 향기',\n",
       "        '비포 선라이즈'], dtype='<U58'))"
      ]
     },
     "execution_count": 202,
     "metadata": {},
     "output_type": "execute_result"
    }
   ],
   "source": [
    "# 코사인 유사도 구하기\n",
    "str_ = ['한국 할머니가 미국에 가서 손자 만나는']\n",
    "\n",
    "strlist = kkma.nouns(str_[0])\n",
    "str_ = [(\" \".join(strlist))]\n",
    "print(strlist)\n",
    "\n",
    "result = cv.transform(str_)\n",
    "search_words = result.toarray()\n",
    "\n",
    "movies_name_list = np.array(movies_name_list)\n",
    "\n",
    "\n",
    "movide_df_numpy = movie_df.to_numpy()\n",
    "search_words = search_words\n",
    "\n",
    "result_cos = make_cosine(movide_df_numpy,search_words.reshape(-1))\n",
    "\n",
    "result_args = result_cos.argsort()[::-1]\n",
    "result_sorted =np.sort(result_cos)[::-1]\n",
    "\n",
    "\n",
    "#결과\n",
    "result_percentages = result_args\n",
    "result_items= movies_name_list[result_args]\n",
    "\n",
    "(result_sorted[:10],result_percentages,result_items[:10])\n"
   ]
  },
  {
   "cell_type": "code",
   "execution_count": null,
   "metadata": {},
   "outputs": [],
   "source": []
  },
  {
   "cell_type": "code",
   "execution_count": null,
   "metadata": {},
   "outputs": [],
   "source": []
  },
  {
   "cell_type": "code",
   "execution_count": null,
   "metadata": {},
   "outputs": [],
   "source": []
  },
  {
   "cell_type": "code",
   "execution_count": null,
   "metadata": {},
   "outputs": [],
   "source": []
  },
  {
   "cell_type": "code",
   "execution_count": null,
   "metadata": {},
   "outputs": [],
   "source": []
  },
  {
   "cell_type": "code",
   "execution_count": null,
   "metadata": {},
   "outputs": [],
   "source": []
  }
 ],
 "metadata": {
  "kernelspec": {
   "display_name": "MY_PYTHON2",
   "language": "python",
   "name": "python3"
  },
  "language_info": {
   "codemirror_mode": {
    "name": "ipython",
    "version": 3
   },
   "file_extension": ".py",
   "mimetype": "text/x-python",
   "name": "python",
   "nbconvert_exporter": "python",
   "pygments_lexer": "ipython3",
   "version": "3.8.17"
  },
  "orig_nbformat": 4
 },
 "nbformat": 4,
 "nbformat_minor": 2
}
