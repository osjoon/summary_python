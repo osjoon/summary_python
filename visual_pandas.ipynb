{
 "cells": [
  {
   "cell_type": "code",
   "execution_count": 9,
   "metadata": {},
   "outputs": [],
   "source": [
    "import pandas as pd\n",
    "import matplotlib.pyplot as plt\n",
    "import numpy as np\n",
    "import seaborn as sns\n",
    "from matplotlib import font_manager, rc\n",
    "font_path=\"malgun.ttf\"\n",
    "font_name=font_manager.FontProperties(fname=font_path).get_name()\n",
    "rc('font', family=font_name)"
   ]
  },
  {
   "cell_type": "code",
   "execution_count": 10,
   "metadata": {},
   "outputs": [],
   "source": [
    "file = 'C:\\\\CRAWLING\\\\miniproject\\\\데이터산업_데이터직무_인력_현황.csv'   # 데이터산업_내_빅데이터_관련_데이터직무_인력_현황_20230804090602.csv"
   ]
  },
  {
   "cell_type": "code",
   "execution_count": 11,
   "metadata": {},
   "outputs": [],
   "source": [
    "datajobDF = pd.read_csv(file, header=None,encoding='ms949')\n",
    "# datajobDF.pivot()"
   ]
  },
  {
   "cell_type": "markdown",
   "metadata": {},
   "source": []
  },
  {
   "cell_type": "code",
   "execution_count": 12,
   "metadata": {},
   "outputs": [
    {
     "data": {
      "text/html": [
       "<div>\n",
       "<style scoped>\n",
       "    .dataframe tbody tr th:only-of-type {\n",
       "        vertical-align: middle;\n",
       "    }\n",
       "\n",
       "    .dataframe tbody tr th {\n",
       "        vertical-align: top;\n",
       "    }\n",
       "\n",
       "    .dataframe thead th {\n",
       "        text-align: right;\n",
       "    }\n",
       "</style>\n",
       "<table border=\"1\" class=\"dataframe\">\n",
       "  <thead>\n",
       "    <tr style=\"text-align: right;\">\n",
       "      <th></th>\n",
       "      <th>전체</th>\n",
       "    </tr>\n",
       "    <tr>\n",
       "      <th>데이터직무별(1)</th>\n",
       "      <th></th>\n",
       "    </tr>\n",
       "  </thead>\n",
       "  <tbody>\n",
       "    <tr>\n",
       "      <th>(2017, 데이터직무 전체 인력 (명))</th>\n",
       "      <td>77105</td>\n",
       "    </tr>\n",
       "    <tr>\n",
       "      <th>(2018, 데이터직무 전체 인력 (명))</th>\n",
       "      <td>82623</td>\n",
       "    </tr>\n",
       "    <tr>\n",
       "      <th>(2019, 데이터직무 전체 인력 (명))</th>\n",
       "      <td>89058</td>\n",
       "    </tr>\n",
       "    <tr>\n",
       "      <th>(2020, 데이터직무 전체 인력 (명))</th>\n",
       "      <td>101967</td>\n",
       "    </tr>\n",
       "  </tbody>\n",
       "</table>\n",
       "</div>"
      ],
      "text/plain": [
       "0                            전체\n",
       "데이터직무별(1)                      \n",
       "(2017, 데이터직무 전체 인력 (명))   77105\n",
       "(2018, 데이터직무 전체 인력 (명))   82623\n",
       "(2019, 데이터직무 전체 인력 (명))   89058\n",
       "(2020, 데이터직무 전체 인력 (명))  101967"
      ]
     },
     "execution_count": 12,
     "metadata": {},
     "output_type": "execute_result"
    }
   ],
   "source": [
    "datajobDF_total = datajobDF.set_index(0)\n",
    "# droplist = [2,3,5,6,8,9,11,12]\n",
    "datajobDF_total.drop([2,3,5,6,8,9,11,12], axis=1, inplace=True)\n",
    "# datajobDF_total.set_index('데이터직무별(1)', inplace=True)\n",
    "# datajobDF_total_T = datajobDF_total.transpose()\n",
    "datajobDF_total.drop(['데이터 아키텍트','데이터 개발자','데이터 엔지니어','데이터 분석가','데이터베이스 관리자','데이터 과학자','데이터 컨설턴트','데이터 기획자'], axis=0, inplace=True)\n",
    "datajobDF_total = datajobDF_total.T\n",
    "datajobDF_total = datajobDF_total.set_index('데이터직무별(1)')\n",
    "datajobDF_total"
   ]
  },
  {
   "cell_type": "code",
   "execution_count": 13,
   "metadata": {},
   "outputs": [
    {
     "data": {
      "image/png": "[encoded data removed]",
      "text/plain": [
       "<Figure size 640x480 with 1 Axes>"
      ]
     },
     "metadata": {},
     "output_type": "display_data"
    }
   ],
   "source": [
    "x = [2017, 2018, 2019, 2020]\n",
    "y = datajobDF_total.iloc[[0,1,2,3], 0].to_list()\n",
    "\n",
    "plt.plot(x, y, color = '#B22222', marker='o')\n",
    "plt.xlabel('연도')\n",
    "plt.ylabel('인력 수')\n",
    "plt.title('연도별 데이터직무 인력 수')\n",
    "plt.show()\n",
    "\n",
    "\n"
   ]
  },
  {
   "cell_type": "code",
   "execution_count": 14,
   "metadata": {},
   "outputs": [
    {
     "name": "stdout",
     "output_type": "stream",
     "text": [
      "['77105', '82623', '89058', '101967']\n"
     ]
    }
   ],
   "source": [
    "test = datajobDF_total.iloc[[0,1,2,3], 0].to_list()\n",
    "print(test)"
   ]
  },
  {
   "cell_type": "code",
   "execution_count": 15,
   "metadata": {},
   "outputs": [
    {
     "name": "stdout",
     "output_type": "stream",
     "text": [
      "Index([('2017', '데이터직무 전체 인력 (명)'), ('2018', '데이터직무 전체 인력 (명)'),\n",
      "       ('2019', '데이터직무 전체 인력 (명)'), ('2020', '데이터직무 전체 인력 (명)')],\n",
      "      dtype='object', name='데이터직무별(1)')\n"
     ]
    }
   ],
   "source": [
    "x = datajobDF_total.index\n",
    "print(x)"
   ]
  },
  {
   "cell_type": "code",
   "execution_count": null,
   "metadata": {},
   "outputs": [],
   "source": [
    "# 위 그래프를 보시면 2017년부터 2020년까지 증가한 데이터 관련 직무 인력 수를 "
   ]
  },
  {
   "cell_type": "code",
   "execution_count": null,
   "metadata": {},
   "outputs": [],
   "source": []
  },
  {
   "cell_type": "code",
   "execution_count": null,
   "metadata": {},
   "outputs": [],
   "source": []
  },
  {
   "cell_type": "code",
   "execution_count": null,
   "metadata": {},
   "outputs": [],
   "source": []
  },
  {
   "cell_type": "code",
   "execution_count": null,
   "metadata": {},
   "outputs": [],
   "source": []
  },
  {
   "cell_type": "code",
   "execution_count": null,
   "metadata": {},
   "outputs": [],
   "source": []
  },
  {
   "cell_type": "code",
   "execution_count": null,
   "metadata": {},
   "outputs": [],
   "source": []
  },
  {
   "cell_type": "code",
   "execution_count": null,
   "metadata": {},
   "outputs": [],
   "source": []
  },
  {
   "cell_type": "code",
   "execution_count": null,
   "metadata": {},
   "outputs": [],
   "source": []
  },
  {
   "cell_type": "code",
   "execution_count": null,
   "metadata": {},
   "outputs": [],
   "source": []
  },
  {
   "cell_type": "code",
   "execution_count": null,
   "metadata": {},
   "outputs": [],
   "source": []
  },
  {
   "cell_type": "code",
   "execution_count": null,
   "metadata": {},
   "outputs": [],
   "source": []
  },
  {
   "cell_type": "code",
   "execution_count": null,
   "metadata": {},
   "outputs": [],
   "source": []
  },
  {
   "cell_type": "code",
   "execution_count": null,
   "metadata": {},
   "outputs": [],
   "source": []
  },
  {
   "cell_type": "code",
   "execution_count": null,
   "metadata": {},
   "outputs": [],
   "source": []
  },
  {
   "cell_type": "code",
   "execution_count": null,
   "metadata": {},
   "outputs": [],
   "source": []
  },
  {
   "cell_type": "code",
   "execution_count": null,
   "metadata": {},
   "outputs": [],
   "source": []
  },
  {
   "cell_type": "code",
   "execution_count": null,
   "metadata": {},
   "outputs": [],
   "source": []
  },
  {
   "cell_type": "code",
   "execution_count": null,
   "metadata": {},
   "outputs": [],
   "source": []
  },
  {
   "cell_type": "code",
   "execution_count": null,
   "metadata": {},
   "outputs": [],
   "source": []
  },
  {
   "cell_type": "code",
   "execution_count": null,
   "metadata": {},
   "outputs": [],
   "source": []
  },
  {
   "cell_type": "code",
   "execution_count": null,
   "metadata": {},
   "outputs": [],
   "source": []
  },
  {
   "cell_type": "code",
   "execution_count": null,
   "metadata": {},
   "outputs": [],
   "source": []
  },
  {
   "cell_type": "code",
   "execution_count": null,
   "metadata": {},
   "outputs": [],
   "source": []
  },
  {
   "cell_type": "code",
   "execution_count": null,
   "metadata": {},
   "outputs": [],
   "source": []
  },
  {
   "cell_type": "code",
   "execution_count": null,
   "metadata": {},
   "outputs": [],
   "source": []
  }
 ],
 "metadata": {
  "kernelspec": {
   "display_name": "MY_PYTHON",
   "language": "python",
   "name": "python3"
  },
  "language_info": {
   "codemirror_mode": {
    "name": "ipython",
    "version": 3
   },
   "file_extension": ".py",
   "mimetype": "text/x-python",
   "name": "python",
   "nbconvert_exporter": "python",
   "pygments_lexer": "ipython3",
   "version": "3.9.17"
  },
  "orig_nbformat": 4
 },
 "nbformat": 4,
 "nbformat_minor": 2
}
