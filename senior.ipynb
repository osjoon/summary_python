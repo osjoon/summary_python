{
 "cells": [
  {
   "cell_type": "code",
   "execution_count": 2,
   "metadata": {},
   "outputs": [],
   "source": [
    "from urllib.request import urlopen\n",
    "from bs4 import BeautifulSoup\n",
    "# from selenium import webdriver\n",
    "import pandas as pd\n",
    "import matplotlib.pyplot as plt\n",
    "import seaborn as sns\n",
    "import re\n",
    "from matplotlib import font_manager\n",
    "\n",
    "# fe = font_manager.FontEntry(\n",
    "#     fname=r'D:\\my_jupyter\\EXAM_WEB_CRAWLING\\project\\KBO Dia Gothic_TTF\\KBO Dia Gothic_bold.ttf', # ttf 파일이 저장되어 있는 경로\n",
    "#     name='KBO Dia Gothic_bold')                        # 이 폰트의 원하는 이름 설정\n",
    "# font_manager.fontManager.ttflist.insert(0, fe)              # Matplotlib에 폰트 추가\n",
    "# plt.rcParams.update({'font.size': 12, 'font.family': 'KBO Dia Gothic_bold'}) # 폰트 설정\n",
    "\n",
    "argument1=[]#경력\n",
    "argument2=[]\n",
    "argument3=[]\n",
    "argument4=[]\n",
    "argument5=[]\n",
    "argument6=[]\n",
    "argument7=[]\n",
    "argument8=[]\n",
    "argument9=[]\n",
    "argument10=[]\n",
    "argument11=[]\n",
    "argument12=[]\n",
    "argument13=[]\n",
    "argument14=[]\n",
    "argument15=[]\n",
    "argument16=[]\n",
    "argument17=[]\n",
    "argument18=[]\n",
    "argument19=[]\n",
    "argument20=[]\n",
    "argument21=[]\n",
    "argument22=[]\n",
    "argument23=[]\n",
    "argument24=[]\n",
    "argument25=[]\n",
    "argument26=[]"
   ]
  },
  {
   "cell_type": "code",
   "execution_count": 3,
   "metadata": {},
   "outputs": [],
   "source": [
    "for i in range(1,22):\n",
    "\n",
    "    html = urlopen(f\"https://www.work.go.kr/empInfo/empInfoSrch/list/dtlEmpSrchList.do?careerTo=120&keywordJobCd=&occupation=132000%2C025%2C024%2C023&templateInfo=&shsyWorkSecd=&rot2WorkYn=&payGbn=&resultCnt=10&keywordJobCont=&cert=&cloDateStdt=&moreCon=&minPay=&codeDepth2Info=11000&isChkLocCall=&sortFieldInfo=DATE&major=&resrDutyExcYn=&eodwYn=&sortField=DATE&staArea=&sortOrderBy=DESC&keyword=&termSearchGbn=all&carrEssYns=&benefitSrchAndOr=O&disableEmpHopeGbn=&webIsOut=&actServExcYn=&maxPay=&keywordStaAreaNm=&emailApplyYn=&listCookieInfo=DTL&pageCode=&codeDepth1Info=11000&keywordEtcYn=&publDutyExcYn=&keywordJobCdSeqNo=&exJobsCd=&templateDepthNmInfo=&computerPreferential=&regDateStdt=&employGbn=&empTpGbcd=1&region=&infaYn=&resultCntInfo=10&siteClcd=WORK&cloDateEndt=&sortOrderByInfo=DESC&currntPageNo=1&indArea=&careerTypes=E&searchOn=Y&tlmgYn=&subEmpHopeYn=&academicGbn=&templateDepthNoInfo=&foriegn=&mealOfferClcd=&station=&moerButtonYn=Y&holidayGbn=&srcKeyword=&enterPriseGbn=all&academicGbnoEdu=noEdu&cloTermSearchGbn=all&keywordWantedTitle=&stationNm=&benefitGbn=&keywordFlag=&notSrcKeyword=&essCertChk=&isEmptyHeader=&depth2SelCode=&_csrf=59771df0-40da-4b72-b9b3-3991b3797301&keywordBusiNm=&preferentialGbn=&rot3WorkYn=&pfMatterPreferential=&regDateEndt=&staAreaLineInfo1=11000&staAreaLineInfo2=1&pageIndex={i}&termContractMmcnt=&careerFrom=36&laborHrShortYn=#viewSPL\")\n",
    "    soup = BeautifulSoup(html,features=\"lxml\")\n",
    "    \n",
    "    a_list = soup.select(\"div.cp-info-in > a\")\n",
    "\n",
    "    for i in a_list:\n",
    "    \n",
    "        sites = \"https://www.work.go.kr\" + i[\"href\"]\n",
    "        # print(sites)\n",
    "        html2 = urlopen(sites)\n",
    "        soup2 = BeautifulSoup(html2,features=\"lxml\")\n",
    "        # list1= soup2.select_one(\"#contents > section > div > div.careers-area > div.careers-new > div.border > div.left\")\n",
    "        # career=list1.select_one(\"div:nth-child(2) > div:nth-child(1) > div > ul > li:nth-child(1) span\").text.strip()\n",
    "        # study =list1.select_one(\"div:nth-child(2) > div:nth-child(1) > div > ul > li:nth-child(2) > span\").text.strip()\n",
    "        list1 = soup2.select(\"#contents > section > div > div.careers-area > div.careers-new > div.border > div.left\")\n",
    "        for i in list1:\n",
    "            argument1.append(i.select_one(\"div:nth-child(3) > div  div > ul > li span\").text.strip().replace(\"\\n\",\"\").replace(\"\\t\",\"\").replace(\" \",\"\"))\n",
    "            argument2.append(i.select_one(\"div:nth-child(2) > div:nth-child(1) > div > ul > li:nth-child(2) > span\").text.strip().replace(\"\\n\",\"\").replace(\"\\t\",\"\").replace(\" \",\"\"))\n",
    "            argument3.append(i.select_one(\"div:nth-child(2) > div:nth-child(2) > div > ul > li:nth-child(1) > span\").text.strip().replace(\"\\n\",\"\").replace(\"\\t\",\"\").replace(\" \",\"\"))\n",
    "            argument4.append(i.select_one(\"div:nth-child(2) > div:nth-child(2) > div > ul > li:nth-child(2) > span\").text.strip().replace(\"\\n\",\"\").replace(\"\\t\",\"\").replace(\" \",\"\"))\n",
    "            argument5.append(i.select_one(\"div:nth-child(3) > div:nth-child(1) > div > ul > li:nth-child(1) > span\").text.strip().replace(\"\\n\",\"\").replace(\"\\t\",\"\").replace(\" \",\"\"))\n",
    "            argument6.append(i.select_one(\"div:nth-child(3) > div:nth-child(1) > div > ul > li:nth-child(2) > span\").text.strip().replace(\"\\n\",\"\").replace(\"\\t\",\"\").replace(\" \",\"\"))\n",
    "            argument7.append(i.select_one(\"div:nth-child(3) > div:nth-child(2) > div > ul > li\").text.strip().replace(\"\\n\",\"\").replace(\"\\t\",\"\").replace(\" \",\"\"))\n",
    "        list2= soup2.select(\"#contents > section > div > div.careers-area > div.careers-new > div.border > div.right\")\n",
    "        for i in list2:\n",
    "            argument8.append(i.select_one(\"div.info > ul > li:nth-child(1) > div\").text.strip().replace(\"\\n\",\"\").replace(\"\\t\",\"\").replace(\" \",\"\"))\n",
    "            argument9.append(i.select_one(\"div.info > ul > li:nth-child(2) > div\").text.strip().replace(\"\\n\",\"\").replace(\"\\t\",\"\").replace(\" \",\"\"))\n",
    "            argument10.append(i.select_one(\"div.info > ul > li:nth-child(3) > div\").text.strip().replace(\"\\n\",\"\").replace(\"\\t\",\"\").replace(\" \",\"\"))\n",
    "            argument11.append(i.select_one(\"div.info > ul > li:nth-child(4) > div\").text.strip().replace(\"\\n\",\"\").replace(\"\\t\",\"\").replace(\" \",\"\"))\n",
    "            argument12.append(i.select_one(\"div.info > ul > li:nth-child(5) > div\").text.strip().replace(\"\\n\",\"\").replace(\"\\t\",\"\").replace(\" \",\"\"))\n",
    "            argument13.append(i.select_one(\"div.info > ul > li:nth-child(6) > div\").text.strip().replace(\"\\n\",\"\").replace(\"\\t\",\"\").replace(\" \",\"\"))\n",
    "            argument14.append(i.select_one(\"div.info > ul > li:nth-child(7) > div\").text.strip().replace(\"\\n\",\"\").replace(\"\\t\",\"\").replace(\" \",\"\"))\n",
    "        argument15.append(soup2.select_one(\"#contents > section > div > div.careers-area > div:nth-child(4) > table > tbody > tr > td\").text.strip().replace(\"\\n\",\"\").replace(\"\\t\",\"\").replace(\" \",\"\"))\n",
    "        argument16.append(soup2.select_one(\"div.careers-area > div:nth-child(6) > table tr > td:nth-child(1)\").text.strip().replace(\"\\n\",\"\").replace(\"\\t\",\"\").replace(\" \",\"\"))\n",
    "        argument17.append(soup2.select_one(\"#contents > section > div > div.careers-area > div:nth-child(6) > table > tbody > tr > td:nth-child(3)\").text.strip().replace(\"\\n\",\"\").replace(\"\\t\",\"\").replace(\" \",\"\"))\n",
    "        argument18.append(soup2.select_one(\"#contents > section > div > div.careers-area > div:nth-child(14) > table > tbody > tr > td:nth-child(1)\").text.strip().replace(\"\\n\",\"\").replace(\"\\t\",\"\").replace(\" \",\"\"))\n",
    "        argument19.append(soup2.select_one(\"#contents > section > div > div.careers-area > div:nth-child(14) > table > tbody > tr > td:nth-child(2)\").text.strip().replace(\"\\n\",\"\").replace(\"\\t\",\"\").replace(\" \",\"\"))\n",
    "        argument20.append(soup2.select_one(\"#contents > section > div > div.careers-area > div:nth-child(14) > table > tbody > tr > td:nth-child(3)\").text.strip().replace(\"\\n\",\"\").replace(\"\\t\",\"\").replace(\" \",\"\"))\n",
    "        argument21.append(soup2.select_one(\"#contents > section > div > div.careers-area > div:nth-child(14) > table > tbody > tr > td:nth-child(4)\").text.strip().replace(\"\\n\",\"\").replace(\"\\t\",\"\").replace(\" \",\"\"))\n",
    "        argument22.append(soup2.select_one(\"#contents > section > div > div.careers-area > div:nth-child(14) > table > tbody > tr > td:nth-child(5)\").text.strip().replace(\"\\n\",\"\").replace(\"\\t\",\"\").replace(\" \",\"\"))\n",
    "        argument23.append(soup2.select_one(\"#contents > section > div > div.careers-area > div.careers-table.cnts.v1.mt20 > table > tbody > tr:nth-child(2) td:nth-child(1)\").text.strip().replace(\"\\n\",\"\").replace(\"\\t\",\"\").replace(\" \",\"\"))\n",
    "        argument24.append(soup2.select_one(\"#contents > section > div > div.careers-area > div.careers-table.cnts.v1.mt20 > table > tbody > tr:nth-child(2) td:nth-child(2)\").text.strip().replace(\"\\n\",\"\").replace(\"\\t\",\"\").replace(\" \",\"\"))\n",
    "        argument25.append(soup2.select_one(\"#contents > section > div > div.careers-area > div.careers-table.cnts.v1.mt20 > table > tbody > tr:nth-child(4) td:nth-child(1)\").text.strip().replace(\"\\n\",\"\").replace(\"\\t\",\"\").replace(\" \",\"\"))\n",
    "        argument26.append(soup2.select_one(\"#contents > section > div > div.careers-area > div.careers-table.cnts.v1.mt20 > table > tbody > tr:nth-child(4) td:nth-child(2)\").text.strip().replace(\"\\n\",\"\").replace(\"\\t\",\"\").replace(\" \",\"\"))\n",
    "        soup.select\n",
    "\n",
    "\n",
    "total_list = [argument1,argument2,argument3,argument4,argument5,argument6,argument7,argument8,argument9,argument10,argument11,argument12,argument13,argument14,argument15,argument16,argument17,argument18,argument19,argument20,argument21,argument22,argument23,argument24,argument25,argument26]\n",
    "\n",
    "df = pd.DataFrame(total_list,index=['경력','학력','지역','임금','고용형태',\n",
    "        '근무형태','복리후생','기업명','업종','기업규모',\n",
    "        '설립년도','연매출액','홈페이지','근로자수','직무내용',\n",
    "        '모집직종','관련직종','전공','자격면허','외국어능력',\n",
    "        '병역대체 복무자채용','고용허가제','우대조건','컴퓨터 활용능력','기타우대사항',\n",
    "        '작업환경'])\n",
    "\n",
    "df=df.T"
   ]
  },
  {
   "cell_type": "code",
   "execution_count": null,
   "metadata": {},
   "outputs": [],
   "source": []
  },
  {
   "cell_type": "code",
   "execution_count": 4,
   "metadata": {},
   "outputs": [
    {
     "data": {
      "text/plain": [
       "(205, 26)"
      ]
     },
     "execution_count": 4,
     "metadata": {},
     "output_type": "execute_result"
    }
   ],
   "source": [
    "df.shape"
   ]
  },
  {
   "cell_type": "code",
   "execution_count": 5,
   "metadata": {},
   "outputs": [
    {
     "data": {
      "text/plain": [
       "경력(최소3년0개월이상)필수     64\n",
       "경력(최소3년0개월이상)우대     60\n",
       "경력(최소5년0개월이상)필수     28\n",
       "경력(최소5년0개월이상)우대     24\n",
       "경력(최소10년0개월이상)우대     6\n",
       "경력(최소8년0개월이상)필수      4\n",
       "경력(최소10년0개월이상)필수     4\n",
       "경력(최소4년0개월이상)필수      4\n",
       "경력(최소3년5개월이상)필수      1\n",
       "경력(최소5년6개월이상)필수      1\n",
       "경력(최소7년0개월이상)필수      1\n",
       "경력(최소6년0개월이상)우대      1\n",
       "경력(최소7년0개월이상)우대      1\n",
       "경력(최소8년0개월이상)우대      1\n",
       "경력(최소4년0개월이상)우대      1\n",
       "경력(최소5년10개월이상)필수     1\n",
       "경력(최소3년7개월이상)우대      1\n",
       "경력(최소5년1개월이상)우대      1\n",
       "경력(최소3년1개월이상)필수      1\n",
       "Name: 경력, dtype: int64"
      ]
     },
     "execution_count": 5,
     "metadata": {},
     "output_type": "execute_result"
    }
   ],
   "source": [
    "df[\"경력\"].value_counts()"
   ]
  },
  {
   "cell_type": "code",
   "execution_count": 6,
   "metadata": {},
   "outputs": [
    {
     "data": {
      "text/plain": [
       "학력무관               94\n",
       "대졸(2~3년)~대졸(4년)    35\n",
       "대졸(4년)~박사          23\n",
       "대졸(2~3년)~박사        16\n",
       "대졸(2~3년)~석사        11\n",
       "대졸(4년)              7\n",
       "대졸(4년)~석사           5\n",
       "고졸~대졸(4년)           4\n",
       "대졸(2~3년)            3\n",
       "고졸~박사               3\n",
       "박사                  1\n",
       "고졸~석사               1\n",
       "고졸                  1\n",
       "고졸~대졸(2~3년)         1\n",
       "Name: 학력, dtype: int64"
      ]
     },
     "execution_count": 6,
     "metadata": {},
     "output_type": "execute_result"
    }
   ],
   "source": [
    "df[\"학력\"].value_counts()"
   ]
  },
  {
   "cell_type": "code",
   "execution_count": 7,
   "metadata": {},
   "outputs": [],
   "source": [
    "# 학력무관이면 그냥 출력, 다른 경우는 학력 최저기준을 기준으로 출력\n",
    "\n",
    "def edu_slice(str1):\n",
    "    if str1!=\"학력무관\":\n",
    "        return str1[:2]+\"이상\"\n",
    "    else:\n",
    "        return str1\n",
    "# 학력 재분류\n",
    "df[\"학력\"]=df[\"학력\"].apply(edu_slice)"
   ]
  },
  {
   "cell_type": "code",
   "execution_count": 8,
   "metadata": {},
   "outputs": [
    {
     "data": {
      "text/plain": [
       "대졸이상    100\n",
       "학력무관     94\n",
       "고졸이상     10\n",
       "박사이상      1\n",
       "Name: 학력, dtype: int64"
      ]
     },
     "execution_count": 8,
     "metadata": {},
     "output_type": "execute_result"
    }
   ],
   "source": [
    "df[\"학력\"].value_counts()"
   ]
  },
  {
   "cell_type": "code",
   "execution_count": 9,
   "metadata": {},
   "outputs": [
    {
     "data": {
      "text/plain": [
       "0                    경기도수원시권선구산업로156번길66,나동에스퓨얼셀(고색동)\n",
       "1                        경상남도창원시성산구완암로50,넥스동712호(성산동)\n",
       "2                                경상북도구미시산동읍첨단기업1로82-3\n",
       "3                     경기도광명시하안로60,광명SK테크노파크C-705(소하동)\n",
       "4              대구광역시서구와룡로307,822호,(중리동,디센터1976지식산업센터)\n",
       "                            ...                      \n",
       "200                        서울특별시성동구성수일로55,SK테크노빌딩403호\n",
       "201                               경기도화성시동탄산단2길58(방교동)\n",
       "202    경기도안양시만안구덕천로152번길25,안양아이에스BIZ타워센트럴A동2102호2101호\n",
       "203                   서울특별시서초구강남대로53길8,스타크강남빌딩8층(서초동)\n",
       "204                          인천광역시계양구서운산단로2길73,-(서운동)\n",
       "Name: 지역, Length: 205, dtype: object"
      ]
     },
     "execution_count": 9,
     "metadata": {},
     "output_type": "execute_result"
    }
   ],
   "source": [
    "# 지역은 너무 세부적으로 있으니 도별로 구분\n",
    "df[\"지역\"]"
   ]
  },
  {
   "cell_type": "code",
   "execution_count": 10,
   "metadata": {},
   "outputs": [],
   "source": [
    "df[\"지역\"]=df[\"지역\"].str.replace(\"도\",\"도 \").str.replace(\"시\",\"시 \").str.split(\" \").str[0]"
   ]
  },
  {
   "cell_type": "code",
   "execution_count": 11,
   "metadata": {},
   "outputs": [
    {
     "data": {
      "text/plain": [
       "서울특별시      61\n",
       "경기도        60\n",
       "경상남도       13\n",
       "경상북도       11\n",
       "대구광역시      11\n",
       "부산광역시       9\n",
       "인천광역시       8\n",
       "대전광역시       7\n",
       "전라남도        6\n",
       "전라북도        6\n",
       "충청남도        4\n",
       "강원특별자치도     4\n",
       "광주광역시       2\n",
       "충청북도        2\n",
       "제주특별자치도     1\n",
       "Name: 지역, dtype: int64"
      ]
     },
     "execution_count": 11,
     "metadata": {},
     "output_type": "execute_result"
    }
   ],
   "source": [
    "df[\"지역\"].value_counts()"
   ]
  },
  {
   "cell_type": "code",
   "execution_count": 12,
   "metadata": {},
   "outputs": [
    {
     "data": {
      "text/plain": [
       "0      [4000, 7000]\n",
       "1            [4000]\n",
       "2             [450]\n",
       "3      [5000, 7000]\n",
       "4      [3000, 4000]\n",
       "           ...     \n",
       "200          [4000]\n",
       "201          [6000]\n",
       "202          [5000]\n",
       "203      [400, 800]\n",
       "204    [4500, 4500]\n",
       "Name: 임금, Length: 205, dtype: object"
      ]
     },
     "execution_count": 12,
     "metadata": {},
     "output_type": "execute_result"
    }
   ],
   "source": [
    "df[\"임금\"].str.replace(\"연봉\",\"\").str.replace(\"월급\",\"\").str.replace(\"시급\",\"\").str.replace(\"만원\",\"\").str.replace(\"이상\",\"\").str.replace(\",\",\"\").str.split(\"~\")"
   ]
  },
  {
   "cell_type": "code",
   "execution_count": 13,
   "metadata": {},
   "outputs": [],
   "source": [
    "# 임금 부분을 숫자로 변경 및 평균으로 변경하는 함수\n",
    "def wage_avg(list1):\n",
    "    \n",
    "    if int(list1[0])>9000:\n",
    "        if len(list1)==1:\n",
    "            return int(list1[0])*40*52/10000\n",
    "        else:\n",
    "            wage =int((int(list1[0])+int(list1[1]))/2)*40*52/10000\n",
    "            return wage\n",
    "    \n",
    "    elif int(list1[0])>1000:\n",
    "        if len(list1)==1:\n",
    "            return int(list1[0])\n",
    "        else:\n",
    "            wage =int((int(list1[0])+int(list1[1]))/2)\n",
    "            return wage\n",
    "    elif int(list1[0])<1000:\n",
    "        if len(list1)==1:\n",
    "            return int(list1[0])*12\n",
    "        else:\n",
    "            wage =int((int(list1[0])+int(list1[1]))/2)*12\n",
    "            return wage"
   ]
  },
  {
   "cell_type": "code",
   "execution_count": 14,
   "metadata": {},
   "outputs": [],
   "source": [
    "# 수치형 데이터로 변경\n",
    "df[\"임금\"]=df[\"임금\"].str.replace(\"연봉\",\"\").str.replace(\"월급\",\"\").str.replace(\"만원\",\"\").str.replace(\"원\",\"\").str.replace(\"시급\",\"\").str.replace(\"이상\",\"\").str.replace(\",\",\"\").str.split(\"~\").apply(wage_avg)"
   ]
  },
  {
   "cell_type": "code",
   "execution_count": 15,
   "metadata": {},
   "outputs": [],
   "source": [
    "df[\"임금\"]=df[\"임금\"].apply(lambda x: int(x))"
   ]
  },
  {
   "cell_type": "code",
   "execution_count": 16,
   "metadata": {},
   "outputs": [
    {
     "data": {
      "text/plain": [
       "0      5500\n",
       "1      4000\n",
       "2      5400\n",
       "3      6000\n",
       "4      3500\n",
       "       ... \n",
       "200    4000\n",
       "201    6000\n",
       "202    5000\n",
       "203    7200\n",
       "204    4500\n",
       "Name: 임금, Length: 205, dtype: int64"
      ]
     },
     "execution_count": 16,
     "metadata": {},
     "output_type": "execute_result"
    }
   ],
   "source": [
    "df[\"임금\"]"
   ]
  },
  {
   "cell_type": "code",
   "execution_count": 17,
   "metadata": {},
   "outputs": [
    {
     "data": {
      "text/plain": [
       "기간의정함이없는근로계약             182\n",
       "기간의정함이있는근로계약              20\n",
       "기간의정함이있는근로계약(시간(선택)제)      2\n",
       "기간의정함이없는근로계약(시간(선택)제)      1\n",
       "Name: 고용형태, dtype: int64"
      ]
     },
     "execution_count": 17,
     "metadata": {},
     "output_type": "execute_result"
    }
   ],
   "source": [
    "# 고용형태는 기간 유무로만 구분 필요\n",
    "df[\"고용형태\"].value_counts()"
   ]
  },
  {
   "cell_type": "code",
   "execution_count": 18,
   "metadata": {},
   "outputs": [
    {
     "name": "stderr",
     "output_type": "stream",
     "text": [
      "C:\\Users\\KDP12\\AppData\\Local\\Temp\\ipykernel_8564\\3589070156.py:1: FutureWarning: The default value of regex will change from True to False in a future version.\n",
      "  df[\"고용형태\"]=df[\"고용형태\"].str.replace(\"\\(시간\\(선택\\)제\\)\",\"\")\n"
     ]
    }
   ],
   "source": [
    "df[\"고용형태\"]=df[\"고용형태\"].str.replace(\"\\(시간\\(선택\\)제\\)\",\"\")"
   ]
  },
  {
   "cell_type": "code",
   "execution_count": 19,
   "metadata": {},
   "outputs": [
    {
     "data": {
      "text/plain": [
       "기간의정함이없는근로계약    183\n",
       "기간의정함이있는근로계약     22\n",
       "Name: 고용형태, dtype: int64"
      ]
     },
     "execution_count": 19,
     "metadata": {},
     "output_type": "execute_result"
    }
   ],
   "source": [
    "df[\"고용형태\"].value_counts()"
   ]
  },
  {
   "cell_type": "code",
   "execution_count": 20,
   "metadata": {},
   "outputs": [
    {
     "data": {
      "text/plain": [
       "주5일근무    203\n",
       "주6일근무      1\n",
       "주3일근무      1\n",
       "Name: 근무형태, dtype: int64"
      ]
     },
     "execution_count": 20,
     "metadata": {},
     "output_type": "execute_result"
    }
   ],
   "source": [
    "# 근무형태는 변경필요 X\n",
    "df[\"근무형태\"].value_counts()"
   ]
  },
  {
   "cell_type": "code",
   "execution_count": 21,
   "metadata": {},
   "outputs": [
    {
     "data": {
      "text/plain": [
       "0             식사제공(중식비지급)\n",
       "1                        \n",
       "2           기숙사제공식사제공(1식)\n",
       "3                  통근버스제공\n",
       "4      식사제공(중식비지급)자녀학자금지원\n",
       "              ...        \n",
       "200           식사제공(중식비지급)\n",
       "201              식사제공(2식)\n",
       "202           식사제공(중식비지급)\n",
       "203                 교육비제공\n",
       "204              식사제공(1식)\n",
       "Name: 복리후생, Length: 205, dtype: object"
      ]
     },
     "execution_count": 21,
     "metadata": {},
     "output_type": "execute_result"
    }
   ],
   "source": [
    "# 형태소 분석해야 하나..? 생각\n",
    "df['복리후생']"
   ]
  },
  {
   "cell_type": "code",
   "execution_count": 22,
   "metadata": {},
   "outputs": [
    {
     "name": "stderr",
     "output_type": "stream",
     "text": [
      "C:\\Users\\KDP12\\AppData\\Local\\Temp\\ipykernel_8564\\2541823816.py:3: FutureWarning: The default value of regex will change from True to False in a future version.\n",
      "  df[\"기업명\"]=df[\"기업명\"].str.replace(\"주식회사\",\"\").str.replace(\"\\(주\\)\",\"\")\n"
     ]
    }
   ],
   "source": [
    "# 기업명에 있던 \"(주)\" 및 \"주식회사\" 제거\n",
    "\n",
    "df[\"기업명\"]=df[\"기업명\"].str.replace(\"주식회사\",\"\").str.replace(\"\\(주\\)\",\"\")"
   ]
  },
  {
   "cell_type": "code",
   "execution_count": 23,
   "metadata": {},
   "outputs": [
    {
     "data": {
      "text/plain": [
       "수퍼빈           4\n",
       "오케이포장         2\n",
       "피스페이스         2\n",
       "첫눈            2\n",
       "셀빅            2\n",
       "             ..\n",
       "우성정밀          1\n",
       "메디라인액티브코리아    1\n",
       "텍스타일디자인뱅크     1\n",
       "우솔데이타         1\n",
       "이노디스          1\n",
       "Name: 기업명, Length: 188, dtype: int64"
      ]
     },
     "execution_count": 23,
     "metadata": {},
     "output_type": "execute_result"
    }
   ],
   "source": [
    "df[\"기업명\"].value_counts()"
   ]
  },
  {
   "cell_type": "code",
   "execution_count": 24,
   "metadata": {},
   "outputs": [
    {
     "data": {
      "text/plain": [
       "컴퓨터프로그래밍서비스업           25\n",
       "응용소프트웨어개발및공급업          20\n",
       "컴퓨터시스템통합자문및구축서비스업      18\n",
       "시스템소프트웨어개발및공급업         12\n",
       "기타정보기술및컴퓨터운영관련서비스업      8\n",
       "                       ..\n",
       "사업시설유지ㆍ관리서비스업           1\n",
       "전기회로개폐,보호장치제조업          1\n",
       "건강기능식품제조업               1\n",
       "통신ㆍ방송장비및부품도매업           1\n",
       "기타기계ㆍ장비조립용플라스틱제품제조업     1\n",
       "Name: 업종, Length: 80, dtype: int64"
      ]
     },
     "execution_count": 24,
     "metadata": {},
     "output_type": "execute_result"
    }
   ],
   "source": [
    "# 이거는 좀 고민해야할거 같음.\n",
    "df[\"업종\"].value_counts()"
   ]
  },
  {
   "cell_type": "code",
   "execution_count": 25,
   "metadata": {},
   "outputs": [
    {
     "data": {
      "text/plain": [
       "중소기업    177\n",
       "         26\n",
       "기타        2\n",
       "Name: 기업규모, dtype: int64"
      ]
     },
     "execution_count": 25,
     "metadata": {},
     "output_type": "execute_result"
    }
   ],
   "source": [
    "#대부분 중소기업이긴 한데, 이건 빈 공백 어떻게 할지생각\n",
    "df[\"기업규모\"].value_counts()"
   ]
  },
  {
   "cell_type": "code",
   "execution_count": 26,
   "metadata": {},
   "outputs": [],
   "source": [
    "# 설립년도 없는 곳 그냥 0으로 처리함\n",
    "# 0으로 처리해야 나중에 불린 인덱스 조건 줘서 하기 좋을거 같아서\n",
    "# ~년도 없앰\n",
    "# int 형으로 바꿈\n",
    "df[\"설립년도\"]=df[\"설립년도\"].str[:4].replace(\"\",0).apply(lambda x :int(x))"
   ]
  },
  {
   "cell_type": "code",
   "execution_count": 27,
   "metadata": {},
   "outputs": [
    {
     "data": {
      "text/plain": [
       "0       43\n",
       "2021    16\n",
       "2015    15\n",
       "2019    14\n",
       "2018    11\n",
       "2017    10\n",
       "2011    10\n",
       "2013     9\n",
       "2004     8\n",
       "2020     8\n",
       "2022     7\n",
       "2010     7\n",
       "2009     5\n",
       "2016     5\n",
       "2001     4\n",
       "2008     4\n",
       "2014     4\n",
       "2012     4\n",
       "2005     4\n",
       "2000     3\n",
       "1993     2\n",
       "2006     2\n",
       "1998     1\n",
       "1997     1\n",
       "1989     1\n",
       "1980     1\n",
       "2023     1\n",
       "2003     1\n",
       "1969     1\n",
       "2002     1\n",
       "2007     1\n",
       "1991     1\n",
       "Name: 설립년도, dtype: int64"
      ]
     },
     "execution_count": 27,
     "metadata": {},
     "output_type": "execute_result"
    }
   ],
   "source": [
    "df[\"설립년도\"].value_counts()"
   ]
  },
  {
   "cell_type": "code",
   "execution_count": 57,
   "metadata": {},
   "outputs": [
    {
     "data": {
      "text/plain": [
       "         88\n",
       "2000      6\n",
       "10000     6\n",
       "1000      5\n",
       "3000      5\n",
       "         ..\n",
       "1177      1\n",
       "920       1\n",
       "2730      1\n",
       "2144      1\n",
       "19531     1\n",
       "Name: 연매출액, Length: 76, dtype: int64"
      ]
     },
     "execution_count": 57,
     "metadata": {},
     "output_type": "execute_result"
    }
   ],
   "source": [
    "df[\"연매출액\"].str.replace(\",\",\"\").str.replace(\"백만원\",\"\").value_counts()"
   ]
  },
  {
   "cell_type": "code",
   "execution_count": 29,
   "metadata": {},
   "outputs": [
    {
     "data": {
      "text/plain": [
       "0      www.s-fuelcell.com/\n",
       "1            smart-s.co.kr\n",
       "2             vnseng.co.kr\n",
       "3       www.witconintl.com\n",
       "4          www.wizis.co.kr\n",
       "              ...         \n",
       "200        www.cellbig.com\n",
       "201                      -\n",
       "202                      -\n",
       "203     www.jmkbuddies.com\n",
       "204                      -\n",
       "Name: 홈페이지, Length: 205, dtype: object"
      ]
     },
     "execution_count": 29,
     "metadata": {},
     "output_type": "execute_result"
    }
   ],
   "source": [
    "#쓰지 못하는 데이터 변겅\n",
    "df[\"홈페이지\"]"
   ]
  },
  {
   "cell_type": "code",
   "execution_count": 30,
   "metadata": {},
   "outputs": [],
   "source": [
    "# 근로자수 수치형으로 변경\n",
    "df[\"근로자수\"]=df[\"근로자수\"].str.replace(\"명\",\"\").apply(lambda x: int(x))"
   ]
  },
  {
   "cell_type": "code",
   "execution_count": 31,
   "metadata": {},
   "outputs": [
    {
     "data": {
      "text/plain": [
       "23"
      ]
     },
     "execution_count": 31,
     "metadata": {},
     "output_type": "execute_result"
    }
   ],
   "source": [
    "# 이게 진짜 단어로 쪼개야 할듯 -> 형태소로\n",
    "df[\"직무내용\"].str.contains(\"SQL\").sum()"
   ]
  },
  {
   "cell_type": "code",
   "execution_count": 32,
   "metadata": {},
   "outputs": [
    {
     "data": {
      "text/plain": [
       "0      * 수소 연료전지 시스템 최적화, 평가 및 시험 분석\\r* 연료전지시스템 개발 관련...\n",
       "1                     웹 개발 인원 모집합니다.\\r경력5년 이상 경력자 모집합니다.\n",
       "2      자동화 장비 미쓰비씨  PLC 프로그래머\\r- LCD, FA 자동화장비 제어 경력자...\n",
       "3      [주요업무]\\r. 카메라 영상 후 처리 및 신호 처리 S/W개발\\r. PAN/TIL...\n",
       "4      C# 활용, Java, Visual Basic  프로그램 개발 \\r1. 진취적이고,...\n",
       "                             ...                        \n",
       "200    (회사소개)\\r㈜셀빅은 2004년에 설립된 회사로 자본금 7억원, 매출액 102억,...\n",
       "201    [산업용전자기기소프트웨어개발]\\r- 시스템 소프트웨어 설계\\r- 소프트웨어구조 설계...\n",
       "202                          Emebedded system , Firmware\n",
       "203    1. 업무내용\\r   - 정보시스템 구축사업 DBA\\r   - 정보시스템 DB 설계...\n",
       "204    ■ 직무내용 : 전산업무 전반(전산프로그램 전반)/네트워크 관리 \\r■ 경력 3년 ...\n",
       "Name: 직무내용, Length: 205, dtype: object"
      ]
     },
     "execution_count": 32,
     "metadata": {},
     "output_type": "execute_result"
    }
   ],
   "source": [
    "df[\"직무내용\"]"
   ]
  },
  {
   "cell_type": "code",
   "execution_count": 33,
   "metadata": {},
   "outputs": [
    {
     "data": {
      "text/plain": [
       "웹개발자(웹엔지니어·웹프로그래머)                        32\n",
       "응용소프트웨어개발자                                19\n",
       "C언어및그외프로그래밍언어전문가                          17\n",
       "시스템소프트웨어개발자                               11\n",
       "웹개발자                                      11\n",
       "JAVA프로그래밍언어전문가                             9\n",
       "펌웨어및임베디드소프트웨어프로그래머                         9\n",
       "데이터설계및프로그래머                                8\n",
       "IT기술지원전문가                                  8\n",
       "웹기획자                                       7\n",
       "모바일애플리케이션프로그래머(앱·어플개발)                     6\n",
       "컴퓨터시스템설계및분석가                               6\n",
       "시스템소프트웨어개발자(프로그래머)                         6\n",
       "범용응용소프트웨어프로그래머(ERP,정보처리,재무관리등)             5\n",
       "산업특화응용소프트웨어프로그래머(국방,항공,교통,에너지,금융,자동차등)     3\n",
       "정보시스템운영자                                   3\n",
       "IT컨설턴트                                     3\n",
       "데이터베이스운영·관리자                               3\n",
       "네트워크관리자(클라우딩컴퓨터운영관리자)                      3\n",
       "게임프로그래머                                    3\n",
       "웹운영자(홈페이지관리자)                              3\n",
       "데이터전문가                                     2\n",
       "컴퓨터시스템전문가                                  2\n",
       "IT테스터및ITQA전문가                              2\n",
       "기계·금속제도사(캐드원)                              2\n",
       "UX/UI디자이너                                  2\n",
       "금속기계부품조립원                                  1\n",
       "통신기기·장비개발자및연구원                             1\n",
       "전자공학기술자및연구원                                1\n",
       "기타정보통신기기설치·수리원                             1\n",
       "생산·품질사무원                                   1\n",
       "정보통신관리자(부서장)                               1\n",
       "전기기기·제품개발기술자및연구원                           1\n",
       "머천다이저(MD)                                  1\n",
       "정보보안전문가                                    1\n",
       "컴퓨터하드웨어기술자및연구원                             1\n",
       "웹디자이너                                      1\n",
       "IT기술영업원(전산장비,소프트웨어)                        1\n",
       "플라스틱금형제조원                                  1\n",
       "전기계측제어기술자(전기패널,계장,공정자동화전기등)                1\n",
       "총무및일반사무원                                   1\n",
       "네트워크시스템개발자                                 1\n",
       "경영기획사무원                                    1\n",
       "산업용전자제품개발기술자및연구원                           1\n",
       "통신장비설치·수리원                                 1\n",
       "온라인판매원                                     1\n",
       "Name: 모집직종, dtype: int64"
      ]
     },
     "execution_count": 33,
     "metadata": {},
     "output_type": "execute_result"
    }
   ],
   "source": [
    "#세부사항을 쪼갤지 말지 물어보기\n",
    "\n",
    "df[\"모집직종\"].value_counts()"
   ]
  },
  {
   "cell_type": "code",
   "execution_count": 34,
   "metadata": {},
   "outputs": [
    {
     "data": {
      "text/plain": [
       "                                             90\n",
       "JAVA프로그래밍언어전문가                                9\n",
       "C언어및그외프로그래밍언어전문가                              5\n",
       "데이터설계및프로그래머                                   5\n",
       "웹기획자                                          5\n",
       "                                             ..\n",
       "웹개발자(웹엔지니어·웹프로그래머),모바일애플리케이션프로그래머(앱·어플개발)     1\n",
       "데이터분석가(빅데이터분석가)                               1\n",
       "컴퓨터하드웨어기술자및연구원                                1\n",
       "컴퓨터설치·수리원(컴퓨터A/S원),네트워크시스템개발자                 1\n",
       "웹운영자(홈페이지관리자)                                 1\n",
       "Name: 관련직종, Length: 81, dtype: int64"
      ]
     },
     "execution_count": 34,
     "metadata": {},
     "output_type": "execute_result"
    }
   ],
   "source": [
    "# 빈데이터가 많음\n",
    "df[\"관련직종\"].value_counts()"
   ]
  },
  {
   "cell_type": "code",
   "execution_count": 35,
   "metadata": {},
   "outputs": [
    {
     "data": {
      "text/plain": [
       "                                                      130\n",
       "전산학·컴퓨터공학(학과:정보통신공학부컴퓨터공학전공)                            2\n",
       "전산학·컴퓨터공학(학과:전산학과)                                      2\n",
       "전산학·컴퓨터공학(학과:컴퓨터과학과)응용소프트웨어공학(학과:소프트웨어학과)               2\n",
       "응용소프트웨어공학(학과:컴퓨터ㆍ소프트웨어공학부)응용소프트웨어공학(학과:소프트웨어개발전공)       2\n",
       "                                                     ... \n",
       "전자공학(학과:전자공학전공)                                         1\n",
       "전산학·컴퓨터공학(학과:컴퓨터공학계열)응용소프트웨어공학(학과:컴퓨터소프트웨어ㆍ정보통신전공)      1\n",
       "전산학·컴퓨터공학(학과:공과대학컴퓨터공학과)응용소프트웨어공학(학과:응용소프트웨어과학전공)       1\n",
       "응용소프트웨어공학(학과:멀티미디어소프트웨어공학전공)공학교육(학과:컴퓨터교육과)             1\n",
       "전산학·컴퓨터공학(학과:컴퓨터공학계열)응용소프트웨어공학(학과:게임&멀티미디어공학전공)         1\n",
       "Name: 전공, Length: 71, dtype: int64"
      ]
     },
     "execution_count": 35,
     "metadata": {},
     "output_type": "execute_result"
    }
   ],
   "source": [
    "# 안쓰는 데이터\n",
    "df[\"전공\"].value_counts()"
   ]
  },
  {
   "cell_type": "code",
   "execution_count": 36,
   "metadata": {},
   "outputs": [
    {
     "data": {
      "text/plain": [
       "0              관계없음\n",
       "1              관계없음\n",
       "2              관계없음\n",
       "3              관계없음\n",
       "4              관계없음\n",
       "           ...     \n",
       "200            관계없음\n",
       "201            관계없음\n",
       "202    기타:전공관련자격자우대\n",
       "203            관계없음\n",
       "204            관계없음\n",
       "Name: 자격면허, Length: 205, dtype: object"
      ]
     },
     "execution_count": 36,
     "metadata": {},
     "output_type": "execute_result"
    }
   ],
   "source": [
    "# df[\"자격면허\"].str.contains(\"데이터\").sum()\n",
    "df[\"자격면허\"]"
   ]
  },
  {
   "cell_type": "code",
   "execution_count": 37,
   "metadata": {},
   "outputs": [
    {
     "data": {
      "text/plain": [
       "                184\n",
       "영어(중)            11\n",
       "영어(상)             3\n",
       "영어(중),일어(중)       1\n",
       "영어(중),중국어(하)      1\n",
       "영어(중),중국어(중)      1\n",
       "중국어(중),영어(중)      1\n",
       "영어(하)             1\n",
       "타이어(상)            1\n",
       "일어(하)             1\n",
       "Name: 외국어능력, dtype: int64"
      ]
     },
     "execution_count": 37,
     "metadata": {},
     "output_type": "execute_result"
    }
   ],
   "source": [
    "# 데이터 자체를 못씀\n",
    "\n",
    "df[\"외국어능력\"].value_counts()"
   ]
  },
  {
   "cell_type": "code",
   "execution_count": 38,
   "metadata": {},
   "outputs": [
    {
     "data": {
      "text/plain": [
       "비희망                  203\n",
       "희망(보충역대상자/산업기능요원)      2\n",
       "Name: 병역대체 복무자채용, dtype: int64"
      ]
     },
     "execution_count": 38,
     "metadata": {},
     "output_type": "execute_result"
    }
   ],
   "source": [
    "# 의미없는 데이터\n",
    "df[\"병역대체 복무자채용\"].value_counts()"
   ]
  },
  {
   "cell_type": "code",
   "execution_count": 39,
   "metadata": {},
   "outputs": [
    {
     "data": {
      "text/plain": [
       "                             204\n",
       "내국인구인노력기간이후고용허가제대상외국인채용예정      1\n",
       "Name: 고용허가제, dtype: int64"
      ]
     },
     "execution_count": 39,
     "metadata": {},
     "output_type": "execute_result"
    }
   ],
   "source": [
    "# 의미없는 데이터\n",
    "df[\"고용허가제\"].value_counts()"
   ]
  },
  {
   "cell_type": "code",
   "execution_count": 40,
   "metadata": {},
   "outputs": [
    {
     "data": {
      "text/plain": [
       "                                                 160\n",
       "차량소지자,운전면허증                                       19\n",
       "운전면허증                                              9\n",
       "고용촉진장려금대상자                                         4\n",
       "장애인,보훈취업지원대상자                                      2\n",
       "고용촉진장려금대상자,차량소지자,운전면허증                             2\n",
       "차량소지자                                              2\n",
       "고용촉진장려금대상자,운전면허증                                   2\n",
       "(준)고령자(50세이상),차량소지자,운전면허증                          1\n",
       "(준)고령자(50세이상),장기복무제대군인,고용촉진장려금대상자,차량소지자,운전면허증      1\n",
       "장애인,북한이탈주민,고용촉진장려금대상자,보훈취업지원대상자                    1\n",
       "보훈취업지원대상자                                          1\n",
       "고용촉진장려금대상자,보훈취업지원대상자                               1\n",
       "Name: 우대조건, dtype: int64"
      ]
     },
     "execution_count": 40,
     "metadata": {},
     "output_type": "execute_result"
    }
   ],
   "source": [
    "df[\"우대조건\"].value_counts()"
   ]
  },
  {
   "cell_type": "code",
   "execution_count": 41,
   "metadata": {},
   "outputs": [
    {
     "data": {
      "text/plain": [
       "                                                                                                   139\n",
       "문서작성 (워드프로세스 활용),표계산 (스프레드시트 활용)  ,프레젠테이션 프로그램 활용                                                   30\n",
       "문서작성 (워드프로세스 활용),프레젠테이션 프로그램 활용                                                                     10\n",
       "문서작성 (워드프로세스 활용)                                                                                     7\n",
       "문서작성 (워드프로세스 활용),표계산 (스프레드시트 활용)                                                                     6\n",
       "기타(컴퓨터활용능력 우수자)                                                                                      2\n",
       "문서작성 (워드프로세스 활용),표계산 (스프레드시트 활용)  ,프레젠테이션 프로그램 활용,기타 (MS 오피스 등 활용 가능자)                               1\n",
       "문서작성 (워드프로세스 활용),프레젠테이션 프로그램 활용,기타 (서버관리 기초, 네트워크 기초 , DBMS 기초, 소프트웨어 관리 기본,  문서작성)                  1\n",
       "문서작성 (워드프로세스 활용),표계산 (스프레드시트 활용)  ,프레젠테이션 프로그램 활용,기타 (Figma, GitHub, Sketch, UI, UX, Wireframe)      1\n",
       "표계산 (스프레드시트 활용)                                                                                      1\n",
       "문서작성 (워드프로세스 활용),표계산 (스프레드시트 활용)  ,프레젠테이션 프로그램 활용,회계프로그램,기타 (ERP 경험자우대)                              1\n",
       "프레젠테이션 프로그램 활용                                                                                       1\n",
       "문서작성 (워드프로세스 활용),기타 (프로그래밍)                                                                          1\n",
       "기타(웹프로그램 가능자)                                                                                        1\n",
       "문서작성 (워드프로세스 활용),표계산 (스프레드시트 활용)  ,프레젠테이션 프로그램 활용,회계프로그램                                             1\n",
       "기타(Figma 활용)                                                                                         1\n",
       "표계산 (스프레드시트 활용)  ,프레젠테이션 프로그램 활용                                                                     1\n",
       "Name: 컴퓨터 활용능력, dtype: int64"
      ]
     },
     "execution_count": 41,
     "metadata": {},
     "output_type": "execute_result"
    }
   ],
   "source": [
    "df[\"컴퓨터 활용능력\"].value_counts()"
   ]
  },
  {
   "cell_type": "code",
   "execution_count": 42,
   "metadata": {},
   "outputs": [
    {
     "data": {
      "text/plain": [
       "205"
      ]
     },
     "execution_count": 42,
     "metadata": {},
     "output_type": "execute_result"
    }
   ],
   "source": [
    "df[\"기타우대사항\"].str.contains(\"\").sum()"
   ]
  },
  {
   "cell_type": "code",
   "execution_count": 43,
   "metadata": {},
   "outputs": [
    {
     "data": {
      "text/plain": [
       "                                                                                                   194\n",
       "작업장소:실내                                                                                              5\n",
       "작업장소:실내드는힘:5Kg이내의물건을다룸서거나걷기:서거나걷는일거의없음듣고말하기:간단한듣고말하기필요시력:아주작은글씨를읽을수있는정도손작업:정밀한작업양손사용:한손으로보조하는작업      2\n",
       "작업장소:실내드는힘:5Kg이내의물건을다룸서거나걷기:서거나걷는일거의없음듣고말하기:간단한듣고말하기필요시력:일상적인활동이가능한정도양손사용:양손으로작업                     2\n",
       "작업장소:실내드는힘:5Kg이내의물건을다룸서거나걷기:서거나걷는일거의없음듣고말하기:듣고말하기중요시력:일상적인활동이가능한정도양손사용:양손으로작업                        1\n",
       "작업장소:실내드는힘:5Kg이내의물건을다룸서거나걷기:서거나걷는일거의없음듣고말하기:듣고말하기중요시력:일상적인활동이가능한정도                                   1\n",
       "Name: 작업환경, dtype: int64"
      ]
     },
     "execution_count": 43,
     "metadata": {},
     "output_type": "execute_result"
    }
   ],
   "source": [
    "# 의미 없는 데이타\n",
    "df[\"작업환경\"].value_counts()"
   ]
  },
  {
   "cell_type": "code",
   "execution_count": 44,
   "metadata": {},
   "outputs": [
    {
     "name": "stderr",
     "output_type": "stream",
     "text": [
      "c:\\Users\\KDP12\\anaconda3\\envs\\MY_PYTHON\\lib\\site-packages\\IPython\\core\\pylabtools.py:152: UserWarning: Glyph 50672 (\\N{HANGUL SYLLABLE YEON}) missing from current font.\n",
      "  fig.canvas.print_figure(bytes_io, **kw)\n",
      "c:\\Users\\KDP12\\anaconda3\\envs\\MY_PYTHON\\lib\\site-packages\\IPython\\core\\pylabtools.py:152: UserWarning: Glyph 48393 (\\N{HANGUL SYLLABLE BONG}) missing from current font.\n",
      "  fig.canvas.print_figure(bytes_io, **kw)\n",
      "c:\\Users\\KDP12\\anaconda3\\envs\\MY_PYTHON\\lib\\site-packages\\IPython\\core\\pylabtools.py:152: UserWarning: Glyph 47564 (\\N{HANGUL SYLLABLE MAN}) missing from current font.\n",
      "  fig.canvas.print_figure(bytes_io, **kw)\n",
      "c:\\Users\\KDP12\\anaconda3\\envs\\MY_PYTHON\\lib\\site-packages\\IPython\\core\\pylabtools.py:152: UserWarning: Glyph 50896 (\\N{HANGUL SYLLABLE WEON}) missing from current font.\n",
      "  fig.canvas.print_figure(bytes_io, **kw)\n",
      "c:\\Users\\KDP12\\anaconda3\\envs\\MY_PYTHON\\lib\\site-packages\\IPython\\core\\pylabtools.py:152: UserWarning: Glyph 45380 (\\N{HANGUL SYLLABLE NYEON}) missing from current font.\n",
      "  fig.canvas.print_figure(bytes_io, **kw)\n",
      "c:\\Users\\KDP12\\anaconda3\\envs\\MY_PYTHON\\lib\\site-packages\\IPython\\core\\pylabtools.py:152: UserWarning: Glyph 54617 (\\N{HANGUL SYLLABLE HAG}) missing from current font.\n",
      "  fig.canvas.print_figure(bytes_io, **kw)\n",
      "c:\\Users\\KDP12\\anaconda3\\envs\\MY_PYTHON\\lib\\site-packages\\IPython\\core\\pylabtools.py:152: UserWarning: Glyph 47141 (\\N{HANGUL SYLLABLE RYEOG}) missing from current font.\n",
      "  fig.canvas.print_figure(bytes_io, **kw)\n",
      "c:\\Users\\KDP12\\anaconda3\\envs\\MY_PYTHON\\lib\\site-packages\\IPython\\core\\pylabtools.py:152: UserWarning: Glyph 48324 (\\N{HANGUL SYLLABLE BYEOL}) missing from current font.\n",
      "  fig.canvas.print_figure(bytes_io, **kw)\n",
      "c:\\Users\\KDP12\\anaconda3\\envs\\MY_PYTHON\\lib\\site-packages\\IPython\\core\\pylabtools.py:152: UserWarning: Glyph 45824 (\\N{HANGUL SYLLABLE DAE}) missing from current font.\n",
      "  fig.canvas.print_figure(bytes_io, **kw)\n",
      "c:\\Users\\KDP12\\anaconda3\\envs\\MY_PYTHON\\lib\\site-packages\\IPython\\core\\pylabtools.py:152: UserWarning: Glyph 51320 (\\N{HANGUL SYLLABLE JOL}) missing from current font.\n",
      "  fig.canvas.print_figure(bytes_io, **kw)\n",
      "c:\\Users\\KDP12\\anaconda3\\envs\\MY_PYTHON\\lib\\site-packages\\IPython\\core\\pylabtools.py:152: UserWarning: Glyph 51060 (\\N{HANGUL SYLLABLE I}) missing from current font.\n",
      "  fig.canvas.print_figure(bytes_io, **kw)\n",
      "c:\\Users\\KDP12\\anaconda3\\envs\\MY_PYTHON\\lib\\site-packages\\IPython\\core\\pylabtools.py:152: UserWarning: Glyph 49345 (\\N{HANGUL SYLLABLE SANG}) missing from current font.\n",
      "  fig.canvas.print_figure(bytes_io, **kw)\n",
      "c:\\Users\\KDP12\\anaconda3\\envs\\MY_PYTHON\\lib\\site-packages\\IPython\\core\\pylabtools.py:152: UserWarning: Glyph 47924 (\\N{HANGUL SYLLABLE MU}) missing from current font.\n",
      "  fig.canvas.print_figure(bytes_io, **kw)\n",
      "c:\\Users\\KDP12\\anaconda3\\envs\\MY_PYTHON\\lib\\site-packages\\IPython\\core\\pylabtools.py:152: UserWarning: Glyph 44288 (\\N{HANGUL SYLLABLE GWAN}) missing from current font.\n",
      "  fig.canvas.print_figure(bytes_io, **kw)\n",
      "c:\\Users\\KDP12\\anaconda3\\envs\\MY_PYTHON\\lib\\site-packages\\IPython\\core\\pylabtools.py:152: UserWarning: Glyph 44256 (\\N{HANGUL SYLLABLE GO}) missing from current font.\n",
      "  fig.canvas.print_figure(bytes_io, **kw)\n",
      "c:\\Users\\KDP12\\anaconda3\\envs\\MY_PYTHON\\lib\\site-packages\\IPython\\core\\pylabtools.py:152: UserWarning: Glyph 48149 (\\N{HANGUL SYLLABLE BAG}) missing from current font.\n",
      "  fig.canvas.print_figure(bytes_io, **kw)\n",
      "c:\\Users\\KDP12\\anaconda3\\envs\\MY_PYTHON\\lib\\site-packages\\IPython\\core\\pylabtools.py:152: UserWarning: Glyph 49324 (\\N{HANGUL SYLLABLE SA}) missing from current font.\n",
      "  fig.canvas.print_figure(bytes_io, **kw)\n"
     ]
    },
    {
     "data": {
      "image/png": "[encoded data removed]",
      "text/plain": [
       "<Figure size 1000x700 with 1 Axes>"
      ]
     },
     "metadata": {},
     "output_type": "display_data"
    }
   ],
   "source": [
    "fig= plt.figure(figsize=(10,7))\n",
    "ax1 = fig.add_subplot(1,1,1)\n",
    "\n",
    "sns.barplot(x=df[\"학력\"],y=df[\"임금\"],data=df,ax=ax1)\n",
    "ax1.set_title(\"학력별 연봉\",size=20)\n",
    "ax1.set_xlabel(\"학력\",size=12)\n",
    "ax1.set_ylabel(\"연봉(만원/년)\",size=12)\n",
    "plt.show()"
   ]
  },
  {
   "cell_type": "code",
   "execution_count": 45,
   "metadata": {},
   "outputs": [
    {
     "name": "stderr",
     "output_type": "stream",
     "text": [
      "c:\\Users\\KDP12\\anaconda3\\envs\\MY_PYTHON\\lib\\site-packages\\IPython\\core\\pylabtools.py:152: UserWarning: Glyph 50672 (\\N{HANGUL SYLLABLE YEON}) missing from current font.\n",
      "  fig.canvas.print_figure(bytes_io, **kw)\n",
      "c:\\Users\\KDP12\\anaconda3\\envs\\MY_PYTHON\\lib\\site-packages\\IPython\\core\\pylabtools.py:152: UserWarning: Glyph 48393 (\\N{HANGUL SYLLABLE BONG}) missing from current font.\n",
      "  fig.canvas.print_figure(bytes_io, **kw)\n",
      "c:\\Users\\KDP12\\anaconda3\\envs\\MY_PYTHON\\lib\\site-packages\\IPython\\core\\pylabtools.py:152: UserWarning: Glyph 47564 (\\N{HANGUL SYLLABLE MAN}) missing from current font.\n",
      "  fig.canvas.print_figure(bytes_io, **kw)\n",
      "c:\\Users\\KDP12\\anaconda3\\envs\\MY_PYTHON\\lib\\site-packages\\IPython\\core\\pylabtools.py:152: UserWarning: Glyph 50896 (\\N{HANGUL SYLLABLE WEON}) missing from current font.\n",
      "  fig.canvas.print_figure(bytes_io, **kw)\n",
      "c:\\Users\\KDP12\\anaconda3\\envs\\MY_PYTHON\\lib\\site-packages\\IPython\\core\\pylabtools.py:152: UserWarning: Glyph 45380 (\\N{HANGUL SYLLABLE NYEON}) missing from current font.\n",
      "  fig.canvas.print_figure(bytes_io, **kw)\n",
      "c:\\Users\\KDP12\\anaconda3\\envs\\MY_PYTHON\\lib\\site-packages\\IPython\\core\\pylabtools.py:152: UserWarning: Glyph 51648 (\\N{HANGUL SYLLABLE JI}) missing from current font.\n",
      "  fig.canvas.print_figure(bytes_io, **kw)\n",
      "c:\\Users\\KDP12\\anaconda3\\envs\\MY_PYTHON\\lib\\site-packages\\IPython\\core\\pylabtools.py:152: UserWarning: Glyph 50669 (\\N{HANGUL SYLLABLE YEOG}) missing from current font.\n",
      "  fig.canvas.print_figure(bytes_io, **kw)\n",
      "c:\\Users\\KDP12\\anaconda3\\envs\\MY_PYTHON\\lib\\site-packages\\IPython\\core\\pylabtools.py:152: UserWarning: Glyph 48324 (\\N{HANGUL SYLLABLE BYEOL}) missing from current font.\n",
      "  fig.canvas.print_figure(bytes_io, **kw)\n",
      "c:\\Users\\KDP12\\anaconda3\\envs\\MY_PYTHON\\lib\\site-packages\\IPython\\core\\pylabtools.py:152: UserWarning: Glyph 44221 (\\N{HANGUL SYLLABLE GYEONG}) missing from current font.\n",
      "  fig.canvas.print_figure(bytes_io, **kw)\n",
      "c:\\Users\\KDP12\\anaconda3\\envs\\MY_PYTHON\\lib\\site-packages\\IPython\\core\\pylabtools.py:152: UserWarning: Glyph 44592 (\\N{HANGUL SYLLABLE GI}) missing from current font.\n",
      "  fig.canvas.print_figure(bytes_io, **kw)\n",
      "c:\\Users\\KDP12\\anaconda3\\envs\\MY_PYTHON\\lib\\site-packages\\IPython\\core\\pylabtools.py:152: UserWarning: Glyph 46020 (\\N{HANGUL SYLLABLE DO}) missing from current font.\n",
      "  fig.canvas.print_figure(bytes_io, **kw)\n",
      "c:\\Users\\KDP12\\anaconda3\\envs\\MY_PYTHON\\lib\\site-packages\\IPython\\core\\pylabtools.py:152: UserWarning: Glyph 49345 (\\N{HANGUL SYLLABLE SANG}) missing from current font.\n",
      "  fig.canvas.print_figure(bytes_io, **kw)\n",
      "c:\\Users\\KDP12\\anaconda3\\envs\\MY_PYTHON\\lib\\site-packages\\IPython\\core\\pylabtools.py:152: UserWarning: Glyph 45224 (\\N{HANGUL SYLLABLE NAM}) missing from current font.\n",
      "  fig.canvas.print_figure(bytes_io, **kw)\n",
      "c:\\Users\\KDP12\\anaconda3\\envs\\MY_PYTHON\\lib\\site-packages\\IPython\\core\\pylabtools.py:152: UserWarning: Glyph 48513 (\\N{HANGUL SYLLABLE BUG}) missing from current font.\n",
      "  fig.canvas.print_figure(bytes_io, **kw)\n",
      "c:\\Users\\KDP12\\anaconda3\\envs\\MY_PYTHON\\lib\\site-packages\\IPython\\core\\pylabtools.py:152: UserWarning: Glyph 45824 (\\N{HANGUL SYLLABLE DAE}) missing from current font.\n",
      "  fig.canvas.print_figure(bytes_io, **kw)\n",
      "c:\\Users\\KDP12\\anaconda3\\envs\\MY_PYTHON\\lib\\site-packages\\IPython\\core\\pylabtools.py:152: UserWarning: Glyph 44396 (\\N{HANGUL SYLLABLE GU}) missing from current font.\n",
      "  fig.canvas.print_figure(bytes_io, **kw)\n",
      "c:\\Users\\KDP12\\anaconda3\\envs\\MY_PYTHON\\lib\\site-packages\\IPython\\core\\pylabtools.py:152: UserWarning: Glyph 44305 (\\N{HANGUL SYLLABLE GWANG}) missing from current font.\n",
      "  fig.canvas.print_figure(bytes_io, **kw)\n",
      "c:\\Users\\KDP12\\anaconda3\\envs\\MY_PYTHON\\lib\\site-packages\\IPython\\core\\pylabtools.py:152: UserWarning: Glyph 49884 (\\N{HANGUL SYLLABLE SI}) missing from current font.\n",
      "  fig.canvas.print_figure(bytes_io, **kw)\n",
      "c:\\Users\\KDP12\\anaconda3\\envs\\MY_PYTHON\\lib\\site-packages\\IPython\\core\\pylabtools.py:152: UserWarning: Glyph 48512 (\\N{HANGUL SYLLABLE BU}) missing from current font.\n",
      "  fig.canvas.print_figure(bytes_io, **kw)\n",
      "c:\\Users\\KDP12\\anaconda3\\envs\\MY_PYTHON\\lib\\site-packages\\IPython\\core\\pylabtools.py:152: UserWarning: Glyph 49328 (\\N{HANGUL SYLLABLE SAN}) missing from current font.\n",
      "  fig.canvas.print_figure(bytes_io, **kw)\n",
      "c:\\Users\\KDP12\\anaconda3\\envs\\MY_PYTHON\\lib\\site-packages\\IPython\\core\\pylabtools.py:152: UserWarning: Glyph 49436 (\\N{HANGUL SYLLABLE SEO}) missing from current font.\n",
      "  fig.canvas.print_figure(bytes_io, **kw)\n",
      "c:\\Users\\KDP12\\anaconda3\\envs\\MY_PYTHON\\lib\\site-packages\\IPython\\core\\pylabtools.py:152: UserWarning: Glyph 50872 (\\N{HANGUL SYLLABLE UL}) missing from current font.\n",
      "  fig.canvas.print_figure(bytes_io, **kw)\n",
      "c:\\Users\\KDP12\\anaconda3\\envs\\MY_PYTHON\\lib\\site-packages\\IPython\\core\\pylabtools.py:152: UserWarning: Glyph 53945 (\\N{HANGUL SYLLABLE TEUG}) missing from current font.\n",
      "  fig.canvas.print_figure(bytes_io, **kw)\n",
      "c:\\Users\\KDP12\\anaconda3\\envs\\MY_PYTHON\\lib\\site-packages\\IPython\\core\\pylabtools.py:152: UserWarning: Glyph 52649 (\\N{HANGUL SYLLABLE CUNG}) missing from current font.\n",
      "  fig.canvas.print_figure(bytes_io, **kw)\n",
      "c:\\Users\\KDP12\\anaconda3\\envs\\MY_PYTHON\\lib\\site-packages\\IPython\\core\\pylabtools.py:152: UserWarning: Glyph 52397 (\\N{HANGUL SYLLABLE CEONG}) missing from current font.\n",
      "  fig.canvas.print_figure(bytes_io, **kw)\n",
      "c:\\Users\\KDP12\\anaconda3\\envs\\MY_PYTHON\\lib\\site-packages\\IPython\\core\\pylabtools.py:152: UserWarning: Glyph 51064 (\\N{HANGUL SYLLABLE IN}) missing from current font.\n",
      "  fig.canvas.print_figure(bytes_io, **kw)\n",
      "c:\\Users\\KDP12\\anaconda3\\envs\\MY_PYTHON\\lib\\site-packages\\IPython\\core\\pylabtools.py:152: UserWarning: Glyph 52380 (\\N{HANGUL SYLLABLE CEON}) missing from current font.\n",
      "  fig.canvas.print_figure(bytes_io, **kw)\n",
      "c:\\Users\\KDP12\\anaconda3\\envs\\MY_PYTHON\\lib\\site-packages\\IPython\\core\\pylabtools.py:152: UserWarning: Glyph 51204 (\\N{HANGUL SYLLABLE JEON}) missing from current font.\n",
      "  fig.canvas.print_figure(bytes_io, **kw)\n",
      "c:\\Users\\KDP12\\anaconda3\\envs\\MY_PYTHON\\lib\\site-packages\\IPython\\core\\pylabtools.py:152: UserWarning: Glyph 46972 (\\N{HANGUL SYLLABLE RA}) missing from current font.\n",
      "  fig.canvas.print_figure(bytes_io, **kw)\n",
      "c:\\Users\\KDP12\\anaconda3\\envs\\MY_PYTHON\\lib\\site-packages\\IPython\\core\\pylabtools.py:152: UserWarning: Glyph 44053 (\\N{HANGUL SYLLABLE GANG}) missing from current font.\n",
      "  fig.canvas.print_figure(bytes_io, **kw)\n",
      "c:\\Users\\KDP12\\anaconda3\\envs\\MY_PYTHON\\lib\\site-packages\\IPython\\core\\pylabtools.py:152: UserWarning: Glyph 51088 (\\N{HANGUL SYLLABLE JA}) missing from current font.\n",
      "  fig.canvas.print_figure(bytes_io, **kw)\n",
      "c:\\Users\\KDP12\\anaconda3\\envs\\MY_PYTHON\\lib\\site-packages\\IPython\\core\\pylabtools.py:152: UserWarning: Glyph 52824 (\\N{HANGUL SYLLABLE CI}) missing from current font.\n",
      "  fig.canvas.print_figure(bytes_io, **kw)\n",
      "c:\\Users\\KDP12\\anaconda3\\envs\\MY_PYTHON\\lib\\site-packages\\IPython\\core\\pylabtools.py:152: UserWarning: Glyph 51452 (\\N{HANGUL SYLLABLE JU}) missing from current font.\n",
      "  fig.canvas.print_figure(bytes_io, **kw)\n",
      "c:\\Users\\KDP12\\anaconda3\\envs\\MY_PYTHON\\lib\\site-packages\\IPython\\core\\pylabtools.py:152: UserWarning: Glyph 51228 (\\N{HANGUL SYLLABLE JE}) missing from current font.\n",
      "  fig.canvas.print_figure(bytes_io, **kw)\n"
     ]
    },
    {
     "data": {
      "image/png": "[encoded data removed]",
      "text/plain": [
       "<Figure size 1000x700 with 1 Axes>"
      ]
     },
     "metadata": {},
     "output_type": "display_data"
    }
   ],
   "source": [
    "fig= plt.figure(figsize=(10,7))\n",
    "ax1 = fig.add_subplot(1,1,1)\n",
    "\n",
    "sns.barplot(x=df[\"지역\"],y=df[\"임금\"],data=df,ax=ax1)\n",
    "ax1.set_title(\"지역별 연봉\",size=20)\n",
    "ax1.set_xlabel(\"지역\",size=12)\n",
    "ax1.set_ylabel(\"연봉(만원/년)\",size=12)\n",
    "plt.xticks(rotation=45)\n",
    "\n",
    "plt.show()"
   ]
  },
  {
   "cell_type": "code",
   "execution_count": 58,
   "metadata": {},
   "outputs": [
    {
     "name": "stdout",
     "output_type": "stream",
     "text": [
      "0      31,492백만원\n",
      "1               \n",
      "2       3,100백만원\n",
      "3       2,000백만원\n",
      "4       3,000백만원\n",
      "         ...    \n",
      "200     8,590백만원\n",
      "201    10,000백만원\n",
      "202       100백만원\n",
      "203             \n",
      "204    19,531백만원\n",
      "Name: 연매출액, Length: 205, dtype: object\n"
     ]
    }
   ],
   "source": [
    "print(df[\"연매출액\"])"
   ]
  },
  {
   "cell_type": "code",
   "execution_count": 46,
   "metadata": {},
   "outputs": [
    {
     "ename": "TypeError",
     "evalue": "Neither the `x` nor `y` variable appears to be numeric.",
     "output_type": "error",
     "traceback": [
      "\u001b[1;31m---------------------------------------------------------------------------\u001b[0m",
      "\u001b[1;31mTypeError\u001b[0m                                 Traceback (most recent call last)",
      "Cell \u001b[1;32mIn[46], line 4\u001b[0m\n\u001b[0;32m      1\u001b[0m fig\u001b[39m=\u001b[39m plt\u001b[39m.\u001b[39mfigure(figsize\u001b[39m=\u001b[39m(\u001b[39m20\u001b[39m,\u001b[39m7\u001b[39m))\n\u001b[0;32m      2\u001b[0m ax1 \u001b[39m=\u001b[39m fig\u001b[39m.\u001b[39madd_subplot(\u001b[39m1\u001b[39m,\u001b[39m1\u001b[39m,\u001b[39m1\u001b[39m)\n\u001b[1;32m----> 4\u001b[0m sns\u001b[39m.\u001b[39;49mbarplot(x\u001b[39m=\u001b[39;49mdf[\u001b[39m\"\u001b[39;49m\u001b[39m기업명\u001b[39;49m\u001b[39m\"\u001b[39;49m],y\u001b[39m=\u001b[39;49mdf[\u001b[39m\"\u001b[39;49m\u001b[39m연매출액\u001b[39;49m\u001b[39m\"\u001b[39;49m],data\u001b[39m=\u001b[39;49mdf,ax\u001b[39m=\u001b[39;49max1)\n\u001b[0;32m      5\u001b[0m ax1\u001b[39m.\u001b[39mset_title(\u001b[39m\"\u001b[39m\u001b[39m기업별 연매출액\u001b[39m\u001b[39m\"\u001b[39m,size\u001b[39m=\u001b[39m\u001b[39m20\u001b[39m)\n\u001b[0;32m      6\u001b[0m ax1\u001b[39m.\u001b[39mset_xlabel(\u001b[39m\"\u001b[39m\u001b[39m기업명\u001b[39m\u001b[39m\"\u001b[39m,size\u001b[39m=\u001b[39m\u001b[39m12\u001b[39m)\n",
      "File \u001b[1;32mc:\\Users\\KDP12\\anaconda3\\envs\\MY_PYTHON\\lib\\site-packages\\seaborn\\categorical.py:2755\u001b[0m, in \u001b[0;36mbarplot\u001b[1;34m(data, x, y, hue, order, hue_order, estimator, errorbar, n_boot, units, seed, orient, color, palette, saturation, width, errcolor, errwidth, capsize, dodge, ci, ax, **kwargs)\u001b[0m\n\u001b[0;32m   2752\u001b[0m \u001b[39mif\u001b[39;00m estimator \u001b[39mis\u001b[39;00m \u001b[39mlen\u001b[39m:\n\u001b[0;32m   2753\u001b[0m     estimator \u001b[39m=\u001b[39m \u001b[39m\"\u001b[39m\u001b[39msize\u001b[39m\u001b[39m\"\u001b[39m\n\u001b[1;32m-> 2755\u001b[0m plotter \u001b[39m=\u001b[39m _BarPlotter(x, y, hue, data, order, hue_order,\n\u001b[0;32m   2756\u001b[0m                       estimator, errorbar, n_boot, units, seed,\n\u001b[0;32m   2757\u001b[0m                       orient, color, palette, saturation,\n\u001b[0;32m   2758\u001b[0m                       width, errcolor, errwidth, capsize, dodge)\n\u001b[0;32m   2760\u001b[0m \u001b[39mif\u001b[39;00m ax \u001b[39mis\u001b[39;00m \u001b[39mNone\u001b[39;00m:\n\u001b[0;32m   2761\u001b[0m     ax \u001b[39m=\u001b[39m plt\u001b[39m.\u001b[39mgca()\n",
      "File \u001b[1;32mc:\\Users\\KDP12\\anaconda3\\envs\\MY_PYTHON\\lib\\site-packages\\seaborn\\categorical.py:1530\u001b[0m, in \u001b[0;36m_BarPlotter.__init__\u001b[1;34m(self, x, y, hue, data, order, hue_order, estimator, errorbar, n_boot, units, seed, orient, color, palette, saturation, width, errcolor, errwidth, capsize, dodge)\u001b[0m\n\u001b[0;32m   1525\u001b[0m \u001b[39mdef\u001b[39;00m \u001b[39m__init__\u001b[39m(\u001b[39mself\u001b[39m, x, y, hue, data, order, hue_order,\n\u001b[0;32m   1526\u001b[0m              estimator, errorbar, n_boot, units, seed,\n\u001b[0;32m   1527\u001b[0m              orient, color, palette, saturation, width,\n\u001b[0;32m   1528\u001b[0m              errcolor, errwidth, capsize, dodge):\n\u001b[0;32m   1529\u001b[0m \u001b[39m    \u001b[39m\u001b[39m\"\"\"Initialize the plotter.\"\"\"\u001b[39;00m\n\u001b[1;32m-> 1530\u001b[0m     \u001b[39mself\u001b[39;49m\u001b[39m.\u001b[39;49mestablish_variables(x, y, hue, data, orient,\n\u001b[0;32m   1531\u001b[0m                              order, hue_order, units)\n\u001b[0;32m   1532\u001b[0m     \u001b[39mself\u001b[39m\u001b[39m.\u001b[39mestablish_colors(color, palette, saturation)\n\u001b[0;32m   1533\u001b[0m     \u001b[39mself\u001b[39m\u001b[39m.\u001b[39mestimate_statistic(estimator, errorbar, n_boot, seed)\n",
      "File \u001b[1;32mc:\\Users\\KDP12\\anaconda3\\envs\\MY_PYTHON\\lib\\site-packages\\seaborn\\categorical.py:544\u001b[0m, in \u001b[0;36m_CategoricalPlotter.establish_variables\u001b[1;34m(self, x, y, hue, data, orient, order, hue_order, units)\u001b[0m\n\u001b[0;32m    541\u001b[0m         \u001b[39mraise\u001b[39;00m \u001b[39mValueError\u001b[39;00m(err)\n\u001b[0;32m    543\u001b[0m \u001b[39m# Figure out the plotting orientation\u001b[39;00m\n\u001b[1;32m--> 544\u001b[0m orient \u001b[39m=\u001b[39m infer_orient(\n\u001b[0;32m    545\u001b[0m     x, y, orient, require_numeric\u001b[39m=\u001b[39;49m\u001b[39mself\u001b[39;49m\u001b[39m.\u001b[39;49mrequire_numeric\n\u001b[0;32m    546\u001b[0m )\n\u001b[0;32m    548\u001b[0m \u001b[39m# Option 2a:\u001b[39;00m\n\u001b[0;32m    549\u001b[0m \u001b[39m# We are plotting a single set of data\u001b[39;00m\n\u001b[0;32m    550\u001b[0m \u001b[39m# ------------------------------------\u001b[39;00m\n\u001b[0;32m    551\u001b[0m \u001b[39mif\u001b[39;00m x \u001b[39mis\u001b[39;00m \u001b[39mNone\u001b[39;00m \u001b[39mor\u001b[39;00m y \u001b[39mis\u001b[39;00m \u001b[39mNone\u001b[39;00m:\n\u001b[0;32m    552\u001b[0m \n\u001b[0;32m    553\u001b[0m     \u001b[39m# Determine where the data are\u001b[39;00m\n",
      "File \u001b[1;32mc:\\Users\\KDP12\\anaconda3\\envs\\MY_PYTHON\\lib\\site-packages\\seaborn\\_oldcore.py:1632\u001b[0m, in \u001b[0;36minfer_orient\u001b[1;34m(x, y, orient, require_numeric)\u001b[0m\n\u001b[0;32m   1630\u001b[0m \u001b[39melif\u001b[39;00m require_numeric \u001b[39mand\u001b[39;00m \u001b[39m\"\u001b[39m\u001b[39mnumeric\u001b[39m\u001b[39m\"\u001b[39m \u001b[39mnot\u001b[39;00m \u001b[39min\u001b[39;00m (x_type, y_type):\n\u001b[0;32m   1631\u001b[0m     err \u001b[39m=\u001b[39m \u001b[39m\"\u001b[39m\u001b[39mNeither the `x` nor `y` variable appears to be numeric.\u001b[39m\u001b[39m\"\u001b[39m\n\u001b[1;32m-> 1632\u001b[0m     \u001b[39mraise\u001b[39;00m \u001b[39mTypeError\u001b[39;00m(err)\n\u001b[0;32m   1634\u001b[0m \u001b[39melse\u001b[39;00m:\n\u001b[0;32m   1635\u001b[0m     \u001b[39mreturn\u001b[39;00m \u001b[39m\"\u001b[39m\u001b[39mv\u001b[39m\u001b[39m\"\u001b[39m\n",
      "\u001b[1;31mTypeError\u001b[0m: Neither the `x` nor `y` variable appears to be numeric."
     ]
    },
    {
     "data": {
      "image/png": "[encoded data removed]",
      "text/plain": [
       "<Figure size 2000x700 with 1 Axes>"
      ]
     },
     "metadata": {},
     "output_type": "display_data"
    }
   ],
   "source": [
    "fig= plt.figure(figsize=(20,7))\n",
    "ax1 = fig.add_subplot(1,1,1)\n",
    "\n",
    "sns.barplot(x=df[\"기업명\"],y=df[\"연매출액\"],data=df,ax=ax1)\n",
    "ax1.set_title(\"기업별 연매출액\",size=20)\n",
    "ax1.set_xlabel(\"기업명\",size=12)\n",
    "ax1.set_ylabel(\"연매출액(백만원/년)\",size=12)\n",
    "plt.xticks(rotation=90)\n",
    "plt.show()"
   ]
  },
  {
   "cell_type": "code",
   "execution_count": 47,
   "metadata": {},
   "outputs": [
    {
     "name": "stderr",
     "output_type": "stream",
     "text": [
      "c:\\Users\\KDP12\\anaconda3\\envs\\MY_PYTHON\\lib\\site-packages\\IPython\\core\\pylabtools.py:152: UserWarning: Glyph 50672 (\\N{HANGUL SYLLABLE YEON}) missing from current font.\n",
      "  fig.canvas.print_figure(bytes_io, **kw)\n",
      "c:\\Users\\KDP12\\anaconda3\\envs\\MY_PYTHON\\lib\\site-packages\\IPython\\core\\pylabtools.py:152: UserWarning: Glyph 48393 (\\N{HANGUL SYLLABLE BONG}) missing from current font.\n",
      "  fig.canvas.print_figure(bytes_io, **kw)\n",
      "c:\\Users\\KDP12\\anaconda3\\envs\\MY_PYTHON\\lib\\site-packages\\IPython\\core\\pylabtools.py:152: UserWarning: Glyph 47564 (\\N{HANGUL SYLLABLE MAN}) missing from current font.\n",
      "  fig.canvas.print_figure(bytes_io, **kw)\n",
      "c:\\Users\\KDP12\\anaconda3\\envs\\MY_PYTHON\\lib\\site-packages\\IPython\\core\\pylabtools.py:152: UserWarning: Glyph 50896 (\\N{HANGUL SYLLABLE WEON}) missing from current font.\n",
      "  fig.canvas.print_figure(bytes_io, **kw)\n",
      "c:\\Users\\KDP12\\anaconda3\\envs\\MY_PYTHON\\lib\\site-packages\\IPython\\core\\pylabtools.py:152: UserWarning: Glyph 45380 (\\N{HANGUL SYLLABLE NYEON}) missing from current font.\n",
      "  fig.canvas.print_figure(bytes_io, **kw)\n",
      "c:\\Users\\KDP12\\anaconda3\\envs\\MY_PYTHON\\lib\\site-packages\\IPython\\core\\pylabtools.py:152: UserWarning: Glyph 47588 (\\N{HANGUL SYLLABLE MAE}) missing from current font.\n",
      "  fig.canvas.print_figure(bytes_io, **kw)\n",
      "c:\\Users\\KDP12\\anaconda3\\envs\\MY_PYTHON\\lib\\site-packages\\IPython\\core\\pylabtools.py:152: UserWarning: Glyph 52636 (\\N{HANGUL SYLLABLE CUL}) missing from current font.\n",
      "  fig.canvas.print_figure(bytes_io, **kw)\n",
      "c:\\Users\\KDP12\\anaconda3\\envs\\MY_PYTHON\\lib\\site-packages\\IPython\\core\\pylabtools.py:152: UserWarning: Glyph 50529 (\\N{HANGUL SYLLABLE AEG}) missing from current font.\n",
      "  fig.canvas.print_figure(bytes_io, **kw)\n",
      "c:\\Users\\KDP12\\anaconda3\\envs\\MY_PYTHON\\lib\\site-packages\\IPython\\core\\pylabtools.py:152: UserWarning: Glyph 50640 (\\N{HANGUL SYLLABLE E}) missing from current font.\n",
      "  fig.canvas.print_figure(bytes_io, **kw)\n",
      "c:\\Users\\KDP12\\anaconda3\\envs\\MY_PYTHON\\lib\\site-packages\\IPython\\core\\pylabtools.py:152: UserWarning: Glyph 46384 (\\N{HANGUL SYLLABLE DDA}) missing from current font.\n",
      "  fig.canvas.print_figure(bytes_io, **kw)\n",
      "c:\\Users\\KDP12\\anaconda3\\envs\\MY_PYTHON\\lib\\site-packages\\IPython\\core\\pylabtools.py:152: UserWarning: Glyph 47480 (\\N{HANGUL SYLLABLE REUN}) missing from current font.\n",
      "  fig.canvas.print_figure(bytes_io, **kw)\n",
      "c:\\Users\\KDP12\\anaconda3\\envs\\MY_PYTHON\\lib\\site-packages\\IPython\\core\\pylabtools.py:152: UserWarning: Glyph 48177 (\\N{HANGUL SYLLABLE BAEG}) missing from current font.\n",
      "  fig.canvas.print_figure(bytes_io, **kw)\n"
     ]
    },
    {
     "data": {
      "image/png": "[encoded data removed]",
      "text/plain": [
       "<Figure size 2000x700 with 1 Axes>"
      ]
     },
     "metadata": {},
     "output_type": "display_data"
    }
   ],
   "source": [
    "fig= plt.figure(figsize=(20,7))\n",
    "ax1 = fig.add_subplot(1,1,1)\n",
    "\n",
    "sns.barplot(x=df[\"연매출액\"],y=df[\"임금\"],data=df,ax=ax1)\n",
    "ax1.set_title(\"연매출액에 따른 연봉\",size=20)\n",
    "ax1.set_xlabel(\"연매출액\",size=12)\n",
    "ax1.set_ylabel(\"연봉(만원/년)\",size=12)\n",
    "plt.xticks(rotation=90)\n",
    "plt.show()"
   ]
  },
  {
   "cell_type": "code",
   "execution_count": 48,
   "metadata": {},
   "outputs": [
    {
     "name": "stderr",
     "output_type": "stream",
     "text": [
      "c:\\Users\\KDP12\\anaconda3\\envs\\MY_PYTHON\\lib\\site-packages\\IPython\\core\\pylabtools.py:152: UserWarning: Glyph 50672 (\\N{HANGUL SYLLABLE YEON}) missing from current font.\n",
      "  fig.canvas.print_figure(bytes_io, **kw)\n",
      "c:\\Users\\KDP12\\anaconda3\\envs\\MY_PYTHON\\lib\\site-packages\\IPython\\core\\pylabtools.py:152: UserWarning: Glyph 48393 (\\N{HANGUL SYLLABLE BONG}) missing from current font.\n",
      "  fig.canvas.print_figure(bytes_io, **kw)\n",
      "c:\\Users\\KDP12\\anaconda3\\envs\\MY_PYTHON\\lib\\site-packages\\IPython\\core\\pylabtools.py:152: UserWarning: Glyph 47564 (\\N{HANGUL SYLLABLE MAN}) missing from current font.\n",
      "  fig.canvas.print_figure(bytes_io, **kw)\n",
      "c:\\Users\\KDP12\\anaconda3\\envs\\MY_PYTHON\\lib\\site-packages\\IPython\\core\\pylabtools.py:152: UserWarning: Glyph 50896 (\\N{HANGUL SYLLABLE WEON}) missing from current font.\n",
      "  fig.canvas.print_figure(bytes_io, **kw)\n",
      "c:\\Users\\KDP12\\anaconda3\\envs\\MY_PYTHON\\lib\\site-packages\\IPython\\core\\pylabtools.py:152: UserWarning: Glyph 45380 (\\N{HANGUL SYLLABLE NYEON}) missing from current font.\n",
      "  fig.canvas.print_figure(bytes_io, **kw)\n",
      "c:\\Users\\KDP12\\anaconda3\\envs\\MY_PYTHON\\lib\\site-packages\\IPython\\core\\pylabtools.py:152: UserWarning: Glyph 47588 (\\N{HANGUL SYLLABLE MAE}) missing from current font.\n",
      "  fig.canvas.print_figure(bytes_io, **kw)\n",
      "c:\\Users\\KDP12\\anaconda3\\envs\\MY_PYTHON\\lib\\site-packages\\IPython\\core\\pylabtools.py:152: UserWarning: Glyph 52636 (\\N{HANGUL SYLLABLE CUL}) missing from current font.\n",
      "  fig.canvas.print_figure(bytes_io, **kw)\n",
      "c:\\Users\\KDP12\\anaconda3\\envs\\MY_PYTHON\\lib\\site-packages\\IPython\\core\\pylabtools.py:152: UserWarning: Glyph 50529 (\\N{HANGUL SYLLABLE AEG}) missing from current font.\n",
      "  fig.canvas.print_figure(bytes_io, **kw)\n",
      "c:\\Users\\KDP12\\anaconda3\\envs\\MY_PYTHON\\lib\\site-packages\\IPython\\core\\pylabtools.py:152: UserWarning: Glyph 50640 (\\N{HANGUL SYLLABLE E}) missing from current font.\n",
      "  fig.canvas.print_figure(bytes_io, **kw)\n",
      "c:\\Users\\KDP12\\anaconda3\\envs\\MY_PYTHON\\lib\\site-packages\\IPython\\core\\pylabtools.py:152: UserWarning: Glyph 46384 (\\N{HANGUL SYLLABLE DDA}) missing from current font.\n",
      "  fig.canvas.print_figure(bytes_io, **kw)\n",
      "c:\\Users\\KDP12\\anaconda3\\envs\\MY_PYTHON\\lib\\site-packages\\IPython\\core\\pylabtools.py:152: UserWarning: Glyph 47480 (\\N{HANGUL SYLLABLE REUN}) missing from current font.\n",
      "  fig.canvas.print_figure(bytes_io, **kw)\n",
      "c:\\Users\\KDP12\\anaconda3\\envs\\MY_PYTHON\\lib\\site-packages\\IPython\\core\\pylabtools.py:152: UserWarning: Glyph 44592 (\\N{HANGUL SYLLABLE GI}) missing from current font.\n",
      "  fig.canvas.print_figure(bytes_io, **kw)\n",
      "c:\\Users\\KDP12\\anaconda3\\envs\\MY_PYTHON\\lib\\site-packages\\IPython\\core\\pylabtools.py:152: UserWarning: Glyph 44036 (\\N{HANGUL SYLLABLE GAN}) missing from current font.\n",
      "  fig.canvas.print_figure(bytes_io, **kw)\n",
      "c:\\Users\\KDP12\\anaconda3\\envs\\MY_PYTHON\\lib\\site-packages\\IPython\\core\\pylabtools.py:152: UserWarning: Glyph 51032 (\\N{HANGUL SYLLABLE YI}) missing from current font.\n",
      "  fig.canvas.print_figure(bytes_io, **kw)\n",
      "c:\\Users\\KDP12\\anaconda3\\envs\\MY_PYTHON\\lib\\site-packages\\IPython\\core\\pylabtools.py:152: UserWarning: Glyph 51221 (\\N{HANGUL SYLLABLE JEONG}) missing from current font.\n",
      "  fig.canvas.print_figure(bytes_io, **kw)\n",
      "c:\\Users\\KDP12\\anaconda3\\envs\\MY_PYTHON\\lib\\site-packages\\IPython\\core\\pylabtools.py:152: UserWarning: Glyph 54632 (\\N{HANGUL SYLLABLE HAM}) missing from current font.\n",
      "  fig.canvas.print_figure(bytes_io, **kw)\n",
      "c:\\Users\\KDP12\\anaconda3\\envs\\MY_PYTHON\\lib\\site-packages\\IPython\\core\\pylabtools.py:152: UserWarning: Glyph 51060 (\\N{HANGUL SYLLABLE I}) missing from current font.\n",
      "  fig.canvas.print_figure(bytes_io, **kw)\n",
      "c:\\Users\\KDP12\\anaconda3\\envs\\MY_PYTHON\\lib\\site-packages\\IPython\\core\\pylabtools.py:152: UserWarning: Glyph 50630 (\\N{HANGUL SYLLABLE EOBS}) missing from current font.\n",
      "  fig.canvas.print_figure(bytes_io, **kw)\n",
      "c:\\Users\\KDP12\\anaconda3\\envs\\MY_PYTHON\\lib\\site-packages\\IPython\\core\\pylabtools.py:152: UserWarning: Glyph 45716 (\\N{HANGUL SYLLABLE NEUN}) missing from current font.\n",
      "  fig.canvas.print_figure(bytes_io, **kw)\n",
      "c:\\Users\\KDP12\\anaconda3\\envs\\MY_PYTHON\\lib\\site-packages\\IPython\\core\\pylabtools.py:152: UserWarning: Glyph 44540 (\\N{HANGUL SYLLABLE GEUN}) missing from current font.\n",
      "  fig.canvas.print_figure(bytes_io, **kw)\n",
      "c:\\Users\\KDP12\\anaconda3\\envs\\MY_PYTHON\\lib\\site-packages\\IPython\\core\\pylabtools.py:152: UserWarning: Glyph 47196 (\\N{HANGUL SYLLABLE RO}) missing from current font.\n",
      "  fig.canvas.print_figure(bytes_io, **kw)\n",
      "c:\\Users\\KDP12\\anaconda3\\envs\\MY_PYTHON\\lib\\site-packages\\IPython\\core\\pylabtools.py:152: UserWarning: Glyph 44228 (\\N{HANGUL SYLLABLE GYE}) missing from current font.\n",
      "  fig.canvas.print_figure(bytes_io, **kw)\n",
      "c:\\Users\\KDP12\\anaconda3\\envs\\MY_PYTHON\\lib\\site-packages\\IPython\\core\\pylabtools.py:152: UserWarning: Glyph 50557 (\\N{HANGUL SYLLABLE YAG}) missing from current font.\n",
      "  fig.canvas.print_figure(bytes_io, **kw)\n",
      "c:\\Users\\KDP12\\anaconda3\\envs\\MY_PYTHON\\lib\\site-packages\\IPython\\core\\pylabtools.py:152: UserWarning: Glyph 51080 (\\N{HANGUL SYLLABLE ISS}) missing from current font.\n",
      "  fig.canvas.print_figure(bytes_io, **kw)\n"
     ]
    },
    {
     "data": {
      "image/png": "[encoded data removed]",
      "text/plain": [
       "<Figure size 1000x700 with 1 Axes>"
      ]
     },
     "metadata": {},
     "output_type": "display_data"
    }
   ],
   "source": [
    "fig= plt.figure(figsize=(10,7))\n",
    "ax1 = fig.add_subplot(1,1,1)\n",
    "\n",
    "sns.barplot(x=df[\"고용형태\"],y=df[\"임금\"],data=df,ax=ax1)\n",
    "ax1.set_title(\"연매출액에 따른 연봉\",size=20)\n",
    "ax1.set_xlabel(\"연매출액\",size=12)\n",
    "ax1.set_ylabel(\"연봉(만원/년)\",size=12)\n",
    "plt.xticks(rotation=90)\n",
    "plt.show()"
   ]
  },
  {
   "cell_type": "code",
   "execution_count": 49,
   "metadata": {},
   "outputs": [
    {
     "name": "stderr",
     "output_type": "stream",
     "text": [
      "c:\\Users\\KDP12\\anaconda3\\envs\\MY_PYTHON\\lib\\site-packages\\IPython\\core\\pylabtools.py:152: UserWarning: Glyph 50672 (\\N{HANGUL SYLLABLE YEON}) missing from current font.\n",
      "  fig.canvas.print_figure(bytes_io, **kw)\n",
      "c:\\Users\\KDP12\\anaconda3\\envs\\MY_PYTHON\\lib\\site-packages\\IPython\\core\\pylabtools.py:152: UserWarning: Glyph 48393 (\\N{HANGUL SYLLABLE BONG}) missing from current font.\n",
      "  fig.canvas.print_figure(bytes_io, **kw)\n",
      "c:\\Users\\KDP12\\anaconda3\\envs\\MY_PYTHON\\lib\\site-packages\\IPython\\core\\pylabtools.py:152: UserWarning: Glyph 47564 (\\N{HANGUL SYLLABLE MAN}) missing from current font.\n",
      "  fig.canvas.print_figure(bytes_io, **kw)\n",
      "c:\\Users\\KDP12\\anaconda3\\envs\\MY_PYTHON\\lib\\site-packages\\IPython\\core\\pylabtools.py:152: UserWarning: Glyph 50896 (\\N{HANGUL SYLLABLE WEON}) missing from current font.\n",
      "  fig.canvas.print_figure(bytes_io, **kw)\n",
      "c:\\Users\\KDP12\\anaconda3\\envs\\MY_PYTHON\\lib\\site-packages\\IPython\\core\\pylabtools.py:152: UserWarning: Glyph 45380 (\\N{HANGUL SYLLABLE NYEON}) missing from current font.\n",
      "  fig.canvas.print_figure(bytes_io, **kw)\n",
      "c:\\Users\\KDP12\\anaconda3\\envs\\MY_PYTHON\\lib\\site-packages\\IPython\\core\\pylabtools.py:152: UserWarning: Glyph 51648 (\\N{HANGUL SYLLABLE JI}) missing from current font.\n",
      "  fig.canvas.print_figure(bytes_io, **kw)\n",
      "c:\\Users\\KDP12\\anaconda3\\envs\\MY_PYTHON\\lib\\site-packages\\IPython\\core\\pylabtools.py:152: UserWarning: Glyph 50669 (\\N{HANGUL SYLLABLE YEOG}) missing from current font.\n",
      "  fig.canvas.print_figure(bytes_io, **kw)\n",
      "c:\\Users\\KDP12\\anaconda3\\envs\\MY_PYTHON\\lib\\site-packages\\IPython\\core\\pylabtools.py:152: UserWarning: Glyph 48324 (\\N{HANGUL SYLLABLE BYEOL}) missing from current font.\n",
      "  fig.canvas.print_figure(bytes_io, **kw)\n",
      "c:\\Users\\KDP12\\anaconda3\\envs\\MY_PYTHON\\lib\\site-packages\\IPython\\core\\pylabtools.py:152: UserWarning: Glyph 44221 (\\N{HANGUL SYLLABLE GYEONG}) missing from current font.\n",
      "  fig.canvas.print_figure(bytes_io, **kw)\n",
      "c:\\Users\\KDP12\\anaconda3\\envs\\MY_PYTHON\\lib\\site-packages\\IPython\\core\\pylabtools.py:152: UserWarning: Glyph 44592 (\\N{HANGUL SYLLABLE GI}) missing from current font.\n",
      "  fig.canvas.print_figure(bytes_io, **kw)\n",
      "c:\\Users\\KDP12\\anaconda3\\envs\\MY_PYTHON\\lib\\site-packages\\IPython\\core\\pylabtools.py:152: UserWarning: Glyph 46020 (\\N{HANGUL SYLLABLE DO}) missing from current font.\n",
      "  fig.canvas.print_figure(bytes_io, **kw)\n",
      "c:\\Users\\KDP12\\anaconda3\\envs\\MY_PYTHON\\lib\\site-packages\\IPython\\core\\pylabtools.py:152: UserWarning: Glyph 49345 (\\N{HANGUL SYLLABLE SANG}) missing from current font.\n",
      "  fig.canvas.print_figure(bytes_io, **kw)\n",
      "c:\\Users\\KDP12\\anaconda3\\envs\\MY_PYTHON\\lib\\site-packages\\IPython\\core\\pylabtools.py:152: UserWarning: Glyph 45224 (\\N{HANGUL SYLLABLE NAM}) missing from current font.\n",
      "  fig.canvas.print_figure(bytes_io, **kw)\n",
      "c:\\Users\\KDP12\\anaconda3\\envs\\MY_PYTHON\\lib\\site-packages\\IPython\\core\\pylabtools.py:152: UserWarning: Glyph 48513 (\\N{HANGUL SYLLABLE BUG}) missing from current font.\n",
      "  fig.canvas.print_figure(bytes_io, **kw)\n",
      "c:\\Users\\KDP12\\anaconda3\\envs\\MY_PYTHON\\lib\\site-packages\\IPython\\core\\pylabtools.py:152: UserWarning: Glyph 45824 (\\N{HANGUL SYLLABLE DAE}) missing from current font.\n",
      "  fig.canvas.print_figure(bytes_io, **kw)\n",
      "c:\\Users\\KDP12\\anaconda3\\envs\\MY_PYTHON\\lib\\site-packages\\IPython\\core\\pylabtools.py:152: UserWarning: Glyph 44396 (\\N{HANGUL SYLLABLE GU}) missing from current font.\n",
      "  fig.canvas.print_figure(bytes_io, **kw)\n",
      "c:\\Users\\KDP12\\anaconda3\\envs\\MY_PYTHON\\lib\\site-packages\\IPython\\core\\pylabtools.py:152: UserWarning: Glyph 44305 (\\N{HANGUL SYLLABLE GWANG}) missing from current font.\n",
      "  fig.canvas.print_figure(bytes_io, **kw)\n",
      "c:\\Users\\KDP12\\anaconda3\\envs\\MY_PYTHON\\lib\\site-packages\\IPython\\core\\pylabtools.py:152: UserWarning: Glyph 49884 (\\N{HANGUL SYLLABLE SI}) missing from current font.\n",
      "  fig.canvas.print_figure(bytes_io, **kw)\n",
      "c:\\Users\\KDP12\\anaconda3\\envs\\MY_PYTHON\\lib\\site-packages\\IPython\\core\\pylabtools.py:152: UserWarning: Glyph 48512 (\\N{HANGUL SYLLABLE BU}) missing from current font.\n",
      "  fig.canvas.print_figure(bytes_io, **kw)\n",
      "c:\\Users\\KDP12\\anaconda3\\envs\\MY_PYTHON\\lib\\site-packages\\IPython\\core\\pylabtools.py:152: UserWarning: Glyph 49328 (\\N{HANGUL SYLLABLE SAN}) missing from current font.\n",
      "  fig.canvas.print_figure(bytes_io, **kw)\n",
      "c:\\Users\\KDP12\\anaconda3\\envs\\MY_PYTHON\\lib\\site-packages\\IPython\\core\\pylabtools.py:152: UserWarning: Glyph 49436 (\\N{HANGUL SYLLABLE SEO}) missing from current font.\n",
      "  fig.canvas.print_figure(bytes_io, **kw)\n",
      "c:\\Users\\KDP12\\anaconda3\\envs\\MY_PYTHON\\lib\\site-packages\\IPython\\core\\pylabtools.py:152: UserWarning: Glyph 50872 (\\N{HANGUL SYLLABLE UL}) missing from current font.\n",
      "  fig.canvas.print_figure(bytes_io, **kw)\n",
      "c:\\Users\\KDP12\\anaconda3\\envs\\MY_PYTHON\\lib\\site-packages\\IPython\\core\\pylabtools.py:152: UserWarning: Glyph 53945 (\\N{HANGUL SYLLABLE TEUG}) missing from current font.\n",
      "  fig.canvas.print_figure(bytes_io, **kw)\n",
      "c:\\Users\\KDP12\\anaconda3\\envs\\MY_PYTHON\\lib\\site-packages\\IPython\\core\\pylabtools.py:152: UserWarning: Glyph 52649 (\\N{HANGUL SYLLABLE CUNG}) missing from current font.\n",
      "  fig.canvas.print_figure(bytes_io, **kw)\n",
      "c:\\Users\\KDP12\\anaconda3\\envs\\MY_PYTHON\\lib\\site-packages\\IPython\\core\\pylabtools.py:152: UserWarning: Glyph 52397 (\\N{HANGUL SYLLABLE CEONG}) missing from current font.\n",
      "  fig.canvas.print_figure(bytes_io, **kw)\n",
      "c:\\Users\\KDP12\\anaconda3\\envs\\MY_PYTHON\\lib\\site-packages\\IPython\\core\\pylabtools.py:152: UserWarning: Glyph 51064 (\\N{HANGUL SYLLABLE IN}) missing from current font.\n",
      "  fig.canvas.print_figure(bytes_io, **kw)\n",
      "c:\\Users\\KDP12\\anaconda3\\envs\\MY_PYTHON\\lib\\site-packages\\IPython\\core\\pylabtools.py:152: UserWarning: Glyph 52380 (\\N{HANGUL SYLLABLE CEON}) missing from current font.\n",
      "  fig.canvas.print_figure(bytes_io, **kw)\n",
      "c:\\Users\\KDP12\\anaconda3\\envs\\MY_PYTHON\\lib\\site-packages\\IPython\\core\\pylabtools.py:152: UserWarning: Glyph 51204 (\\N{HANGUL SYLLABLE JEON}) missing from current font.\n",
      "  fig.canvas.print_figure(bytes_io, **kw)\n",
      "c:\\Users\\KDP12\\anaconda3\\envs\\MY_PYTHON\\lib\\site-packages\\IPython\\core\\pylabtools.py:152: UserWarning: Glyph 46972 (\\N{HANGUL SYLLABLE RA}) missing from current font.\n",
      "  fig.canvas.print_figure(bytes_io, **kw)\n",
      "c:\\Users\\KDP12\\anaconda3\\envs\\MY_PYTHON\\lib\\site-packages\\IPython\\core\\pylabtools.py:152: UserWarning: Glyph 44053 (\\N{HANGUL SYLLABLE GANG}) missing from current font.\n",
      "  fig.canvas.print_figure(bytes_io, **kw)\n",
      "c:\\Users\\KDP12\\anaconda3\\envs\\MY_PYTHON\\lib\\site-packages\\IPython\\core\\pylabtools.py:152: UserWarning: Glyph 51088 (\\N{HANGUL SYLLABLE JA}) missing from current font.\n",
      "  fig.canvas.print_figure(bytes_io, **kw)\n",
      "c:\\Users\\KDP12\\anaconda3\\envs\\MY_PYTHON\\lib\\site-packages\\IPython\\core\\pylabtools.py:152: UserWarning: Glyph 52824 (\\N{HANGUL SYLLABLE CI}) missing from current font.\n",
      "  fig.canvas.print_figure(bytes_io, **kw)\n",
      "c:\\Users\\KDP12\\anaconda3\\envs\\MY_PYTHON\\lib\\site-packages\\IPython\\core\\pylabtools.py:152: UserWarning: Glyph 51452 (\\N{HANGUL SYLLABLE JU}) missing from current font.\n",
      "  fig.canvas.print_figure(bytes_io, **kw)\n",
      "c:\\Users\\KDP12\\anaconda3\\envs\\MY_PYTHON\\lib\\site-packages\\IPython\\core\\pylabtools.py:152: UserWarning: Glyph 51228 (\\N{HANGUL SYLLABLE JE}) missing from current font.\n",
      "  fig.canvas.print_figure(bytes_io, **kw)\n",
      "c:\\Users\\KDP12\\anaconda3\\envs\\MY_PYTHON\\lib\\site-packages\\IPython\\core\\pylabtools.py:152: UserWarning: Glyph 54617 (\\N{HANGUL SYLLABLE HAG}) missing from current font.\n",
      "  fig.canvas.print_figure(bytes_io, **kw)\n",
      "c:\\Users\\KDP12\\anaconda3\\envs\\MY_PYTHON\\lib\\site-packages\\IPython\\core\\pylabtools.py:152: UserWarning: Glyph 47141 (\\N{HANGUL SYLLABLE RYEOG}) missing from current font.\n",
      "  fig.canvas.print_figure(bytes_io, **kw)\n",
      "c:\\Users\\KDP12\\anaconda3\\envs\\MY_PYTHON\\lib\\site-packages\\IPython\\core\\pylabtools.py:152: UserWarning: Glyph 51320 (\\N{HANGUL SYLLABLE JOL}) missing from current font.\n",
      "  fig.canvas.print_figure(bytes_io, **kw)\n",
      "c:\\Users\\KDP12\\anaconda3\\envs\\MY_PYTHON\\lib\\site-packages\\IPython\\core\\pylabtools.py:152: UserWarning: Glyph 51060 (\\N{HANGUL SYLLABLE I}) missing from current font.\n",
      "  fig.canvas.print_figure(bytes_io, **kw)\n",
      "c:\\Users\\KDP12\\anaconda3\\envs\\MY_PYTHON\\lib\\site-packages\\IPython\\core\\pylabtools.py:152: UserWarning: Glyph 47924 (\\N{HANGUL SYLLABLE MU}) missing from current font.\n",
      "  fig.canvas.print_figure(bytes_io, **kw)\n",
      "c:\\Users\\KDP12\\anaconda3\\envs\\MY_PYTHON\\lib\\site-packages\\IPython\\core\\pylabtools.py:152: UserWarning: Glyph 44288 (\\N{HANGUL SYLLABLE GWAN}) missing from current font.\n",
      "  fig.canvas.print_figure(bytes_io, **kw)\n",
      "c:\\Users\\KDP12\\anaconda3\\envs\\MY_PYTHON\\lib\\site-packages\\IPython\\core\\pylabtools.py:152: UserWarning: Glyph 44256 (\\N{HANGUL SYLLABLE GO}) missing from current font.\n",
      "  fig.canvas.print_figure(bytes_io, **kw)\n",
      "c:\\Users\\KDP12\\anaconda3\\envs\\MY_PYTHON\\lib\\site-packages\\IPython\\core\\pylabtools.py:152: UserWarning: Glyph 48149 (\\N{HANGUL SYLLABLE BAG}) missing from current font.\n",
      "  fig.canvas.print_figure(bytes_io, **kw)\n",
      "c:\\Users\\KDP12\\anaconda3\\envs\\MY_PYTHON\\lib\\site-packages\\IPython\\core\\pylabtools.py:152: UserWarning: Glyph 49324 (\\N{HANGUL SYLLABLE SA}) missing from current font.\n",
      "  fig.canvas.print_figure(bytes_io, **kw)\n"
     ]
    },
    {
     "data": {
      "image/png": "[encoded data removed]",
      "text/plain": [
       "<Figure size 1000x700 with 1 Axes>"
      ]
     },
     "metadata": {},
     "output_type": "display_data"
    }
   ],
   "source": [
    "fig= plt.figure(figsize=(10,7))\n",
    "ax1 = fig.add_subplot(1,1,1)\n",
    "\n",
    "sns.barplot(x=\"지역\",y=\"임금\",hue=\"학력\",data=df,ax=ax1)\n",
    "ax1.set_title(\"지역별 연봉\",size=20)\n",
    "ax1.set_xlabel(\"지역\",size=12)\n",
    "ax1.set_ylabel(\"연봉(만원/년)\",size=12)\n",
    "plt.xticks(rotation=45)\n",
    "\n",
    "plt.show()"
   ]
  },
  {
   "cell_type": "code",
   "execution_count": 50,
   "metadata": {},
   "outputs": [
    {
     "name": "stderr",
     "output_type": "stream",
     "text": [
      "c:\\Users\\KDP12\\anaconda3\\envs\\MY_PYTHON\\lib\\site-packages\\seaborn\\utils.py:80: UserWarning: Glyph 51452 (\\N{HANGUL SYLLABLE JU}) missing from current font.\n",
      "  fig.canvas.draw()\n",
      "c:\\Users\\KDP12\\anaconda3\\envs\\MY_PYTHON\\lib\\site-packages\\seaborn\\utils.py:80: UserWarning: Glyph 51068 (\\N{HANGUL SYLLABLE IL}) missing from current font.\n",
      "  fig.canvas.draw()\n",
      "c:\\Users\\KDP12\\anaconda3\\envs\\MY_PYTHON\\lib\\site-packages\\seaborn\\utils.py:80: UserWarning: Glyph 44540 (\\N{HANGUL SYLLABLE GEUN}) missing from current font.\n",
      "  fig.canvas.draw()\n",
      "c:\\Users\\KDP12\\anaconda3\\envs\\MY_PYTHON\\lib\\site-packages\\seaborn\\utils.py:80: UserWarning: Glyph 47924 (\\N{HANGUL SYLLABLE MU}) missing from current font.\n",
      "  fig.canvas.draw()\n",
      "c:\\Users\\KDP12\\anaconda3\\envs\\MY_PYTHON\\lib\\site-packages\\seaborn\\utils.py:80: UserWarning: Glyph 44053 (\\N{HANGUL SYLLABLE GANG}) missing from current font.\n",
      "  fig.canvas.draw()\n",
      "c:\\Users\\KDP12\\anaconda3\\envs\\MY_PYTHON\\lib\\site-packages\\seaborn\\utils.py:80: UserWarning: Glyph 50896 (\\N{HANGUL SYLLABLE WEON}) missing from current font.\n",
      "  fig.canvas.draw()\n",
      "c:\\Users\\KDP12\\anaconda3\\envs\\MY_PYTHON\\lib\\site-packages\\seaborn\\utils.py:80: UserWarning: Glyph 53945 (\\N{HANGUL SYLLABLE TEUG}) missing from current font.\n",
      "  fig.canvas.draw()\n",
      "c:\\Users\\KDP12\\anaconda3\\envs\\MY_PYTHON\\lib\\site-packages\\seaborn\\utils.py:80: UserWarning: Glyph 48324 (\\N{HANGUL SYLLABLE BYEOL}) missing from current font.\n",
      "  fig.canvas.draw()\n",
      "c:\\Users\\KDP12\\anaconda3\\envs\\MY_PYTHON\\lib\\site-packages\\seaborn\\utils.py:80: UserWarning: Glyph 51088 (\\N{HANGUL SYLLABLE JA}) missing from current font.\n",
      "  fig.canvas.draw()\n",
      "c:\\Users\\KDP12\\anaconda3\\envs\\MY_PYTHON\\lib\\site-packages\\seaborn\\utils.py:80: UserWarning: Glyph 52824 (\\N{HANGUL SYLLABLE CI}) missing from current font.\n",
      "  fig.canvas.draw()\n",
      "c:\\Users\\KDP12\\anaconda3\\envs\\MY_PYTHON\\lib\\site-packages\\seaborn\\utils.py:80: UserWarning: Glyph 46020 (\\N{HANGUL SYLLABLE DO}) missing from current font.\n",
      "  fig.canvas.draw()\n",
      "c:\\Users\\KDP12\\anaconda3\\envs\\MY_PYTHON\\lib\\site-packages\\seaborn\\utils.py:80: UserWarning: Glyph 44221 (\\N{HANGUL SYLLABLE GYEONG}) missing from current font.\n",
      "  fig.canvas.draw()\n",
      "c:\\Users\\KDP12\\anaconda3\\envs\\MY_PYTHON\\lib\\site-packages\\seaborn\\utils.py:80: UserWarning: Glyph 44592 (\\N{HANGUL SYLLABLE GI}) missing from current font.\n",
      "  fig.canvas.draw()\n",
      "c:\\Users\\KDP12\\anaconda3\\envs\\MY_PYTHON\\lib\\site-packages\\seaborn\\utils.py:80: UserWarning: Glyph 49345 (\\N{HANGUL SYLLABLE SANG}) missing from current font.\n",
      "  fig.canvas.draw()\n",
      "c:\\Users\\KDP12\\anaconda3\\envs\\MY_PYTHON\\lib\\site-packages\\seaborn\\utils.py:80: UserWarning: Glyph 45224 (\\N{HANGUL SYLLABLE NAM}) missing from current font.\n",
      "  fig.canvas.draw()\n",
      "c:\\Users\\KDP12\\anaconda3\\envs\\MY_PYTHON\\lib\\site-packages\\seaborn\\utils.py:80: UserWarning: Glyph 48513 (\\N{HANGUL SYLLABLE BUG}) missing from current font.\n",
      "  fig.canvas.draw()\n",
      "c:\\Users\\KDP12\\anaconda3\\envs\\MY_PYTHON\\lib\\site-packages\\seaborn\\utils.py:80: UserWarning: Glyph 44305 (\\N{HANGUL SYLLABLE GWANG}) missing from current font.\n",
      "  fig.canvas.draw()\n",
      "c:\\Users\\KDP12\\anaconda3\\envs\\MY_PYTHON\\lib\\site-packages\\seaborn\\utils.py:80: UserWarning: Glyph 50669 (\\N{HANGUL SYLLABLE YEOG}) missing from current font.\n",
      "  fig.canvas.draw()\n",
      "c:\\Users\\KDP12\\anaconda3\\envs\\MY_PYTHON\\lib\\site-packages\\seaborn\\utils.py:80: UserWarning: Glyph 49884 (\\N{HANGUL SYLLABLE SI}) missing from current font.\n",
      "  fig.canvas.draw()\n",
      "c:\\Users\\KDP12\\anaconda3\\envs\\MY_PYTHON\\lib\\site-packages\\seaborn\\utils.py:80: UserWarning: Glyph 45824 (\\N{HANGUL SYLLABLE DAE}) missing from current font.\n",
      "  fig.canvas.draw()\n",
      "c:\\Users\\KDP12\\anaconda3\\envs\\MY_PYTHON\\lib\\site-packages\\seaborn\\utils.py:80: UserWarning: Glyph 44396 (\\N{HANGUL SYLLABLE GU}) missing from current font.\n",
      "  fig.canvas.draw()\n",
      "c:\\Users\\KDP12\\anaconda3\\envs\\MY_PYTHON\\lib\\site-packages\\seaborn\\utils.py:80: UserWarning: Glyph 51204 (\\N{HANGUL SYLLABLE JEON}) missing from current font.\n",
      "  fig.canvas.draw()\n",
      "c:\\Users\\KDP12\\anaconda3\\envs\\MY_PYTHON\\lib\\site-packages\\seaborn\\utils.py:80: UserWarning: Glyph 48512 (\\N{HANGUL SYLLABLE BU}) missing from current font.\n",
      "  fig.canvas.draw()\n",
      "c:\\Users\\KDP12\\anaconda3\\envs\\MY_PYTHON\\lib\\site-packages\\seaborn\\utils.py:80: UserWarning: Glyph 49328 (\\N{HANGUL SYLLABLE SAN}) missing from current font.\n",
      "  fig.canvas.draw()\n",
      "c:\\Users\\KDP12\\anaconda3\\envs\\MY_PYTHON\\lib\\site-packages\\seaborn\\utils.py:80: UserWarning: Glyph 49436 (\\N{HANGUL SYLLABLE SEO}) missing from current font.\n",
      "  fig.canvas.draw()\n",
      "c:\\Users\\KDP12\\anaconda3\\envs\\MY_PYTHON\\lib\\site-packages\\seaborn\\utils.py:80: UserWarning: Glyph 50872 (\\N{HANGUL SYLLABLE UL}) missing from current font.\n",
      "  fig.canvas.draw()\n",
      "c:\\Users\\KDP12\\anaconda3\\envs\\MY_PYTHON\\lib\\site-packages\\seaborn\\utils.py:80: UserWarning: Glyph 51064 (\\N{HANGUL SYLLABLE IN}) missing from current font.\n",
      "  fig.canvas.draw()\n",
      "c:\\Users\\KDP12\\anaconda3\\envs\\MY_PYTHON\\lib\\site-packages\\seaborn\\utils.py:80: UserWarning: Glyph 52380 (\\N{HANGUL SYLLABLE CEON}) missing from current font.\n",
      "  fig.canvas.draw()\n",
      "c:\\Users\\KDP12\\anaconda3\\envs\\MY_PYTHON\\lib\\site-packages\\seaborn\\utils.py:80: UserWarning: Glyph 46972 (\\N{HANGUL SYLLABLE RA}) missing from current font.\n",
      "  fig.canvas.draw()\n",
      "c:\\Users\\KDP12\\anaconda3\\envs\\MY_PYTHON\\lib\\site-packages\\seaborn\\utils.py:80: UserWarning: Glyph 51228 (\\N{HANGUL SYLLABLE JE}) missing from current font.\n",
      "  fig.canvas.draw()\n",
      "c:\\Users\\KDP12\\anaconda3\\envs\\MY_PYTHON\\lib\\site-packages\\seaborn\\utils.py:80: UserWarning: Glyph 52649 (\\N{HANGUL SYLLABLE CUNG}) missing from current font.\n",
      "  fig.canvas.draw()\n",
      "c:\\Users\\KDP12\\anaconda3\\envs\\MY_PYTHON\\lib\\site-packages\\seaborn\\utils.py:80: UserWarning: Glyph 52397 (\\N{HANGUL SYLLABLE CEONG}) missing from current font.\n",
      "  fig.canvas.draw()\n",
      "c:\\Users\\KDP12\\anaconda3\\envs\\MY_PYTHON\\lib\\site-packages\\IPython\\core\\pylabtools.py:152: UserWarning: Glyph 44540 (\\N{HANGUL SYLLABLE GEUN}) missing from current font.\n",
      "  fig.canvas.print_figure(bytes_io, **kw)\n",
      "c:\\Users\\KDP12\\anaconda3\\envs\\MY_PYTHON\\lib\\site-packages\\IPython\\core\\pylabtools.py:152: UserWarning: Glyph 47924 (\\N{HANGUL SYLLABLE MU}) missing from current font.\n",
      "  fig.canvas.print_figure(bytes_io, **kw)\n",
      "c:\\Users\\KDP12\\anaconda3\\envs\\MY_PYTHON\\lib\\site-packages\\IPython\\core\\pylabtools.py:152: UserWarning: Glyph 54805 (\\N{HANGUL SYLLABLE HYEONG}) missing from current font.\n",
      "  fig.canvas.print_figure(bytes_io, **kw)\n",
      "c:\\Users\\KDP12\\anaconda3\\envs\\MY_PYTHON\\lib\\site-packages\\IPython\\core\\pylabtools.py:152: UserWarning: Glyph 53468 (\\N{HANGUL SYLLABLE TAE}) missing from current font.\n",
      "  fig.canvas.print_figure(bytes_io, **kw)\n",
      "c:\\Users\\KDP12\\anaconda3\\envs\\MY_PYTHON\\lib\\site-packages\\IPython\\core\\pylabtools.py:152: UserWarning: Glyph 51648 (\\N{HANGUL SYLLABLE JI}) missing from current font.\n",
      "  fig.canvas.print_figure(bytes_io, **kw)\n",
      "c:\\Users\\KDP12\\anaconda3\\envs\\MY_PYTHON\\lib\\site-packages\\IPython\\core\\pylabtools.py:152: UserWarning: Glyph 50669 (\\N{HANGUL SYLLABLE YEOG}) missing from current font.\n",
      "  fig.canvas.print_figure(bytes_io, **kw)\n",
      "c:\\Users\\KDP12\\anaconda3\\envs\\MY_PYTHON\\lib\\site-packages\\IPython\\core\\pylabtools.py:152: UserWarning: Glyph 48324 (\\N{HANGUL SYLLABLE BYEOL}) missing from current font.\n",
      "  fig.canvas.print_figure(bytes_io, **kw)\n",
      "c:\\Users\\KDP12\\anaconda3\\envs\\MY_PYTHON\\lib\\site-packages\\IPython\\core\\pylabtools.py:152: UserWarning: Glyph 44053 (\\N{HANGUL SYLLABLE GANG}) missing from current font.\n",
      "  fig.canvas.print_figure(bytes_io, **kw)\n",
      "c:\\Users\\KDP12\\anaconda3\\envs\\MY_PYTHON\\lib\\site-packages\\IPython\\core\\pylabtools.py:152: UserWarning: Glyph 50896 (\\N{HANGUL SYLLABLE WEON}) missing from current font.\n",
      "  fig.canvas.print_figure(bytes_io, **kw)\n",
      "c:\\Users\\KDP12\\anaconda3\\envs\\MY_PYTHON\\lib\\site-packages\\IPython\\core\\pylabtools.py:152: UserWarning: Glyph 53945 (\\N{HANGUL SYLLABLE TEUG}) missing from current font.\n",
      "  fig.canvas.print_figure(bytes_io, **kw)\n",
      "c:\\Users\\KDP12\\anaconda3\\envs\\MY_PYTHON\\lib\\site-packages\\IPython\\core\\pylabtools.py:152: UserWarning: Glyph 51088 (\\N{HANGUL SYLLABLE JA}) missing from current font.\n",
      "  fig.canvas.print_figure(bytes_io, **kw)\n",
      "c:\\Users\\KDP12\\anaconda3\\envs\\MY_PYTHON\\lib\\site-packages\\IPython\\core\\pylabtools.py:152: UserWarning: Glyph 52824 (\\N{HANGUL SYLLABLE CI}) missing from current font.\n",
      "  fig.canvas.print_figure(bytes_io, **kw)\n",
      "c:\\Users\\KDP12\\anaconda3\\envs\\MY_PYTHON\\lib\\site-packages\\IPython\\core\\pylabtools.py:152: UserWarning: Glyph 46020 (\\N{HANGUL SYLLABLE DO}) missing from current font.\n",
      "  fig.canvas.print_figure(bytes_io, **kw)\n",
      "c:\\Users\\KDP12\\anaconda3\\envs\\MY_PYTHON\\lib\\site-packages\\IPython\\core\\pylabtools.py:152: UserWarning: Glyph 44221 (\\N{HANGUL SYLLABLE GYEONG}) missing from current font.\n",
      "  fig.canvas.print_figure(bytes_io, **kw)\n",
      "c:\\Users\\KDP12\\anaconda3\\envs\\MY_PYTHON\\lib\\site-packages\\IPython\\core\\pylabtools.py:152: UserWarning: Glyph 44592 (\\N{HANGUL SYLLABLE GI}) missing from current font.\n",
      "  fig.canvas.print_figure(bytes_io, **kw)\n",
      "c:\\Users\\KDP12\\anaconda3\\envs\\MY_PYTHON\\lib\\site-packages\\IPython\\core\\pylabtools.py:152: UserWarning: Glyph 49345 (\\N{HANGUL SYLLABLE SANG}) missing from current font.\n",
      "  fig.canvas.print_figure(bytes_io, **kw)\n",
      "c:\\Users\\KDP12\\anaconda3\\envs\\MY_PYTHON\\lib\\site-packages\\IPython\\core\\pylabtools.py:152: UserWarning: Glyph 45224 (\\N{HANGUL SYLLABLE NAM}) missing from current font.\n",
      "  fig.canvas.print_figure(bytes_io, **kw)\n",
      "c:\\Users\\KDP12\\anaconda3\\envs\\MY_PYTHON\\lib\\site-packages\\IPython\\core\\pylabtools.py:152: UserWarning: Glyph 48513 (\\N{HANGUL SYLLABLE BUG}) missing from current font.\n",
      "  fig.canvas.print_figure(bytes_io, **kw)\n",
      "c:\\Users\\KDP12\\anaconda3\\envs\\MY_PYTHON\\lib\\site-packages\\IPython\\core\\pylabtools.py:152: UserWarning: Glyph 44305 (\\N{HANGUL SYLLABLE GWANG}) missing from current font.\n",
      "  fig.canvas.print_figure(bytes_io, **kw)\n",
      "c:\\Users\\KDP12\\anaconda3\\envs\\MY_PYTHON\\lib\\site-packages\\IPython\\core\\pylabtools.py:152: UserWarning: Glyph 51452 (\\N{HANGUL SYLLABLE JU}) missing from current font.\n",
      "  fig.canvas.print_figure(bytes_io, **kw)\n",
      "c:\\Users\\KDP12\\anaconda3\\envs\\MY_PYTHON\\lib\\site-packages\\IPython\\core\\pylabtools.py:152: UserWarning: Glyph 49884 (\\N{HANGUL SYLLABLE SI}) missing from current font.\n",
      "  fig.canvas.print_figure(bytes_io, **kw)\n",
      "c:\\Users\\KDP12\\anaconda3\\envs\\MY_PYTHON\\lib\\site-packages\\IPython\\core\\pylabtools.py:152: UserWarning: Glyph 45824 (\\N{HANGUL SYLLABLE DAE}) missing from current font.\n",
      "  fig.canvas.print_figure(bytes_io, **kw)\n",
      "c:\\Users\\KDP12\\anaconda3\\envs\\MY_PYTHON\\lib\\site-packages\\IPython\\core\\pylabtools.py:152: UserWarning: Glyph 44396 (\\N{HANGUL SYLLABLE GU}) missing from current font.\n",
      "  fig.canvas.print_figure(bytes_io, **kw)\n",
      "c:\\Users\\KDP12\\anaconda3\\envs\\MY_PYTHON\\lib\\site-packages\\IPython\\core\\pylabtools.py:152: UserWarning: Glyph 51204 (\\N{HANGUL SYLLABLE JEON}) missing from current font.\n",
      "  fig.canvas.print_figure(bytes_io, **kw)\n",
      "c:\\Users\\KDP12\\anaconda3\\envs\\MY_PYTHON\\lib\\site-packages\\IPython\\core\\pylabtools.py:152: UserWarning: Glyph 48512 (\\N{HANGUL SYLLABLE BU}) missing from current font.\n",
      "  fig.canvas.print_figure(bytes_io, **kw)\n",
      "c:\\Users\\KDP12\\anaconda3\\envs\\MY_PYTHON\\lib\\site-packages\\IPython\\core\\pylabtools.py:152: UserWarning: Glyph 49328 (\\N{HANGUL SYLLABLE SAN}) missing from current font.\n",
      "  fig.canvas.print_figure(bytes_io, **kw)\n",
      "c:\\Users\\KDP12\\anaconda3\\envs\\MY_PYTHON\\lib\\site-packages\\IPython\\core\\pylabtools.py:152: UserWarning: Glyph 49436 (\\N{HANGUL SYLLABLE SEO}) missing from current font.\n",
      "  fig.canvas.print_figure(bytes_io, **kw)\n",
      "c:\\Users\\KDP12\\anaconda3\\envs\\MY_PYTHON\\lib\\site-packages\\IPython\\core\\pylabtools.py:152: UserWarning: Glyph 50872 (\\N{HANGUL SYLLABLE UL}) missing from current font.\n",
      "  fig.canvas.print_figure(bytes_io, **kw)\n",
      "c:\\Users\\KDP12\\anaconda3\\envs\\MY_PYTHON\\lib\\site-packages\\IPython\\core\\pylabtools.py:152: UserWarning: Glyph 51064 (\\N{HANGUL SYLLABLE IN}) missing from current font.\n",
      "  fig.canvas.print_figure(bytes_io, **kw)\n",
      "c:\\Users\\KDP12\\anaconda3\\envs\\MY_PYTHON\\lib\\site-packages\\IPython\\core\\pylabtools.py:152: UserWarning: Glyph 52380 (\\N{HANGUL SYLLABLE CEON}) missing from current font.\n",
      "  fig.canvas.print_figure(bytes_io, **kw)\n",
      "c:\\Users\\KDP12\\anaconda3\\envs\\MY_PYTHON\\lib\\site-packages\\IPython\\core\\pylabtools.py:152: UserWarning: Glyph 46972 (\\N{HANGUL SYLLABLE RA}) missing from current font.\n",
      "  fig.canvas.print_figure(bytes_io, **kw)\n",
      "c:\\Users\\KDP12\\anaconda3\\envs\\MY_PYTHON\\lib\\site-packages\\IPython\\core\\pylabtools.py:152: UserWarning: Glyph 51228 (\\N{HANGUL SYLLABLE JE}) missing from current font.\n",
      "  fig.canvas.print_figure(bytes_io, **kw)\n",
      "c:\\Users\\KDP12\\anaconda3\\envs\\MY_PYTHON\\lib\\site-packages\\IPython\\core\\pylabtools.py:152: UserWarning: Glyph 52649 (\\N{HANGUL SYLLABLE CUNG}) missing from current font.\n",
      "  fig.canvas.print_figure(bytes_io, **kw)\n",
      "c:\\Users\\KDP12\\anaconda3\\envs\\MY_PYTHON\\lib\\site-packages\\IPython\\core\\pylabtools.py:152: UserWarning: Glyph 52397 (\\N{HANGUL SYLLABLE CEONG}) missing from current font.\n",
      "  fig.canvas.print_figure(bytes_io, **kw)\n",
      "c:\\Users\\KDP12\\anaconda3\\envs\\MY_PYTHON\\lib\\site-packages\\IPython\\core\\pylabtools.py:152: UserWarning: Glyph 51068 (\\N{HANGUL SYLLABLE IL}) missing from current font.\n",
      "  fig.canvas.print_figure(bytes_io, **kw)\n"
     ]
    },
    {
     "data": {
      "image/png": "[encoded data removed]",
      "text/plain": [
       "<Figure size 1000x1000 with 2 Axes>"
      ]
     },
     "metadata": {},
     "output_type": "display_data"
    }
   ],
   "source": [
    "fig= plt.figure(figsize=(10,10))\n",
    "ax1= fig.add_subplot(1,1,1)\n",
    "\n",
    "table1= df.pivot_table(index=[\"지역\"],columns=[\"근무형태\"],aggfunc=\"size\")\n",
    "sns.heatmap(table1,annot=True,cmap=\"YlOrBr\",ax=ax1)\n",
    "# ax1.set_xticklabels([\"월요일\",\"화요일\",\"수요일\",\"목요일\",\"금요일\",\"토요일\",\"일요일\"])\n",
    "ax1.set_xlabel(xlabel=\"지역\",size=12)\n",
    "ax1.set_ylabel(ylabel=\"근무형태\",size=12)\n",
    "ax1.set_title(\"지역별 근무형태\",size=20)\n",
    "\n",
    "plt.show()\n"
   ]
  },
  {
   "cell_type": "code",
   "execution_count": 51,
   "metadata": {},
   "outputs": [],
   "source": [
    "list_work=\" \".join(df[\"직무내용\"].str.replace(\"\\xa0\",\"\").str.replace(\"\\r\",\"\").to_list())"
   ]
  },
  {
   "cell_type": "code",
   "execution_count": 52,
   "metadata": {},
   "outputs": [
    {
     "data": {
      "text/plain": [
       "'*수소연료전지시스템최적화,평가및시험분석*연료전지시스템개발관련업무[연료전지에너지생산>연료전지연료공급계통제작]연료변환장치설계하기,연료변환장치생산하기,연료변환장치품질관리하기[연료전지에너지생산>건물용연료전지스택제작]건물용연료전지스택설계하기,건물용연료전지스택생산하기,건물용연료전지스택품질관리하기[연료전지에너지생산>연료전지발전설비용인프라설계]연료전지발전설비공급인프라설계하기,연료전지발전설비내부인프라설계하기,관제시스템설계하기[연료전지에너지생산>발전용연료전지스택제작]발전용연료전지스택설계하기,발전용연료전지스택생산하기,발전용연료전지스택품질관리하기 웹개발인원모집합니다.경력5년이상경력자모집합니다. 자동화장비미쓰비씨PLC프로그래머-LCD,FA자동화장비제어경력자-터치작화가능자-전장회로도가능자우대당사는-방산유도무기검사및조립장비설계제작-LCD,OLED모듈공정장비설계제작 [주요업무].카메라영상후처리및신호처리S/W개발.PAN/TILT/ZOOMMotor(BLDC,Stepping)Control.VisualC++/MFC등을이용한UI제작.영상보안ApplicationS/W개발.Linux시스템포팅및Application개발.IPCamera,AI-BOX,NVR등제품셋팅및트러블슈팅기술지원.개발및제품양산시Data분석용응용S/W개발및SET-UP[자격조건].VideoSurveillance관련S/W개발경험있으신분.Camera영상처리/ISPS/W개발경험자.MotorcontrolS/W개발경험자.VisualC++/MFC/Matlab/Python가능자.HTTP,RTP/RTSP,ONVIF및네트워크보안이해와실무경험자.네트워크통신개발경험자(Opensource포팅및Application개발).Linux환경개발경험자.장비프로그램개발및영상처리S/W개발경험자[우대사항].VideoCodec&RTSP&OnvifStream유경험자.CCTV/NVR/VMS관제시스템S/W유경험자.NetRemoting(WCF*)유경험자.DeepLearningFramework(TensorFlow,Pytorch등)기반개발경험..Detection,Classification,Recognition등영상/음원분석알고리즘개발경험자 C#활용,Java,VisualBasic프로그램개발1.진취적이고,적극적이며,긍정적,유화적마인드를가자신분이개발에흥미를가진분은지원을해주세요.2.업체협의를위한방문이필요하므로운전가능하신분지원해주세요.*개발흥미없거나,분석하고싶지않거나사고하기싫으신분은죄송하지만지원은보류해주세요. -스마트팩토리구축-MES/POPSYSTEM개발-WMS(창고관리시스템)개발-선박부품업ERP개발 펌웨어엔지니어펌웨어개발및연구 1.모집분야.웹개발자(웹엔지니어,웹프로그래머)2.담당업무ㆍ웹개발(웹프론트및백앤드개발).국가기관플랫폼개발및구축ㆍ빅데이터기반디지털정보시스템개발및구축ㆍ고객사웹사이트및백오피스개발및유지보수3.우대사항.JAVA,JSP,Ajax,Json,Jquery,Node.js,Spring/Eclipse경험ㆍHTML/CSS/Javascript/Jquery를이용한UI개발경험자ㆍ웹표준/웹접근성/크로스브라우징및CSSAnimation활용경험자ㆍWeb,Mobile,반응형,모바일웹앱작업에대한경험자ㆍ기타프로그램개발유관업무경력자ㆍ관련자격증보유자ㆍ전산학·컴퓨터공학,응용소프트웨어공학ㆍHTML,CSS웹퍼블리싱을위한이해가있으신분ㆍ기획의도에대해서이해능력이높으신분4.공통사항-개발실무경력5년이상자-해외여행에결격사유가없는자-급여:사내규정에따름(경력자면접시임금협의) *업무:자사서비스중인기업용법무관리솔루션의운영담당업무-운영중인시스템에대한버그수정업무및개선-서포트전용메일/전화등을통한support담당*우대조건:3년경력*주5일,10시~17:30(1일6.5시간근무)*임금:연봉3000만원~3200만원*3개월계약후정규직전환 #임상,비임상시험관련데이터인터페이스를위한소프트웨어개발#주요프레임워크(SpringBoot,JPA,Thymeleaf등)을이용한웹애플리케이션개발경험(React개발가능자우대)#RESTfulAPI개발및OpenAPI를활용한외부연동경험자우대#관계형데이터베이스를사용한프로젝트경험(ex:MS-SQL,Oracle등)#소스코드관리도구Git사용경험#적극적으로새로운기술과플랫폼에적응하는능력#시스템요구사항정의,기능추가,수정,삭제등을위한적절한기능개발순서정의경험#Java,SpringBoot,Freemarker가능자#SpringSecurity,SpringDataJPA,QueryDSL,mYbATIS경험자우대#ASP.NETCOREMVC(C#)#EntityFramworkCore5#MS-SQL(SQL,Procedure)#DevExpress(Devextreme),Git사용가능자우대#HTML,CSS,javascript -당사는현대제철협력사로현대제철의프로그램일부를개발및운영유지보수업무를하고있습니다.-이번에프로그램개발관련C#,C++,.NET프로그램사용경력자채용합니다.(3년이상자)-경력별연봉협의후결정 LED전광판소프트웨어프로그램개발자 (회사소개)㈜셀빅은2004년에설립된회사로자본금7억원,매출액102억,사원수57명규모의고용노동부에서선정한강소기업입니다.서울성동구성수동1가에위치하고있으며,정보통신공사업,시스템네트워크통합,인터렉티브콘텐츠,기능성게임,AR/MR,인공지능을하고있습니다.(모집분야)응용기술개발부JAVA웹개발자1명(담당업무)-서비스및관리자페이지개발-Java,Spring프론트/백엔드개발및유지보수-데이터베이스설계및구축(자격요건)-Java,spring,node.js,tibero,mysql,linux(우대사항)-풀스택개발자,tibero경험자,보안관련경험자(회사복지)ㆍ점심식사제공ㆍ오전8:00~10:00시차출근제ㆍ사무실스낵바구비ㆍ야근없는개발문화지향 <<달성고용센터채용대행서비스참가업체>>*업체명:(주)영인이엔지(달성군유가읍)*문의:달성고용센터차선미(053-605-9544)*모집직종:3D설계기술자모집*업무내용:판금기구물설계*자격요건:남여무관/해당업무경력3년이상자/CAD능통하신분우대*근무여건:연봉3천9백만원(경력에따라임금협의가능)/주5일근무*제출서류:이력서,자기소개서각1부.*제출방법:업체명★(주)영인이엔지검색후->워크넷입사지원하기클릭하여지원☞(잠깐)입사지원하기클릭전나의이력서에경력,자격증등추가사항이있다면수정후지원하여주세요~! 담당업무ㆍWEB/APP프론트개발(IOT디바이스와데이터연동형콘텐츠APP)ㆍWEB/APP디자인 [전산파트]1.모집인원:전산분야자격증소지자및경력자1명2.근무시간:09시~18시/격주5일근무3.근무조건-면접후임금협의-연령/성별무관4.우대사항-전산관련자격증보유자-관련학과전공또는호텔전산유경험자-대구외거주자기숙사제공 DANBIService는매장의공유기를설치하여매장내방문객을측정하고이를바탕으로하는고객관리서비스를말합니다.현재던킨,파리바게트,베스킨라빈스등을포함한총7,000여개매장에서운영되고있습니다.단비는미국및국내에서투자를받았으며작년연말TIPS프로그램에도선정된팀이고,최근SeriesAFunding도Closing되었습니다.이와관련하여당사가운영하는캐시파이서비스의기획을맡아주실분을모시고있습니다.*참여가이드*1.함께하고싶은파트너•고객들에게더나은하루,더나은삶을제공하는단비의미션에공감하는사람•자기주도적이며결과지향적으로일하는사람•업무와함께성장할수있는사람•데이터기반으로설득하고소통하는사람2.우리가일하고싶은방법•문제정의가가장중요•단비는시장에서실험하는과정을통해계속배우고성장하는조직•생각은짧게,실행은빠르게.•빠르게실험하고,데이터로배우자.3.중요하게생각하는가치•최고의복지는스스로결정하는업무‘환경‘과도전하고실패할수있는‘기회‘이다.•치열하게토론하고비판하지만,그전제는목표달성과동료의성장을위한‘선의’임을확인한다.•나는좋은동료임을확인하자,우린언제든주저없이도움을요청하고조언을구할수있다.4.채용과정서류전형＞기술면접＞컬처핏면접5.주요업무1)UX설계2)서비스운영정책정의및운영6.자격요건-Figma및Photoshop이용-우리가부족한부분을면밀히파악하고,이를메꾸기위해사람들과Communication-본인의성장을위해끈임없이문제를정의하고나름대로그문제를해결해보고싶으신분-그리고그과정에서함께문제정의및솔루션등을함께고민을하실준비가되신분-집요하고궁금해하고,무언가를해보지않고는직성이안풀리시는분7.근무지원•장비지원•샌드위치휴일무조건연차사용가능.•유연출퇴근근무제 ★반드시전산학과전공자만지원바랍니다.★각대학교산학협력단연구관리시스템및병원e-IRB시스템개발및유지보수,DB관리,운영서버관리업무.정보처리기사및관련자격증소지자.경력증명서필수. 독일담당자와업무연락국내Extend3d장비영업지원Extend3d장비DEMOExtend3d장비설치교육Extend3d장비고객관리및상담http://www.extend3d.co.kr참조 ■담당업무-화면설계,스토리보드작성-기획서,보고서,제안서작업-고객사및내부커뮤니케이션등-스케줄관리및이슈관리■근무시간자율출퇴근제도입및운영(출근시간8:00~10:00/퇴근시간17:00~19:00)■임금경력에따라협상및조율가능■참고제출한지원서류및인터뷰시언급내용중허위사실이있는경우합격이취소될수있음모든채용절차는자사의취엽규칙,근로기준법및관련법규에따라진행되고있음채용일로부터3개월시용기간있음.평가후정규직전환여부결정시용기간동안역량및업무능력이부족하다고판단될경우본채용을거부할수있음프로젝트사정에따라근무장소가변경될수있음 ■담당업무-PC/MOBILE웹사이트퍼블리싱-운영사이트UX/UI개선-다양한인터랙션,모션구현■근무시간자율출퇴근제도입및운영(출근시간8:00~10:00/퇴근시간17:00~19:00)■임금경력에따라협상및조율가능■참고제출한지원서류및인터뷰시언급내용중허위사실이있는경우합격이취소될수있음모든채용절차는자사의취엽규칙,근로기준법및관련법규에따라진행되고있음채용일로부터3개월시용기간있음.평가후정규직전환여부결정시용기간동안역량및업무능력이부족하다고판단될경우본채용을거부할수있음프로젝트사정에따라근무장소가변경될수있음 채용직급:대리급이상담당업무:정보시스템개발보유기술:JAVA,전자정부FW,SpringBoot -전자정부프레임워크개발/유지관리-Oralce개발가능자-Java/Spring개발가능자-정규직으로장기복무가능자 안녕하세요소프트넷경영지원실장김승민입니다.당사시스템엔지니어부문경력사원을아래와같이모집합니다궁금하신사항은문의하시고많은지원부탁드립니다.모집부문:시스템엔지니어부문모집조건:아래모집분야3년이상경력자(필수)모집자격:-마이크로소프트Window인프라기술지원(Server,DNS,WSUS,IIS,DHCP등)-ActiveDirectory기술지원및운영지원-SystemCenter제품군(SCCM,SCOM,SCDPM,SCVMM)기술지원및운영지원-MSSQL및Exchange기술지원및운영지원-가상화(Hyper-V)및클라우드(마이크로소프트Azure,M365)기술지원-MS라이센스보유자우대(MCSE,MCP등)-영업회화가능자우대 [담당서비스개요,부서,근무환경]글로벌물류분야디지털대전환을,삶에대한철학이있는열정적인재와함께하고자합니다.대한민국은수출입으로생존하며,수출입의98%는해상을통해이루어지고있습니다.저희다이몬소프트는해상수출입물류분야중내륙운송부분에최첨단기술을접목한플랫폼(\"트랜스허브\")을개발하여수출입관련사용자들에게웹과앱을통해서비스로제공하고있습니다.근무부서는플랫폼서비스를운영&개발하는일을기업부설연구소에소속되어진행하게됩니다.#자유로운연차사용#칼퇴근#수평적인조직문화[함께할업무]•웹과앱으로구성된플랫폼서비스에대한운영및개발[자격요건]•Java웹어플리케이션개발및운영경력(전자정부framework)•Spingframework,SpringBoot기반개발가능•Html5,css3,javascript,Jquery,Ajax,JSON개발가능•iBatis(Oracle)개발가능•react.js기반모바일개발경험자[우대조건]•수출입운송분야서비스에대한개발및운영경험이있으면더좋아요•react.js기반모바일앱개발경험이있으면따봉이에요~[함께하면받는혜택및복지]•명절상여금을지급해요(설날,추석)•체력단련비도지급해요•각종경조사비를지급해요•생일파티는기본이쥬•업무성장을위해교육비를지원해드려요알아두기•허위이력서작성시입사취소될수있어요 ○공통자격요건ㆍ학력/성별:무관ㆍ경력:신입/경력(년수무관)○모집분야ㆍ프로젝트매니저/프로젝트리더○사업분야ㆍ인공지능시스템구축사업○자격요건ㆍ프로젝트PM/PL경험있으신분ㆍSW아키텍처와프로젝트수행방법론에대한이해도가있으신분ㆍ원만한커뮤니케이션능력과리더십이있고오래함께일할수있는분○우대사항ㆍAI/Cloud/BigData에대한PM/PL경험있으신분ㆍ소프트웨어기획,개발,구축등전단계를이해하고있거나경험하신분ㆍ데이터분석가혹은데이터사이언티스트○복리후생ㆍ모든임직원통신비제공ㆍ모든임직원중식제공ㆍ명절(설/추석)선물지급ㆍ경조금지원ㆍ야근시식대지원ㆍ출퇴근시간유연근무제시행ㆍ자율적인휴가사용(연차,반차등)*회사성장에따라복리후생추가예정 -C++,비주얼베이직등으로HMI관련업무처리경험자-windowprogrammer, 데브릭스는고객의요구사항에맞는커스터마이즈된솔루션과소프트웨어개발,네트워크설계,데이터베이스관리등다양한IT서비스를제공하는회사입니다.현재구성원의70%가개발직군으로구성되어있으며,함께최신트렌드와기술적노하우를바탕으로최고의IT파트너로성장할우수한인재를모집합니다.[주요업무]•전자정부및SpringFramework내개발•WebsquareUI툴기반개발및컨설팅[AA,Developer]•전자정부및SpringFramework내개발경험이있으신분•java를기본으로기타언어에거부감이없으신분•의욕과더불어대인관계가좋으신분•업무에있어서는책임감과관계의겸손을철학으로가지고계신분계신분[PM/PL]•공공분야PM/PL경력포함10년이상근무하신분•합리적인사고와커뮤니케이션능력으로업무에매듭을잘지어주시는분•업무처리에있어,일의순서를빠르게정리하고분배및작업이가능하시는분•지식을바탕으로자신감과겸손을미덕으로알고계신분[컨설팅중/고급]•WebsquareUI툴기반개발및컨설팅(공통)가능자•개발표준화리딩에관심있으신분•기술의표준과고도화에적극적이신분•RPA/AI에관심있으신분•Bigdata/AI에관심있으신분•개발자와의커뮤니케이션이능숙하신분 광주은행IT테스트전담반모집합니다.경력:은행업무5년경력이상자-근무처:광주은행본점빌딩(광주광역시동구제봉로225)-근무시간:9:00~18:00-월급여:298만원(연차,상여,퇴직금별도)-제출서류:이력서A41장(양식은따로없음),자기소개서직원들과원활한소통이가능한분을모십니다^^//-문의처:이기주팀장010-4628-0716<유의사항>제출된서류는[채용절차의공정화에관한법률]에따라반환요청이가능하며공고마감후30일이내신청이가능하고,기간이경과된후에는[개인정보보호법]에따라파기합니다.단,워크넷또는전자우편제출된경우에는제외합니다. 델타엑스는팀에합류할고도로숙련된AI연구원및개발자를찾고있습니다.AI연구원및개발자는AI및로봇공학프로젝트를위한혁신적인솔루션을개발하는데동참하게됩니다.주요업무ㆍ딥러닝기반솔루션개발ㆍ머신러닝,딥러닝기반데이터분석및시각화ㆍ딥러닝기반물체검출및이미지분류,Segmentation등의컴퓨터비전솔루션개발ㆍGAN,Diffusion기반솔루션개발ㆍ데이터분석솔루션개발ㆍAutoML시스템구축지원자격ㆍ컴퓨터과학,기계및전기공학또는관련분야의학사또는석사학위소지자ㆍ뛰어난문제해결능력,비판적사고를갖춘FastLearnerㆍ로봇운영체제(ROS)에대한높은이해와SLAM(동시위치파악및매팅),경로계획및탐색알고리즘에대한경험보유자ㆍRaspberryPi,NvidiaJetson및기타마이크로컨트롤러와같은하드웨어인터페이스작업경험보유자ㆍPython과같은프로그래밍언어에능숙한자ㆍPyTorch와같은딥러닝프레임워크에대한경험보유자ㆍ이미지처리,물체감지및추적을포함한컴퓨터비전개념및알고리즘에뛰어난이해를갖춘자우대사항ㆍ로봇인식,계획및제어를위한알고리즘설계및개발경험보유자ㆍ하드웨어및소프트웨어도구를사용한로봇시스템구현및테스트경험보유자 네트워크/보안/각종솔루션기술영업및전문영업직 주요업무-케이전트개발총괄자격요건-최소5년이상의개발경력과기술리더십경험이있으신분-초기부터셋팅하여운영을해보신분-인프라설계및구축/운영경험이있으신분-핀테크관련개발경험이있으신분-원활한커뮤니케이션스킬과문제해결역량이있으신분우대사항-스타트업근무경험이있으신분-디자인,기획,사업개발,마케팅등의다양한부서와의협업을경험하신분-CTO포지션혹은테크리더를맡아보신분-개발에관련해정해진부분이없어기술스택을처음부터선택을해주셔야합니다-다양한개발도구,DevOps기술에대한이해도가높으신분-논리적이고체계적인접근으로문제를정의하고주도적으로해결할수있는분[핀테크엔지니어링>핀테크인터페이스설계]핀테크인터페이스대상추출하기,핀테크내부인터페이스설계하기,핀테크외부인터페이스설계하기[핀테크엔지니어링>핀테크기능설계]핀테크핵심기능설계하기,핀테크응용기능설계하기,핀테크부가기능설계하기,핀테크이용자인터페이스설계하기[핀테크엔지니어링>핀테크보안·인증설계]핀테크보안설계하기,핀테크인증설계하기[핀테크엔지니어링>핀테크인터페이스구현]핀테크내부인터페이스구현하기,핀테크외부인터페이스구현하기[핀테크엔지니어링>핀테크기능구현]핀테크핵심기능구현하기,핀테크응용기능구현하기,핀테크부가기능구현하기,핀테크이용자인터페이스구현하기 •담당업무-앱/웹퍼블리싱및디자인•자격요건-해당직무3년~6년이상-퍼블리싱2년이상경력필요-HTML,CSS를활용한웹표준,접근성,반응형개발이가능한분-UI/UX에대한경험과이해가있는분-디바이스환경(웹접근성,모바일서비스)에대한이해도를가지신분-피그마,제플린,어도비등의그래픽툴사용가능자•우대사항-기본적인자바스크립트이해도를가지신분-scss사용경험자-frontend프레임워크에관심있으신분•입사지원서첨부사항-포트폴리오•근무지-제주/서울•회사복지-급여제도:퇴직연금,휴일(특근)수당,4대보험-선물:명절선물및보너스,생일상품권지급,월우수사원선물지급,경조사비지원-교육/생활:워크샵,식비지원,업무관련도서구입및교육등자기계발지원-리프레시:장기근속휴가,창립일휴무-근무:자율복장,유연근무제,1시간30분점심시간-문화:레저데이,영어이름소통및수평적근무환경•전형절차-서류전형-면접(1차,2차->3차(임원))-최종합격 [부산시2023고용우수기업-(주)무스마]1.직무:Front-End(React)개발1)자사플랫폼Front-End유지보수2)신규진행예정인프로젝트의Front-End개발2.근무조건:주5일,9시~18시3.급여조건:연봉4,000만원~6,000만원(면접후재조정가능)4.우대조건1)경력최소5년이상(필수)2)Typescript사용자,AWS사용자,Github사용자5.지원방법:2023고용우수기업온라인채용관(https://jobfair.busanjob.net/best2023)지원6.문의:경영관리팀070-4229-0274 고객사내부System간의연동을위한InterfaceAPIProgram개발업무System:Unix또는LinuxLanguage:Java또는CDBMS:Oracle또는MariaDB(MySQL) #업무내용-PRD(ProductRequirementsDocument)작성-고객인터뷰및UI/UX/서비스기획-개발,디자인유관팀리뷰및QA-서비스오픈및모니터링#자격요건-경력(학위과정포함)3년이상-PM,PO수행경험-Figma,PPT를활용한서비스화면설계경험#우대사항-Notion및트렐로이용경험자-인공지능,빅데이터시스템서비스경험자 ※Java백엔드엔지니어-1명#업무내용-내외부웹기반서비스플랫폼개발(빅데이터,인공지능연계서비스,단독웹서비스개발)-솔루션웹관리도구개발-공공기관및상장사SI개발#자격요건-경력:5년이상-Springframework기반개발경험-업무를이해하고데이터베이스설계할수있는능력-기초적인LinuxOS사용능력#우대사항-데이터관련프레임워크개발경험-서비스또는UI기획설계능력자-Javascript프레임워크사용경험자(flutter,react등)-개인학습내용관리(Github)※Python백엔드엔지니어-1명#업무내용-내외부웹기반서비스플랫폼개발(빅데이터,인공지능연계서비스,단독웹서비스개발)-솔루션웹관리도구개발-공공기관및상장사SI개발#자격요건-경력:3년이상-Djangoframework기반개발경험-업무를이해하고데이터베이스설계할수있는능력-기초적인LinuxOS사용능력#우대사항-데이터관련프레임워크개발경험-서비스또는UI기획설계능력자-Javascript프레임워크사용경험자(flutter,react등)-개인학습내용관리(Github) *서울서부고용센터에서채용대행중으로실제취업의사있으신분만지원바랍니다.-이력서(경력상세기술)워크넷입사지원해주시기바랍니다.·담당업무-솔루션개발-서비스개발-연구개발·필요스킬-Spring,SpringBoot,JSP,Thymeleaf-RDBMS,MyBatis-HTML,CSS,Javascript-기본적인Linux/Unix사용능력 LinuxsystemSoftware개발LinuxkerneldebuggingLinuxdevicedriverdebugging[임베디드SW엔지니어링>펌웨어설계]하드웨어테스트SW설계하기,펌웨어구조설계하기,단위SW모듈설계하기[임베디드SW엔지니어링>펌웨어구현]하드웨어테스트SW구현하기,부트로더구현하기,소스코드인스펙션하기[임베디드SW엔지니어링>디바이스드라이버구현환경구축]디바이스드라이버개발환경분석하기,디바이스드라이버개발환경구성하기[임베디드SW엔지니어링>임베디드애플리케이션설계]애플리케이션아키텍처설계하기,모듈설계하기,UML다이어그램작성하기[임베디드SW엔지니어링>임베디드애플리케이션구현]애플리케이션모듈구현하기,애플리케이션인터페이스구현하기 *수행직무:Web(java)-Miplatform,xPlatform,WebSqure외개발응용소프트웨어개발-NETC#,VB개발,POS개발외*급여:면접후조정(직급별상이함)*근무시간:09:00~18:00*신입,경력3년이상(프로젝트PM/PL가능경력자우대)*진취적이고당사와함께성장,발전할수있는인재를기다립니다!~ 1.업무시스템개발2.담당업무및업무범위:업무시스템개발업무3.전달사항또는(개발)우대사항:학사이상,전문학사이상은정보처리기사자격증우대-Java기반의제품개발또는프로젝트경험자우대-JavaAPI,Class,JSP,Servlet에대한경험및개발가능한자-Spring프레임워크(Core)를활용한제품개발또는프로젝트수행경험자-전자정부프레임워크에대한개발경험자-DB설계/개발경험자4.필요인력:0명5.개발자필요Spec-Java-Spring,전자정부 -모집직종:웹개발자및프로그래머-모집인원:1명~2명-직무내용:당사메시지솔루션웹개발및기능개선알림톡/RCS/메시지(SMS/MMS)발송서버개발및운영페이지개발-경력:5년이상경력-자격요건:Linux기반C++개발,-우대상항:동종업계경력종사자네트워크및통신프로토콜에대한기본지식보유자-근무시간:09:00~18:00(휴게시간12:00~13:00)/주5일시차출퇴근제일부도입(08:00~10:00)-근무환경:Mac개발환경(윈도우개발환경가능)-------------------------------------***[관악고용센터채용대행구인입니다]♣실제취업의사있는분(즉시출근)만접수부탁드립니다.(실업급여등목적의형식적지원사양)♣이력서,자기소개서에\"경력사항기재(필수)\"하여서류지원바랍니다.내용없는부실한서류는심사불가로탈락됩니다(⇒서류통과자는회사에서개별연락예정Tel.070-4659-6495) -C#을이용한혈액검사장비제어SW개발-데이터베이스연동개발,기타검사장비UISW개발-C#또는C++,MFC프로그램-장비제어S/W-모션제어프로그램개발 IT운영개발업무,고객커뮤니케이션 파이솔루션은AR게임을활용한리워드앱테크서비스를운영중에있습니다.앱테크내에다양한서비스를같이기획하실UX디자이너를찾고있습니다.1.UX디자이너문제를발견(Discover)하고,팀에서해결해야할문제(Define)로정의하는역할의직무를합니다.[Discover]-VOC-이해관계자인터뷰-사용자설문조사-휴리스틱평가-사용성테스트-로그데이터분석-데스크리서치[Define]-문제정의-가설수립-디자인목표수립및컨셉도출-성공지표수립UIDesign[Develop]-유저플로우및상세정책정의-와이어프레임설계-비쥬얼디자인-프로토타이핑-UX라이팅[Deliver]-핸드-오프-디자인QA2.이런분을찾고있어요-3년이상의직무경험이있는분-논리를바탕으로결과물을도출할수있는분-자유로운근무환경에서스스로의목표와일정을관리할수있는분-배움에대한열정을갖고,지속적이고효과적으로피드백을주고받는분-맡은업무에대한오너쉽을갖고,이를완성시키는일에열정이있는분-Figma숙련도중급이상인분3.이런분이면더좋아요-모바일앱과웹을모두디자인한경험이있는분-반응형웹을디자인한경험이있는분-HTML/CSS및API에대한기본이해가있는분-사용자피드백을바탕으로프로덕트를성공적으로개선한경험이있는분-GA,Hotjar등데이터관련툴이나A/B테스트를통해디자인개선한경험이있는분-글로벌하게운영되는프로덕트를디자인한경험이있는분-성장하는스타트업에서의업무경험이있는분-프로젝트를리드해서디자인한경험이있는분-FreeTalking가능한영어실력을갖춘분사대보험가입사업장 [근무예정지:수원망포역1번출구:디지털엠파이어빌딩][전장제어:경력직2명]1.프로그래밍언어를이용한GUI개발2.TI&STDSP를이용한제어프로그램개발3.PCB하드웨어설계,펌웨어설계[기구설계:경력직3명]1.구동장치설계가능자2.SOLIDWORKS및AutoCAD가능자[기계공학기술자(구조해석엔지니어):경력직1명]1.기계설계및분석2.구조해석/열유동해석등3.사업기획및정부과제수행 자동화장비제어프로그램개발PC프로그램및마이컴제어 1)H/WㆍAnalog/Digital회로설계/DesignTools(OrCAD&PADS)사용/AVRF/W개발2)S/Wㆍ임베디드리눅스S/W개발(C/C++)3)기구설계ㆍ기구설계및외주제작처생산공정관리 *직무내용-기구설계-외주제작처생산공정관리*우대사항-기어,벨트이송장치등구동부설계유경험자-판금설계유경험자-Solidworks능숙자 1.업무내용:국방과제(C,C++)_관련유경험자우대2.고용형태:정규직3.근무기간:최소6개월~ 담당업무ㆍ분야:S/W,Firmware개발ㆍ사용언어:Cㆍe-mobility연구소근무자격요건ㆍ학력:4년제대졸이상ㆍ경력:경력3년이상우대사항ㆍBMSF/W개발ㆍMCU(STMSeries)가능자.[근무시간및형태]주5일근무(오전)8시30분~(오후)5시30분주소정근로시간:40시간[급여조건]-연봉40,000,000원이상-상여금:0%(미포함)-면접후결정가능우대조건:ㆍBMSF/W개발ㆍMCU(STMSeries)가능자. 공공기관소프트웨어개발및유지관리저희회사는국토교통부,고용노동부,국책연구기관등공공기관시스템개발및유지관리를전문적으로하는SI,SM,IT벤처기업입니다.(자세한사항은회사홈페이지http://www.woojin-tns.com를참고바랍니다.)함께노력하고,성장할정규직직원을채용중입니다.근무장소는저희회사본사\"서울시송파구송파대로167문정역테라타워B동416호\"입니다.(지하철8호선3번출구와지하로연결된건물입니다)개발환경은Java/Jsp,전자정부프레임워크,Jeus.Spring,Oracle,큐브리드,Sql,Unix,Linux,NT등입니다. 1.채용직군(직렬):일반직6급(기술관리직)2.채용분야:전산관리3.기본자격-연령,성별,학력,전공,학점,어학점수등제한없음-서울축산농협인사규정및채용준칙에의거채용결격사유에해당하지않는자-남자의경우병역을필하였거나면제된자4.기술관리직필수자격및필수경력-임용예정직에해당하는「국가기술자격법」상기능사이상자격증※소지자로서해당분야※※의상장기업에서3년이상또는비상장기업에서5년이상종사경력자(자격증및경력모두만족해야지원가능)※관련자격증:정보처리기능사이상(정보처리기능사,정보처리산업기사또는정보처리기사)※※관련분야:일반기업의전산팀,IT기업의개발직및이와유사한분야5.우대사항:초임호봉최대3호봉가산(채용분야와동일한경력에한해100%인정)6.세부사항:서울축산농협홈페이지(https://nhseoul.nonghyup.com)채용공고및입사지원(with.nonghyup.com)사이트참조(필수자격및경력등을반드시확인하시고지원하시기바랍니다.) (담당업무)-ERP,간이생산시스템(MES)전반의백엔드시스템개발-웹솔루션개발및유지보수(자격요건)-경력3년이상의Django,Reactframework,Python사용가능자(우대사항)-컴퓨터/시스템공학전공/공학계열-정보처리기사/정보처리산업기사자격증보유자-ERP/MES개발및제조솔루션경험자-Python을이용한백엔드개발경험자(채용과정)-서류전형→1차전화면접→2차대면면접→최종합격 주요업무ㆍ자사백엔드시스템개발및운영업무담당합니다.ㆍJava/Kotlin(SpringBoot)기반의어플리케이션개발및운영합니다.ㆍ다양한서비스에대한데이터베이스모델설계및구축합니다.자격요건ㆍBackend개발경력5년이상혹은그에준하는실력을보유한분ㆍSpringframework(Java/Kotlin)기반서비스개발및운영경험을보유한분ㆍRDBMS및NoSQL에대한이해가있으신분ㆍ서비스요구사항에맞는아키텍처및DB설계경험이있으신분ㆍ동료들과토론하고협업하며시너지를낼수있으신분ㆍ필요에따라다양한프로그래밍언어나프레임워크를배우는데거리낌이없으신분우대사항ㆍ대용량트래픽을처리하는시스템을개발/운영해본경험이있으신분ㆍTCP소켓서버프로그래밍경험이있으신분ㆍAWS운영경험이있으신분ㆍ팀원들과코드리뷰하는데거부감이없는분ㆍ꼼꼼한성격으로업무체계화및정리에강점이있으신분사용중인기술스택ㆍJava,Kotlin,SpringBoot,MariaDB,MongoDB,Python,AWS,GitLab,Jenkins[근무조건]ㆍ근무형태:정규직(수습기간)-3개월ㆍ근무일시:주5일(월~금)오전9시~오후6시ㆍ근무지역:(06067)서울강남구삼성로745건희빌딩(청담동)-서울7호선청담에서800m이내 1.근무위치:경기도안양시평촌역인근도보10분내외안양시창업지원센터내2.모집인원HW:1명SW:2명3.담당업무ㆍAIdeeplearningIPcamera제품개발ㆍ임베디드리눅스드라이버개발ㆍLinuxapplication&opensourceportingㆍ마이컴펌웨어개발(ST)ㆍ임베디드하드웨어설계/아트웤4.자격요건:관련경력5년이상ㆍ유관전공(전산학,컴퓨터공학,전자공학등공학계열)이수자ㆍC/C++숙련자ㆍEmbeddedLinux환경SystemSW개발유경험자ㆍHardwaredesignbackground5.우대사항ㆍIP카메라ONVIF개발유경험자우대ㆍNvidiaJetsonEmbeddedLinux환경개발유경험자ㆍ제품양산유경험자ㆍGit/lssueTracker활용개발유경험자ㆍ네트워크통신이해및개발유경험자ㆍGit/lssueTracker활용개발유경험자6.연봉:면접후협의담당자:dennis@itechour.com연락처:070-5208-7789 <청도굿스파리조트웹기획자모집>-업무내용:인스타그램등SNS홍보-근무시간:09:00~18:00,휴게시간(13:00~14:00),주6일-급여:월4,000,000원,퇴직금-제출서류:이력서,자기소개서*채용담당자:이세호(T:010-2068-0387)-문의:청도사랑일자리지원센터(T:054-370-2260) 1.프로그램(ERP,POP,SCM,그룹웨어,홈페이지)개발및유지보수2.서버,백업,네트워크,방화벽유지보수3.국선,전용선관리4.전산기획 물류자동화,공장자동화,컨베어설계기구설계,자동화설계,산업기계설계등[자동차공정설계>자동차생산공장설계]생산능력계획하기,공장건설관련법규검토하기,공장레이아웃검토하기,생산요소검토하기[자동차공정설계>자동차물류설계]조달물류계획하기,생산물류계획하기,완성품물류계획하기 SMARTFACTORY,공장자동화DB구축관련소프트웨어개발인원모집합니다.대상:경력우대:c#및델파이가능자및전공자급여:추후협의가능 주차관제시스템제조회사입니다.창립초기에기틀을잡고처음부터함께할직원을모십니다.프로그램및전자회로개발에자신이있는분을모십니다.23.08월중남양주시오남읍이전예정입니다.지원시참고해주세요. 1.채용제목:AIEngineer/AIScientist(Senior)모집(대체인력)2.지원자격-경력:Python,C++를사용한알고리즘또는시스템개발경험PyTorch,TensorFlow와같은머신러닝프레임워크사용경험위경험에대한10년이상의경력-학력:Artificialintelligence/ComputerScience/DataScience/Statistics/ElectricEngineering등이공계열학사이상학위3.근무조건-지역:서울시강남구봉은사로26길12-임금:연봉4,000만원~5,000만원4.고용형태-기간의정함이있는근로계약(12개월.2023.09.01~2024.08.31)-근무형태:주3일근무(근무시간오전9시~오후6시)5.복리후생:명절/생일선물,저녁식사제공,자율시차출퇴근제(8~10시)6.직무내용-Deeplearning및Reinforcementlearning기반의이동체경로계획및스케줄최적화알고리즘및시스템개발-Deeplearning및ComputerVision기반의열차환경내다양한객체의검출,행동인식및분석알고리즘및시스템개발7.모집인원:1명(가족돌봄등근로시간단축신청근로자대체인력)8.우대사항-AI,Deeplearning,Machinelearning관련분야학회논문1편이상보유하신분-최신논문에대한빠른이해및구현능력이있으신분-교통/물류관련예측및최적화프로젝트경험이있으신분9.접수기간:2023.07.25~2023.08.0910.전형방법:서류,코딩테스트,면접11.제출서류양식:자사입사지원서및개인정보활용동의서(첨부참조) [Flutter앱개발자]-Flutter를이용하여신규서비스개발-서비스확장에따른서비스개발및운영-모바일개발경력5년차이상인분-IOS또는AOS로개발경험이있으신분-Flutter로개발된앱을스토어배포경험있으신분-Git을이용한협업경험이있으신분우대사항-React개발경험자-Node.js개발경험자-금융권프로젝트경험자공통지원자격-병역필혹은면제로해외여행에결격사유가없는자지원방법-이메일접수:toriedufin@gmail.com-이력서양식:자유양식전형절차-서류전형-1차면접-최종합격※전형일정은서류합격자에한하여개별연락드립니다.고용형태-정규직근무지서울특별시마포구백범로1991513호(메트로디오빌)기타사항-국가보훈해당자및장애인은관련법률에의거우대합니다.(증빙서류제출자에한함)-제출서류에허위기재또는기재착오,구비서류미제출등으로인한불이익은응시자본인의책임으로합니다.-제출서류나각종증명서의기재내용이허위일경우,응시를무효로하며합격을취소합니다.(※최종합격자에한해동의서작성후,개인신용정보조회예정.신용점수에영향없음) 1.중급이상-경력5년이상-담당업무:자체솔루션,프로젝트참여,기타시스템구축-자격요건:웹사이트구축및전략수립PHP기반플랫폼개발,웹/모바일,ERDRDBMS,MySQL,HTML5,Javascript,jQuery이해반응형,모바일웹경험-우대조건:LMS(학습관리시스템)경험자,UI/UX설계,스토리보드,산출물작성PL/PM경험자,개발환경구축(Windows,Linux),SI참여자-모집인원:1명2.채용형태:정규직(수습3개월) 자동화기구설계업무캐드,인벤터사용가능자우대 -담당업무ㆍ모니터링시스템개발구축-자격요건ㆍ경력:3년이상ㆍ정보통신기술자경력수첩소지자-우대사항ㆍ공학계열ㆍ정보처리기사,정보처리산업기사ㆍ해당직무근무경험*이런분을희망합니다.ㆍ안되는이유보다되도록하는역랑을가진분ㆍ담당업무에대해주도적핸들링가능자ㆍ원활한커뮤니케이션능력보유자 -제조AI빅데이터센터총괄운영-제조데이터,제조AI프로젝트수행및연구활동 공문서작성관리,4대보험,보고서관리[IT감리>감리계획수립]예비조사하기,감리범위설정하기,일정계획수립하기,인력편성계획하기,점검항목정의하기,관련법령식별하기,감리계획서작성하기[IT감리>감리보고서통보]이견사항검토하기,이견사항처리결과공유하기,최종보고서통보하기[IT감리>시정조치확인]시정조치확인준비하기,시정조치확인하기,시정조치확인보고서작성하기,시정조치확인보고서제출하기[IT감리>감리종료]감리용역완료검사의뢰하기,감리용역사업종료하기 디지탈헬스케어도메인중원격의료,원격진료,원격모니터링업무에필요한환자등록,측정,처방,관리까지의프로세스를기획자,디자이너,QA분들과함께만들고있습니다.운영효율,사용성향상을위하여다양한요구사항을분석하고문제를해결합니다.-세계여러나라에서운영되고있는솔루션이기때문에항상i18n,l10n,g11n,l12y에대해연구하고의논하여플랫폼개발Internationalization(i18n).Localization(l10n).Globalization(g11n).Localizability(l12y).-RESTAPI기반외부공유API상태를모니터링하고,Client앱과항상연결상태가유지하도록플랫폼개발-다양한Database에서운영할수있도록플랫폼개발※지원자격-다양한문제에다영한접근법과해법을활용할수있는Frontend,Backend개발자-다음기술에익숙하신분-React사용경험-Typescript,Nest,TypeORM,Lodash사용경험-Linux플랫폼에서웹서비스개발/운영경험-MySQL또는유사한RDBMS사용-새로운언어,기술에관심이많고학습하려는분-jUnit과테스트코드작성라이브러리-Jira,Confluence,Bitbucket등의협업도구※개발환경-Node.js,APS.NETCore-AWS(EC2,S3,RDS,etc)-MongoDB,MS-SQL,PostgreSQL-Git,Bamboo-Jira,Confluence,Bitbucket※우대조건-컴퓨터,전산등공학계열관련전공(우대)-대용량트래픽서비스개발경험-AWS의여러서비스사용경험-다양한SaaS서비스연동경험-MSA환경에서의개발및서비스경험-CI/CD구축및사용경험 방산품및항공/철도관련정밀가공부품개발NCProgrammer 수퍼빈앱/웹서비스의백엔드를설계하고개발합니다.ㆍNode기반Backend프레임워크(NestJS)를이용한API개발ㆍNode기반Backend프레임워크개발경험ㆍREST/RESTfulAPI에대한이해ㆍRDB,Nosql대한이해ㆍBackend개발자로성장하고싶은분ㆍ전체개발경력2~3년이상 ㆍ빅데이터분석,서비스운영최적화알고리즘개발ㆍAI기반순환자원물류/운영최적화시스템구축ㆍAI데이터처리및분석,성능향상및최적화 1.직무-문서중앙화서버관리-네트워크망관리-하드웨어관리-홈페이지관리-그룹웨어관리2.우대사항-관련업무경력자우대-OS우수자우대3.학력-초대졸이상 현재TDB서비스는React.js,Node.js,AmazonAWS,MariaDB,Unity로개발된웹플랫폼입니다.모집분야:Developer(CTO/풀스택개발팀리더)주요업무•AI생성모델(GAN)기반텍스타일디자인맞춤제작서비스개발•TDB웹플랫폼백엔드&프론트엔드기술고도화•현TDB웹플랫폼유지보수•개발팀구성및채용권한필수요건•React.js,Node.js로웹개발프로젝트리딩경험이있으신분•서버를직접개발해보거나API를사용한경험이있으신분•javascript문법에대한이해도가높으신분•MariaDB,아마존AWS서버운영관리가가능하신분우대사항•5년차이상풀스택개발자•인공지능AI이미지생성모델(GAN)기반프로젝트개발진행경험있으신분 -.DB암호화,접근제어솔루션구축.유지보수업무-.운영계시스템환경을이해하고Java,Oracle,MS_SQL등유경험자OCP.정보처리기사보유경력. 자동화설비전장설계및제어로직설계/운용SW개발(PLC.,HMI작화),셋업-자동화전장및제어로직설계및운용소프트웨어개발에대한업무수행-PLC를활용한자동화시스템에대한프로그래밍및테스트-전장관리및제어시스템의기능향상을위한개발작업-현장에서발생하는문제에대한조치및유지보수작업 당사는충남당진현대제철협력업체로서강관MES유지보수운영업체입니다(JAVA기반)근무는내근(사무실근무)위주이며주5일(월~금)08:00~17:00야근,연장근무는거의없이정상근무입니다경력5년이상직원을구하면제철관련분야경험자우대합니다. ○경력:최소3년이상○학력:전문대이상○근무형태:정규직(수습기간3개월)/주5일제(월~금요일까지근무)○출/퇴근시간:오전8시출근오후,20시퇴근(휴식시간있음.점심/저녁제공함.)○급여:면접후결정됩니다.★○근무지역:(39382)경북구미시산호대로104-134/㈜성림시스템○연락처:054-650-6205○휴대폰연락처:010-4523-3252○입사지원이메일:yscho@srsystem.co.kr(이력서양식자유) (주)휘스커개발사업부에서홈페이지UI/UX설계가가능한기획자와개발PL을아래와같이모집하고있습니다.-웹기획자:홈페이지구축요구사항분석,UI/UX설계,제안시기획지원(별도제안센터운영중)및프로젝트관리-개발PL:업무시스템및포털개발PL저희(주)휘스커는공공기관의업무시스템개발(SI)및홈페이지(포털)구축사업을수행하고있습니다.그중인터렉션사업부에서는홈페이지구축에해당하는웹기획자를,정보화사업부에서는시스템및포털개발PL을모집하고있습니다.고객과팀원간의원활한의사소통과문제해결을위해끝까지최선을다하는책임감있는분을찾습니다. 담당업무ㆍ사업제안서및수행계획서작성ㆍ프로젝트(SI,R&D)기획및사업관리업무담당ㆍ사용자요구사항분석및웹서비스기획ㆍ스토리보드(화면설계)기획ㆍ웹트렌드분석및사례조사자격요건ㆍ학력:학력무관ㆍ경력:경력(4년이상)*우대사항ㆍ컴퓨터활용능력2급이상소지자ㆍ한컴office활용능력우수자ㆍ1종/2종운전면허소지자ㆍ유사업무경험자우대ㆍUI/UX서비스기획경험자ㆍ활기차고의사전달이원활한사람 각종지그(조립지그,검사지그,가공지그)및2D,3D설계간단한기구물설계등 -응용소프트웨어개발-AWS기반의플랫폼개발(BackEnd&FrontEnd)-경력자우대-컴퓨터공학전공혹은정보처리기사-임금:월급2,500,000원~4,000,000원 플라스틱사출금형set업체입니다.자동차내/외장제제작하고있습니다.금형설계담당하실성실하고책임감있으신분 ■담당업무:1.R&D연구개발2.자사제품펌웨어개발및수정■필수언어:C언어,Java(Go)■관련전공:無■우대사항:해당직무유경험자■근무조건:1.근무시간:09:00~18:00(평일/주5일)2.근무조건:면접후협의3.근무장소:전북전주시완산구바우배기2길23,이지빌딩3층(주)첫눈4.고용형태:정규직5.복리후생:4대보험,퇴직연금,상여금,성과금,생일자상품권지급,명절상여및선물,경조사지원,청년소득세감면신청및내일채움공제가입가능. 담당업무1.IT서비스관리통합관리솔루션엔지니어-모니터링솔루션(SMS,NMS)-IT서비스관리시스템,IT자산관리시스템등2.클라우드시스템솔루션엔지니어-IaaS,PaaS솔루션(RedHat,VMware등)우대사항ㆍ유관업무경력자ㆍ자격증:정보처리기사ㆍPrivate/PublicCloud프로젝트구축유경험자ㆍOpenstack/Openshift/VMwareCloud구축유경험자ㆍITIL기본지식보유자ㆍITSM,ITAM프로젝트수행경혐자 1.스마트팩토리및스마트공방정부사업관련PM직무1)사업계획서및보고서작성2)대면평가대응3)중간점검및감리,최종완료점검대응4)연봉:5천만원이상2.프로그램개발자(자바언어)직무1)MES및POP2)연봉:3500만원이상 전기온풍기와냉난방기를생산하는제조판매하는공장입니다.냉난방기제조및개발유경험자및전기.전자전공관련자를모집합니다.전기분야-간단한전기작업및전기분야관리전자분야-냉난방제품의프로그램수정및보완작업.냉난방기,보일러제품의프로그램개발(외부기술지도예정)보일러프로그래밍가능자설치작업시지방출장가능하셔야하며운전면허필수입니다.많은지원부탁드립니다. 뉴로라인즈에서IT서비스개발팀을새롭게구성하고자합니다.함께세상을바꿀소중한인연을기다립니다.●모집부문-화학물질법적관리정보시스템개발●담당업무[Web개발자]-화학물질정보관리시스템구축-시스템I/F및Cording전문가-LegacySystemIntegration개발●자격요건-학력:초대졸이상-자격:Web개발경력3년이상-Spring,Framework,JAVA,Jquery등-OracleDB(SQL,Procedure,Job등)-우대사항:유관시스템구축경험자 담당업무ㆍSW개발의요구사양분석,WBS관리,형상관리ㆍOCT연산알고리즘최적화(interpolation,sorting,FFT)설계관리ㆍOpenCV기반이미지처리개발관리ㆍGUI개발(GUI디자이너사내에있음)지원자격ㆍ컴퓨터공학,프로그래밍관련전공자로써SW개발실무10년이상ㆍ개발계획서,요구사양분석,WBS작성가능ㆍBitbucket혹은그와유사한git체계의형상관리익숙할것ㆍC/C++개발가능할것ㆍOpenCV에익숙할것ㆍC#익숙할것우대사항ㆍSW개발매니저경험ㆍDeeplearning,AI경험/지식 스마트공장구축AI개발자MES,POP등스마트팩토리응용프로그램개발(C#)설비Interface및통신응용프로그램개발(C#,VB,Java)MobileApp개발(안드로이드,IOS)DBMS개발(MS-SQL,Oracle,My-SQL)BusinessIntelligence(BI),BigDataPlatform,AI스마트팩토리사업유경험자우대*프로젝트별인센티브제도시행 자바,스프링,오라클,전자정부프레임웍개발경력4년이상~(공공,금융,기업) [딥세일즈소개]•딥세일즈서비스슬로건,\"Guessless,Winmore.\"•2021년11월설립된대한민국의세일즈인텔리전스기업으로,약3년간의R&D를통해출시되었으며,제조사정보를기반으로거래성사율이높은해외바이어를예측해기업들의잠재바이어발굴을지원하는일을하고있습니다.•\\'딥세일즈(DeepSales)\\'는인공신경망을기반으로한머신러닝의일종인\\'딥러닝(Deeplearning)\\'과영업을의미하는\\'세일즈(Sales)\\'의합성어입니다.고도화된분석기술을통해세일즈팀이신규바이어발굴하는인공지능모델을제시하여,중소기업의세일즈역량을증폭시키고자하는메시지를담고있습니다.[사업목표]•저희의주요목표는기계학습(MachineLearning)과세일즈관련데이터(Data)를기반으로궁극적인세일즈지능(SalesIntelligence)을구현하는것입니다.•전세계에서산발적으로발생되는세일즈데이터를효율적으로정리하는것뿐만아니라기업간거래(B2B)성사의궁극적인이해를통해국내외중소기업들의세일즈파워를증폭(Amplifying)시키고자합니다.[투자]•2021년,Angel라운드,네오위즈,상하이엔젤스•2022년,Seed라운드,블루포인트파트너스,킹슬리벤처스,윤민창의재단•2023년,중기부팁스(TIPS)선정[주요업무]•딥세일즈에서발생하는다양한로그성데이터처리/가공•글로벌무역관련데이터1차전처리작업•검색데이터수집을위한크롤링/스크래핑업무수행•DB적재Loop업무[자격요건]•DB정규화,DBINDEX,트랜잭션에대한이해도가있으신분•쿼리작성가능하신분(테이블조인및서브쿼리작성가능)•NoSQL에대한이해도가있으시며활용경험있으신분•파이썬으로가능하신분(Jupyternotebook,Pandas,Numpy,Scipy라이브러리등활용)•데이터전처리작업경험있으신분[우대사항]•AWS등클라우드서비스활용경험있으신분•통계산출가능하신분•차트가능하신분•해당업무경험자우대[근무조건]ㆍ고용형태:정규직ㆍ근무지:위워크사무실또는재택ㆍ공통업무툴:슬랙,노션등을주로사용ㆍ연봉:본인의경력에따라협의가능(3개월수습기간동안급여100%지급)[복리후생]ㆍ자율좌석제:위워크내공용라운지자유착석ㆍ재택근무가능(사전협의시)ㆍ점심및다양한간식제공ㆍ금요일5시30분퇴근ㆍ스톡옵션지급ㆍ이제신생회사로복리후생은차차늘어날예정 1.담당업무:IT(전산)부문2.채용분야:기술영업3.지원자격요건-.경력:5년이상.IT관련기술영업유경험자.AI,머신러닝관련IT서비스전략기획유경험자.병력필또는면제자.해외여행및근무에결격사유가없는자.학력:4년제대학졸업이상4.고용형태:정규직5.급여조건:회사내규에따름(면접후결정)6.채용직급:면접후결정7.모집인원:1명8.근무지역:대구9.전형방법:1차(서류전형),2차(실무진면접),3차(임원면접)10.제출서류:입사지원서,자기소개서각1부\\uf0e0당사입사지원서양식작성경력기술서(경력및자격사항구체적기술)자격증사본증빙-주민번호뒷자리삭제11.접수기간:채용완료시까지12.접수방법:E-Mail접수 1.담당업무-주차플랫폼기획,고도화및신규개발2.자격요건-나이/학력무관(관련전공자우대)-주차시스템개발경력5년이상-웹,응용프로그램가능한분-Ajax,HTML,JAVA,JSP,SpringFramework가능한분-C#,VB언어사용이능숙한분-MSSQL,ORACLE사용경험있으신분-시리얼통신,소켓통신경험있으신분3.우대사항-AWS,네이버클라우드운영경험자-임베디드/MCU관련개발가능-성격밝고원활한협업능력보유자 담당업무ㆍ안드로이드음성학습인식소프트웨어개발및안드로이드스마트워치,블루투스통신앱개발1.mfcc방식으로키워드를학습시켜레퍼런스라이브러리에저장한후그키워드가입력되면그키워드를인식하게끔.2.스마트워치에서스마트폰사이의거리를인식하여블루투스연결이끊기면스마트워치에끊긴상태를표시.3.스마트워치HW및SW문제를해결할수있는분.***연봉5천만원(면접후조정가능),재택근무가능*** (주)채널5코리아는IT,금융,패션,의료,예술총5대전문분야미디어포털플랫폼운영비젼을가진회사로,자체기술력바탕의쌍방향온라인라이브방송시스템과,디지털미디어커뮤니케이션플랫폼을운영하고있습니다현재인터넷신문,웹방송,교육원,쇼핑몰,디지털마케팅총5개사업부가있으며,사업부별팀장,팀원들의아이디어를통해지속적인플랫폼확장을이뤄가고있으며,새로운도약을위해하기와같이부문별인재를구인하고있으니,많은참여바랍니다.웹개발팀-자사사이트개발및유지보수필수요건-JavaScript,AWS,MySQL우대사항-React와같은UI유경험자-클라우드사용유경험자-Socket통신기반채팅개발자관련사이트www.e4ds.comhttp://make.e4ds.com*필히희망연봉기재요망(미기재시서류접수불가) ■사용기술ㆍ언어:javascripts,html,css,Typescriptsㆍ프레임워크:React.js,ReactNative,Next.jsㆍ상태관리:Redux,Recoil.jsㆍ형상관리:Git■담당업무ㆍ기존앱서비스및신규서비스플랫폼프론트엔드개발ㆍ어드민웹개발전반을담당ㆍ어플리케이션용웹뷰개발전반을담당■자격요건ㆍ프론트엔드실무경험3년이상이신분ㆍjavascript에대한경험과높은이해도를갖추신분ㆍReact의경험과동작원리에대한높은이해도를갖추신분ㆍ상태관리라이브러리(redux,recoil등)에대한경험과높은이해도를갖추신분ㆍ형상관리시스템Git에대한이해와경험을갖추신분ㆍRestAPI문서이해및연결에이해도와경험을갖추신분■우대사항ㆍ기본적인자료구조및알고리즘이해도를갖추신분ㆍNext.js및typescript실무사용경험이있으신분ㆍ성능최적화경험이있으신분ㆍ브라우저렌더링에대한이해도를갖추신분ㆍ유연한설계에대한고민을해보신분ㆍ단위/통합테스트에대한경험이있으신분ㆍ더나은UX/UI에대한욕심이있으신분ㆍ코드리뷰를즐기시는분※제출서류:이력서,포트폴리오※입사지원서류에허위사실이발견될경우,채용확정이후라도채용이취소될수있습니다. “BetterforUs,BetterforEarth”안녕하세요,AIoT기반온도관리서비스리프(Leaf)를제공하고있는씨드앤(SeedN)입니다.우리는세상을위한적정온도로기후위기문제를해결할수있도록데이터에기반한에너지관리방식의기준을만드는인공지능솔루션을향해나아가고있습니다.여름철냉방병,사람이없어도운행되는에어컨,폭염과혹한으로급증하는전력사용량,그리고블랙아웃(Black-Out)등무분별한에너지사용으로인해환경은계속해서나빠지고있습니다.씨드앤의모든핵심구성원들은이러한환경변화의심각성에공감하고있고지속가능한환경과사람중심의온도경험으로세상의변화를만드는데뜻을함께하고있습니다.이러한관심과노력에힘입어2021년카카오벤처스로부터Pre-A투자를유치하였으며TIPS에도선정된바있습니다.최근ESG매칭펀드를포함하여한국사회투자,하나금융그룹,SKT-인피니툼펀드,리벤처스,하나증권으로부터17억원Pre-A투자를추가유치하며ESG,프롭테크기업으로도많은관심과주목을받고있습니다.2019년IoT스마트온도조절기리프(Leaf)출시를시작으로머신러닝기반의최적화된온도운영AI엔진까지선보이며SK텔레콤,SK쉴더스,삼성에스원,투썸플레이스,H&M등의국내외대기업부터소규모상업시설까지매우빠른속도로상업영역을확장시키며변화를주도하고있습니다.씨드앤은냉난방에너지를효율적으로관리하고적정온도를만들어나가는것에서부터시작하여현재는건물에들어가는모든에너지를관리하는기업으로성장하고있습니다.건물내에너지관리가필요한모든설비에씨드앤의AIoT기술을적용하여건물단위,더나아가도시단위로에너지를관리하는기업으로사업영역을확장해나가고있습니다.씨드앤의성장을이끌고있는모든핵심구성원들에게\\'존중\\'은가장중요한핵심가치이며우선시되는조직문화입니다.지속가능한환경과사회를위해자유로운분위기속에서상호존중하고배려하는방식으로일하고있으며개인과회사모두가함께성장할수있는팀입니다.[주요업무]리프는공간을적정온도로관리해주는AIoT서비스입니다.허브,센서,컨트롤러와같은실제기기들이공간에설치되어온도를관리하고,이러한기기들을앱을통하여조작합니다.프론트엔드개발자는온도관리의사용자경험을극대화하는방향으로앱을개발합니다.또한센서를통해수집한공간데이터를고객들과팀원들을위해시각화하여제공하는웹을개발합니다.마지막으로팀에서필요한매장모니터링,AS관리등의기능을포함한백오피스도구를개발합니다.-디자이너와협업하면서완성된디자인을앱에서구현-기획자,다른엔지니어와소통하면서정확한동작방식/정책확인후의도한대로앱에구현-개발과관리가용이한형태로지속적인클라이언트코드리팩토링[자격요건]-웹또는앱개발경력이3년이상이신분-React/ReactNative를활용하여client-side웹/앱을만들수있는분-비즈니스요구사항에맞게로직을설계,구현하고운영할수있는분-Git을통한협업을하실수있는분-프로페셔널업무태도[씨드앤소개페이지:https://www.notion.so/seednvillage/ca0a2e491fd5452fbae618468ac9f527] [업무내용]·사내/외주프로젝트지원및개발협업·기술문서작성및공유·서비스신규개발,유지보수·표준화,성능/효율최적화·Java,Spring,JSP기반개발·JSP,PHP중선택가능·RESTfulAPI개발[지원자격]·Front/Back-end개발경력보유자·APM(Apache+PHP+MySQL)기반개발가능·다양한이해관계자및조직(팀)간원활한커뮤니케이션능력·인터넷,모바일최신트렌드기술능력보유[우대사항]·상용화된웹/앱서비스Back-end개발경험·하단기술능력보유자-XML및JSON파싱기술,MySQL,MS-SQL,DB설계및최적화[혜택및복지]·4대보험:국민연금,건강보험,고용보험,산재보험·휴무/휴가:생일포상휴가,2년이상재직시연차별포상휴가추가제공·생활편의:자유복장,회식/야근강요X,직원휴게실(간식/음료등)구비,정시퇴근권장.·교육지원:워크샵,직무능력향상교육,도서구입비[근무조건]·연봉:3,500만원~5,000만원·근무형태:정규직(수습3개월후정규직전환),계약직선택가능·근무시간:주5일(월~금)09:00~18:00(점심시간12:30~13:30)[채용절차]·서류전형->화상or대면면접(실무테스트)->1차실무진면접->2차경영진면접->최종합격·채용관련구비서류(각종증명서,자격증등)는면접시제출하며,지원서의기재내용과다를경우합격이취소될수있습니다.·최종합격하더라도서류상허위사실및결격사유가있는경우에는합격이취소될수있습니다.[제출서류]·우리요자사이력서(http://wooriyo.com/에서다운가능)·경력기술서(자신의기술능력을보여줄수있는프로젝트,협력했던활동사항위주로작성)-기간,주요업무내용,본인이기여한기술,기여도,성과등[주의사항]·본사위치:전라북도전주(지역확인필수)·경력(3년이상)▼우리요채용에관한내용은유튜브영상으로확인하실수있습니다.https://youtu.be/zEkf-qT3JtQ▼채용공고상세내용은아래사이트에서확인해주시면감사하겠습니다.http://www.wooriyo.com/career.html IT전문인력(플랫폼구축PM)채용동대문3.3만평디지털트윈구축통해동대문패션상권활성화를목표를하고부동산및실물기반디지털에셋(NFT,STO,크립토)생태계구축전문기업(주)다녕과함께성장할인재를모집합니다.1.포지션및자격요건.IT플랫폼기획및구축,사용자Test,운영,목표달성등전반적으로프로젝트관리(경력자).IT플랫폼기획및개발경험자(신입/인턴)2.담당업무.IT플랫폼기획및구축(개발)PM(ProjectManagement).IT플랫폼서비스및운영관리3.자격요건.학력:학력무관.경력:1년이상(인턴은상관없음)4.우대사항.IT플랫폼서비스전략기획서작성및검토가능한분.대학또는기업에서해당프로젝트경험자(인턴).디자이너및개발자와소통이원할하고네트워크가풍부한분5.모집인원:2명6.기타사항.NFT,블록체인,STO에대한이해도가높으신분.주도적으로목표를세우고달성해본경험이있고,빠른실행력에강점이있으신분7.연락처02-762-3338sulee424520@naver.com\\u200b ㈜렌쥴리에듀테인먼트`4차산업혁명`우리아이들의새로운미래를함께이끌어가주실교재개발연구원을모십니다.㈜렌쥴리에듀테인먼트는2012년에설립된회사로중소기업입니다.서울마포구성암로189(상암동,중소기업DMC타워)에위치하고있으며,교육컨텐츠개발,교육방송제작,해외무역,교육서비스,교육프랜차이즈사업을하고있습니다.▣모집분야:유/초/중고AI.코딩교재및컨텐츠개발▣담당업무:자사콘텐츠활용교재개발/AI교육커리큘럼기획/AI코딩정책연구/온라인교육영상제작/콘텐츠교육▣자격요건:학력:초·대졸이상/경력:유관업무경력3년이상▣우대조건-유/초/중고코딩교재개발경험자우대-유/초/중고코딩교육경험자우대-AI기반교육경험자우대-엔트리,스크래치,엠블럭,파이썬등콘텐츠개발자-온/오프라인활용콘텐츠기획자-컴퓨터활용능력우수자-관련학과전공자▣제출서류:이력서,자기소개서제출,포트폴리오첨부필수(본인이작업한교재원고및기타자료) 당사는의료용산업용S/W를개발하고있습니다.C/C++가능한3년차이상의경력프로그래머.파이썬을활용한인공지능(비전)모듈을다룰수있는경력자를모집합니다.경력신입및경력자우대학력대졸근무형태정규직급여업계평균이상(면접후결정)근무일시주5일(월~금)9:00~18:00근무지역대구본사 **프로그램개발모집인원:00명채용직급:과장급이상담당업무:정보시스템개발보유기술:JAVA,넥사크로,전자정부FW,SpringBoot자격요건:프로그램개발경험3년이상---------우대조건-정보처리,정보통신등SI관련자격보유자-공공부문시스템유경험자-창의적이고열정적인분 담당업무-이러닝모듈개발-행정DB설계,구축-학사시스템데이터처리관리-근무부서:BACKENDTEAM(AI/WEB/DB)자격요건-경력:신입,경력-직급/직책:사원,연구원,팀장급 담당업무-홈페이지및자사홈페이지,웹페이지관리-웹페이지,디지털콘텐츠디자인/퍼블리싱-블로그/인스타/페이스북등SNS홍보-온라인바이럴마케팅디지안-근무부서:FRONTENDTEAM(웹디자인)자격요건-경력:웹디자이너로서홈페이지개발및퍼블리싱개발경력3년이상-직급/직책:연구원,대리,주임급 *Kotlin/Java기반의AndroidAPP개발.*-안드로이드기반의HMI를이용하여전기차충전기UI/UX개발.-운영서버와의통신프로토콜개발(OCPP1.6전문기반)-자사및타사운영서버연동프로토콜개발및대응-전기차충전기운영로그관리,진단기능,원격모니터링기능개발-RS-232/RS-485통신을이용한주변장치연동.(RFCardReader,ICCardReader등)-QT개발경험자우대.-전기차충전기관련업무경험자우대 소프트웨어개발자모집(3년이상경격자)*APP,C#,JSP사용자관련전공우대★근무지:(본사)경기도광명시소하동SK테크노파크★직원복지:중식제공,법인폰,법인차량제공,명절선물지급,유니폼지급,자유로운연차사용 하드웨어개발자모집3년이상경격자관련전공우대★근무지:(본사)경기도광명시소하동SK테크노파크★직원복지:중식제공,법인폰,법인차량제공,명절선물지급,유니폼지급,자유로운연차사용 *담당업무-온라인광고시스템관련신규개발프로젝트리딩-요구분석,시스템설계및프로젝트팀리딩*사용기술-Python,Flask,Elasticsearch,Redis,Memcache,Mysql,PHP,AWS등*필수자격요건-초대졸이상-경력:개발경력10년이상책임연구원급-유연하고효과적인커뮤니케이션능력-관련학과전공자또는정보처리기사자격증*우대사항-개발PL경험자-다양한개발언어및개발환경경험보유자-서비스론칭및운영경험자*자기소개혹은이력서-자기소개혹은이력서(경력,진행한프로젝트,포트폴리오내용위주)-형식은자유이며이력,경력,기술등직무와연관성이높은항목중심으로작성.-참고할수있는Github혹은Blog가있으시다면이력서내에같이첨부 정규직JAVA백앤드개발자를채용합니다.채용대상-전자정부프래임워크능숙자(3.1~4.1)-SI업계종사경력자-금융기관,정부프로젝트경험자-프로젝트에대한책임감이있는자업무내용-JAVA백앤드(백앤드만합니다.)-ERD작성,로직설계-백앤드-프론트앤드간통신규격설계-Linux(ubuntu/centos)was설치및운영참고사항-도급개발업체로SI같은근무방식이아닌내근직입니다.-파견은없고출장은전체공정의10~20%정도있을수도있고없을수도있습니다.(기획미팅후개발미팅,납품시설치,AS대기등)-프로젝트진행시기획-퍼블리싱-프론트-백앤드업무를분담해서처리합니다.이중백앤드만을담당하게됩니다.-python,aos/ios개발자는별도로있기때문에java만하시면됩니다.다른언어를요구하지는않습니다. 담당업무-이알피데이타구축및관리-네트워크장비,회선등관리-메뉴얼구축(엑셀활용도중-상)지원자격-경력:최소경력5년이상우대사항-엑셀작업능력중-상이상-해당직무근무경험-네트워크장비,회선등정보통신에대한지식과기술을보유한경력자근무조건ㆍ연봉4000만원이상(임금협의가능)ㆍ근무시간:09:00~18:00ㆍ근무지역:경북영천시천문로752※지원사업신청조건가능시기숙사(원룸)비지원가능 자바개발자자바프로그램개발자응용프로그램개발및운영업무분석및설계(화면및DB) 자동화설비설계자AUTOCAD및SOLIDWORKS사용가능자 Node.js,JavaScript,C#,MSSQL,RESTAPI가능자.4대보험,주5일근무,연차,경조휴가,퇴직금,각종경조금지원,인센티브제,포상휴가,(야간)교통비/식비별도지급 -네트웍&컴퓨터유지보수엔지니어모집1.주요업무-네트웍&컴퓨터유지보수-네트웍공사-전산실상주기술지원2.우대사항-CCNA이상자격보유자-전산실근무유경험자-정보통신관련자격증소지자-경력3년이상 시스템개발로봇기계/제도(3명)신입,경력(3년우대)담당업무-웹시스템:웹기반시스템구축,솔루션(스마트팩토리,자동창고등)개발공급설비/로봇제어:기계제도,API기반PLC연동개발탄력근무제:08:00~10:00출근,1일8시간근무후(17:00~19:00)퇴근자격증수당:정보처리기사,정보처리산업기사자격증보유시수당지급자녀수당:자녀1인당추가수당지급(양육비지원)연차,반차자율사용,출산휴가/육아휴직지원,근로자의날/창립기념일휴무불필요한초과근무지양함(야근필요시석식및교통비지원)사내에커피머신,제빙기등이갖춰져있으며,차.간식등제공 [장비개발]PC기반프로그램을이용한시스템자동화프로그램(전기자동차관련및밧데리측정기관련)지원자격ㆍ경력:경력5년이상(차장부장급)우대사항ㆍ자동차충전기관련업무5년이상-전기자동차관련업무5년이상-시스템설계및관리업무가능하신분근무조건ㆍ근무형태:정규직(수습기간)-3개월ㆍ근무일시:주5일(월~금)09:30~18:30ㆍ근무지역:(16074)경기의왕시경수대로257대영골든밸리603호(주)앤티엘 ●AboutUs:주식회사링거스튜디오는‘새로운방식으로가치를더하다\\'라는비전을이루기위해도전하는팀입니다.‘콘텐츠IP수익공유플랫폼’링거스튜디오는누구나쉽게콘텐츠IP자산에투자하고거래할수있도록하며,다양한혜택을활용한‘연결(Connectivity)’을통해새로운가치를창출하는서비스입니다.음원저작권을시작으로다양한분야의콘텐츠IP로서비스를확대할예정이며,글로벌서비스로성장하기위해증권사,콘텐츠기획/제작사그리고다양한아티스트들과함께도전하고있습니다.[우리는이렇게일해요]•CommitmentCommittoittogether팀의발전과속도를위해책임감을가지고헌신합니다.•ChallengeGobeyondtheimpossible가능하지만어려운일이아닌,불가능에도전합니다.•RespectWeareoneteam상대방의시간도소중히여기며,오픈마인드로서로를존중합니다.•InspirationGetinspiredfromyou팀에게영감을주기위해꾸준한자기관리와개발에힘씁니다.•GoodnessDotherightthing,bekind항상옳은일을행하며,누구에게나친절하게행동합니다.•EssenceFocusonthepoint업무의본질을파악하고,우선순위에집중하여단순하게해결해갑니다.[이런동료와함께일하고싶어요]•자기주도적문제찾기와문제해결이가능하신분•책임감있는업무리딩이가능하며직업윤리의식이있으신분•함께일하는동료를존중하고신뢰하며적극적인커뮤니케이션을하려고노력하는분•긍정적인에너지와열정으로팀분위기에좋은영향을주실수있는분•음악을좋아하고NFT,블록체인,메타버스등의영역에관심과경험이있으신분•서비스를함께만들어나가는과정을즐길수있고협업에능한분•직업윤리의식과신뢰감이높으신분●Location:서울특별시종로구효자로15코오롱빌딩3층●Terms:정규직●Reportto:ProjectManager(TeamLeader)●Responsibilities:‘링거스튜디오\\'의백엔드서비스를담당합니다.백엔드서비스는Kotlin을주로사용중이며Spring,Ktor,Nest등의프레임워크를활용하여개발되었습니다.scalability,maintainability,flexibility를고려한시스템설계합니다.트래픽에따른유연한scaleup/out정책수립및작업합니다.서비스요구사항을분석하고완성도높은서비스를만들기위한커뮤니케이션을진행합니다.효과적인작업을위한운영환경에대해함께고민하고구축합니다.●Requiredskills:SpringFramework를사용한서비스개발경험3년이상관계형데이터베이스설계역량기능정의서를빠르게이해하고개발할수있는역량서비스퀄리티향상을위한방안을팀원과끊임없이고민하고함께성장하려는자세●Preferredskills:CI/CD구축및파이프라인작업경험messagingsystem(kafka,amazonsqs등)작업경험JPA(ORM)에대한이해와서비스개발경험AWS클라우드환경에서운영경험서비스인스턴스모니터링시스템운영경험●Recruitmentprocess:자유양식이력서(국문)제출1차서류전형>2차인터뷰(담당업무및성과위주)>3차인터뷰(캐주얼미팅)>경력검증서류제출및심사>결과통보 [업무내용]·서버관리및DB(MS-SQL,My-SQL)설계·APM환경개발·JSP서버및DBMS·개발문서및APi문서작성·사내/외주프로젝트지원및개발협업·JSP,PHP중선택가능·자료구조,알고리즘사용하는주요언어프레임워크·백엔드:Java,PHP·프론트엔드:jsp,php[지원자격]·전략,기획,디자인파트와유기적으로소통하며개발구현·Git을이용한버전관리및협업에대한경험이있으신분·AWS,Linux(Centos)환경에서개발및운영경험이있으신분·Java,SpringFramework,APM(Apache,php,mysql)기반서버개발가능·Ajax,Jquery개발경험·DB설계경험(MS-SQL,My-SQL)[우대사항]·실제시장에런칭한앱서비스개발경험·플랫폼에대한이해·개발/코딩관련대회수상경험·정보처리기사자격증보유[혜택및복지]·4대보험:국민연금,건강보험,고용보험,산재보험·휴무/휴가:생일포상휴가,2년이상재직시연차별포상휴가추가제공·생활편의:자유복장,회식/야근강요X,직원휴게실(간식/음료등)구비,정시퇴근권장.·교육지원:워크샵,직무능력향상교육,도서구입비[근무조건]·연봉:4,000만원~6,000만원·근무형태:정규직(수습3개월후정규직전환),계약직선택가능·근무시간:주5일(월~금)09:00~18:00(점심시간12:30~13:30)[채용절차]·서류전형->화상or대면면접(실무테스트)->1차실무진면접->2차경영진면접->최종합격·채용관련구비서류(각종증명서,자격증등)는면접시제출하며,지원서의기재내용과다를경우합격이취소될수있습니다.·최종합격하더라도서류상허위사실및결격사유가있는경우에는합격이취소될수있습니다.[제출서류]·우리요자사이력서(http://wooriyo.com/에서다운가능)·경력기술서(자신의기술능력을보여줄수있는프로젝트,협력했던활동사항위주로작성)-기간,주요업무내용,본인이기여한기술,기여도,성과등[주의사항]·본사위치:전라북도전주(지역확인필수)·경력(3년이상)▼서버개발자채용공고유튜브영상으로상세하게확인하실수있습니다.https://youtu.be/1JdAvWM5f1g▼우리요채용에관한내용은유튜브영상으로확인하실수있습니다.https://youtu.be/zEkf-qT3JtQ(▼채용공고상세내용은아래사이트에서확인해주시면감사하겠습니다.)http://www.wooriyo.com/career.html -압력용기설계가능한자모집-AirDryer,AirFilter등압력용기설계가능자우대-프로젝트승인서류제작가능자우대경력자우대-중식제공 쇼핑몰관리,기획,운영SNS,블로그운영및기획유입데이터분석및애널리틱스온라인광고신규브랜드상품기획부터런칭,운영브랜드마케팅,온라인쇼핑몰(카페24,스마트스토어등)운영이벤트기획및원고카피라이팅[캐릭터유통·서비스>캐릭터상품유통시장분석(라이선서)]캐릭터상품소비자분석하기,캐릭터상품시장분석하기,캐릭터유통시장분석하기,캐릭터산업정책분석하기[캐릭터유통·서비스>캐릭터상품유통마케팅(라이선시)]캐릭터상품광고매체선정하기,캐릭터상품홍보물제작진행하기,캐릭터상품프로모션진행하기[스마트문화앱콘텐츠유통·서비스>스마트문화앱콘텐츠유통·서비스전략기획]환경분석하기,기술동향분석하기,기업내부유통·서비스역량분석하기,서비스전략기획하기[스마트문화앱콘텐츠유통·서비스>스마트문화앱콘텐츠마케팅기획]앱상용화모델기획하기,앱수익모델기획하기,앱유통계획수립하기,마케팅채널전략수립하기[스마트문화앱콘텐츠유통·서비스>스마트문화앱콘텐츠유통채널관리]앱유통채널분석하기,앱유통채널선정하기,앱유통채널관리하기 |담당업무ㆍ대내/외고객사SI/SM프로젝트매니저(PM)-컨설팅,프로젝트일정관리ㆍe-Biz업무에대한이해를바탕으로웹서비스/웹시스템기획및설계ㆍ고객과개발자들이이해할수있는요구사항도출및프로젝트진행ㆍ프로젝트전반에걸친공정상의주요업무를주도적으로리딩|필요스킬ㆍFigma,워드,PowerPoint,GitHub,Sketch,UI,UX,한컴,Wireframe|핵심역량ㆍ계획성,성실성,성취지향성,꼼꼼함,창의성,자존감,적응성,성장지향성|자격요건ㆍ학력:학력무관ㆍ경력:프로젝트실무수행(최소)5년이상,PM경험(최소)3년이상|우대사항ㆍ컴퓨터활용능력우수자ㆍ엑셀고급능력보유자ㆍ문서작성우수자ㆍ프리젠테이션능력우수자ㆍ리더쉽소유자ㆍ유관업무경력자(5년이상)|복리후생ㆍ4대보험,연차지급ㆍ명절상여금지급ㆍ성과에따른성과급지급ㆍ식사및간식제공ㆍ쾌적한근무환경|첨부서류ㆍ입사지원시구체적인경력기술과포트폴리오첨부를해주시기바랍니다 [직무내용]당사는LEDDISPLAY솔루션을제조및설치업체로서금번사업확장을통하여인터넷쇼핑몰을구축하고자합니다.LED관련솔루션의확장에맞추어LED라이팅제품에대한인터넷쇼핑몰을구축하고판매유통을담당할인재를모십니다..인터넷쇼핑몰개발자.쇼핑몰MD.쿠팡,네이버,SSG등다양한온라인커머스사이트상품등록및관리.[채용우대].개발부문:인터넷쇼핑몰구축실무경력5년이상.쇼핑몰MD:LED가든조명,LED라이팅,조경관련용품판매관리경력자우대.상품등록관리:커머스사이트상품등록관리경력자우대[채용특별우대]\\'중국어가능자특별우대채용[중국내대학졸업우대] -전광판구동프로그램개발-LED전광판응용소프트웨어개발-프로그래밍언어-C/C++,C#,자바스크립트(JavaScript),자바(Java),PHP,파이선(Python)-통합개발환경-비쥬얼스튜디오커뮤니티버전(C/C++,C#),QT프레임워크,QT크리에이터,안드로이드스튜디어등 ㆍ사업수행및정보통신공사공무업무■담당업무:1.자사솔루션(M2M기반지능형함체운영관리시스템,LoRa무선통신시스템등)구축및정보통신공사2.정보통신공사설계및제반사항3.정보통신공사공무및현장관리감독4.현장작업관련서류작성및관리■우대사항:관급또는도급공사유경험자,문서작성우수자,차량소지자,운전가능자■관련전공:無■근무조건:1.근무시간:09:00~18:00(평일/주5일)2.근무조건:면접후협의3.근무장소:전북전주시완산구바우배기2길23,이지빌딩3층(주)첫눈4.고용형태:정규직5.복리후생:4대보험,퇴직연금,상여금,성과금,생일자상품권지급,명절상여및선물,경조사지원,청년소득세감면신청및내일채움공제가입가능. 1.모집분야및자격요건============================================================│[주요수행업무]│1)임베디드시스템소프트웨어개발│2)임베디드리눅스커널포팅/디버깅│3)LinuxQT개발S/W개발│(임베디드1명)│[필요조건]│1)학력:대졸이상│2)경력:3년이상│3)공학계열혹은관련전공자│4)Linux기반GUITool개발경력자││[우대사항]│-의료기기S/W개발경험│============================================================2.근무환경1)급여:면접후결정2)근무지역:강원도원주시지정면기업도시로200,의료기기종합지원센터704호3)근무시간:월요일~금요일/09:00~18:00(식사시간포함)3.전형절차:서류전형->1차면접->2차면접->최종합격(면접일정은추후통보됩니다.)4.유의사항:허위사실이발견될경우채용이취소될수있습니다. 자동화시스템설계및개발 -자사솔루션개발-자사솔루션패치및유지관리-SI개발-회사기타업무지원*수습기간3개월적용(급여의90%지급) [회사소개](주)엘앤에이치랩스는심장재활분야의디지털치료제개발을목표로하며,환자들의건강회복을도와주는앱을만들어,심장재활관련서비스의질을높이려고노력하고있습니다.현재개발자4명,디자이너1명,인증관리전문가1명으로구성된저희팀은앱개발및기획을총괄하는기획자를찾고있습니다.[채용포지션]앱개발및기획책임자[주요업무]-Android와iOS앱개발전략수립및관리-Native또는Hybrid앱개발지표설정및개발관리-앱개발프로젝트의전체적인관리및팀협업지원-개발프로세스최적화및개선제안-전반적인APP/SW개발기획및전략수립[자격요건]-컴퓨터공학또는관련분야의학사이상학력소지자-Android및iOS앱개발경험이5년이상인자-Native또는Hybrid앱개발경험-앱개발프로젝트총괄경험자-효율적인코드작성및개선능력-전반적인APP/SW개발기획역량및전략수립경험 솔루션기술지원/소프트웨어테스팅:정보보안/웹컨트롤분야솔루션,소프트웨어테스터업무당사가취급하는솔루션에대한설치및유지보수업무및소프트웨어시험관련한테스터모집합니다.경력자우대합니다. 안녕하십니까?반갑습니다!!저희골든어스는DataBaseIntegration컨설팅,통합설계,실시간동기화및ZeroDownTimeMigration전문기술력을제공하고있습니다.특히,국내대기업들의DataBaseIntegration컨설팅과구축을다수진행한국내최고의기술력을보유하고있습니다.자사에서개발한솔루션인\"OGGExtensionAdaptor\"는출시이후금융권에적용되어안정적인서비스를제공하고있고,고가의OGG인프라를최적의비용으로Kafka와연동하고확장해나갈수있어기업의실시간DataInfra구축에큰축을이루어나가고있습니다.또한,다양한정합성검증기능을제공하는\"SyncChecker\"는,출시이후국내대기업에적용되어복잡한Integration환경하에서도정합성검증과복구서비스를완벽하게제공하고있습니다.골든어스의목표는\"KafkaBasedIntegrationPlatform\"개발과\"DataIntegrationBusiness\"분야의선두주자가되는것입니다.골든어스는수직관계가아닌수평적관계를통하여,실력과인성을쌓고어디를나가든인정받을수있도록지속적으로노력하고아낌없는지원을하고있습니다.CDC/DBMS와더블어자사솔루션들로자사의규모가점점커져가고있으며,사세확장을위한귀한분들을충원하고있습니다.자신의역량을마음껏펼칠수있는분들의많은지원을부탁드립니다.1.주요업무-고객사기술지원업무.DB제품설치및환경구성.DBMigration및튜닝.장애에대한트러블슈팅.고객요청에대한기술응대.사내DB관리등-사내에서신제품및다양한기능테스트-DB&DataIntegration과관련된세미나/교육참석및기술습득2.지원자격요건-Oracle데이터베이스기술지원경력자.Database설치,구성및트러블슈팅가능하신분.마이그레이션및튜닝경험이많으신분-전문대졸업이상자및대리~과장급경력자-상대방을존중할줄알고,여러동료들과적극적으로소통하며협업할줄아시는분(본인만생각하는인성저질이신분은절대사양합니다)-항상배움의자세로임하며,자신의부족한부분을적극적으로채울수있는분(몰랐던것은죄가아니나,알려고하지않는자세는사양합니다)-고객사외근및업무지원에대한부담감이없으신분3.우대사항-관련자격증소지자(OCP등)-MySQLDB경력자-OracleGoldengate기술지원경력자(모르셔도배우고자하는의지는우대합니다)4.마감일및근무지-채용인원:1명-마감일:상시-근무지(본사):서울금천구가산디지털1로142(더스카이밸리1차)고객사:요청에따라각고객사로직출할수도있습니다.5.사내복지-심야교통비,식대지원-다양한경조사에대한경조지원금및유급휴가-설,추석명절선물지급-4대보험및종합건강검진지원-업무에영향이없는자유로운연차/반차사용권고-RemoteWork제도운영-시차출퇴근제도(08:00~10:00사이원하는출근시간선택가능)-연차,직급과무관한역량지향적업무문화 담당업무-설계(OLED,진공부품및장비설계)자격요건-학력:대졸이상(2,3년)-경력:경력7년이상우대사항-공학계열-해당직무근무경험 [담당업무]파워빌더개발및유지보수[자격요건]학력:학력무관경력:경력3년↑-MSSQL,MySQL-버전관리툴경험(SVN,GIT등)-엔지니어와의커뮤니케이션 공통자격요건ㆍ학력:무관사업기획0명※담당업무-정부과제사업계획서및문서작성(기획및설계,제안서,발표자료,결과보고서작성)-R&D중장기기술기획및전략수립-정부용역사업계획서및문서작성-시장조사및사업기획-사업관리▶자격요건-유관업무경력자ㆍ정부재단법인사단법인관련업무종사자ㆍAR·VR·MR·XR메타버스관련사업유경험자▶우대사항-인문학분야에대한지식과이해력이높으신분-IT기술에대한전반적인이해도가높으신분-자신의역할에책임감가지고임하시는분-배움에망설임이없고,새로운기술,새로운공부에적극적이신분-업무관련기술/활동분야AR·VR·MR·XR메타버스,DigitalTwin,3DVirtualization,ImmersiveMedia등더궁금하신내용은담당자에게문의주시면친절히안내해드리겠습니다.주식회사디엠스튜디오경영팀 회로개발-2명(경력직)*MCU을사용한Main회로개발*LCD/SMPS/USB/WIFI등주변회로개발경험자우대(신입)*전자공학계열펌웨어개발-2명(경력자)*C를사용한임베디드프로그램개발*LCD/USB/WIFI등주변회로개발경력우대(신입)*C사용경험자 지원자격ㆍ경력:6년이상우대업무내용ㆍ프로그램설계요구사항을고려하여기본구성및아키텍처설계ㆍJAVAspring기반API개발자격요건ㆍJAVASpring프레임워크사용경험ㆍ웹서비스구축,설계ㆍ개발팀(총3인)리드역량우대조건ㆍ적극적으로문제를찾고논리적사고로해결해나갈수있는분ㆍ긍정적으로생각하고커뮤니케이션할수있는분ㆍNode.js사용경험우대ㆍ개발팀리드경험 ■채용분야:-WEB개발가능자(HTML,SPRING,JSP,JAVAScript)-프로그래밍개발,-빅데이터,네트워크,-어플리케이션구현-라즈베리파이,아두이노-IOT프로젝트(앱구현등)상기직종의직업훈련가능하신분채용합니다. *(과정평가형)정보처리산업기사과정훈련및자격취득교육*직업훈련과정운영및훈련생관리*과정평가형자격취득전반업무*직업훈련운영관련행정업무일체*직업훈련교사자격소지또는근로자직업능력개발법시행령제27조각호의어느하나에해당하는사람*훈련교사보수교육이수자(기초2시간,기본12시간)*관련학과및경력자우대 업무내용:자동화제조장비제어소프트웨어개발업무모션제어(모터),머신비젼,레이저제어소프트웨어개발업무보유기술:C#,C++(MFC)언어개발가능자운전가능자연봉40,000,000이상협의가능 1)오라클데이터베이스운영2)서버(Windows/Linux외)기본설치및기술지원3)(IT솔루션운영을위한)DBMS기초기술지원(MS-SQL.Oracle,MySql외)*IT관련학과우대,관련자격증보유구직자우대,운전면허보유우대[IT기술지원>기술지원요청관리]기술지원요청접수하기,단순문의대응하기,기술지원진행상태관리하기[IT기술지원>시스템장애대응]장애대응방안수립하기,고객시스템장애처리하기,장애처리결과보고하기[IT기술지원>시스템점검관리]점검체크리스트작성하기,시스템점검수행하기,점검결과보고하기[IT기술지원>기술지원이슈관리]기술지원이슈분석하기,기술지원해결방안설계하기,기술지원이슈진행관리하기[IT기술지원>시스템유지보수관리]시스템유지보수수행하기,기술문의대응하기[IT기술지원>시스템장애대응]장애대응방안수립하기,고객시스템장애처리하기,장애처리결과보고하기[IT기술지원>시스템개선대응]개선방안수립하기,개선방안처리하기,개선결과보고하기[IT기술지원>시스템점검관리]점검체크리스트작성하기,시스템점검수행하기,점검결과보고하기[IT기술지원>시스템형상관리]형상관리계획수립하기,형상데이터베이스구축하기,형상추적통제하기[IT기술지원>시스템유지보수관리]시스템유지보수수행하기,기술문의대응하기 우대사항-공학계열,기계/전기/전자생산조립/자재발주/공정관리/생산스케쥴관리/CAD 자체솔루션에적용할Web서버-FrontEnd개발자를찾습니다.자체솔루션부분이고파견/용역아닙니다.경력3년이상,GO,JAVA자유롭게사용가능해야합니다.우리는Webix라는UI툴을사용하는데경력자면더좋겠지만필수는아닙니다.근무시간은협의가능합니다. Software테스팅및QA수행및릴리즈Linux/MS-Windows에서JAVA/Python/Shell개발가능자자체솔루션부분이고파견/용역아닙니다. 디스플레이및반도체등의장비에서PC기반구동/제어등SW개발및유지보수ㆍ장비제어프로그램S/W개발(C#/C++디버깅,Process/Sequence및U구성등)ㆍScanner를이용한레이저S/W개발ㆍ머신비전,영상처리,자동화비전검사S/W개발ㆍ설비자동화S/W유지보수.-디스플레이/반도체/2차전지등설비(장비)구동,운용등소프트웨어개발,디버깅,유지보수등전반적인S/W업무.-차장급이상우대/주임~과장급도채용중.-Display,LASER,반도체장비등유관업종우대•반도체/디스플레이관련LASER설비경험자•C++/C#•PC기반제어/UMAC모션제어/PLC제어경험자•Scanner제어(Scanlab)경험자로OnTheFly가능자우대 우리테크에서혁신적인도전을같이할프로그래머를찾습니다.우리테크는웹개발에필수요소인그리드및리포트,차트등의UI컴포넌트를개발공급하고있습니다.자제제품을활용한신규웹서비스개발을같이할개발자를모집합니다.Javascript및Typescript를사용한웹서비스개발경험이있거나관심있는분은지원바랍니다.당사는패키지SW판매및서비스만을사업으로하며SI등외부프로젝트를전혀하지않습니다. [개발환경]OS:리눅스S/W(웹환경)-백엔드:c,php,python,shell-프런트엔드:HTML,CSS,JavaScript[필요skill]-OS설치및개발환경세팅가능할것-간단한웹프로그래밍가능할것(백엔드,프런트엔드)[우대사항]전자제품개발경력우대(산업용,가정용,모빌리티등) ▣공통자격요건ㆍ학력:대졸이상(2,3년)▣담당업무ㆍ전자관련펌웨어개발,임베디드SW개발,IoT및응용소프트웨어개발▣지원자격ㆍ관련경력3년이상(선임연구원,책임연구원급)▣우대사항ㆍ전기/전자공학,컴퓨터/시스템공학ㆍ전기기사,정보처리기사등관련학과자격증우대▣경북위기근로자지원센터채용대행ㆍ문의054-602-0792실업급여구직활동인정을위한입사지원은지양해주시기바랍니다. 1]*회사소개(주)티파이브온라인은서울시금천구가산디지털2로IT캐슬에위치한발주처인대기업(현대/삼성/국민은행등)계열사의SI/SM/솔루션응용소프트웨어개발및공급IT전문기업으로소프트웨어개발은물론모바일플랫폼/모바일및웹SI어플리케이션개발에이르기까지다양한분야에서기여하고있으며이에당사에서웹응용프론트엔드및백엔드개발을담당하실개발자를모집하오니많은지원바랍니다.-------------------------------------------------------------------------------------2]*담당업무-모바일및웹-응용프론트엔드&백엔드개발3]*자격요건(경력3년이상)-[프론트엔드]1)Angular/React/Vue.js중1개이상사용경험자2)HTML5/css/자바스크립트에대한활용역량보유자3)모바일웹/앱또는하이브리드앱개발경험보유자-[백엔드]1)자바/스프링부트/스프링프레임워크이용및개발가능자2)웹서비스에대한이해와데이터모델링설계경험자3)자료구조/WAS/웹서버에대한기본지식보유자-------------------------------------------------------------------------------------4]*급여:연봉3500~6000만원(면접후협의가능)5]*우대사항1)유관업무경력자2)FullStack개발능력및경험보유자 연구소정직원모집(임베디드시스템F/W개발)-임베디드DigitalHardware이해중이상-Atmega,MSP,STM등의8,16,32bitMCUFirrmware개발경력자-OA가능(워드,엑셀,파워포인트)-포토샵,일레스트레이터능숙자우대 안녕하십니까2019년에설립되어현재레이저사업부와물류하역기계사업부가같이성장하고있는코리아인더스입니다.현재레이저사업부18명물류하역기계사업부6명재직중이며레이저사업부는:안산시단원구첨단로45(자가500평)에위치하였습니다.최신형바이스트로닉절곡기2대/바이스트로닉스마트파이버6kw1개/트럼프Co26KW레이저/1.0kW레이저용접기2대를구비하고있습니다주요생산품목으로는:반도체,LCD,이차전지관련장비판금,레이저,frame제관을전문적으로생산하고있습니다.물루하역기계사업부:화성시서신면전곡산단5길10(자가540평)에위치하고있으며주고객사로는현대제철,현대자동차,포스코,국내발전소(5대발전소및한수원)에대한이송장치,CRANE,HOIST,특수GRIPER등고객사가원하는조건에맞게끔설계제작시공을턴키시공을하는업체입니다.2019년에설립하여매출액2019년6억2020년15억2021년37억2022년78억으로많은성장과확대를하고있습니다.현재레이저사업부신장및지변확대로인하여신규인원을구인공지하오니많은지원바랍니다.지원분야:레이저사업부설계팀(FRAME,소제관,판금)PART1명지원자격ㆍ경력:경력10년이상(대리,과장)제관설계가능자ㆍ사용프로그램:렌텍ㆍ사용기계:TRUMF40506KW/BYSMARTFIBER6KWㆍ제시연봉:5000만원~협의가능(대리-과장)(특근시비용지급)ㆍ근무시간:평일08:00~20:00사내복지:국민연금,고용보험,산재보험,건강보험,퇴직연금휴무:경조휴가,노동절휴무,창립일행사보상,수당:장기근속수당,우수사원포상제도(연4회),직책수당사내시설:기숙사지원,구내식당편의:건강검진,아침/점심/저녁식사지원,근무복지원,휴게시설마련기타:여름휴가,자유복장,회의실,회식강요없음,사무용품지급 담당업무ㆍ소프트웨어개발WEB,Mobile,MSA,Cloud개발지원자격ㆍ경력:소프트웨어개발4년이상우대사항-컴퓨터공학전공또는관련IT학원수료-형상관리툴(Git)사용경험-MariaDB,Postgresql등의Database를활용한프로젝트경험-React.js,Vue.js등을활용한SPA프로젝트경험-Java,Node.js등을활용한RestAPI프로젝트경험-오픈소스소프트웨어에대한관심및활용경험 [어떤일을하게되나요?]•PL업무수행•서비스백엔드개발및운영•확장성있는백엔드API설계및개발•기존서비스유지/보수[이런분을찾고있어요!]•전공:관련학과전공자•Spring개발경력5년이상•SpringBoot개발가능자•oracle경험자•JSP,JavaScript,Jquery,Ajax개발가능•Mybatis사용가능•RestAPI개발경험보유[이런분을선호해요!]•PL직무경험보유자우대•SI프로젝트유경험자우대•MVC패턴경력보유자우대•Git등분산버전관리능력보유자우대[어떤복지가있나요?]•사유가필요없는자유로운휴가문화•허기를달랠수있는음료,간식무제한제공•업무효율을높여주는자율복장착용•도서구입비무제한지원•외부교육및세미나지원•청년내일채움공제지원•청년중소기업소득세감면제도•경조금,경조선물및명절선물지급※채용프로세스를알려드려요•서류전형＞개발인터뷰＞최종합격•지원자의이력및경력사항에따라일부면접과정이생략되거나추가될수있습니다.※참고사항•문의사항:interline30@naver.com•지원서류:자유양식의이력서(필수),포트폴리오(선택)•해당공고는수시채용으로,채용완료시조기에마감될수있습니다.•입사지원서류에서허위기재사실이발견될경우,입사가취소될수있습니다.•해외여행결격사유가있을시,입사가취소될수있습니다.•필요시회사는귀하가제공하시는이력서를기초로평판조회(레퍼런스체크)를시행할수있습니다.이에동의하시는경우이력서를제출해주세요.•입사후3개월간의온보딩(수습기간)이진행됩니다.온보딩기간동안의급여는100%지급됩니다. 연구개발+펌웨어[광센서기기개발>광센서기기펌웨어구현]펌웨어요구사항분석하기,펌웨어개발환경구축하기,펌웨어코딩하기,펌웨어검증하기 [어떤일을하게되나요?]•PL업무수행•서비스백엔드개발및운영•확장성있는백엔드API설계및개발•기존서비스유지/보수[이런분을찾고있어요!]•전공:관련학과전공자•Spring개발경력5년이상•SpringBoot개발가능자•oracle경험자•JSP,JavaScript,Jquery,Ajax개발가능•Mybatis사용가능•RestAPI개발경험보유[이런분을선호해요!]•PL직무경험보유자우대•SI프로젝트유경험자우대•MVC패턴경력보유자우대•Git등분산버전관리능력보유자우대[어떤복지가있나요?]•사유가필요없는자유로운휴가문화•허기를달랠수있는음료,간식무제한제공•업무효율을높여주는자율복장착용•도서구입비무제한지원•외부교육및세미나지원•청년내일채움공제지원•청년중소기업소득세감면제도•경조금,경조선물및명절선물지급※채용프로세스를알려드려요•서류전형＞개발인터뷰＞최종합격•지원자의이력및경력사항에따라일부면접과정이생략되거나추가될수있습니다.※참고사항•문의사항:interline30@naver.com•지원서류:자유양식의이력서(필수),포트폴리오(선택)•해당공고는수시채용으로,채용완료시조기에마감될수있습니다.•입사지원서류에서허위기재사실이발견될경우,입사가취소될수있습니다.•해외여행결격사유가있을시,입사가취소될수있습니다.•필요시회사는귀하가제공하시는이력서를기초로평판조회(레퍼런스체크)를시행할수있습니다.이에동의하시는경우이력서를제출해주세요.•입사후3개월간의온보딩(수습기간)이진행됩니다.온보딩기간동안의급여는100%지급됩니다. 주식회사WeKorea는2021년8월설립된회사로서,한국에거주하는외국인을대상으로페이스북과인스타그램등의SNS를통하여통신/의료에이전시/식료품판매/화장품쇼핑몰을통해판매하는회사입니다.현재까지는페이스북/인스타그램을통한sns마케팅으로만영업활동을해왔으나,사세확장으로모바일어플케이션또는반응형홈페이지를제작하고자합니다.1.담당업무-모바일어플레키에션또는반응형쇼핑몰홈페이지제작-어플레케이션또는홈페이지관리-데이터관리-웹디자인-웹개발2.우대사항-플래시및코딩-포토샵일러스트레이터-동영상편집3.지원사항-식대지원-차량유지비지원(차량출퇴근시)-근속에따른휴가및월차-탄력적근무08시~17시또는09시~18시/경력에따라일근무시간6~7시간으로조정-명절및각종생일지원금4.기타-스타트업이나월매출이2억원가량이며모기업이건설회사로근속보장은확실합니다.-일8시간근무가원칙이나,경력에따라주에할당한본인의근무를완료한다면자유시간을보장합니다.-페이스북및인스타그램의메신저로주문을받고배송을하는시스템을모바일어플리케이션또는반응형홈페이지로제작하여보다신속하고효율적으로업무를진행하고자하며,이를이해하고앱또는웹을개발및디자인할수있어야합니다. 위도우즈기반응용소프트웨어개발-자동화설비제어소프트웨어개발-영상처리소프트웨어개발 웹.모바일퍼블리싱관련업무및유지보수전반적인UI개발(HTML/CSS/javascript)학력/성별:무관경력:5년급여:회사내규에따름 담당업무ㆍSmartFactory구축ㆍ당사ERP솔루션개발및유지보수 1.모집분야:프론트앤드/백앤드2.지원자격[신입]-학력:초대졸이상-JAVA기반의백엔드,HTML사용가능한자-타부서와의원활한커뮤니케이션가능한자-자사보유홈페이지관리-급여조건:협의[경력]-학력:초대졸이상-경력:5년이상/경력자우대(또는5년이상에준하는역량을보유하신분)-JAVA기반의백엔드개발및Linux기반의Server개발가능한자-Springboot또는프레임워크기반의서버개발가능한자-WebSocket기반의서버개발가능한자-클라우드서버구축및운영가능한자(AWS,Azure)-타부서와의원활한커뮤니케이션가능한자3.우대사항-host,guest개념의서비스에서최적화및효율성을검토한DB설계경험자-Nodejs,React를이용한데이터통신(REST,Socket)백엔드경험자-AWS환경특색을이해하고,다양한옵션을사용해본경험자-JAVA외에php,asp등의서비스유지보수경험자-DB데이터기반의다양한데이터통계추출경험자-성능결과에대한분석및디버깅가능한자-긍정적이며자기주도적인성장이가능한자-급여조건:협의4.근무조건-근무형태:정규직-근무일시:09:00~18:00(월~금) ▶IBM,Lenovo,HP,Dellx86서버,Solaris등▶전산시스템(서버,네트워크등)구축및유지보수업무▶장애대응방안수립,고객시스템장애처리,장애처리결과보고▶시스템유지보수수행,기술문의대응▶유지보수계획하기,유지보수하기,이력관리하기▶리눅스서버구축하기,윈도우서버구축하기,서버가상화구축하기,Cloud서비스활용하기 <인천북부고용센터채용대행서비스구인>※직무내용을상세확인하시고,입사지원희망자는‘워크넷입사지원’을통해지원바랍니다.(포트폴리오는첨부파일로등록)-------------------------------------------------------[라이징크래프트]프로젝트기획자채용(경력직)-경력(3년이상)/포트폴리오제출필수-기본적인문서프로그램(MSOffice)를사용가능하신분-Unity/Unreal기반프로젝트경험있으신분-Figma툴사용가능자[담당업무]-제안서및기획안작성-XR관련콘텐츠기획/설계(요구사항분석,화면설계서작성)-UI/UX기획-시스템기획실무및관리-콘텐츠기횟실무및관리-컨셉기획실무및관리[우대사항]-Unity/Unreal지식이있으신분-XR프로젝트개발경험이있으신분-유연한사고와원만한커뮤니케이션능력을지니신분-팀워크를중시하고열정이뛰어나신분-긍정적인마인드를지니신분관련포트폴리오를제출해주세요. ★응용시스템개발/운영1명담당직무ㆍERP신규도입및관련업무ㆍMES/POP개발,운영,유지보수ㆍ사내IT응용시스템프로젝트운영관리★ITInfra운영1명담당직무ㆍ방화벽,인터넷,Server,Network,PC및주변장치관리ㆍITInfra신규설치및프로젝트진행ㆍ장애응대★공통우대자격ㆍIT,전산,컴퓨터/시스템공학,정보통신관련전공자ㆍ네트워크,보안관련교육이수자ㆍ해당직무근무경험,운전가능자 담당업무ㆍ개발언어및스킬조율ㆍ어느한가지이상의개발언어에능통ㆍ웹앱개발,프론트개발ㆍ아마존AWS등클라우드백엔드핵심역량ㆍ계획성,성취지향성,창의성,꼼꼼함,자존감,메타인지자격요건ㆍ학력:학력무관ㆍ경력:경력4년↑우대사항ㆍ본인의실력에자신이있다면어떤형태의근무조건,복지라도조율가능ㆍ컴퓨터/시스템공학ㆍ아마존AWS등클라우드ㆍDocker사용ㆍ영어능통자,문서작성우수자 국립대학교관리시스템시스템운영엔지니어를모십니다.1.프로젝트:국립대학교관리시스템운영및관리2.모집분야:서버,스토리지,SW(미들웨어,DBA)분야등3.관련자격:관련분야자격증보유자우대4.해당경력:3년이상경력자 \"[오스랩스의기업문화와가치]오스랩스는앞으로더나은연결기술과정보를제공하여서로를연결하는방식을바꾼다는비전을가지고있습니다.이를위해,직원들이자유로운분위기에서창의적인사람들과함께지속적인성장의기회를얻을수있는기업문화를만들고자합니다.\\'연결\\'이라는키워드를기반으로인증,에듀테크,헬스케어,인사관리,스마트팜,홈스페이스등의다양한분야에서솔루션과서비스를제공하는경험을할수있습니다.[오스랩스의혜택및복지]1.기념일/보상:생일휴가&생일선물,명절선물,기념일상품권(말복,크리스마스),경조사지원,성과급등...2.자기계발/여가를위한지원:도서구입비,온라인강의교육(50종이상),사내동호회,워크샵등...3.편안한휴식공간과간식제공:휴게실,직접고르는간식,게임(PS,Golf,아케이드,보드),안마의자,스타일러,커피머신,제빙기등...4.직원들의건강과편의:전직원대상임원급종합건강검진,유연근무제도등...항상직원들의목소리에귀기울이고더나은복지와업무환경을제공하기위해노력합니다.\"[담당업무].Unity3D프로그램을활용한app,web개발.메타버스제작.VR,AR콘텐츠개발.가상공간멀티유저동기화처리기술개발.아바타및메타버스공간구현.NFT프로젝트.교육콘텐츠게임개발[자격요건].Unity3D엔진기반메타버스플랫폼구축.C#언어에대한이해와활용.Unity3D엔진을이용한인터렉티브프로그래밍.각종자료구조(DataStructure)에대한높은이해도.3D오브젝트컨드롤/서버통신/데이터처리.리더레벨:경력5년이상[우대사항].관련학과전공자.게임또는메타버스서비스개발및관리경력.3D그래픽스(좌표계변환,행렬,벡터)에대한이해가있으신분.실시간네트워크개발경험(TCP,phonton,ProudNet등).Unity엔진활용콘텐츠제작경험자.Unity오픈소스활용개발경험자.AR,VR기술에대한이해를가지신분.물리엔진개발경험자.Playsotre/Appstoreapp(Product)등록경험.Git및협업Tool능숙자.Networking환경구축경험자.외부Plug-In및C#활용프로그램개발경험자.안드로이드&iOS기반개발경험자 -학사,공학계열,AI관련과-국책과제우대-AI전공자우대-회로개발 ▶리눅스환경에서웹서버관련개발경험자우대합니다.▶적극적으로업무에임하는자세를가진분이면환영합니다.▶신입도지원가능하고,경력자일경우3년이상인자부터우대적용됩니다. 당사는조달마스등록제품CCTVPOLE금속통신장비및CCTV기자재를제조생산하는기업입니다.AUTOCAD를이용하여금속구조물을제품설계전개관리하는업무입니다.사업확장추가인원을고용하고자합니다.경력은3년이상제품설계전개홈페이지웹관리가능하신분우대합니다. [담당업무]ㆍ마젠토(Magento)서버개발및유지보수ㆍGit을사용한버전관리ㆍPHP,Javascript,Mysql,HTML,Magento2ㆍ의류B2B프로그램개발및유지보수 -연구개발직(임베디드,DSP,메카트로닉스제어)-경력자우대 <담당업무>-회로설계-펌웨어개발-자사제품개선<자격요건>-학력:초대졸이상-경력:경력3년↑(1명)-회로/PCB설계경험자-펌웨어C프로그래밍경험자<우대조건>-OS기반펌웨어개발경험-네트워크기반의제품개발경험-멀티미디어,통신제품개발경험-전자,IT관련산업기사/기사보유자(전자/임베디드/정보처리등)-정보통신기술자경력수첩보유자<급여조건>-경력에따라다름(면접후결정) 저희리치앤타임(주)는솔루션공급,시스템통합(SI),시스템운영및관리(SM)등을주사업으로하는IT전문기업입니다.국내50개협력사와400개이상의고객사를보유하고있으며,금융,공공,제조산업기관및기업등을대상으로시스템구축을전문으로하는기업으로,저희와함께할인재를모집하고있습니다.-모집분야:JAVA개발자-담당업무:MES개발-자격조건:초대졸이상-필수사항:JAVA언어활용가능자많은지원바랍니다 -Python을사용하여RPA개발-삼성SDSBrityRPA사용하여RPA개발-HTML및Java등을이용하여웹서비스개발 인공지능AI기반의의료솔루션컨설팅및영업솔루션메뉴얼작성및지원 “우리는국내주차장디지털화1위를목표로나아가고있습니다”탄력주차는주차장효율극대화를통해쾌적한도로문화를형성하고삶의질을향상시키기위한플랫폼입니다.공간정보이용한주차면의디지털화한모든주차면의위치(위도/경도),주차가능시간등모든정보를디지털화하고이정보를바탕으로친환경디지털주차공간을제공합니다.주차면에차량이입,출차시초정밀GPS보정시스템(SBAS)을활용해실시간으로주차현황을수집하기때문에주차공간을탄력적으로관리할수있습니다.주차공간관리,주차이용및결제,부정주차단속까지통합적으로관리할수있는솔루션을제공하고있습니다.담당업무ㆍ탄력주차서비스기획고도화및신규서비스기획ㆍ웹및모바일서비스기획ㆍ사용자요구분석을통한서비스개선업무ㆍ사업기획서및R&D사업계획서업무자격요건ㆍ학력:초대졸이상ㆍ경력:경력ㆍ웹및모바일서비스기획능력이있으신분ㆍ사용자의요구사항분석능력이있으신분ㆍ개발에대한지식과이해도를기반으로개발조직과원활한협업경험있으신분우대사항ㆍ서비스기획초기부터출시까지참여경험이있으신분ㆍ소통능력이뛰어나신분ㆍ능동적이며커뮤니케이션에적극적인분ㆍ스타트업근무1년이상경험이있으신분ㆍ유사서비스경험하신분기타사항ㆍ탄력근무시행ㆍ업무성장을위해교육비지원 웹개발경력자를모십니다.-JSP,Java-전자정부프레임워크-ReactJS 1.주요업무:모바일애플리케이션개발(암호화폐,NFT,DID용블록체인지갑및관련)2.자격요건-Android및iOSUX/UI에대한이해-REST-API개발경험-모바일데이터베이스개발경험-Android:Kotlin,iOS:Swift-Flutter/ReactNative개발경험3.개발환경-Slack,Jira,Confluence,Figma,GoogleSuite,github,Jenkins,SonarQube-Swagger4.매주금요일오전근무5.2024년1월부터사무실강남이전예정 1.주요업무:백엔드개발(암호화폐,NFT,DID용블록체인연동및관련서비스)2.자격요건-Java/SpringBoot/Thymeleaf-NodeJs,TypeScript-REST-API-MSA개발경험-MySQL/MariaDB3.개발환경-IntelliJS또는VSCode-Ubuntu-Docker-AWS:EC2,S3,CloudFront,Route53,ECS,CloudWatch-Grafana,Prometheus-Redis-RabbitMQ-JPA/MyBatis-Slack,Jira,Confluence,Figma,GoogleSuite,github,Jenkins,SonarQube-Swagger4.매주금요일오전근무5.2024년1월부터사무실강남이전예정 소프트웨어개발앱개발펌웨어라즈베리파이[임베디드SW엔지니어링>펌웨어구현]하드웨어테스트SW구현하기,부트로더구현하기,소스코드인스펙션하기 담당업무-S/W(UI,통신,분석)개발-MCU제어,Serial/Ethernet통신개발-반도체공정활용모니터링장비소프트웨어개발-수신광신호자동분석프로그램의연산과정최소화개발-광정렬장치알고리즘개발-LinuxQT환경개발자격요건-C/C++/QT프레임웍가능자-임베디드시스템소프트웨어개발-원활한의사소통이가능한제조업개발경력3년이상인자.우대사항-관련전공자우대(전기/전자/제어/컴퓨터공학관련계열)-제어소프트웨어개발경력자-업무관련자격증취득자우대-LIN/UART/I2C/485/PLC통신제어경험-환경계측기개발경험자우대-즉시출근자우대 온라인판매원홈페이지관리자모십니다쿠팡네이버페이스토어지마켓매출관리자상세페이지키워드관리 홈페이지간리자분모십니다홈페이지관리하면전산관리하실분모십니다쿠팡네이버스토어배민상회자사몰홈페이지상세페이지등록및배출관리자분모십니다 -PHPJAVA활용한웹사이트제작(매물정보플랫폼사이트제작)-유지보수 모집부문및상세내용[주요업무]-모바일앱개발환경구축-DB설계및SQL쿼리작성-안드로이드및iOS하이브리드앱개발-앱테스트및배포-앱유지보수및업데이트[자격조건]-3년이상의하이브리드앱개발경험-관계형DB설계및효율적인SQL쿼리가능-백엔드담당자로숙달된개발언어가있으신분-JavaScript에대한경험-HTML및CSS에대한경험[우대사항]-ReactNative또는Cordova에대한경험-Java또는Kotlin에대한경험-AndroidStudio또는Xcode에대한경험-GoogleCloudPlatform또는AWS에대한경험-앱마케팅및배포에대한경험-일자리도약장려금대상자우대[근무조건]-급여:면접시협의-근무시간:월~금,09:00~17:00-근무지:충북청주시흥덕구직지대로436번길76,직지스마트타워803호-복리후생:4대보험,중식비지원,주차비지원,교육비지원,건물내헬스장지원등[지원방법]-워크넷지원또는이력서및자기소개서를mj_yj@mjosc.co.kr로보내주시기바랍니다.-지원시포트폴리오또는경력증명서를첨부해주시기바랍니다.[문의]-이메일:mj_yj@mjosc.co.kr-전화:010-6755-8878 [주요업무]-모바일의게임로직/툴/UI코드를작성합니다.-작업명세서(게임디자이너가작성한기획서나다른프로그래머가작성한사양서등)를읽고설계&구현합니다.-작업명세서에서빠져있거나잘못된부분을찾아내고,토론을거쳐개선합니다.-동료들이게임을만드는일을효율적으로할수있도록작업환경을만들고개선합니다.[지원자격]-본인이이해한바를잘설명할수있고,이해하지못한것에대해서는적절하게질문할수있는커뮤니케이션스킬을가지신분-요구사항을잘파악하고,파악한내용을글로조리있게쓸수있고,그에맞춰개발할수있는분-코드로구현된게임규칙이실제게임플레이로어떻게이어지는지상상할수있는분[우대사항]-복잡한문제에대해간결한해결책을찾아낼수있는분-모르는것을배우는데적극적이고,배운내용을정리하고공유해서조직전체의발전에긍정적인영향을미칠수있는분-주어진요구사항이나온배경(의도)을이해하고,그에맞춰비용이나효과면에서더나은해결책을제안할수있는분-컴퓨터공학학위혹은그에준하는지식이나경험을가지신분-게임로직을개발하는과정에서동료들과커뮤니케이션을원활하게진행할수있을정도로MMORPG를이해하고있는분 【경북아웃플레이스먼트페스타】▶행사일시:2023.6.21.(수)14:00~▶장소:김천실내체육관(경북김천시운동장길1)▶준비물:주민등록증,이력서,자기소개서등▶참여방법:워크넷구직신청→이력서지참→행사당일현장면접참여****************행사당일(6/21,수)현장면접참여하시면됩니다****************▶직무내용:S/W개발,C언어,안드로이드개발,기구설계,과제기획등의업무▶자격요건:C언어사용가능자,Android앱개발가능자,경력3년이상필수▶근로조건-주5일근무/09:00~18:00(업무상황에따라초과근무발생할수있음)-연봉3,500만원이상(면접후경력과능력에따라협의조정가능)▶근무지:경북김천시아포읍아포공단길106※채용관련문의:054-470-8588 담당업무ㆍ해양용통신장비SW개발:안드로이드AOSPorSTM32C/C++Java기반ㆍ해양용레이더및디스플레이장비UI개발:안드로이드AOSPJava기반학력요건ㆍ4년제대학졸업ㆍ컴퓨터공학/전자공학등유관학과졸업혹은SW개발관련교육과정수료필수사항ㆍ안드로이드기반SW개발경력우대사항ㆍ차량및CAN통신유경험자ㆍSTM32유경험자ㆍ해양용레이더및항법용디스플레이/플로터개발경력회사소개에코트로닉스(주)는1991년에설립된이래로33년간해양용전자장비개발및생산의외길을걸어온해양전자장비전문업체로업계글로벌1위업체인일본FURUNO사와창사이래로긴밀한파트너쉽을이어오고있습니다.당사는사원수90명규모의고용노동부선정강소기업이며2023년대통령미국국빈방미를수행하였던122개중소기업에선정된바있습니다.본사및연구소는제2판교테크노밸리소재신축사옥으로2023년봄입주를완료하였습니다.금번채용포지션은정규직연구원으로주근무지는제2판교테크노밸리본사소재연구소이며FURUNO일본본사와미국지사와의협의하에FURUNO사의제품을개발하는업무를담당하게됩니다.해양용전자장비는장시간의해양환경을견뎌야하는높은신뢰성과내구성이필요한장비이므로빠른개발보다는높은완성도를추구합니다.따라서FURUNO사와의협업하에서장기간의안정적인스케줄에따라전체개발과정이진행관리되어잔업및야근이필요한경우는거의없습니다.추가로FURUNO사와의협업과제외에도당사연구소는정부과제의일환으로유관학계와협력하여AI자동항법장치등해양선진기술연구및개발업무를진행하고있습니다. 업무내용ㆍ웹개발ㆍ개발프로젝트영업및관리ㆍ신규시장개척및신규아이템발굴ㆍ파트너확보를위한영업활동ㆍ영업기획및운영시스템구축지원조건ㆍ공학계열전공자ㆍ개발실무3년이상경력자ㆍ웹개발및운영및기획에대한지식이있으신분ㆍCSS,HTML5,JAVA,javascript.,Linux지식이있으신분ㆍ작업자들과의소통이원활하신분ㆍ서비스에애정을갖고성장시키실분근무조건ㆍ근무형태:정규직(수습기간3개월)ㆍ근무지역:전남무안군삼향읍남악3로71,상가동203호ㆍ타지역에거주하시는분이근무하게될경우숙소제공 1.공공프로젝트시스템분석,설계,개발경험자1)NexacroPlatform기반시스템2)전자정부프레임워크3)ProjectLeading가능자(PL)4)PL경험보유자 데이터분석,AI프로그래밍AI를활용한영상처리프로그래밍머신러닝딥러닝 1.응용SW, □운영선임연구원(2명)·H/W및가상화S/W운영및관리(장애발생시제조사요청,예방점검지원등)·보안시스템운영및관리,시스템매뉴얼제작(방화벽,UTM(통합보안장비)등)·시스템해킹시도탐지및대응(유해IP차단및현황관리등)·4년제대졸후경력만2년이상□기타사항·유사경력자가능·입사시정규직으로채용가능(연봉협의월300부터,협의가능)·“소프트웨어기술자“의범위는”소프트웨어진흥법시행령제2조“을따름 담당업무:-STM32bitCore기반펌웨어개발-반도체,디스플레이설비제어기기용모터드라이버,IO모듈제어-EtherCAT/EtherNet유선통신경험자우대 주요업무효율적이고안정적인서비스운영을위한클라우드,온프레미스서버운명및데이터를관리합니다.서비스모니터링,로그분석,장애대응을위한모니터링시스템구축및운영을합니다.소프트웨어테스트,배포자동화를위한개선을합니다.데이터베이스에대한개발지원과운영을합니다.미래의추가적인수요를고려하여확장성있는시스템설계및개선을합니다.주어진시스템의자원을최대한효율적으로사용하게끔하기위한성능튜닝및지원을합니다.자격요건2년이상의인프라운영업무능력리눅스시스템에대한운영경험Shellscript,Python중하나이상의작성능력우대사항레드햇(CentOS)계열리눅스운영(설치,관리,튜닝,트러블슈팅)경험클라우드인프라운영경험(NCloud)Oracle,PostgreSQL등다양한DBMS에대한구축,운영경험Redis,Kafka,Elasticsearch등오픈소스플랫폼에대한구축,운영경험대용량처리인프라서비스에대한개발및구축,운영경험Docker,XenServer등가상화솔루션에대한구축,운영경험빌드(Maven),테스트(Junit),배포자동화(Jenkins)경험복지및혜택커피머신,음료수,스낵바지원휴게실지원팀별회식비지원매주금요일은2시간의자유로운점심시간3,5,7년근속시리프레시휴가(5일)및근속장려금(백만원)지급생일자하루유급휴가제공경조사(50만,휴가5일)지급설,추석명절10만원상품권제공함께일하는구성원추천시추천자와입사자모두에게50만원지급육아휴직지원도서구입비및직무관련교육비용지원자유로운연차사용연관키워드centos,docker,ncloud,xenserver,jenkins,zabbix,elasticsearch,kibana,logstash,oracle,postgresql,redis,kafka,shellscript 담당업무ㆍ데이터분석서비스를개발ㆍ구축된분석서비스의다양한데이터를시각화하기위한UI개발ㆍ분석데이터를제공하기위한API개발ㆍ자동메시지발송을위한알람서버를개발자격요건ㆍJava,JSP,Javascript언어로개발경험ㆍHTML5,CSS기본지식및마크업능력ㆍJQuery사용경험ㆍVueJS,React,Angular중하나이상경험ㆍRestfulAPI를활용한개발경험우대사항ㆍ웹표준,웹접근성에대한적용경험ㆍ검색엔진사용경험ㆍ데이터시각화관련경험ㆍdocker를사용한서비스개발경험ㆍSVG,d3.js,Zingchart등차트라이브러리사용경험사용하는기술ㆍ웹프레임워크로Spring,SpringBoot,Mybatis,웹서버는Tomcat,Apache사용ㆍ데이터저장에는Oracle,PostgreSql사용ㆍ개발언어는Java,자바스크립트라이브러리는JQuery,Vue.JS,KendoUI,Zingchart사용ㆍ데이터를효율적으로분석하기위해오픈소스기반의플랫폼사용(Elasticsearch,Kibana,Logstach)ㆍ소스코드형상관리를위해SVN을사용ㆍ통합,테스트,배포를위해Jenkins를사용ㆍ업무관리를위해네이버웍스,Redmine,Slack을사용복지및혜택ㆍ커피머신,당충전을위한음료수바,휴게실지원ㆍ팀별회식비지원ㆍ매주금요일2시간의자유로운점심시간ㆍ3년,5년근속시리프레시휴가및포상금지급ㆍ부모님생신선물,설/추석명절선물ㆍ야근시저녁식대및택시지원타파크로는빅데이터기술을이용하여소셜데이터속에숨겨진가치를해석하고고객이원하는인사이트를제공합니다.더불어어떻게하면고객들이궁금해하고알고싶어하는정보는무엇일까라는고민을하면서일하는조직입니다.고객이원하는정보를찾을수있도록도움을줄수있는서비스를만듭니다.기술연구소는수집,웹,검색,인프라파트로구분되며2~12년경력을가진멤버로구성되었습니다.직군에국한하지않고본인의흥미로의지가있다면다른업무도지원가능합니다. 프론트엔드개발자경력직모집(1명)담당업무ㆍ서비스(홀덤,포커,고포류)게임개발ㆍ자사서비스웹사이트유지보수및개발ㆍ백앤드,데이터팀,비즈니스팀등다양한직무담당자와의커뮤니케이션을통한협업ㆍ확장성/생산성/안정성을고려하여서비스주요피처(API,Web포함)설계/구현/운영스킬ㆍAPI,CSS,CSS3,GraphQL,HTML,Javascript,Jquery,JSP,Node.js,NoSQL,,,핵심역량ㆍ성장지향성,협동심,성취지향성,성실성,창의성,스트레스내성,적응성,계획성,꼼꼼함자격요건ㆍ학력:학력무관ㆍ웹프론트앤드개발분야관련경력3년이상ㆍReact,Vue.js등의프레임워크개발경험있으신분ㆍPC/Mobile반응형Cross-Browsing,HTML/CSS/javascript이해도가높으신분ㆍ프론트엔드코드구조에대한이해와코드최적화경험이있으며,Webpack등의빌드툴사용경험이있으신분ㆍRESTAPI클라이언트개발경험이있으신분우대사항ㆍ1개이상의서비스를처음부터개발하고운영을통한개선경험이있는분ㆍ콘텐츠빅데이터분야에서의서비스개발경험이있으신분ㆍ웹서비스의전체적인흐름을이해하고설계/개발할수있는분ㆍ다양한디바이스에대응가능한반응형웹구현경험보유자ㆍPython,Node.js등의백엔드기술스택에대한이해도가높으신분 [기능점수를활용한기능점수측정및검증업무]1)소프트웨어(시스템)규모측정2)소프트웨어공수측정3)소프트웨어적정사업기간측정4)소프트웨어비용(예산)측정5)요구사항을활용한기능점수(FP_FunctionPoint)자동화도구(FP-ACT)관리6)프로그램소스를활용한기능점수(FP_FunctionPoint)자동측정도구컨설팅7)정보시스템사업대가(규모,비용,공수,기간등)측정및검증 SI/SM프로젝트경력자분석/설계/개발/테스트JAVA개발자[응용SW엔지니어링>인터페이스설계]인터페이스요구사항확인하기,인터페이스대상식별하기,인터페이스상세설계하기[응용SW엔지니어링>애플리케이션요구사항분석]요구사항도출하기,요구사항분석하기,요구사항명세화하기,요구사항검증하기[응용SW엔지니어링>애플리케이션설계]공통모듈설계하기,타시스템연동설계하기[응용SW엔지니어링>애플리케이션테스트수행]애플리케이션테스트수행하기,애플리케이션결함조치하기[응용SW엔지니어링>프로그래밍언어응용] [반도체장비>반도체장비시스템소프트웨어개발]Library개발하기,MainController개발하기,GUI개발하기[반도체장비>반도체장비시제품성능평가]단위동작별성능평가하기,전장배선성능점검평가하기,세부동작별성능평가하기,전체완성성능평가하기[반도체장비>반도체장비성능평가] *jQuery,MyBatis*JAVA,SpringBoot,JSP,JSTL*서버관리및유지보수 (회사소개)㈜셀빅은2004년에설립된회사로자본금7억원,매출액102억,사원수57명규모의고용노동부에서선정한강소기업입니다.서울성동구성수동1가에위치하고있으며,정보통신공사업,시스템네트워크통합,인터렉티브콘텐츠,기능성게임,AR/MR,인공지능을하고있습니다.(모집분야)응용기술개발부프로그램팀1명(팀장급)(담당업무)1)리드프로그래머*Unity기반의메타버스플랫폼개발*XR(VR/AR/MR)환경의응용프로그램개발*기타프로젝트수행2)팀조직관리(자격요건)-관련업무수행경력(8년이상)(우대사항)-컴퓨터/네트워크공학계열전공-Unity3D를사용한네트워크연동및콘텐츠제작경험-메타버스관련프로젝트수행유경험자-WebGL/WebVR관련프로젝트수행유경험자-정부지원개발과제수행유경험자 [산업용전자기기소프트웨어개발]-시스템소프트웨어설계-소프트웨어구조설계-제어알고리즘설계-응용소프트웨어개발-자동화프로그램개발-애플리케이션설계-프로그래밍언어활용등 Emebeddedsystem,Firmware 1.업무내용-정보시스템구축사업DBA-정보시스템DB설계,튜닝,마이그레이션2.필요스펙-SI구축사업DB설계/기능구현-전자정부프로젝트경험자-전산관련학과졸업/자격증소지자,DB자격증소지자우대-경력증빙가능자(KOSA)3.관련기술-ORACLE,Maria,MySQL,Postgre등DB설계및구현기술-AWS등클라우드DB구현기술*참고-사업실적:https://jmkbuddies.com ■직무내용:전산업무전반(전산프로그램전반)/네트워크관리■경력3년이상우대**문의처:인천시일자리센터032-260-0697'"
      ]
     },
     "execution_count": 52,
     "metadata": {},
     "output_type": "execute_result"
    }
   ],
   "source": [
    "list_work"
   ]
  },
  {
   "cell_type": "code",
   "execution_count": 53,
   "metadata": {},
   "outputs": [
    {
     "ename": "IndentationError",
     "evalue": "unexpected indent (609232981.py, line 4)",
     "output_type": "error",
     "traceback": [
      "\u001b[1;36m  Cell \u001b[1;32mIn[53], line 4\u001b[1;36m\u001b[0m\n\u001b[1;33m    img = np.array(img)\u001b[0m\n\u001b[1;37m    ^\u001b[0m\n\u001b[1;31mIndentationError\u001b[0m\u001b[1;31m:\u001b[0m unexpected indent\n"
     ]
    }
   ],
   "source": [
    "icon = PIL.Image.open('D:\\my_jupyter\\EXAM_WEB_CRAWLING\\project\\bulb.png')\n",
    "img = PIL.Image.new('RGB', icon.size, (255,255,255))\n",
    "img.paste(icon, icon)\n",
    "        img = np.array(img)\n",
    "\n",
    "        wc = WordCloud(font_path=path, background_color=\"white\", max_font_size=200, mask=img, colormap='inferno')\n",
    "        img_wordcloud = wc.generate_from_frequencies(dict(big_text))\n",
    "\n",
    "\n",
    "\n",
    "from\twordcloud import\tWordCloud\n",
    "from\tkonlpy.tag import\tOkt\n",
    "from\tcollections\timport\tCounter\n",
    "import\tplatform\n",
    "okt =\tOkt()\t#\tOpen\tKorean\tText\t객체 생성\n",
    "#\tokt함수를 통해 읽어들인 내용의 형태소를 분석한다.\n",
    "sentences_tag =\t[]\n",
    "sentences_tag =\tokt.pos(list_work)\n",
    "\n",
    "noun_adj_list =\t[]\n",
    "\n",
    "#\ttag가 명사이거나 형용사인 단어들만 noun_adj_list에 넣어준다.\n",
    "for\tword,\ttag\tin\tsentences_tag:\n",
    "    if\ttag\tin\t['Noun'\t,\t'Adjective']:\n",
    "        noun_adj_list.append(word)\n",
    "print(noun_adj_list)\n",
    "#\t가장 많이 나온 단어부터 40개를 저장한다.\n",
    "counts\t=\tCounter(noun_adj_list)\n",
    "tags\t=\tcounts.most_common(40)\n",
    "print(tags)\n",
    "\n",
    "if\tplatform.system()\t==\t'Windows':\n",
    "    path\t=\tr'D:\\my_jupyter\\EXAM_WEB_CRAWLING\\project\\KBO Dia Gothic_TTF\\KBO Dia Gothic_bold.ttf'\n",
    "wc =\tWordCloud(font_path=path,\tbackground_color=\"white\",\tmax_font_size=60)\n",
    "cloud\t=\twc.generate_from_frequencies(dict(tags))\n",
    "\n",
    "plt.figure(figsize=(20,\t10))\n",
    "plt.axis('off')\n",
    "plt.imshow(cloud)\n",
    "plt.show()"
   ]
  },
  {
   "cell_type": "code",
   "execution_count": null,
   "metadata": {},
   "outputs": [],
   "source": []
  },
  {
   "cell_type": "code",
   "execution_count": null,
   "metadata": {},
   "outputs": [],
   "source": []
  },
  {
   "cell_type": "code",
   "execution_count": null,
   "metadata": {},
   "outputs": [],
   "source": []
  }
 ],
 "metadata": {
  "kernelspec": {
   "display_name": "MY_PYTHON",
   "language": "python",
   "name": "python3"
  },
  "language_info": {
   "codemirror_mode": {
    "name": "ipython",
    "version": 3
   },
   "file_extension": ".py",
   "mimetype": "text/x-python",
   "name": "python",
   "nbconvert_exporter": "python",
   "pygments_lexer": "ipython3",
   "version": "3.9.17"
  },
  "orig_nbformat": 4
 },
 "nbformat": 4,
 "nbformat_minor": 2
}
