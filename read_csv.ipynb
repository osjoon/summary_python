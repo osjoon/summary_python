{
 "cells": [
  {
   "cell_type": "code",
   "execution_count": 1,
   "metadata": {},
   "outputs": [],
   "source": [
    "import cv2\n",
    "import os, glob\n",
    "import matplotlib.pyplot as plt\n",
    "import numpy as np\n",
    "import pandas as pd"
   ]
  },
  {
   "cell_type": "code",
   "execution_count": 2,
   "metadata": {},
   "outputs": [
    {
     "ename": "error",
     "evalue": "OpenCV(4.8.0) :-1: error: (-5:Bad argument) in function 'imwrite'\n> Overload resolution failed:\n>  - img data type = 17 is not supported\n>  - Expected Ptr<cv::UMat> for argument 'img'\n",
     "output_type": "error",
     "traceback": [
      "\u001b[1;31m---------------------------------------------------------------------------\u001b[0m",
      "\u001b[1;31merror\u001b[0m                                     Traceback (most recent call last)",
      "\u001b[1;32mc:\\BIG_DATA_\\Opencv\\TF_waste\\read_csv.ipynb Cell 2\u001b[0m line \u001b[0;36m1\n\u001b[0;32m      <a href='vscode-notebook-cell:/c%3A/BIG_DATA_/Opencv/TF_waste/read_csv.ipynb#W1sZmlsZQ%3D%3D?line=7'>8</a>\u001b[0m image_data \u001b[39m=\u001b[39m np\u001b[39m.\u001b[39mreshape(pixels, (\u001b[39m150\u001b[39m, \u001b[39m-\u001b[39m\u001b[39m1\u001b[39m))\n\u001b[0;32m     <a href='vscode-notebook-cell:/c%3A/BIG_DATA_/Opencv/TF_waste/read_csv.ipynb#W1sZmlsZQ%3D%3D?line=9'>10</a>\u001b[0m \u001b[39m# 이미지 저장 (예시)\u001b[39;00m\n\u001b[1;32m---> <a href='vscode-notebook-cell:/c%3A/BIG_DATA_/Opencv/TF_waste/read_csv.ipynb#W1sZmlsZQ%3D%3D?line=10'>11</a>\u001b[0m cv2\u001b[39m.\u001b[39;49mimwrite(\u001b[39m'\u001b[39;49m\u001b[39moutput_image.png\u001b[39;49m\u001b[39m'\u001b[39;49m, image_data)\n",
      "\u001b[1;31merror\u001b[0m: OpenCV(4.8.0) :-1: error: (-5:Bad argument) in function 'imwrite'\n> Overload resolution failed:\n>  - img data type = 17 is not supported\n>  - Expected Ptr<cv::UMat> for argument 'img'\n"
     ]
    }
   ],
   "source": [
    "# CSV 파일 읽기\n",
    "df = pd.read_csv('C:\\\\BIG_DATA_\\\\Opencv\\\\TF_waste\\\\can_all.csv')\n",
    "\n",
    "# 픽셀 값 추출\n",
    "pixels = df.iloc[0][:-1].values\n",
    "\n",
    "# 1차원 배열을 2차원 이미지로 변환\n",
    "image_data = np.reshape(pixels, (150, -1))\n",
    "\n",
    "# 이미지 저장 (예시)\n",
    "cv2.imwrite('output_image.png', image_data)"
   ]
  },
  {
   "cell_type": "code",
   "execution_count": 3,
   "metadata": {},
   "outputs": [],
   "source": [
    "import pandas as pd\n",
    "import numpy as np\n",
    "import cv2\n",
    "\n",
    "# CSV 파일 읽기\n",
    "df = pd.read_csv('C:\\\\BIG_DATA_\\\\Opencv\\\\TF_waste\\\\can_all.csv')\n",
    "\n",
    "df = df.iloc[3][:-1]\n",
    "\n",
    "# 픽셀 값 추출\n",
    "pixels = df.values\n",
    "\n",
    "# 1차원 배열을 2차원 배열로 변환\n",
    "height, width = 150, 150\n",
    "image_data = np.reshape(pixels, (height, width))\n",
    "\n",
    "# NumPy 배열을 이미지로 변환\n",
    "image_data = image_data.astype(np.uint8)  # 데이터 타입 변경 (unsigned integer)\n",
    "image = cv2.cvtColor(image_data, cv2.COLOR_GRAY2BGR)  # 그레이스케일에서 BGR 형식으로 변경\n",
    "\n",
    "# 이미지 보기\n",
    "cv2.imshow('Image', image)\n",
    "cv2.waitKey(0)\n",
    "cv2.destroyAllWindows()"
   ]
  },
  {
   "cell_type": "code",
   "execution_count": null,
   "metadata": {},
   "outputs": [],
   "source": []
  },
  {
   "cell_type": "code",
   "execution_count": null,
   "metadata": {},
   "outputs": [],
   "source": []
  },
  {
   "cell_type": "code",
   "execution_count": null,
   "metadata": {},
   "outputs": [],
   "source": []
  },
  {
   "cell_type": "code",
   "execution_count": null,
   "metadata": {},
   "outputs": [],
   "source": []
  },
  {
   "cell_type": "code",
   "execution_count": null,
   "metadata": {},
   "outputs": [],
   "source": []
  },
  {
   "cell_type": "code",
   "execution_count": null,
   "metadata": {},
   "outputs": [],
   "source": []
  },
  {
   "cell_type": "code",
   "execution_count": null,
   "metadata": {},
   "outputs": [],
   "source": []
  },
  {
   "cell_type": "code",
   "execution_count": null,
   "metadata": {},
   "outputs": [],
   "source": []
  },
  {
   "cell_type": "code",
   "execution_count": null,
   "metadata": {},
   "outputs": [],
   "source": []
  },
  {
   "cell_type": "code",
   "execution_count": null,
   "metadata": {},
   "outputs": [],
   "source": []
  }
 ],
 "metadata": {
  "kernelspec": {
   "display_name": "Python 3 (ipykernel)",
   "language": "python",
   "name": "python3"
  },
  "language_info": {
   "codemirror_mode": {
    "name": "ipython",
    "version": 3
   },
   "file_extension": ".py",
   "mimetype": "text/x-python",
   "name": "python",
   "nbconvert_exporter": "python",
   "pygments_lexer": "ipython3",
   "version": "3.8.17"
  },
  "orig_nbformat": 4
 },
 "nbformat": 4,
 "nbformat_minor": 2
}
